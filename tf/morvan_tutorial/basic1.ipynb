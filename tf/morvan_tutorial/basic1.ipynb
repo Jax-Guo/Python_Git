{
 "cells": [
  {
   "cell_type": "code",
   "execution_count": 1,
   "metadata": {
    "collapsed": true
   },
   "outputs": [],
   "source": [
    "import tensorflow as tf\n",
    "import numpy as np"
   ]
  },
  {
   "cell_type": "code",
   "execution_count": 2,
   "metadata": {},
   "outputs": [],
   "source": [
    "x_data = np.random.rand(100).astype(np.float32)\n",
    "y_data = x_data*0.1+0.3"
   ]
  },
  {
   "cell_type": "code",
   "execution_count": 3,
   "metadata": {},
   "outputs": [],
   "source": [
    "Weights = tf.Variable(tf.random_uniform([1],-1,1))\n",
    "bias = tf.Variable(tf.zeros([1]))\n",
    "y = Weights*x_data+bias\n",
    "loss = tf.reduce_mean(tf.square(y-y_data))\n",
    "optimizer = tf.train.GradientDescentOptimizer(0.5)\n",
    "train = optimizer.minimize(loss)\n",
    "init = tf.global_variables_initializer()"
   ]
  },
  {
   "cell_type": "code",
   "execution_count": 4,
   "metadata": {
    "collapsed": true
   },
   "outputs": [
    {
     "name": "stdout",
     "output_type": "stream",
     "text": [
      "0 [ 0.0489541] [ 0.43604282]\n10 [ 0.04730388] [ 0.32699719]\n20 [ 0.07096533] [ 0.31487495]\n30 [ 0.08400241] [ 0.30819583]\n40 [ 0.0911856] [ 0.30451578]\n50 [ 0.09514342] [ 0.30248812]\n60 [ 0.09732411] [ 0.30137092]\n70 [ 0.09852563] [ 0.30075535]\n80 [ 0.09918765] [ 0.3004162]\n90 [ 0.09955242] [ 0.30022931]\n100 [ 0.09975339] [ 0.30012634]\n110 [ 0.09986413] [ 0.30006963]\n120 [ 0.09992515] [ 0.30003837]\n130 [ 0.09995875] [ 0.30002114]\n140 [ 0.09997728] [ 0.30001166]\n150 [ 0.09998746] [ 0.30000645]\n160 [ 0.09999309] [ 0.30000356]\n170 [ 0.0999962] [ 0.30000195]\n180 [ 0.0999979] [ 0.30000108]\n190 [ 0.09999885] [ 0.30000061]\n200 [ 0.09999935] [ 0.30000034]\n210 [ 0.09999966] [ 0.30000019]\n220 [ 0.09999982] [ 0.3000001]\n230 [ 0.0999999] [ 0.30000007]\n240 [ 0.0999999] [ 0.30000007]\n250 [ 0.0999999] [ 0.30000007]\n260 [ 0.0999999] [ 0.30000007]\n270 [ 0.0999999] [ 0.30000007]\n280 [ 0.0999999] [ 0.30000007]\n290 [ 0.0999999] [ 0.30000007]\n"
     ]
    }
   ],
   "source": [
    "sess = tf.Session()\n",
    "sess.run(init)\n",
    "for step in range(300):\n",
    "    sess.run(train)\n",
    "    if(step % 10==0):\n",
    "        print(step,sess.run(Weights),sess.run(bias))"
   ]
  },
  {
   "cell_type": "code",
   "execution_count": 5,
   "metadata": {},
   "outputs": [],
   "source": [
    "state = tf.Variable(0,name='counter')\n",
    "one = tf.constant(1)\n",
    "new_value = tf.add(state,one)\n",
    "update = tf.assign(state,new_value)\n",
    "init = tf.global_variables_initializer()"
   ]
  },
  {
   "cell_type": "code",
   "execution_count": 6,
   "metadata": {},
   "outputs": [
    {
     "name": "stdout",
     "output_type": "stream",
     "text": [
      "1\n2\n3\n4\n5\n6\n7\n8\n9\n10\n"
     ]
    }
   ],
   "source": [
    "sess.run(init)\n",
    "for step in range(10):\n",
    "    sess.run(update)\n",
    "    print(sess.run(state))"
   ]
  },
  {
   "cell_type": "code",
   "execution_count": 7,
   "metadata": {},
   "outputs": [
    {
     "name": "stdout",
     "output_type": "stream",
     "text": [
      "[ 14.]\n"
     ]
    }
   ],
   "source": [
    "input1 = tf.placeholder(tf.float32)\n",
    "input2 = tf.placeholder(tf.float32)\n",
    "# output = tf.multiply(input1,input2)\n",
    "output = input1 * input2\n",
    "print(sess.run(output,feed_dict={input1:[2.],input2:[7.]}))"
   ]
  },
  {
   "cell_type": "code",
   "execution_count": null,
   "metadata": {},
   "outputs": [],
   "source": []
  }
 ],
 "metadata": {
  "kernelspec": {
   "display_name": "Python 2",
   "language": "python",
   "name": "python2"
  },
  "language_info": {
   "codemirror_mode": {
    "name": "ipython",
    "version": 2
   },
   "file_extension": ".py",
   "mimetype": "text/x-python",
   "name": "python",
   "nbconvert_exporter": "python",
   "pygments_lexer": "ipython2",
   "version": "2.7.6"
  }
 },
 "nbformat": 4,
 "nbformat_minor": 0
}

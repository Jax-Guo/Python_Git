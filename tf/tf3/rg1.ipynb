{
 "cells": [
  {
   "cell_type": "code",
   "execution_count": 3,
   "metadata": {
    "collapsed": true
   },
   "outputs": [],
   "source": [
    "import matplotlib.pyplot as plt\n",
    "import numpy as np\n",
    "import tensorflow as tf\n",
    "s = tf.Session()"
   ]
  },
  {
   "cell_type": "code",
   "execution_count": 5,
   "metadata": {},
   "outputs": [
    {
     "data": {
      "text/plain": [
       "(1, 100)"
      ]
     },
     "execution_count": 5,
     "metadata": {},
     "output_type": "execute_result"
    }
   ],
   "source": [
    "x_vals = np.linspace(0,10,100)\n",
    "np.matrix(x_vals).shape"
   ]
  },
  {
   "cell_type": "code",
   "execution_count": 6,
   "metadata": {},
   "outputs": [],
   "source": [
    "y_vals = x_vals + np.random.normal(0,1,100)"
   ]
  },
  {
   "cell_type": "code",
   "execution_count": 11,
   "metadata": {},
   "outputs": [],
   "source": [
    "x_vals_c = np.transpose(np.matrix(x_vals))\n",
    "ones_c = np.transpose(np.repeat(1,100))\n",
    "A = np.column_stack((x_vals_c,ones_c))\n",
    "b = np.transpose(np.matrix(y_vals))"
   ]
  },
  {
   "cell_type": "code",
   "execution_count": 13,
   "metadata": {},
   "outputs": [
    {
     "data": {
      "text/plain": [
       "(100, 2)"
      ]
     },
     "execution_count": 13,
     "metadata": {},
     "output_type": "execute_result"
    }
   ],
   "source": [
    "A.shape"
   ]
  },
  {
   "cell_type": "code",
   "execution_count": 14,
   "metadata": {},
   "outputs": [],
   "source": [
    "A_tensor = tf.constant(A)\n",
    "b_tensor = tf.constant(b)"
   ]
  },
  {
   "cell_type": "code",
   "execution_count": 15,
   "metadata": {},
   "outputs": [
    {
     "data": {
      "text/plain": [
       "<tf.Tensor 'Const:0' shape=(100, 2) dtype=float64>"
      ]
     },
     "execution_count": 15,
     "metadata": {},
     "output_type": "execute_result"
    }
   ],
   "source": [
    "A_tensor"
   ]
  },
  {
   "cell_type": "code",
   "execution_count": 16,
   "metadata": {},
   "outputs": [],
   "source": [
    "tA_A = tf.matmul(tf.transpose(A_tensor),A_tensor)\n",
    "tA_A_inv = tf.matrix_inverse(tA_A)\n",
    "product = tf.matmul(tA_A_inv,tf.transpose(A_tensor))\n",
    "solution = tf.matmul(product,b_tensor)\n",
    "solution_eval = s.run(solution)"
   ]
  },
  {
   "cell_type": "code",
   "execution_count": 17,
   "metadata": {},
   "outputs": [
    {
     "data": {
      "text/plain": [
       "array([[ 0.94576793],\n       [ 0.30726257]])"
      ]
     },
     "execution_count": 17,
     "metadata": {},
     "output_type": "execute_result"
    }
   ],
   "source": [
    "solution_eval"
   ]
  },
  {
   "cell_type": "code",
   "execution_count": 19,
   "metadata": {},
   "outputs": [
    {
     "data": {
      "image/png": "[encoded data removed]",
      "text/plain": [
       "<matplotlib.figure.Figure at 0x7fa898692be0>"
      ]
     },
     "metadata": {},
     "output_type": "display_data"
    }
   ],
   "source": [
    "slope = solution_eval[0][0]\n",
    "y_intercept = solution_eval[1][0]\n",
    "best_fit = []\n",
    "for i in x_vals:\n",
    "    best_fit.append(slope*i+y_intercept)\n",
    "plt.plot(x_vals, y_vals, 'o', label='Data')\n",
    "plt.plot(x_vals, best_fit, 'r-', label='Best fit line',linewidth=3)\n",
    "plt.legend(loc='upper left')\n",
    "plt.show()"
   ]
  },
  {
   "cell_type": "code",
   "execution_count": 20,
   "metadata": {},
   "outputs": [
    {
     "data": {
      "text/plain": [
       "array([[ 5.1,  3.5,  1.4,  0.2],\n       [ 4.9,  3. ,  1.4,  0.2],\n       [ 4.7,  3.2,  1.3,  0.2],\n       [ 4.6,  3.1,  1.5,  0.2],\n       [ 5. ,  3.6,  1.4,  0.2],\n       [ 5.4,  3.9,  1.7,  0.4],\n       [ 4.6,  3.4,  1.4,  0.3],\n       [ 5. ,  3.4,  1.5,  0.2],\n       [ 4.4,  2.9,  1.4,  0.2],\n       [ 4.9,  3.1,  1.5,  0.1],\n       [ 5.4,  3.7,  1.5,  0.2],\n       [ 4.8,  3.4,  1.6,  0.2],\n       [ 4.8,  3. ,  1.4,  0.1],\n       [ 4.3,  3. ,  1.1,  0.1],\n       [ 5.8,  4. ,  1.2,  0.2],\n       [ 5.7,  4.4,  1.5,  0.4],\n       [ 5.4,  3.9,  1.3,  0.4],\n       [ 5.1,  3.5,  1.4,  0.3],\n       [ 5.7,  3.8,  1.7,  0.3],\n       [ 5.1,  3.8,  1.5,  0.3],\n       [ 5.4,  3.4,  1.7,  0.2],\n       [ 5.1,  3.7,  1.5,  0.4],\n       [ 4.6,  3.6,  1. ,  0.2],\n       [ 5.1,  3.3,  1.7,  0.5],\n       [ 4.8,  3.4,  1.9,  0.2],\n       [ 5. ,  3. ,  1.6,  0.2],\n       [ 5. ,  3.4,  1.6,  0.4],\n       [ 5.2,  3.5,  1.5,  0.2],\n       [ 5.2,  3.4,  1.4,  0.2],\n       [ 4.7,  3.2,  1.6,  0.2],\n       [ 4.8,  3.1,  1.6,  0.2],\n       [ 5.4,  3.4,  1.5,  0.4],\n       [ 5.2,  4.1,  1.5,  0.1],\n       [ 5.5,  4.2,  1.4,  0.2],\n       [ 4.9,  3.1,  1.5,  0.1],\n       [ 5. ,  3.2,  1.2,  0.2],\n       [ 5.5,  3.5,  1.3,  0.2],\n       [ 4.9,  3.1,  1.5,  0.1],\n       [ 4.4,  3. ,  1.3,  0.2],\n       [ 5.1,  3.4,  1.5,  0.2],\n       [ 5. ,  3.5,  1.3,  0.3],\n       [ 4.5,  2.3,  1.3,  0.3],\n       [ 4.4,  3.2,  1.3,  0.2],\n       [ 5. ,  3.5,  1.6,  0.6],\n       [ 5.1,  3.8,  1.9,  0.4],\n       [ 4.8,  3. ,  1.4,  0.3],\n       [ 5.1,  3.8,  1.6,  0.2],\n       [ 4.6,  3.2,  1.4,  0.2],\n       [ 5.3,  3.7,  1.5,  0.2],\n       [ 5. ,  3.3,  1.4,  0.2],\n       [ 7. ,  3.2,  4.7,  1.4],\n       [ 6.4,  3.2,  4.5,  1.5],\n       [ 6.9,  3.1,  4.9,  1.5],\n       [ 5.5,  2.3,  4. ,  1.3],\n       [ 6.5,  2.8,  4.6,  1.5],\n       [ 5.7,  2.8,  4.5,  1.3],\n       [ 6.3,  3.3,  4.7,  1.6],\n       [ 4.9,  2.4,  3.3,  1. ],\n       [ 6.6,  2.9,  4.6,  1.3],\n       [ 5.2,  2.7,  3.9,  1.4],\n       [ 5. ,  2. ,  3.5,  1. ],\n       [ 5.9,  3. ,  4.2,  1.5],\n       [ 6. ,  2.2,  4. ,  1. ],\n       [ 6.1,  2.9,  4.7,  1.4],\n       [ 5.6,  2.9,  3.6,  1.3],\n       [ 6.7,  3.1,  4.4,  1.4],\n       [ 5.6,  3. ,  4.5,  1.5],\n       [ 5.8,  2.7,  4.1,  1. ],\n       [ 6.2,  2.2,  4.5,  1.5],\n       [ 5.6,  2.5,  3.9,  1.1],\n       [ 5.9,  3.2,  4.8,  1.8],\n       [ 6.1,  2.8,  4. ,  1.3],\n       [ 6.3,  2.5,  4.9,  1.5],\n       [ 6.1,  2.8,  4.7,  1.2],\n       [ 6.4,  2.9,  4.3,  1.3],\n       [ 6.6,  3. ,  4.4,  1.4],\n       [ 6.8,  2.8,  4.8,  1.4],\n       [ 6.7,  3. ,  5. ,  1.7],\n       [ 6. ,  2.9,  4.5,  1.5],\n       [ 5.7,  2.6,  3.5,  1. ],\n       [ 5.5,  2.4,  3.8,  1.1],\n       [ 5.5,  2.4,  3.7,  1. ],\n       [ 5.8,  2.7,  3.9,  1.2],\n       [ 6. ,  2.7,  5.1,  1.6],\n       [ 5.4,  3. ,  4.5,  1.5],\n       [ 6. ,  3.4,  4.5,  1.6],\n       [ 6.7,  3.1,  4.7,  1.5],\n       [ 6.3,  2.3,  4.4,  1.3],\n       [ 5.6,  3. ,  4.1,  1.3],\n       [ 5.5,  2.5,  4. ,  1.3],\n       [ 5.5,  2.6,  4.4,  1.2],\n       [ 6.1,  3. ,  4.6,  1.4],\n       [ 5.8,  2.6,  4. ,  1.2],\n       [ 5. ,  2.3,  3.3,  1. ],\n       [ 5.6,  2.7,  4.2,  1.3],\n       [ 5.7,  3. ,  4.2,  1.2],\n       [ 5.7,  2.9,  4.2,  1.3],\n       [ 6.2,  2.9,  4.3,  1.3],\n       [ 5.1,  2.5,  3. ,  1.1],\n       [ 5.7,  2.8,  4.1,  1.3],\n       [ 6.3,  3.3,  6. ,  2.5],\n       [ 5.8,  2.7,  5.1,  1.9],\n       [ 7.1,  3. ,  5.9,  2.1],\n       [ 6.3,  2.9,  5.6,  1.8],\n       [ 6.5,  3. ,  5.8,  2.2],\n       [ 7.6,  3. ,  6.6,  2.1],\n       [ 4.9,  2.5,  4.5,  1.7],\n       [ 7.3,  2.9,  6.3,  1.8],\n       [ 6.7,  2.5,  5.8,  1.8],\n       [ 7.2,  3.6,  6.1,  2.5],\n       [ 6.5,  3.2,  5.1,  2. ],\n       [ 6.4,  2.7,  5.3,  1.9],\n       [ 6.8,  3. ,  5.5,  2.1],\n       [ 5.7,  2.5,  5. ,  2. ],\n       [ 5.8,  2.8,  5.1,  2.4],\n       [ 6.4,  3.2,  5.3,  2.3],\n       [ 6.5,  3. ,  5.5,  1.8],\n       [ 7.7,  3.8,  6.7,  2.2],\n       [ 7.7,  2.6,  6.9,  2.3],\n       [ 6. ,  2.2,  5. ,  1.5],\n       [ 6.9,  3.2,  5.7,  2.3],\n       [ 5.6,  2.8,  4.9,  2. ],\n       [ 7.7,  2.8,  6.7,  2. ],\n       [ 6.3,  2.7,  4.9,  1.8],\n       [ 6.7,  3.3,  5.7,  2.1],\n       [ 7.2,  3.2,  6. ,  1.8],\n       [ 6.2,  2.8,  4.8,  1.8],\n       [ 6.1,  3. ,  4.9,  1.8],\n       [ 6.4,  2.8,  5.6,  2.1],\n       [ 7.2,  3. ,  5.8,  1.6],\n       [ 7.4,  2.8,  6.1,  1.9],\n       [ 7.9,  3.8,  6.4,  2. ],\n       [ 6.4,  2.8,  5.6,  2.2],\n       [ 6.3,  2.8,  5.1,  1.5],\n       [ 6.1,  2.6,  5.6,  1.4],\n       [ 7.7,  3. ,  6.1,  2.3],\n       [ 6.3,  3.4,  5.6,  2.4],\n       [ 6.4,  3.1,  5.5,  1.8],\n       [ 6. ,  3. ,  4.8,  1.8],\n       [ 6.9,  3.1,  5.4,  2.1],\n       [ 6.7,  3.1,  5.6,  2.4],\n       [ 6.9,  3.1,  5.1,  2.3],\n       [ 5.8,  2.7,  5.1,  1.9],\n       [ 6.8,  3.2,  5.9,  2.3],\n       [ 6.7,  3.3,  5.7,  2.5],\n       [ 6.7,  3. ,  5.2,  2.3],\n       [ 6.3,  2.5,  5. ,  1.9],\n       [ 6.5,  3. ,  5.2,  2. ],\n       [ 6.2,  3.4,  5.4,  2.3],\n       [ 5.9,  3. ,  5.1,  1.8]])"
      ]
     },
     "execution_count": 20,
     "metadata": {},
     "output_type": "execute_result"
    }
   ],
   "source": [
    "from sklearn import datasets\n",
    "\n",
    "iris = datasets.load_iris()\n",
    "iris.data"
   ]
  }
 ],
 "metadata": {
  "kernelspec": {
   "display_name": "Python 2",
   "language": "python",
   "name": "python2"
  },
  "language_info": {
   "codemirror_mode": {
    "name": "ipython",
    "version": 2
   },
   "file_extension": ".py",
   "mimetype": "text/x-python",
   "name": "python",
   "nbconvert_exporter": "python",
   "pygments_lexer": "ipython2",
   "version": "2.7.6"
  }
 },
 "nbformat": 4,
 "nbformat_minor": 0
}

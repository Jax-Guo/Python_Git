{
 "cells": [
  {
   "cell_type": "code",
   "execution_count": 2,
   "metadata": {
    "collapsed": true
   },
   "outputs": [],
   "source": [
    "import tensorflow as tf\n",
    "import numpy as np\n",
    "import time\n",
    "import random\n",
    "from collections import Counter"
   ]
  },
  {
   "cell_type": "code",
   "execution_count": 6,
   "metadata": {},
   "outputs": [
    {
     "name": "stdout",
     "output_type": "stream",
     "text": [
      "8898942\n"
     ]
    }
   ],
   "source": [
    "words = []\n",
    "with open(\"data/Javasplittedwords\") as f:\n",
    "    words = f.read().split(\" \")\n",
    "print(len(words))"
   ]
  },
  {
   "cell_type": "code",
   "execution_count": 8,
   "metadata": {},
   "outputs": [],
   "source": [
    "words_count = Counter(words)\n",
    "words = [word for word in words if words_count[word] > 50]"
   ]
  },
  {
   "cell_type": "code",
   "execution_count": 46,
   "metadata": {},
   "outputs": [],
   "source": [
    "vocab = set(words)\n",
    "vocab_to_int = {w:c for c,w in enumerate(vocab)}\n",
    "int_to_vocab = {c:w for c,w in enumerate(vocab)}"
   ]
  },
  {
   "cell_type": "code",
   "execution_count": 50,
   "metadata": {},
   "outputs": [
    {
     "name": "stdout",
     "output_type": "stream",
     "text": [
      "total words: 8614953"
     ]
    },
    {
     "name": "stdout",
     "output_type": "stream",
     "text": [
      "\nunique words: 6846\n"
     ]
    }
   ],
   "source": [
    "print(\"total words: {}\".format(len(words)))\n",
    "print(\"unique words: {}\".format(len(set(words))))"
   ]
  },
  {
   "cell_type": "code",
   "execution_count": 55,
   "metadata": {},
   "outputs": [],
   "source": [
    "\n",
    "# 对原文本进行vocab到int的转换\n",
    "int_words = [vocab_to_int[w] for w in words]"
   ]
  },
  {
   "cell_type": "code",
   "execution_count": 55,
   "metadata": {},
   "outputs": [],
   "source": [
    "t = 1e-5\n",
    "threshold = 0.9\n",
    "int_words_counts = Counter(int_words)\n",
    "total_count = len(int_words)\n",
    "word_freqs = {w:c/total_count for w,c in int_words_counts.items()}\n",
    "prob_drop = {w: 1-np.sqrt(t/word_freqs[w]) for w in int_words_counts}"
   ]
  },
  {
   "cell_type": "code",
   "execution_count": 57,
   "metadata": {
    "collapsed": true
   },
   "outputs": [],
   "source": [
    "train_words = [w for w in int_words if prob_drop[w] < threshold]"
   ]
  },
  {
   "cell_type": "code",
   "execution_count": 58,
   "metadata": {},
   "outputs": [],
   "source": [
    "def get_targets(words, idx, window_size=5):\n",
    "    '''\n",
    "    获得input word的上下文单词列表\n",
    "    \n",
    "    参数\n",
    "    ---\n",
    "    words: 单词列表\n",
    "    idx: input word的索引号\n",
    "    window_size: 窗口大小\n",
    "    '''\n",
    "    target_window = np.random.randint(1, window_size+1)\n",
    "    # 这里要考虑input word前面单词不够的情况\n",
    "    start_point = idx - target_window if (idx - target_window) > 0 else 0\n",
    "    end_point = idx + target_window\n",
    "    # output words(即窗口中的上下文单词)\n",
    "    targets = set(words[start_point: idx] + words[idx+1: end_point+1])\n",
    "    return list(targets)\n",
    "def get_batches(words, batch_size, window_size=5):\n",
    "    '''\n",
    "    构造一个获取batch的生成器\n",
    "    '''\n",
    "    n_batches = len(words) // batch_size\n",
    "    \n",
    "    # 仅取full batches\n",
    "    words = words[:n_batches*batch_size]\n",
    "    \n",
    "    for idx in range(0, len(words), batch_size):\n",
    "        x, y = [], []\n",
    "        batch = words[idx: idx+batch_size]\n",
    "        for i in range(len(batch)):\n",
    "            batch_x = batch[i]\n",
    "            batch_y = get_targets(batch, i, window_size)\n",
    "            # 由于一个input word会对应多个output word，因此需要长度统一\n",
    "            x.extend([batch_x]*len(batch_y))\n",
    "            y.extend(batch_y)\n",
    "        yield x, y"
   ]
  },
  {
   "cell_type": "code",
   "execution_count": 59,
   "metadata": {},
   "outputs": [],
   "source": [
    "train_graph = tf.Graph()\n",
    "with train_graph.as_default():\n",
    "    inputs = tf.placeholder(tf.int32,shape=[None],name='inputs')\n",
    "    labels = tf.placeholder(tf.int32, shape=[None, None], name='labels')"
   ]
  },
  {
   "cell_type": "code",
   "execution_count": 60,
   "metadata": {},
   "outputs": [],
   "source": [
    "vocab_size = len(int_to_vocab)\n",
    "embedding_size = 200"
   ]
  },
  {
   "cell_type": "code",
   "execution_count": 61,
   "metadata": {},
   "outputs": [],
   "source": [
    "with train_graph.as_default():\n",
    "    embedding = tf.Variable(tf.random_uniform([vocab_size,embedding_size],-1,1))\n",
    "    embed = tf.nn.embedding_lookup(embedding,inputs)"
   ]
  },
  {
   "cell_type": "code",
   "execution_count": 62,
   "metadata": {
    "collapsed": false
   },
   "outputs": [],
   "source": [
    "n_sampled = 100\n",
    "\n",
    "with train_graph.as_default():\n",
    "    softmax_w = tf.Variable(tf.truncated_normal([vocab_size, embedding_size], stddev=0.1))\n",
    "    softmax_b = tf.Variable(tf.zeros(vocab_size))\n",
    "    \n",
    "    # 计算negative sampling下的损失\n",
    "    loss = tf.nn.sampled_softmax_loss(softmax_w,softmax_b,labels,embed,n_sampled,vocab_size)     \n",
    "    cost = tf.reduce_mean(loss)\n",
    "    optimizer = tf.train.AdamOptimizer().minimize(cost)"
   ]
  },
  {
   "cell_type": "code",
   "execution_count": 63,
   "metadata": {},
   "outputs": [
    {
     "data": {
      "text/plain": [
       "0"
      ]
     },
     "execution_count": 63,
     "metadata": {},
     "output_type": "execute_result"
    }
   ],
   "source": [
    "vocab_to_int['免费']"
   ]
  },
  {
   "cell_type": "code",
   "execution_count": 64,
   "metadata": {},
   "outputs": [],
   "source": [
    "with train_graph.as_default():\n",
    "    # 随机挑选一些单词\n",
    "    ## From Thushan Ganegedara's implementation\n",
    "    valid_size = 7 # Random set of words to evaluate similarity on.\n",
    "    valid_window = 100\n",
    "    # pick 8 samples from (0,100) and (1000,1100) each ranges. lower id implies more frequent \n",
    "    valid_examples = np.array(random.sample(range(valid_window), valid_size//2))\n",
    "    valid_examples = np.append(valid_examples, random.sample(range(1000,1000+valid_window), valid_size//2))    \n",
    "    valid_examples = [vocab_to_int['word'], \n",
    "                      vocab_to_int['ppt'], \n",
    "                      vocab_to_int['熟悉'],\n",
    "                      vocab_to_int['java'], \n",
    "                      vocab_to_int['能力'], \n",
    "                      vocab_to_int['逻辑思维'],\n",
    "                      vocab_to_int['了解']]\n",
    "    \n",
    "    valid_size = len(valid_examples)\n",
    "    # 验证单词集\n",
    "    valid_dataset = tf.constant(valid_examples, dtype=tf.int32)\n",
    "    \n",
    "    # 计算每个词向量的模并进行单位化\n",
    "    norm = tf.sqrt(tf.reduce_sum(tf.square(embedding), 1, keep_dims=True))\n",
    "    normalized_embedding = embedding / norm\n",
    "    # 查找验证单词的词向量\n",
    "    valid_embedding = tf.nn.embedding_lookup(normalized_embedding, valid_dataset)\n",
    "    # 计算余弦相似度\n",
    "    similarity = tf.matmul(valid_embedding, tf.transpose(normalized_embedding))"
   ]
  },
  {
   "cell_type": "code",
   "execution_count": 65,
   "metadata": {
    "collapsed": true
   },
   "outputs": [
    {
     "name": "stdout",
     "output_type": "stream",
     "text": [
      "Epoch 1/10 Iteration: 100 Avg. Training loss: 3.8446 0.1264 sec/batch\n"
     ]
    },
    {
     "name": "stdout",
     "output_type": "stream",
     "text": [
      "Epoch 1/10 Iteration: 200 Avg. Training loss: 3.7870 0.1057 sec/batch\n"
     ]
    },
    {
     "name": "stdout",
     "output_type": "stream",
     "text": [
      "Epoch 1/10 Iteration: 300 Avg. Training loss: 3.5412 0.1020 sec/batch\n"
     ]
    },
    {
     "name": "stdout",
     "output_type": "stream",
     "text": [
      "Epoch 1/10 Iteration: 400 Avg. Training loss: 3.3877 0.1051 sec/batch\n"
     ]
    },
    {
     "name": "stdout",
     "output_type": "stream",
     "text": [
      "Epoch 1/10 Iteration: 500 Avg. Training loss: 3.3344 0.1003 sec/batch\n"
     ]
    },
    {
     "name": "stdout",
     "output_type": "stream",
     "text": [
      "Epoch 1/10 Iteration: 600 Avg. Training loss: 3.2106 0.1043 sec/batch\n"
     ]
    },
    {
     "name": "stdout",
     "output_type": "stream",
     "text": [
      "Epoch 1/10 Iteration: 700 Avg. Training loss: 2.7100 0.1046 sec/batch\n"
     ]
    },
    {
     "name": "stdout",
     "output_type": "stream",
     "text": [
      "Epoch 1/10 Iteration: 800 Avg. Training loss: 2.7919 0.1031 sec/batch\n"
     ]
    },
    {
     "name": "stdout",
     "output_type": "stream",
     "text": [
      "Epoch 1/10 Iteration: 900 Avg. Training loss: 3.0772 0.1018 sec/batch\n"
     ]
    },
    {
     "name": "stdout",
     "output_type": "stream",
     "text": [
      "Epoch 1/10 Iteration: 1000 Avg. Training loss: 3.0979 0.1043 sec/batch\nNearest to [word]: 录用, 及时性, 清理, 家属, 快消品, 升级, 承载, 行为,\nNearest to [ppt]: 性能, 宏观经济, 获, project, 原画, 环节, 呈现, 玩家,\nNearest to [熟悉]: 试产, 相互, 类产品, 出钱, 各个部门, 网址, 淘宝, 首家,\nNearest to [java]: 媒体广告, 漏洞, 突出, 处事, 动动, 热点新闻, 专长, 多维度,\nNearest to [能力]: 噻, 向往, 金蝶, 访, 盈利, 意识, 控制软件, 天府,\nNearest to [逻辑思维]: 二手车, 理解力, 商业银行, opencv, 肯干, 引导者, 发起, 企,\nNearest to [了解]: 之后, 更快, dba, 唱歌, 汇编, 不足, 带动, 萌,\n"
     ]
    },
    {
     "name": "stdout",
     "output_type": "stream",
     "text": [
      "Epoch 1/10 Iteration: 1100 Avg. Training loss: 3.0395 0.1025 sec/batch\n"
     ]
    },
    {
     "name": "stdout",
     "output_type": "stream",
     "text": [
      "Epoch 1/10 Iteration: 1200 Avg. Training loss: 2.8606 0.1021 sec/batch\n"
     ]
    },
    {
     "name": "stdout",
     "output_type": "stream",
     "text": [
      "Epoch 1/10 Iteration: 1300 Avg. Training loss: 2.8482 0.1003 sec/batch\n"
     ]
    },
    {
     "name": "stdout",
     "output_type": "stream",
     "text": [
      "Epoch 1/10 Iteration: 1400 Avg. Training loss: 2.9459 0.1006 sec/batch\n"
     ]
    },
    {
     "name": "stdout",
     "output_type": "stream",
     "text": [
      "Epoch 1/10 Iteration: 1500 Avg. Training loss: 2.9282 0.1015 sec/batch\n"
     ]
    },
    {
     "name": "stdout",
     "output_type": "stream",
     "text": [
      "Epoch 1/10 Iteration: 1600 Avg. Training loss: 2.8761 0.1011 sec/batch\n"
     ]
    },
    {
     "name": "stdout",
     "output_type": "stream",
     "text": [
      "Epoch 1/10 Iteration: 1700 Avg. Training loss: 3.0540 0.0998 sec/batch\n"
     ]
    },
    {
     "name": "stdout",
     "output_type": "stream",
     "text": [
      "Epoch 1/10 Iteration: 1800 Avg. Training loss: 2.8778 0.1039 sec/batch\n"
     ]
    },
    {
     "name": "stdout",
     "output_type": "stream",
     "text": [
      "Epoch 1/10 Iteration: 1900 Avg. Training loss: 2.5856 0.1032 sec/batch\n"
     ]
    },
    {
     "name": "stdout",
     "output_type": "stream",
     "text": [
      "Epoch 1/10 Iteration: 2000 Avg. Training loss: 2.7446 0.1000 sec/batch\nNearest to [word]: 录用, 及时性, 清理, 家属, 大气, 快消品, 年检, 高升专,\nNearest to [ppt]: 性能, project, 获, 宏观经济, 悟性, 原画, 呈现, 环节,\nNearest to [熟悉]: 试产, 相互, 各个部门, 出钱, 类产品, 淘宝, 部件, ios开发,\nNearest to [java]: 媒体广告, 漏洞, 突出, 动动, 处事, 专长, 热点新闻, 多维度,\nNearest to [能力]: 噻, 向往, 金蝶, 访, 盈利, 意识, 公交车, 高管,\nNearest to [逻辑思维]: 二手车, 理解力, 肯干, 很强, 态度, 引导者, 为人, 商业银行,\nNearest to [了解]: 之后, dba, 更快, 唱歌, 汇编, 不足, 萌, 带动,\n"
     ]
    },
    {
     "name": "stdout",
     "output_type": "stream",
     "text": [
      "Epoch 1/10 Iteration: 2100 Avg. Training loss: 2.8092 0.1020 sec/batch\n"
     ]
    },
    {
     "name": "stdout",
     "output_type": "stream",
     "text": [
      "Epoch 1/10 Iteration: 2200 Avg. Training loss: 2.6166 0.1017 sec/batch\n"
     ]
    },
    {
     "name": "stdout",
     "output_type": "stream",
     "text": [
      "Epoch 1/10 Iteration: 2300 Avg. Training loss: 2.6635 0.1012 sec/batch\n"
     ]
    },
    {
     "name": "stdout",
     "output_type": "stream",
     "text": [
      "Epoch 1/10 Iteration: 2400 Avg. Training loss: 2.5632 0.1020 sec/batch\n"
     ]
    },
    {
     "name": "stdout",
     "output_type": "stream",
     "text": [
      "Epoch 1/10 Iteration: 2500 Avg. Training loss: 2.7166 0.1010 sec/batch\n"
     ]
    },
    {
     "name": "stdout",
     "output_type": "stream",
     "text": [
      "Epoch 1/10 Iteration: 2600 Avg. Training loss: 2.5464 0.1014 sec/batch\n"
     ]
    },
    {
     "name": "stdout",
     "output_type": "stream",
     "text": [
      "Epoch 1/10 Iteration: 2700 Avg. Training loss: 2.4270 0.1018 sec/batch\n"
     ]
    },
    {
     "name": "stdout",
     "output_type": "stream",
     "text": [
      "Epoch 1/10 Iteration: 2800 Avg. Training loss: 2.5370 0.1003 sec/batch\n"
     ]
    },
    {
     "name": "stdout",
     "output_type": "stream",
     "text": [
      "Epoch 1/10 Iteration: 2900 Avg. Training loss: 2.4149 0.1006 sec/batch\n"
     ]
    },
    {
     "name": "stdout",
     "output_type": "stream",
     "text": [
      "Epoch 1/10 Iteration: 3000 Avg. Training loss: 2.7559 0.1013 sec/batch\nNearest to [word]: 录用, 及时性, 清理, 升级, 家属, 延续性, 全国总监, 快消品,\nNearest to [ppt]: project, 性能, 宏观经济, 悟性, 获, 环节, 虚假, 原画,\nNearest to [熟悉]: 试产, 相互, 各个部门, 出钱, 部件, 淘宝, 首家, 网址,\nNearest to [java]: 媒体广告, 漏洞, 专长, 突出, 多维度, 热点新闻, 动动, 处事,\nNearest to [能力]: 向往, 噻, 金蝶, 访, 盈利, 意识, 公交车, 聊天,\nNearest to [逻辑思维]: 二手车, 理解力, 肯干, 很强, 为人, 慎密, 商业银行, 敏感度,\nNearest to [了解]: 之后, 更快, dba, 唱歌, 汇编, 不足, 带动, 萌,\n"
     ]
    },
    {
     "name": "stdout",
     "output_type": "stream",
     "text": [
      "Epoch 1/10 Iteration: 3100 Avg. Training loss: 2.6085 0.1020 sec/batch\n"
     ]
    },
    {
     "name": "stdout",
     "output_type": "stream",
     "text": [
      "Epoch 1/10 Iteration: 3200 Avg. Training loss: 2.4622 0.1021 sec/batch\n"
     ]
    },
    {
     "name": "stdout",
     "output_type": "stream",
     "text": [
      "Epoch 1/10 Iteration: 3300 Avg. Training loss: 2.7739 0.1006 sec/batch\n"
     ]
    },
    {
     "name": "stdout",
     "output_type": "stream",
     "text": [
      "Epoch 1/10 Iteration: 3400 Avg. Training loss: 2.4345 0.1008 sec/batch\n"
     ]
    },
    {
     "name": "stdout",
     "output_type": "stream",
     "text": [
      "Epoch 1/10 Iteration: 3500 Avg. Training loss: 2.3534 0.1034 sec/batch\n"
     ]
    },
    {
     "name": "stdout",
     "output_type": "stream",
     "text": [
      "Epoch 1/10 Iteration: 3600 Avg. Training loss: 2.3828 0.1024 sec/batch\n"
     ]
    },
    {
     "name": "stdout",
     "output_type": "stream",
     "text": [
      "Epoch 1/10 Iteration: 3700 Avg. Training loss: 2.4747 0.1004 sec/batch\n"
     ]
    },
    {
     "name": "stdout",
     "output_type": "stream",
     "text": [
      "Epoch 1/10 Iteration: 3800 Avg. Training loss: 2.5514 0.1006 sec/batch\n"
     ]
    },
    {
     "name": "stdout",
     "output_type": "stream",
     "text": [
      "Epoch 1/10 Iteration: 3900 Avg. Training loss: 2.4436 0.1012 sec/batch\n"
     ]
    },
    {
     "name": "stdout",
     "output_type": "stream",
     "text": [
      "Epoch 2/10 Iteration: 4000 Avg. Training loss: 2.2373 0.0973 sec/batch\nNearest to [word]: 录用, 清理, 及时性, 家属, 延续性, 升级, 全国总监, 亦可,\nNearest to [ppt]: project, 性能, 宏观经济, 悟性, 获, 环节, 虚假, 信息检索,\nNearest to [熟悉]: 试产, 相互, 各个部门, 出钱, 淘宝, 部件, 应用系统架构, 首家,\nNearest to [java]: 媒体广告, 漏洞, 多维度, 专长, 热点新闻, 动动, 突出, dba,\nNearest to [能力]: 向往, 噻, 金蝶, 意识, 访, 盈利, 翻, 聊天,\nNearest to [逻辑思维]: 二手车, 理解力, 肯干, 很强, 为人, 敏感度, 商业银行, 慎密,\nNearest to [了解]: 之后, 更快, dba, 唱歌, 汇编, 不足, 带动, 萌,\n"
     ]
    },
    {
     "name": "stdout",
     "output_type": "stream",
     "text": [
      "Epoch 2/10 Iteration: 4100 Avg. Training loss: 2.5200 0.1017 sec/batch\n"
     ]
    },
    {
     "name": "stdout",
     "output_type": "stream",
     "text": [
      "Epoch 2/10 Iteration: 4200 Avg. Training loss: 2.3682 0.1003 sec/batch\n"
     ]
    },
    {
     "name": "stdout",
     "output_type": "stream",
     "text": [
      "Epoch 2/10 Iteration: 4300 Avg. Training loss: 2.3516 0.1064 sec/batch\n"
     ]
    },
    {
     "name": "stdout",
     "output_type": "stream",
     "text": [
      "Epoch 2/10 Iteration: 4400 Avg. Training loss: 2.5633 0.0982 sec/batch\n"
     ]
    },
    {
     "name": "stdout",
     "output_type": "stream",
     "text": [
      "Epoch 2/10 Iteration: 4500 Avg. Training loss: 2.5864 0.1013 sec/batch\n"
     ]
    },
    {
     "name": "stdout",
     "output_type": "stream",
     "text": [
      "Epoch 2/10 Iteration: 4600 Avg. Training loss: 2.2987 0.1027 sec/batch\n"
     ]
    },
    {
     "name": "stdout",
     "output_type": "stream",
     "text": [
      "Epoch 2/10 Iteration: 4700 Avg. Training loss: 2.3313 0.1014 sec/batch\n"
     ]
    },
    {
     "name": "stdout",
     "output_type": "stream",
     "text": [
      "Epoch 2/10 Iteration: 4800 Avg. Training loss: 2.5517 0.1004 sec/batch\n"
     ]
    },
    {
     "name": "stdout",
     "output_type": "stream",
     "text": [
      "Epoch 2/10 Iteration: 4900 Avg. Training loss: 2.6501 0.1011 sec/batch\n"
     ]
    },
    {
     "name": "stdout",
     "output_type": "stream",
     "text": [
      "Epoch 2/10 Iteration: 5000 Avg. Training loss: 2.5833 0.1008 sec/batch\nNearest to [word]: 录用, 及时性, 清理, 家属, excel, 亦可, 快消品, 全国总监,\nNearest to [ppt]: 性能, project, 宏观经济, 悟性, 行动力, 获, 原画, 玩家,\nNearest to [熟悉]: 试产, 相互, 各个部门, 部件, 出钱, 淘宝, 应用系统架构, 类产品,\nNearest to [java]: 媒体广告, 漏洞, 多维度, 专长, 热点新闻, 突出, 动动, 街,\nNearest to [能力]: 向往, 噻, 金蝶, 访, 聊天, 意识, 翻, 盈利,\nNearest to [逻辑思维]: 二手车, 理解力, 肯干, 慎密, 为人, 很强, 创业精神, 敏感度,\nNearest to [了解]: 之后, 更快, dba, 唱歌, 汇编, 不足, 萌, 组建,\n"
     ]
    },
    {
     "name": "stdout",
     "output_type": "stream",
     "text": [
      "Epoch 2/10 Iteration: 5100 Avg. Training loss: 2.4830 0.1006 sec/batch\n"
     ]
    },
    {
     "name": "stdout",
     "output_type": "stream",
     "text": [
      "Epoch 2/10 Iteration: 5200 Avg. Training loss: 2.4650 0.0998 sec/batch\n"
     ]
    },
    {
     "name": "stdout",
     "output_type": "stream",
     "text": [
      "Epoch 2/10 Iteration: 5300 Avg. Training loss: 2.5832 0.0984 sec/batch\n"
     ]
    },
    {
     "name": "stdout",
     "output_type": "stream",
     "text": [
      "Epoch 2/10 Iteration: 5400 Avg. Training loss: 2.5713 0.0995 sec/batch\n"
     ]
    },
    {
     "name": "stdout",
     "output_type": "stream",
     "text": [
      "Epoch 2/10 Iteration: 5500 Avg. Training loss: 2.5475 0.0998 sec/batch\n"
     ]
    },
    {
     "name": "stdout",
     "output_type": "stream",
     "text": [
      "Epoch 2/10 Iteration: 5600 Avg. Training loss: 2.4191 0.1014 sec/batch\n"
     ]
    },
    {
     "name": "stdout",
     "output_type": "stream",
     "text": [
      "Epoch 2/10 Iteration: 5700 Avg. Training loss: 2.5136 0.1022 sec/batch\n"
     ]
    },
    {
     "name": "stdout",
     "output_type": "stream",
     "text": [
      "Epoch 2/10 Iteration: 5800 Avg. Training loss: 2.2699 0.1024 sec/batch\n"
     ]
    },
    {
     "name": "stdout",
     "output_type": "stream",
     "text": [
      "Epoch 2/10 Iteration: 5900 Avg. Training loss: 2.4430 0.1018 sec/batch\n"
     ]
    },
    {
     "name": "stdout",
     "output_type": "stream",
     "text": [
      "Epoch 2/10 Iteration: 6000 Avg. Training loss: 2.5034 0.1012 sec/batch\nNearest to [word]: 录用, 清理, 及时性, excel, 家属, 快消品, 年检, 全国总监,\nNearest to [ppt]: project, 性能, 宏观经济, 悟性, 行动力, 获, 环节, 原画,\nNearest to [熟悉]: 试产, 相互, 各个部门, 部件, 出钱, 淘宝, 投产, 应用系统架构,\nNearest to [java]: 媒体广告, 漏洞, 多维度, 热点新闻, 专长, 街, 动动, 突出,\nNearest to [能力]: 向往, 噻, 金蝶, 聊天, 访, 意识, 翻, 开发,\nNearest to [逻辑思维]: 理解力, 二手车, 肯干, 慎密, 很强, 为人, 敏感度, 商业银行,\nNearest to [了解]: 之后, 更快, dba, 唱歌, 不足, 汇编, 萌, 组建,\n"
     ]
    },
    {
     "name": "stdout",
     "output_type": "stream",
     "text": [
      "Epoch 2/10 Iteration: 6100 Avg. Training loss: 2.4396 0.1024 sec/batch\n"
     ]
    },
    {
     "name": "stdout",
     "output_type": "stream",
     "text": [
      "Epoch 2/10 Iteration: 6200 Avg. Training loss: 2.3928 0.1013 sec/batch\n"
     ]
    },
    {
     "name": "stdout",
     "output_type": "stream",
     "text": [
      "Epoch 2/10 Iteration: 6300 Avg. Training loss: 2.2484 0.1017 sec/batch\n"
     ]
    },
    {
     "name": "stdout",
     "output_type": "stream",
     "text": [
      "Epoch 2/10 Iteration: 6400 Avg. Training loss: 2.5355 0.0998 sec/batch\n"
     ]
    },
    {
     "name": "stdout",
     "output_type": "stream",
     "text": [
      "Epoch 2/10 Iteration: 6500 Avg. Training loss: 2.2954 0.1010 sec/batch\n"
     ]
    },
    {
     "name": "stdout",
     "output_type": "stream",
     "text": [
      "Epoch 2/10 Iteration: 6600 Avg. Training loss: 2.2556 0.1006 sec/batch\n"
     ]
    },
    {
     "name": "stdout",
     "output_type": "stream",
     "text": [
      "Epoch 2/10 Iteration: 6700 Avg. Training loss: 2.2439 0.0997 sec/batch\n"
     ]
    },
    {
     "name": "stdout",
     "output_type": "stream",
     "text": [
      "Epoch 2/10 Iteration: 6800 Avg. Training loss: 2.2990 0.1014 sec/batch\n"
     ]
    },
    {
     "name": "stdout",
     "output_type": "stream",
     "text": [
      "Epoch 2/10 Iteration: 6900 Avg. Training loss: 2.4900 0.1017 sec/batch\n"
     ]
    },
    {
     "name": "stdout",
     "output_type": "stream",
     "text": [
      "Epoch 2/10 Iteration: 7000 Avg. Training loss: 2.2923 0.1013 sec/batch\nNearest to [word]: 录用, 清理, 及时性, 亦可, excel, 有条理, 家属, 年检,\nNearest to [ppt]: project, 性能, 悟性, 宏观经济, 环节, 消费类, 虚假, 获,\nNearest to [熟悉]: 试产, 各个部门, 相互, 部件, 出钱, 淘宝, 首家, 投产,\nNearest to [java]: 媒体广告, 漏洞, 多维度, 热点新闻, 街, 专长, 搜索, 动动,\nNearest to [能力]: 向往, 噻, 金蝶, 聊天, 翻, 意识, 盈利, 访,\nNearest to [逻辑思维]: 理解力, 二手车, 肯干, 慎密, 为人, 很强, 商业银行, opencv,\nNearest to [了解]: 之后, 更快, dba, 唱歌, 汇编, 不足, 萌, 组建,\n"
     ]
    },
    {
     "name": "stdout",
     "output_type": "stream",
     "text": [
      "Epoch 2/10 Iteration: 7100 Avg. Training loss: 2.3034 0.1023 sec/batch\n"
     ]
    },
    {
     "name": "stdout",
     "output_type": "stream",
     "text": [
      "Epoch 2/10 Iteration: 7200 Avg. Training loss: 2.5873 0.1008 sec/batch\n"
     ]
    },
    {
     "name": "stdout",
     "output_type": "stream",
     "text": [
      "Epoch 2/10 Iteration: 7300 Avg. Training loss: 2.2815 0.1009 sec/batch\n"
     ]
    },
    {
     "name": "stdout",
     "output_type": "stream",
     "text": [
      "Epoch 2/10 Iteration: 7400 Avg. Training loss: 2.1920 0.1041 sec/batch\n"
     ]
    },
    {
     "name": "stdout",
     "output_type": "stream",
     "text": [
      "Epoch 2/10 Iteration: 7500 Avg. Training loss: 2.2114 0.1026 sec/batch\n"
     ]
    },
    {
     "name": "stdout",
     "output_type": "stream",
     "text": [
      "Epoch 2/10 Iteration: 7600 Avg. Training loss: 2.3575 0.1013 sec/batch\n"
     ]
    },
    {
     "name": "stdout",
     "output_type": "stream",
     "text": [
      "Epoch 2/10 Iteration: 7700 Avg. Training loss: 2.4242 0.1008 sec/batch\n"
     ]
    },
    {
     "name": "stdout",
     "output_type": "stream",
     "text": [
      "Epoch 2/10 Iteration: 7800 Avg. Training loss: 2.3102 0.1019 sec/batch\n"
     ]
    },
    {
     "name": "stdout",
     "output_type": "stream",
     "text": [
      "Epoch 3/10 Iteration: 7900 Avg. Training loss: 2.1666 0.0918 sec/batch\n"
     ]
    },
    {
     "name": "stdout",
     "output_type": "stream",
     "text": [
      "Epoch 3/10 Iteration: 8000 Avg. Training loss: 2.3796 0.1016 sec/batch\nNearest to [word]: 录用, 清理, 及时性, 亦可, 家属, vba, excel, 关系数据库,\nNearest to [ppt]: project, 性能, 宏观经济, 悟性, 异常, 呈现, 社会学, 环节,\nNearest to [熟悉]: 试产, 各个部门, 相互, 部件, 淘宝, ios开发, 出钱, 投产,\nNearest to [java]: 媒体广告, 漏洞, 多维度, 街, 热点新闻, 专长, dba, 动动,\nNearest to [能力]: 向往, 噻, 金蝶, 翻, 意识, 聊天, 访, 开发,\nNearest to [逻辑思维]: 理解力, 二手车, 肯干, 慎密, 商业银行, 敏感度, 为人, 很强,\nNearest to [了解]: 之后, 更快, dba, 唱歌, 不足, 汇编, 萌, 组建,\n"
     ]
    },
    {
     "name": "stdout",
     "output_type": "stream",
     "text": [
      "Epoch 3/10 Iteration: 8100 Avg. Training loss: 2.2055 0.1022 sec/batch\n"
     ]
    },
    {
     "name": "stdout",
     "output_type": "stream",
     "text": [
      "Epoch 3/10 Iteration: 8200 Avg. Training loss: 2.1875 0.1030 sec/batch\n"
     ]
    },
    {
     "name": "stdout",
     "output_type": "stream",
     "text": [
      "Epoch 3/10 Iteration: 8300 Avg. Training loss: 2.3719 0.0993 sec/batch\n"
     ]
    },
    {
     "name": "stdout",
     "output_type": "stream",
     "text": [
      "Epoch 3/10 Iteration: 8400 Avg. Training loss: 2.4874 0.1018 sec/batch\n"
     ]
    },
    {
     "name": "stdout",
     "output_type": "stream",
     "text": [
      "Epoch 3/10 Iteration: 8500 Avg. Training loss: 2.3002 0.1043 sec/batch\n"
     ]
    },
    {
     "name": "stdout",
     "output_type": "stream",
     "text": [
      "Epoch 3/10 Iteration: 8600 Avg. Training loss: 2.1658 0.1021 sec/batch\n"
     ]
    },
    {
     "name": "stdout",
     "output_type": "stream",
     "text": [
      "Epoch 3/10 Iteration: 8700 Avg. Training loss: 2.4647 0.1002 sec/batch\n"
     ]
    },
    {
     "name": "stdout",
     "output_type": "stream",
     "text": [
      "Epoch 3/10 Iteration: 8800 Avg. Training loss: 2.5886 0.1010 sec/batch\n"
     ]
    },
    {
     "name": "stdout",
     "output_type": "stream",
     "text": [
      "Epoch 3/10 Iteration: 8900 Avg. Training loss: 2.5249 0.1009 sec/batch\n"
     ]
    },
    {
     "name": "stdout",
     "output_type": "stream",
     "text": [
      "Epoch 3/10 Iteration: 9000 Avg. Training loss: 2.3289 0.0995 sec/batch\nNearest to [word]: 录用, 清理, 及时性, 亦可, 家属, excel, vba, 大气,\nNearest to [ppt]: project, 性能, 悟性, 宏观经济, 呈现, 行动力, 社会学, 护理,\nNearest to [熟悉]: 试产, 各个部门, 相互, 部件, ios开发, 淘宝, 投产, 出钱,\nNearest to [java]: 漏洞, 媒体广告, 多维度, 街, dba, 热点新闻, 专长, 搜索,\nNearest to [能力]: 向往, 噻, 聊天, 金蝶, 翻, 意识, 访, 开发,\nNearest to [逻辑思维]: 理解力, 肯干, 二手车, 慎密, 为人, opencv, 很强, 商业银行,\nNearest to [了解]: 之后, dba, 更快, 唱歌, 汇编, 不足, 组建, 萌,\n"
     ]
    },
    {
     "name": "stdout",
     "output_type": "stream",
     "text": [
      "Epoch 3/10 Iteration: 9100 Avg. Training loss: 2.3760 0.1014 sec/batch\n"
     ]
    },
    {
     "name": "stdout",
     "output_type": "stream",
     "text": [
      "Epoch 3/10 Iteration: 9200 Avg. Training loss: 2.4658 0.0996 sec/batch\n"
     ]
    },
    {
     "name": "stdout",
     "output_type": "stream",
     "text": [
      "Epoch 3/10 Iteration: 9300 Avg. Training loss: 2.6064 0.1013 sec/batch\n"
     ]
    },
    {
     "name": "stdout",
     "output_type": "stream",
     "text": [
      "Epoch 3/10 Iteration: 9400 Avg. Training loss: 2.3963 0.1024 sec/batch\n"
     ]
    },
    {
     "name": "stdout",
     "output_type": "stream",
     "text": [
      "Epoch 3/10 Iteration: 9500 Avg. Training loss: 2.3245 0.0995 sec/batch\n"
     ]
    },
    {
     "name": "stdout",
     "output_type": "stream",
     "text": [
      "Epoch 3/10 Iteration: 9600 Avg. Training loss: 2.4394 0.1018 sec/batch\n"
     ]
    },
    {
     "name": "stdout",
     "output_type": "stream",
     "text": [
      "Epoch 3/10 Iteration: 9700 Avg. Training loss: 2.1443 0.1010 sec/batch\n"
     ]
    },
    {
     "name": "stdout",
     "output_type": "stream",
     "text": [
      "Epoch 3/10 Iteration: 9800 Avg. Training loss: 2.3608 0.1027 sec/batch\n"
     ]
    },
    {
     "name": "stdout",
     "output_type": "stream",
     "text": [
      "Epoch 3/10 Iteration: 9900 Avg. Training loss: 2.4385 0.1014 sec/batch\n"
     ]
    },
    {
     "name": "stdout",
     "output_type": "stream",
     "text": [
      "Epoch 3/10 Iteration: 10000 Avg. Training loss: 2.3384 0.1028 sec/batch\nNearest to [word]: 录用, 清理, 及时性, excel, 家属, vba, 设计工具, 有条理,\nNearest to [ppt]: project, 性能, 悟性, 设计者, 行动力, 宏观经济, 消费类, 社会学,\nNearest to [熟悉]: 试产, 各个部门, 相互, 部件, ios开发, 淘宝, 应用系统架构, 首家,\nNearest to [java]: 漏洞, 媒体广告, 街, 多维度, 热点新闻, 搜索, dba, 专长,\nNearest to [能力]: 向往, 噻, 聊天, 金蝶, 翻, 意识, 访, 勇于创新,\nNearest to [逻辑思维]: 理解力, 二手车, 慎密, 肯干, 创业精神, 为人, 敏感度, 很强,\nNearest to [了解]: 之后, dba, 更快, 唱歌, 不足, 萌, 汇编, 组建,\n"
     ]
    },
    {
     "name": "stdout",
     "output_type": "stream",
     "text": [
      "Epoch 3/10 Iteration: 10100 Avg. Training loss: 2.3270 0.1018 sec/batch\n"
     ]
    },
    {
     "name": "stdout",
     "output_type": "stream",
     "text": [
      "Epoch 3/10 Iteration: 10200 Avg. Training loss: 2.2821 0.1020 sec/batch\n"
     ]
    },
    {
     "name": "stdout",
     "output_type": "stream",
     "text": [
      "Epoch 3/10 Iteration: 10300 Avg. Training loss: 2.4775 0.1005 sec/batch\n"
     ]
    },
    {
     "name": "stdout",
     "output_type": "stream",
     "text": [
      "Epoch 3/10 Iteration: 10400 Avg. Training loss: 2.2086 0.1016 sec/batch\n"
     ]
    },
    {
     "name": "stdout",
     "output_type": "stream",
     "text": [
      "Epoch 3/10 Iteration: 10500 Avg. Training loss: 2.2406 0.1017 sec/batch\n"
     ]
    },
    {
     "name": "stdout",
     "output_type": "stream",
     "text": [
      "Epoch 3/10 Iteration: 10600 Avg. Training loss: 2.2347 0.1003 sec/batch\n"
     ]
    },
    {
     "name": "stdout",
     "output_type": "stream",
     "text": [
      "Epoch 3/10 Iteration: 10700 Avg. Training loss: 2.2175 0.1004 sec/batch\n"
     ]
    },
    {
     "name": "stdout",
     "output_type": "stream",
     "text": [
      "Epoch 3/10 Iteration: 10800 Avg. Training loss: 2.4204 0.1007 sec/batch\n"
     ]
    },
    {
     "name": "stdout",
     "output_type": "stream",
     "text": [
      "Epoch 3/10 Iteration: 10900 Avg. Training loss: 2.2549 0.1008 sec/batch\n"
     ]
    },
    {
     "name": "stdout",
     "output_type": "stream",
     "text": [
      "Epoch 3/10 Iteration: 11000 Avg. Training loss: 2.1983 0.1018 sec/batch\nNearest to [word]: 录用, 清理, 及时性, excel, 亦可, 有条理, 家属, 常用软件,\nNearest to [ppt]: project, 性能, 悟性, 行动力, 招投标, 虚假, 设计者, 表格,\nNearest to [熟悉]: 试产, 各个部门, 相互, 部件, 淘宝, ios开发, 首家, 应用系统架构,\nNearest to [java]: 漏洞, 媒体广告, 街, 多维度, 搜索, 热点新闻, dba, 专长,\nNearest to [能力]: 向往, 噻, 聊天, 翻, 金蝶, 意识, 勇于创新, 开发,\nNearest to [逻辑思维]: 理解力, 二手车, 慎密, 肯干, 为人, opencv, 创业精神, 很强,\nNearest to [了解]: 之后, dba, 更快, 唱歌, 汇编, 不足, 萌, 组建,\n"
     ]
    },
    {
     "name": "stdout",
     "output_type": "stream",
     "text": [
      "Epoch 3/10 Iteration: 11100 Avg. Training loss: 2.5332 0.1002 sec/batch\n"
     ]
    },
    {
     "name": "stdout",
     "output_type": "stream",
     "text": [
      "Epoch 3/10 Iteration: 11200 Avg. Training loss: 2.2330 0.1003 sec/batch\n"
     ]
    },
    {
     "name": "stdout",
     "output_type": "stream",
     "text": [
      "Epoch 3/10 Iteration: 11300 Avg. Training loss: 2.0936 0.1024 sec/batch\n"
     ]
    },
    {
     "name": "stdout",
     "output_type": "stream",
     "text": [
      "Epoch 3/10 Iteration: 11400 Avg. Training loss: 2.1779 0.1009 sec/batch\n"
     ]
    },
    {
     "name": "stdout",
     "output_type": "stream",
     "text": [
      "Epoch 3/10 Iteration: 11500 Avg. Training loss: 2.3126 0.1002 sec/batch\n"
     ]
    },
    {
     "name": "stdout",
     "output_type": "stream",
     "text": [
      "Epoch 3/10 Iteration: 11600 Avg. Training loss: 2.3556 0.1000 sec/batch\n"
     ]
    },
    {
     "name": "stdout",
     "output_type": "stream",
     "text": [
      "Epoch 3/10 Iteration: 11700 Avg. Training loss: 2.2493 0.1001 sec/batch\n"
     ]
    },
    {
     "name": "stdout",
     "output_type": "stream",
     "text": [
      "Epoch 4/10 Iteration: 11800 Avg. Training loss: 2.1732 0.0859 sec/batch\n"
     ]
    },
    {
     "name": "stdout",
     "output_type": "stream",
     "text": [
      "Epoch 4/10 Iteration: 11900 Avg. Training loss: 2.3446 0.1013 sec/batch\n"
     ]
    },
    {
     "name": "stdout",
     "output_type": "stream",
     "text": [
      "Epoch 4/10 Iteration: 12000 Avg. Training loss: 2.1890 0.1007 sec/batch\nNearest to [word]: 录用, 清理, 及时性, excel, vba, 亦可, 有条理, 家属,\nNearest to [ppt]: project, 性能, 行动力, 悟性, 虚假, 呈现, 宏观经济, 社会学,\nNearest to [熟悉]: 试产, 各个部门, 相互, 部件, 淘宝, ios开发, 首家, 投产,\nNearest to [java]: 漏洞, 媒体广告, 街, 多维度, dba, 热点新闻, 搜索, 专长,\nNearest to [能力]: 向往, 噻, 聊天, 金蝶, 翻, 意识, 访, 开发,\nNearest to [逻辑思维]: 理解力, 二手车, 慎密, 为人, 肯干, 敏感度, opencv, 商业银行,\nNearest to [了解]: 之后, dba, 更快, 唱歌, 汇编, 不足, 萌, 组建,\n"
     ]
    },
    {
     "name": "stdout",
     "output_type": "stream",
     "text": [
      "Epoch 4/10 Iteration: 12100 Avg. Training loss: 2.0715 0.1034 sec/batch\n"
     ]
    },
    {
     "name": "stdout",
     "output_type": "stream",
     "text": [
      "Epoch 4/10 Iteration: 12200 Avg. Training loss: 2.3878 0.0996 sec/batch\n"
     ]
    },
    {
     "name": "stdout",
     "output_type": "stream",
     "text": [
      "Epoch 4/10 Iteration: 12300 Avg. Training loss: 2.3938 0.1001 sec/batch\n"
     ]
    },
    {
     "name": "stdout",
     "output_type": "stream",
     "text": [
      "Epoch 4/10 Iteration: 12400 Avg. Training loss: 2.2992 0.1027 sec/batch\n"
     ]
    },
    {
     "name": "stdout",
     "output_type": "stream",
     "text": [
      "Epoch 4/10 Iteration: 12500 Avg. Training loss: 2.1413 0.1039 sec/batch\n"
     ]
    },
    {
     "name": "stdout",
     "output_type": "stream",
     "text": [
      "Epoch 4/10 Iteration: 12600 Avg. Training loss: 2.3093 0.1017 sec/batch\n"
     ]
    },
    {
     "name": "stdout",
     "output_type": "stream",
     "text": [
      "Epoch 4/10 Iteration: 12700 Avg. Training loss: 2.5239 0.1041 sec/batch\n"
     ]
    },
    {
     "name": "stdout",
     "output_type": "stream",
     "text": [
      "Epoch 4/10 Iteration: 12800 Avg. Training loss: 2.4548 0.1020 sec/batch\n"
     ]
    },
    {
     "name": "stdout",
     "output_type": "stream",
     "text": [
      "Epoch 4/10 Iteration: 12900 Avg. Training loss: 2.2908 0.1008 sec/batch\n"
     ]
    },
    {
     "name": "stdout",
     "output_type": "stream",
     "text": [
      "Epoch 4/10 Iteration: 13000 Avg. Training loss: 2.3355 0.1006 sec/batch\nNearest to [word]: 录用, 清理, 及时性, excel, 有条理, 亦可, vba, 家属,\nNearest to [ppt]: project, 性能, 行动力, 悟性, 呈现, 虚假, 社会学, 获,\nNearest to [熟悉]: 试产, 各个部门, 部件, 相互, 淘宝, ios开发, 投产, 单品,\nNearest to [java]: 漏洞, 媒体广告, 街, 热点新闻, 多维度, dba, 搜索, 大学,\nNearest to [能力]: 向往, 噻, 聊天, 金蝶, 翻, 意识, 访, 勇于创新,\nNearest to [逻辑思维]: 理解力, 二手车, 肯干, opencv, 慎密, 为人, 创业精神, 很强,\nNearest to [了解]: 之后, dba, 更快, 唱歌, 汇编, 萌, 组建, 不足,\n"
     ]
    },
    {
     "name": "stdout",
     "output_type": "stream",
     "text": [
      "Epoch 4/10 Iteration: 13100 Avg. Training loss: 2.4822 0.0988 sec/batch\n"
     ]
    },
    {
     "name": "stdout",
     "output_type": "stream",
     "text": [
      "Epoch 4/10 Iteration: 13200 Avg. Training loss: 2.5017 0.1207 sec/batch\n"
     ]
    },
    {
     "name": "stdout",
     "output_type": "stream",
     "text": [
      "Epoch 4/10 Iteration: 13300 Avg. Training loss: 2.3518 0.1050 sec/batch\n"
     ]
    },
    {
     "name": "stdout",
     "output_type": "stream",
     "text": [
      "Epoch 4/10 Iteration: 13400 Avg. Training loss: 2.2101 0.1034 sec/batch\n"
     ]
    },
    {
     "name": "stdout",
     "output_type": "stream",
     "text": [
      "Epoch 4/10 Iteration: 13500 Avg. Training loss: 2.3867 0.1052 sec/batch\n"
     ]
    },
    {
     "name": "stdout",
     "output_type": "stream",
     "text": [
      "Epoch 4/10 Iteration: 13600 Avg. Training loss: 2.1386 0.1025 sec/batch\n"
     ]
    },
    {
     "name": "stdout",
     "output_type": "stream",
     "text": [
      "Epoch 4/10 Iteration: 13700 Avg. Training loss: 2.2963 0.1016 sec/batch\n"
     ]
    },
    {
     "name": "stdout",
     "output_type": "stream",
     "text": [
      "Epoch 4/10 Iteration: 13800 Avg. Training loss: 2.4538 0.1010 sec/batch\n"
     ]
    },
    {
     "name": "stdout",
     "output_type": "stream",
     "text": [
      "Epoch 4/10 Iteration: 13900 Avg. Training loss: 2.3718 0.1034 sec/batch\n"
     ]
    },
    {
     "name": "stdout",
     "output_type": "stream",
     "text": [
      "Epoch 4/10 Iteration: 14000 Avg. Training loss: 2.3607 0.1021 sec/batch\nNearest to [word]: 录用, 清理, 及时性, excel, vba, 有条理, 设计工具, 关系数据库,\nNearest to [ppt]: project, 性能, 行动力, 设计者, 社会学, 虚假, 呈现, 消费类,\nNearest to [熟悉]: 试产, 各个部门, 部件, 相互, 首家, 淘宝, ios开发, 投产,\nNearest to [java]: 漏洞, 街, 媒体广告, 热点新闻, 多维度, 搜索, dba, 大学,\nNearest to [能力]: 向往, 噻, 聊天, 翻, 金蝶, 意识, 访, 勇于创新,\nNearest to [逻辑思维]: 理解力, 二手车, 慎密, 为人, 肯干, opencv, 创业精神, 敏感度,\nNearest to [了解]: 之后, dba, 更快, 唱歌, 汇编, 萌, 组建, 不足,\n"
     ]
    },
    {
     "name": "stdout",
     "output_type": "stream",
     "text": [
      "Epoch 4/10 Iteration: 14100 Avg. Training loss: 2.2033 0.1037 sec/batch\n"
     ]
    },
    {
     "name": "stdout",
     "output_type": "stream",
     "text": [
      "Epoch 4/10 Iteration: 14200 Avg. Training loss: 2.3929 0.1013 sec/batch\n"
     ]
    },
    {
     "name": "stdout",
     "output_type": "stream",
     "text": [
      "Epoch 4/10 Iteration: 14300 Avg. Training loss: 2.1831 0.1023 sec/batch\n"
     ]
    },
    {
     "name": "stdout",
     "output_type": "stream",
     "text": [
      "Epoch 4/10 Iteration: 14400 Avg. Training loss: 2.1833 0.1028 sec/batch\n"
     ]
    },
    {
     "name": "stdout",
     "output_type": "stream",
     "text": [
      "Epoch 4/10 Iteration: 14500 Avg. Training loss: 2.2673 0.1008 sec/batch\n"
     ]
    },
    {
     "name": "stdout",
     "output_type": "stream",
     "text": [
      "Epoch 4/10 Iteration: 14600 Avg. Training loss: 2.1162 0.1014 sec/batch\n"
     ]
    },
    {
     "name": "stdout",
     "output_type": "stream",
     "text": [
      "Epoch 4/10 Iteration: 14700 Avg. Training loss: 2.4699 0.1040 sec/batch\n"
     ]
    },
    {
     "name": "stdout",
     "output_type": "stream",
     "text": [
      "Epoch 4/10 Iteration: 14800 Avg. Training loss: 2.2089 0.1023 sec/batch\n"
     ]
    },
    {
     "name": "stdout",
     "output_type": "stream",
     "text": [
      "Epoch 4/10 Iteration: 14900 Avg. Training loss: 2.1800 0.1029 sec/batch\n"
     ]
    },
    {
     "name": "stdout",
     "output_type": "stream",
     "text": [
      "Epoch 4/10 Iteration: 15000 Avg. Training loss: 2.4745 0.0996 sec/batch\nNearest to [word]: 录用, 清理, 及时性, excel, 有条理, 亦可, 差旅, vba,\nNearest to [ppt]: project, 性能, 行动力, 设计者, 虚假, 招投标, 悟性, 社会学,\nNearest to [熟悉]: 试产, 部件, 各个部门, 淘宝, 相互, ios开发, 首家, 投产,\nNearest to [java]: 漏洞, 媒体广告, 街, 热点新闻, dba, 搜索, 多维度, 大学,\nNearest to [能力]: 向往, 聊天, 翻, 噻, 金蝶, 意识, 勇于创新, 战略目标,\nNearest to [逻辑思维]: 理解力, 二手车, 为人, 慎密, 肯干, opencv, 创业精神, 实习,\nNearest to [了解]: 之后, dba, 更快, 唱歌, 汇编, 萌, 组建, 涵盖,\n"
     ]
    },
    {
     "name": "stdout",
     "output_type": "stream",
     "text": [
      "Epoch 4/10 Iteration: 15100 Avg. Training loss: 2.2521 0.1005 sec/batch\n"
     ]
    },
    {
     "name": "stdout",
     "output_type": "stream",
     "text": [
      "Epoch 4/10 Iteration: 15200 Avg. Training loss: 2.0355 0.1040 sec/batch\n"
     ]
    },
    {
     "name": "stdout",
     "output_type": "stream",
     "text": [
      "Epoch 4/10 Iteration: 15300 Avg. Training loss: 2.1851 0.1026 sec/batch\n"
     ]
    },
    {
     "name": "stdout",
     "output_type": "stream",
     "text": [
      "Epoch 4/10 Iteration: 15400 Avg. Training loss: 2.2181 0.1011 sec/batch\n"
     ]
    },
    {
     "name": "stdout",
     "output_type": "stream",
     "text": [
      "Epoch 4/10 Iteration: 15500 Avg. Training loss: 2.4228 0.1007 sec/batch\n"
     ]
    },
    {
     "name": "stdout",
     "output_type": "stream",
     "text": [
      "Epoch 4/10 Iteration: 15600 Avg. Training loss: 2.2469 0.0999 sec/batch\n"
     ]
    },
    {
     "name": "stdout",
     "output_type": "stream",
     "text": [
      "Epoch 5/10 Iteration: 15700 Avg. Training loss: 2.0926 0.0818 sec/batch\n"
     ]
    },
    {
     "name": "stdout",
     "output_type": "stream",
     "text": [
      "Epoch 5/10 Iteration: 15800 Avg. Training loss: 2.2464 0.1015 sec/batch\n"
     ]
    },
    {
     "name": "stdout",
     "output_type": "stream",
     "text": [
      "Epoch 5/10 Iteration: 15900 Avg. Training loss: 2.1935 0.1022 sec/batch\n"
     ]
    },
    {
     "name": "stdout",
     "output_type": "stream",
     "text": [
      "Epoch 5/10 Iteration: 16000 Avg. Training loss: 2.0189 0.1019 sec/batch\nNearest to [word]: 录用, 及时性, 清理, excel, 有条理, vba, 差旅, 关系数据库,\nNearest to [ppt]: project, 行动力, 性能, 呈现, 社会学, 虚假, 悟性, 招投标,\nNearest to [熟悉]: 试产, 部件, 各个部门, 淘宝, 相互, ios开发, 首家, 投产,\nNearest to [java]: 漏洞, 媒体广告, 街, 热点新闻, dba, 大学, 多维度, 搜索,\nNearest to [能力]: 向往, 噻, 聊天, 翻, 金蝶, 意识, 访, 勇于创新,\nNearest to [逻辑思维]: 理解力, 二手车, 为人, 慎密, 肯干, opencv, 敏感度, 创业精神,\nNearest to [了解]: 之后, 更快, dba, 汇编, 唱歌, 萌, 组建, 不足,\n"
     ]
    },
    {
     "name": "stdout",
     "output_type": "stream",
     "text": [
      "Epoch 5/10 Iteration: 16100 Avg. Training loss: 2.3571 0.0998 sec/batch\n"
     ]
    },
    {
     "name": "stdout",
     "output_type": "stream",
     "text": [
      "Epoch 5/10 Iteration: 16200 Avg. Training loss: 2.3269 0.1000 sec/batch\n"
     ]
    },
    {
     "name": "stdout",
     "output_type": "stream",
     "text": [
      "Epoch 5/10 Iteration: 16300 Avg. Training loss: 2.2575 0.1038 sec/batch\n"
     ]
    },
    {
     "name": "stdout",
     "output_type": "stream",
     "text": [
      "Epoch 5/10 Iteration: 16400 Avg. Training loss: 2.1257 0.1029 sec/batch\n"
     ]
    },
    {
     "name": "stdout",
     "output_type": "stream",
     "text": [
      "Epoch 5/10 Iteration: 16500 Avg. Training loss: 2.2796 0.1023 sec/batch\n"
     ]
    },
    {
     "name": "stdout",
     "output_type": "stream",
     "text": [
      "Epoch 5/10 Iteration: 16600 Avg. Training loss: 2.5398 0.1016 sec/batch\n"
     ]
    },
    {
     "name": "stdout",
     "output_type": "stream",
     "text": [
      "Epoch 5/10 Iteration: 16700 Avg. Training loss: 2.3548 0.1018 sec/batch\n"
     ]
    },
    {
     "name": "stdout",
     "output_type": "stream",
     "text": [
      "Epoch 5/10 Iteration: 16800 Avg. Training loss: 2.2933 0.0998 sec/batch\n"
     ]
    },
    {
     "name": "stdout",
     "output_type": "stream",
     "text": [
      "Epoch 5/10 Iteration: 16900 Avg. Training loss: 2.4372 0.1006 sec/batch\n"
     ]
    },
    {
     "name": "stdout",
     "output_type": "stream",
     "text": [
      "Epoch 5/10 Iteration: 17000 Avg. Training loss: 2.4050 0.0979 sec/batch\nNearest to [word]: 录用, 及时性, 清理, excel, 有条理, 大气, 差旅, vba,\nNearest to [ppt]: project, 性能, 行动力, 呈现, 社会学, 虚假, 悟性, 获,\nNearest to [熟悉]: 试产, 部件, 各个部门, 相互, 淘宝, ios开发, 投产, 首家,\nNearest to [java]: 漏洞, 街, 媒体广告, 热点新闻, dba, 大学, 多维度, 搜索,\nNearest to [能力]: 向往, 聊天, 噻, 金蝶, 翻, 访, 意识, 勇于创新,\nNearest to [逻辑思维]: 理解力, 二手车, opencv, 为人, 肯干, 慎密, 实习, 敏感度,\nNearest to [了解]: 之后, 更快, dba, 唱歌, 汇编, 萌, 组建, 涵盖,\n"
     ]
    },
    {
     "name": "stdout",
     "output_type": "stream",
     "text": [
      "Epoch 5/10 Iteration: 17100 Avg. Training loss: 2.4664 0.0999 sec/batch\n"
     ]
    },
    {
     "name": "stdout",
     "output_type": "stream",
     "text": [
      "Epoch 5/10 Iteration: 17200 Avg. Training loss: 2.4075 0.1005 sec/batch\n"
     ]
    },
    {
     "name": "stdout",
     "output_type": "stream",
     "text": [
      "Epoch 5/10 Iteration: 17300 Avg. Training loss: 2.2470 0.0985 sec/batch\n"
     ]
    },
    {
     "name": "stdout",
     "output_type": "stream",
     "text": [
      "Epoch 5/10 Iteration: 17400 Avg. Training loss: 2.3742 0.1020 sec/batch\n"
     ]
    },
    {
     "name": "stdout",
     "output_type": "stream",
     "text": [
      "Epoch 5/10 Iteration: 17500 Avg. Training loss: 2.0072 0.0994 sec/batch\n"
     ]
    },
    {
     "name": "stdout",
     "output_type": "stream",
     "text": [
      "Epoch 5/10 Iteration: 17600 Avg. Training loss: 2.3198 0.1029 sec/batch\n"
     ]
    },
    {
     "name": "stdout",
     "output_type": "stream",
     "text": [
      "Epoch 5/10 Iteration: 17700 Avg. Training loss: 2.3776 0.1016 sec/batch\n"
     ]
    },
    {
     "name": "stdout",
     "output_type": "stream",
     "text": [
      "Epoch 5/10 Iteration: 17800 Avg. Training loss: 2.2892 0.1034 sec/batch\n"
     ]
    },
    {
     "name": "stdout",
     "output_type": "stream",
     "text": [
      "Epoch 5/10 Iteration: 17900 Avg. Training loss: 2.3033 0.1024 sec/batch\n"
     ]
    },
    {
     "name": "stdout",
     "output_type": "stream",
     "text": [
      "Epoch 5/10 Iteration: 18000 Avg. Training loss: 2.1675 0.1026 sec/batch\nNearest to [word]: 录用, 及时性, 清理, excel, 有条理, 设计工具, vba, \n做,\nNearest to [ppt]: project, 性能, 行动力, 设计者, 社会学, 呈现, 虚假, 环节,\nNearest to [熟悉]: 试产, 部件, 各个部门, 淘宝, ios开发, 相互, 投产, 首家,\nNearest to [java]: 漏洞, 街, 热点新闻, 媒体广告, dba, 大学, 多维度, 搜索,\nNearest to [能力]: 向往, 聊天, 噻, 翻, 意识, 金蝶, 功能模块, 勇于创新,\nNearest to [逻辑思维]: 理解力, 二手车, 慎密, 为人, 肯干, 创业精神, 很强, 创新能力,\nNearest to [了解]: 之后, 更快, dba, 唱歌, 汇编, 萌, 组建, 涵盖,\n"
     ]
    },
    {
     "name": "stdout",
     "output_type": "stream",
     "text": [
      "Epoch 5/10 Iteration: 18100 Avg. Training loss: 2.3778 0.1015 sec/batch\n"
     ]
    },
    {
     "name": "stdout",
     "output_type": "stream",
     "text": [
      "Epoch 5/10 Iteration: 18200 Avg. Training loss: 2.1979 0.1009 sec/batch\n"
     ]
    },
    {
     "name": "stdout",
     "output_type": "stream",
     "text": [
      "Epoch 5/10 Iteration: 18300 Avg. Training loss: 2.1779 0.1045 sec/batch\n"
     ]
    },
    {
     "name": "stdout",
     "output_type": "stream",
     "text": [
      "Epoch 5/10 Iteration: 18400 Avg. Training loss: 2.2033 0.1022 sec/batch\n"
     ]
    },
    {
     "name": "stdout",
     "output_type": "stream",
     "text": [
      "Epoch 5/10 Iteration: 18500 Avg. Training loss: 2.2005 0.1019 sec/batch\n"
     ]
    },
    {
     "name": "stdout",
     "output_type": "stream",
     "text": [
      "Epoch 5/10 Iteration: 18600 Avg. Training loss: 2.4603 0.1016 sec/batch\n"
     ]
    },
    {
     "name": "stdout",
     "output_type": "stream",
     "text": [
      "Epoch 5/10 Iteration: 18700 Avg. Training loss: 2.2103 0.1022 sec/batch\n"
     ]
    },
    {
     "name": "stdout",
     "output_type": "stream",
     "text": [
      "Epoch 5/10 Iteration: 18800 Avg. Training loss: 2.1519 0.1032 sec/batch\n"
     ]
    },
    {
     "name": "stdout",
     "output_type": "stream",
     "text": [
      "Epoch 5/10 Iteration: 18900 Avg. Training loss: 2.5377 0.1002 sec/batch\n"
     ]
    },
    {
     "name": "stdout",
     "output_type": "stream",
     "text": [
      "Epoch 5/10 Iteration: 19000 Avg. Training loss: 2.2109 0.1008 sec/batch\nNearest to [word]: 录用, 及时性, 清理, 有条理, excel, 差旅, \n做, vba,\nNearest to [ppt]: project, 性能, 行动力, 设计者, 虚假, 社会学, 呈现, 招投标,\nNearest to [熟悉]: 试产, 部件, 各个部门, 淘宝, ios开发, 首家, 相互, 投产,\nNearest to [java]: 漏洞, 街, 热点新闻, 媒体广告, dba, 大学, 多维度, 搜索,\nNearest to [能力]: 向往, 聊天, 翻, 噻, 战略目标, 金蝶, 勇于创新, 意识,\nNearest to [逻辑思维]: 理解力, 二手车, 为人, opencv, 肯干, 慎密, 创业精神, 实习,\nNearest to [了解]: 之后, 更快, dba, 汇编, 唱歌, 萌, 组建, 涵盖,\n"
     ]
    },
    {
     "name": "stdout",
     "output_type": "stream",
     "text": [
      "Epoch 5/10 Iteration: 19100 Avg. Training loss: 2.1138 0.1044 sec/batch\n"
     ]
    },
    {
     "name": "stdout",
     "output_type": "stream",
     "text": [
      "Epoch 5/10 Iteration: 19200 Avg. Training loss: 2.0577 0.1027 sec/batch\n"
     ]
    },
    {
     "name": "stdout",
     "output_type": "stream",
     "text": [
      "Epoch 5/10 Iteration: 19300 Avg. Training loss: 2.2368 0.1008 sec/batch\n"
     ]
    },
    {
     "name": "stdout",
     "output_type": "stream",
     "text": [
      "Epoch 5/10 Iteration: 19400 Avg. Training loss: 2.2850 0.0998 sec/batch\n"
     ]
    },
    {
     "name": "stdout",
     "output_type": "stream",
     "text": [
      "Epoch 5/10 Iteration: 19500 Avg. Training loss: 2.2832 0.1004 sec/batch\n"
     ]
    },
    {
     "name": "stdout",
     "output_type": "stream",
     "text": [
      "Epoch 6/10 Iteration: 19600 Avg. Training loss: 2.0909 0.0763 sec/batch\n"
     ]
    },
    {
     "name": "stdout",
     "output_type": "stream",
     "text": [
      "Epoch 6/10 Iteration: 19700 Avg. Training loss: 2.2494 0.1016 sec/batch\n"
     ]
    },
    {
     "name": "stdout",
     "output_type": "stream",
     "text": [
      "Epoch 6/10 Iteration: 19800 Avg. Training loss: 2.2747 0.1033 sec/batch\n"
     ]
    },
    {
     "name": "stdout",
     "output_type": "stream",
     "text": [
      "Epoch 6/10 Iteration: 19900 Avg. Training loss: 1.9602 0.1026 sec/batch\n"
     ]
    },
    {
     "name": "stdout",
     "output_type": "stream",
     "text": [
      "Epoch 6/10 Iteration: 20000 Avg. Training loss: 2.3938 0.0992 sec/batch\nNearest to [word]: 录用, 及时性, 清理, 有条理, excel, 差旅, vba, \n做,\nNearest to [ppt]: project, 行动力, 性能, 社会学, 虚假, 呈现, 招投标, 运营业务,\nNearest to [熟悉]: 试产, 部件, 淘宝, 各个部门, 相互, ios开发, 首家, 单品,\nNearest to [java]: 漏洞, 街, 热点新闻, 大学, dba, 媒体广告, 多维度, 搜索,\nNearest to [能力]: 向往, 聊天, 翻, 金蝶, 噻, 意识, 勇于创新, 过滤,\nNearest to [逻辑思维]: 二手车, 理解力, 为人, opencv, 慎密, 肯干, 创业精神, 商业银行,\nNearest to [了解]: 之后, 更快, 汇编, dba, 唱歌, 萌, 组建, 不足,\n"
     ]
    },
    {
     "name": "stdout",
     "output_type": "stream",
     "text": [
      "Epoch 6/10 Iteration: 20100 Avg. Training loss: 2.3429 0.1035 sec/batch\n"
     ]
    },
    {
     "name": "stdout",
     "output_type": "stream",
     "text": [
      "Epoch 6/10 Iteration: 20200 Avg. Training loss: 2.2485 0.1043 sec/batch\n"
     ]
    },
    {
     "name": "stdout",
     "output_type": "stream",
     "text": [
      "Epoch 6/10 Iteration: 20300 Avg. Training loss: 2.1599 0.1047 sec/batch\n"
     ]
    },
    {
     "name": "stdout",
     "output_type": "stream",
     "text": [
      "Epoch 6/10 Iteration: 20400 Avg. Training loss: 2.2493 0.1034 sec/batch\n"
     ]
    },
    {
     "name": "stdout",
     "output_type": "stream",
     "text": [
      "Epoch 6/10 Iteration: 20500 Avg. Training loss: 2.5431 0.1118 sec/batch\n"
     ]
    },
    {
     "name": "stdout",
     "output_type": "stream",
     "text": [
      "Epoch 6/10 Iteration: 20600 Avg. Training loss: 2.4163 0.1191 sec/batch\n"
     ]
    },
    {
     "name": "stdout",
     "output_type": "stream",
     "text": [
      "Epoch 6/10 Iteration: 20700 Avg. Training loss: 2.2839 0.1049 sec/batch\n"
     ]
    },
    {
     "name": "stdout",
     "output_type": "stream",
     "text": [
      "Epoch 6/10 Iteration: 20800 Avg. Training loss: 2.3595 0.1041 sec/batch\n"
     ]
    },
    {
     "name": "stdout",
     "output_type": "stream",
     "text": [
      "Epoch 6/10 Iteration: 20900 Avg. Training loss: 2.3653 0.1023 sec/batch\n"
     ]
    },
    {
     "name": "stdout",
     "output_type": "stream",
     "text": [
      "Epoch 6/10 Iteration: 21000 Avg. Training loss: 2.5242 0.1035 sec/batch\nNearest to [word]: 录用, 及时性, 清理, excel, 有条理, 大气, 差旅, 图像,\nNearest to [ppt]: project, 性能, 行动力, 呈现, 社会学, 虚假, 获, 教材,\nNearest to [熟悉]: 试产, 部件, ios开发, 淘宝, 各个部门, 相互, 首家, 投产,\nNearest to [java]: 漏洞, 热点新闻, 街, 大学, dba, 多维度, 媒体广告, 搜索,\nNearest to [能力]: 向往, 聊天, 金蝶, 噻, 翻, 勇于创新, 意识, 访,\nNearest to [逻辑思维]: 理解力, 二手车, opencv, 肯干, 为人, 慎密, 创业精神, 实习,\nNearest to [了解]: 之后, 更快, dba, 汇编, 唱歌, 萌, 组建, 涵盖,\n"
     ]
    },
    {
     "name": "stdout",
     "output_type": "stream",
     "text": [
      "Epoch 6/10 Iteration: 21100 Avg. Training loss: 2.3868 0.1042 sec/batch\n"
     ]
    },
    {
     "name": "stdout",
     "output_type": "stream",
     "text": [
      "Epoch 6/10 Iteration: 21200 Avg. Training loss: 2.1988 0.1010 sec/batch\n"
     ]
    },
    {
     "name": "stdout",
     "output_type": "stream",
     "text": [
      "Epoch 6/10 Iteration: 21300 Avg. Training loss: 2.3862 0.1071 sec/batch\n"
     ]
    },
    {
     "name": "stdout",
     "output_type": "stream",
     "text": [
      "Epoch 6/10 Iteration: 21400 Avg. Training loss: 2.0229 0.1211 sec/batch\n"
     ]
    },
    {
     "name": "stdout",
     "output_type": "stream",
     "text": [
      "Epoch 6/10 Iteration: 21500 Avg. Training loss: 2.3241 0.1099 sec/batch\n"
     ]
    },
    {
     "name": "stdout",
     "output_type": "stream",
     "text": [
      "Epoch 6/10 Iteration: 21600 Avg. Training loss: 2.3594 0.1026 sec/batch\n"
     ]
    },
    {
     "name": "stdout",
     "output_type": "stream",
     "text": [
      "Epoch 6/10 Iteration: 21700 Avg. Training loss: 2.2675 0.1037 sec/batch\n"
     ]
    },
    {
     "name": "stdout",
     "output_type": "stream",
     "text": [
      "Epoch 6/10 Iteration: 21800 Avg. Training loss: 2.2799 0.1030 sec/batch\n"
     ]
    },
    {
     "name": "stdout",
     "output_type": "stream",
     "text": [
      "Epoch 6/10 Iteration: 21900 Avg. Training loss: 2.2570 0.1034 sec/batch\n"
     ]
    },
    {
     "name": "stdout",
     "output_type": "stream",
     "text": [
      "Epoch 6/10 Iteration: 22000 Avg. Training loss: 2.3262 0.1015 sec/batch\nNearest to [word]: 录用, 及时性, 清理, excel, 有条理, 图像, \n做, 差旅,\nNearest to [ppt]: project, 性能, 行动力, 设计者, 呈现, 社会学, 虚假, 招投标,\nNearest to [熟悉]: 试产, 各个部门, 部件, 淘宝, ios开发, 相互, 首家, 科技,\nNearest to [java]: 漏洞, 热点新闻, 大学, 街, dba, 媒体广告, 多维度, 搜索,\nNearest to [能力]: 向往, 聊天, 勇于创新, 噻, 翻, 意识, 金蝶, 功能模块,\nNearest to [逻辑思维]: 理解力, 二手车, 慎密, 为人, 肯干, opencv, 创业精神, 深挖,\nNearest to [了解]: 之后, 更快, dba, 汇编, 唱歌, 组建, 萌, 不足,\n"
     ]
    },
    {
     "name": "stdout",
     "output_type": "stream",
     "text": [
      "Epoch 6/10 Iteration: 22100 Avg. Training loss: 2.2619 0.1034 sec/batch\n"
     ]
    },
    {
     "name": "stdout",
     "output_type": "stream",
     "text": [
      "Epoch 6/10 Iteration: 22200 Avg. Training loss: 2.1338 0.1038 sec/batch\n"
     ]
    },
    {
     "name": "stdout",
     "output_type": "stream",
     "text": [
      "Epoch 6/10 Iteration: 22300 Avg. Training loss: 2.1840 0.1003 sec/batch\n"
     ]
    },
    {
     "name": "stdout",
     "output_type": "stream",
     "text": [
      "Epoch 6/10 Iteration: 22400 Avg. Training loss: 2.0698 0.1015 sec/batch\n"
     ]
    },
    {
     "name": "stdout",
     "output_type": "stream",
     "text": [
      "Epoch 6/10 Iteration: 22500 Avg. Training loss: 2.4011 0.1016 sec/batch\n"
     ]
    },
    {
     "name": "stdout",
     "output_type": "stream",
     "text": [
      "Epoch 6/10 Iteration: 22600 Avg. Training loss: 2.2398 0.1023 sec/batch\n"
     ]
    },
    {
     "name": "stdout",
     "output_type": "stream",
     "text": [
      "Epoch 6/10 Iteration: 22700 Avg. Training loss: 2.1507 0.1031 sec/batch\n"
     ]
    },
    {
     "name": "stdout",
     "output_type": "stream",
     "text": [
      "Epoch 6/10 Iteration: 22800 Avg. Training loss: 2.4585 0.1008 sec/batch\n"
     ]
    },
    {
     "name": "stdout",
     "output_type": "stream",
     "text": [
      "Epoch 6/10 Iteration: 22900 Avg. Training loss: 2.2630 0.1004 sec/batch\n"
     ]
    },
    {
     "name": "stdout",
     "output_type": "stream",
     "text": [
      "Epoch 6/10 Iteration: 23000 Avg. Training loss: 2.0346 0.1034 sec/batch\nNearest to [word]: 录用, 清理, 及时性, excel, 有条理, 差旅, \n做, vba,\nNearest to [ppt]: project, 性能, 行动力, 设计者, 呈现, 虚假, 社会学, 教材,\nNearest to [熟悉]: 试产, 淘宝, 部件, 各个部门, ios开发, 首家, 相互, 科技,\nNearest to [java]: 漏洞, 热点新闻, 大学, 街, dba, 媒体广告, 多维度, 下游,\nNearest to [能力]: 向往, 聊天, 翻, 勇于创新, 意识, 噻, 金蝶, 过滤,\nNearest to [逻辑思维]: 理解力, 二手车, opencv, 为人, 肯干, 慎密, 很强, 态度,\nNearest to [了解]: 之后, 更快, dba, 汇编, 组建, 唱歌, 萌, 涵盖,\n"
     ]
    },
    {
     "name": "stdout",
     "output_type": "stream",
     "text": [
      "Epoch 6/10 Iteration: 23100 Avg. Training loss: 2.0832 0.1030 sec/batch\n"
     ]
    },
    {
     "name": "stdout",
     "output_type": "stream",
     "text": [
      "Epoch 6/10 Iteration: 23200 Avg. Training loss: 2.2745 0.1018 sec/batch\n"
     ]
    },
    {
     "name": "stdout",
     "output_type": "stream",
     "text": [
      "Epoch 6/10 Iteration: 23300 Avg. Training loss: 2.3120 0.1008 sec/batch\n"
     ]
    },
    {
     "name": "stdout",
     "output_type": "stream",
     "text": [
      "Epoch 6/10 Iteration: 23400 Avg. Training loss: 2.2654 0.1010 sec/batch\n"
     ]
    },
    {
     "name": "stdout",
     "output_type": "stream",
     "text": [
      "Epoch 7/10 Iteration: 23500 Avg. Training loss: 2.1347 0.0711 sec/batch\n"
     ]
    },
    {
     "name": "stdout",
     "output_type": "stream",
     "text": [
      "Epoch 7/10 Iteration: 23600 Avg. Training loss: 2.1889 0.1020 sec/batch\n"
     ]
    },
    {
     "name": "stdout",
     "output_type": "stream",
     "text": [
      "Epoch 7/10 Iteration: 23700 Avg. Training loss: 2.3021 0.1023 sec/batch\n"
     ]
    },
    {
     "name": "stdout",
     "output_type": "stream",
     "text": [
      "Epoch 7/10 Iteration: 23800 Avg. Training loss: 1.8489 0.1019 sec/batch\n"
     ]
    },
    {
     "name": "stdout",
     "output_type": "stream",
     "text": [
      "Epoch 7/10 Iteration: 23900 Avg. Training loss: 2.3975 0.0993 sec/batch\n"
     ]
    },
    {
     "name": "stdout",
     "output_type": "stream",
     "text": [
      "Epoch 7/10 Iteration: 24000 Avg. Training loss: 2.3647 0.1000 sec/batch\nNearest to [word]: 录用, 及时性, 清理, excel, 有条理, vba, 图像, 差旅,\nNearest to [ppt]: project, 性能, 行动力, 呈现, 运营业务, 商务, 社会学, 招投标,\nNearest to [熟悉]: 试产, 淘宝, 部件, ios开发, 各个部门, 相互, 首家, 单品,\nNearest to [java]: 漏洞, 大学, 热点新闻, 街, dba, 媒体广告, 多维度, 下游,\nNearest to [能力]: 向往, 聊天, 翻, 金蝶, 勇于创新, 噻, 意识, 过滤,\nNearest to [逻辑思维]: 理解力, 二手车, opencv, 为人, 肯干, 慎密, 很强, 创业精神,\nNearest to [了解]: 之后, 更快, dba, 汇编, 唱歌, 组建, 萌, 不足,\n"
     ]
    },
    {
     "name": "stdout",
     "output_type": "stream",
     "text": [
      "Epoch 7/10 Iteration: 24100 Avg. Training loss: 2.2857 0.1011 sec/batch\n"
     ]
    },
    {
     "name": "stdout",
     "output_type": "stream",
     "text": [
      "Epoch 7/10 Iteration: 24200 Avg. Training loss: 2.1638 0.1021 sec/batch\n"
     ]
    },
    {
     "name": "stdout",
     "output_type": "stream",
     "text": [
      "Epoch 7/10 Iteration: 24300 Avg. Training loss: 2.1788 0.1006 sec/batch\n"
     ]
    },
    {
     "name": "stdout",
     "output_type": "stream",
     "text": [
      "Epoch 7/10 Iteration: 24400 Avg. Training loss: 2.5438 0.1012 sec/batch\n"
     ]
    },
    {
     "name": "stdout",
     "output_type": "stream",
     "text": [
      "Epoch 7/10 Iteration: 24500 Avg. Training loss: 2.4193 0.1010 sec/batch\n"
     ]
    },
    {
     "name": "stdout",
     "output_type": "stream",
     "text": [
      "Epoch 7/10 Iteration: 24600 Avg. Training loss: 2.3274 0.1002 sec/batch\n"
     ]
    },
    {
     "name": "stdout",
     "output_type": "stream",
     "text": [
      "Epoch 7/10 Iteration: 24700 Avg. Training loss: 2.3539 0.1005 sec/batch\n"
     ]
    },
    {
     "name": "stdout",
     "output_type": "stream",
     "text": [
      "Epoch 7/10 Iteration: 24800 Avg. Training loss: 2.4187 0.1024 sec/batch\n"
     ]
    },
    {
     "name": "stdout",
     "output_type": "stream",
     "text": [
      "Epoch 7/10 Iteration: 24900 Avg. Training loss: 2.4854 0.0999 sec/batch\n"
     ]
    },
    {
     "name": "stdout",
     "output_type": "stream",
     "text": [
      "Epoch 7/10 Iteration: 25000 Avg. Training loss: 2.3976 0.1005 sec/batch\nNearest to [word]: 录用, 及时性, 清理, excel, 图像, 有条理, 大气, \n做,\nNearest to [ppt]: project, 性能, 行动力, 呈现, 教材, 社会学, 设计者, 获,\nNearest to [熟悉]: 试产, 淘宝, 部件, ios开发, 相互, 各个部门, 首家, 投产,\nNearest to [java]: 漏洞, 大学, 热点新闻, 街, dba, 多维度, 媒体广告, 车型,\nNearest to [能力]: 向往, 聊天, 金蝶, 勇于创新, 噻, 意识, 访, 翻,\nNearest to [逻辑思维]: 理解力, 二手车, 肯干, 为人, opencv, 慎密, 深挖, 实习,\nNearest to [了解]: 之后, 更快, dba, 汇编, 组建, 萌, 唱歌, 眼界,\n"
     ]
    },
    {
     "name": "stdout",
     "output_type": "stream",
     "text": [
      "Epoch 7/10 Iteration: 25100 Avg. Training loss: 2.1966 0.0998 sec/batch\n"
     ]
    },
    {
     "name": "stdout",
     "output_type": "stream",
     "text": [
      "Epoch 7/10 Iteration: 25200 Avg. Training loss: 2.3595 0.1010 sec/batch\n"
     ]
    },
    {
     "name": "stdout",
     "output_type": "stream",
     "text": [
      "Epoch 7/10 Iteration: 25300 Avg. Training loss: 1.9872 0.0998 sec/batch\n"
     ]
    },
    {
     "name": "stdout",
     "output_type": "stream",
     "text": [
      "Epoch 7/10 Iteration: 25400 Avg. Training loss: 2.3182 0.1013 sec/batch\n"
     ]
    },
    {
     "name": "stdout",
     "output_type": "stream",
     "text": [
      "Epoch 7/10 Iteration: 25500 Avg. Training loss: 2.3319 0.1003 sec/batch\n"
     ]
    },
    {
     "name": "stdout",
     "output_type": "stream",
     "text": [
      "Epoch 7/10 Iteration: 25600 Avg. Training loss: 2.2634 0.1011 sec/batch\n"
     ]
    },
    {
     "name": "stdout",
     "output_type": "stream",
     "text": [
      "Epoch 7/10 Iteration: 25700 Avg. Training loss: 2.3295 0.1036 sec/batch\n"
     ]
    },
    {
     "name": "stdout",
     "output_type": "stream",
     "text": [
      "Epoch 7/10 Iteration: 25800 Avg. Training loss: 2.1761 0.1044 sec/batch\n"
     ]
    },
    {
     "name": "stdout",
     "output_type": "stream",
     "text": [
      "Epoch 7/10 Iteration: 25900 Avg. Training loss: 2.3185 0.1018 sec/batch\n"
     ]
    },
    {
     "name": "stdout",
     "output_type": "stream",
     "text": [
      "Epoch 7/10 Iteration: 26000 Avg. Training loss: 2.2042 0.1025 sec/batch\nNearest to [word]: 录用, 及时性, 清理, excel, 有条理, 图像, 差旅, \n做,\nNearest to [ppt]: project, 行动力, 设计者, 招投标, 性能, 呈现, 社会学, 获,\nNearest to [熟悉]: 试产, 淘宝, 部件, 各个部门, ios开发, 首家, 相互, 科技,\nNearest to [java]: 漏洞, 大学, 热点新闻, 街, dba, 媒体广告, 多维度, 搜索,\nNearest to [能力]: 向往, 聊天, 噻, 金蝶, 战略目标, 意识, 勇于创新, 功能模块,\nNearest to [逻辑思维]: 理解力, 二手车, 为人, 慎密, opencv, 创业精神, 肯干, 商业银行,\nNearest to [了解]: 之后, 更快, dba, 汇编, 组建, 萌, 唱歌, 涵盖,\n"
     ]
    },
    {
     "name": "stdout",
     "output_type": "stream",
     "text": [
      "Epoch 7/10 Iteration: 26100 Avg. Training loss: 2.1530 0.1037 sec/batch\n"
     ]
    },
    {
     "name": "stdout",
     "output_type": "stream",
     "text": [
      "Epoch 7/10 Iteration: 26200 Avg. Training loss: 2.1080 0.1010 sec/batch\n"
     ]
    },
    {
     "name": "stdout",
     "output_type": "stream",
     "text": [
      "Epoch 7/10 Iteration: 26300 Avg. Training loss: 2.0093 0.1025 sec/batch\n"
     ]
    },
    {
     "name": "stdout",
     "output_type": "stream",
     "text": [
      "Epoch 7/10 Iteration: 26400 Avg. Training loss: 2.4123 0.1019 sec/batch\n"
     ]
    },
    {
     "name": "stdout",
     "output_type": "stream",
     "text": [
      "Epoch 7/10 Iteration: 26500 Avg. Training loss: 2.2721 0.1026 sec/batch\n"
     ]
    },
    {
     "name": "stdout",
     "output_type": "stream",
     "text": [
      "Epoch 7/10 Iteration: 26600 Avg. Training loss: 2.1368 0.1018 sec/batch\n"
     ]
    },
    {
     "name": "stdout",
     "output_type": "stream",
     "text": [
      "Epoch 7/10 Iteration: 26700 Avg. Training loss: 2.3948 0.1000 sec/batch\n"
     ]
    },
    {
     "name": "stdout",
     "output_type": "stream",
     "text": [
      "Epoch 7/10 Iteration: 26800 Avg. Training loss: 2.2237 0.1000 sec/batch\n"
     ]
    },
    {
     "name": "stdout",
     "output_type": "stream",
     "text": [
      "Epoch 7/10 Iteration: 26900 Avg. Training loss: 2.0477 0.1027 sec/batch\n"
     ]
    },
    {
     "name": "stdout",
     "output_type": "stream",
     "text": [
      "Epoch 7/10 Iteration: 27000 Avg. Training loss: 2.0291 0.1029 sec/batch\nNearest to [word]: 录用, 及时性, 清理, excel, 有条理, 图像, 差旅, \n做,\nNearest to [ppt]: project, 行动力, 性能, 设计者, 呈现, 招投标, 社会学, 获,\nNearest to [熟悉]: 试产, 淘宝, 部件, 各个部门, ios开发, 首家, 科技, 相互,\nNearest to [java]: 漏洞, 大学, 热点新闻, 街, dba, 媒体广告, 多维度, 下游,\nNearest to [能力]: 向往, 聊天, 金蝶, 战略目标, 意识, 噻, 过滤, 翻,\nNearest to [逻辑思维]: 理解力, 二手车, 为人, 肯干, opencv, 态度, 很强, 创业精神,\nNearest to [了解]: 之后, 更快, dba, 汇编, 组建, 萌, 唱歌, 不足,\n"
     ]
    },
    {
     "name": "stdout",
     "output_type": "stream",
     "text": [
      "Epoch 7/10 Iteration: 27100 Avg. Training loss: 2.1996 0.1005 sec/batch\n"
     ]
    },
    {
     "name": "stdout",
     "output_type": "stream",
     "text": [
      "Epoch 7/10 Iteration: 27200 Avg. Training loss: 2.2830 0.1003 sec/batch\n"
     ]
    },
    {
     "name": "stdout",
     "output_type": "stream",
     "text": [
      "Epoch 7/10 Iteration: 27300 Avg. Training loss: 2.2505 0.1006 sec/batch\n"
     ]
    },
    {
     "name": "stdout",
     "output_type": "stream",
     "text": [
      "Epoch 8/10 Iteration: 27400 Avg. Training loss: 2.0886 0.0659 sec/batch\n"
     ]
    },
    {
     "name": "stdout",
     "output_type": "stream",
     "text": [
      "Epoch 8/10 Iteration: 27500 Avg. Training loss: 2.1350 0.1015 sec/batch\n"
     ]
    },
    {
     "name": "stdout",
     "output_type": "stream",
     "text": [
      "Epoch 8/10 Iteration: 27600 Avg. Training loss: 2.3316 0.1013 sec/batch\n"
     ]
    },
    {
     "name": "stdout",
     "output_type": "stream",
     "text": [
      "Epoch 8/10 Iteration: 27700 Avg. Training loss: 1.8002 0.1013 sec/batch\n"
     ]
    },
    {
     "name": "stdout",
     "output_type": "stream",
     "text": [
      "Epoch 8/10 Iteration: 27800 Avg. Training loss: 2.3732 0.0997 sec/batch\n"
     ]
    },
    {
     "name": "stdout",
     "output_type": "stream",
     "text": [
      "Epoch 8/10 Iteration: 27900 Avg. Training loss: 2.3678 0.1003 sec/batch\n"
     ]
    },
    {
     "name": "stdout",
     "output_type": "stream",
     "text": [
      "Epoch 8/10 Iteration: 28000 Avg. Training loss: 2.2502 0.1023 sec/batch\nNearest to [word]: 录用, 及时性, 清理, excel, 图像, 有条理, 差旅, vba,\nNearest to [ppt]: project, 行动力, 性能, 社会学, 商务, 有利于, 运营业务, 呈现,\nNearest to [熟悉]: 试产, 部件, 淘宝, ios开发, 各个部门, 首家, 相互, 科技,\nNearest to [java]: 漏洞, 大学, 街, 热点新闻, dba, 媒体广告, 贯彻, 姓名,\nNearest to [能力]: 向往, 聊天, 翻, 意识, 金蝶, 战略目标, 勇于创新, 过滤,\nNearest to [逻辑思维]: 理解力, 二手车, 为人, opencv, 肯干, 慎密, 态度, 很强,\nNearest to [了解]: 之后, 更快, 汇编, dba, 组建, 不足, 唱歌, 涵盖,\n"
     ]
    },
    {
     "name": "stdout",
     "output_type": "stream",
     "text": [
      "Epoch 8/10 Iteration: 28100 Avg. Training loss: 2.1890 0.1027 sec/batch\n"
     ]
    },
    {
     "name": "stdout",
     "output_type": "stream",
     "text": [
      "Epoch 8/10 Iteration: 28200 Avg. Training loss: 2.2487 0.1008 sec/batch\n"
     ]
    },
    {
     "name": "stdout",
     "output_type": "stream",
     "text": [
      "Epoch 8/10 Iteration: 28300 Avg. Training loss: 2.5712 0.1008 sec/batch\n"
     ]
    },
    {
     "name": "stdout",
     "output_type": "stream",
     "text": [
      "Epoch 8/10 Iteration: 28400 Avg. Training loss: 2.3669 0.1014 sec/batch\n"
     ]
    },
    {
     "name": "stdout",
     "output_type": "stream",
     "text": [
      "Epoch 8/10 Iteration: 28500 Avg. Training loss: 2.3466 0.1009 sec/batch\n"
     ]
    },
    {
     "name": "stdout",
     "output_type": "stream",
     "text": [
      "Epoch 8/10 Iteration: 28600 Avg. Training loss: 2.3157 0.0999 sec/batch\n"
     ]
    },
    {
     "name": "stdout",
     "output_type": "stream",
     "text": [
      "Epoch 8/10 Iteration: 28700 Avg. Training loss: 2.3564 0.1013 sec/batch\n"
     ]
    },
    {
     "name": "stdout",
     "output_type": "stream",
     "text": [
      "Epoch 8/10 Iteration: 28800 Avg. Training loss: 2.4519 0.1008 sec/batch\n"
     ]
    },
    {
     "name": "stdout",
     "output_type": "stream",
     "text": [
      "Epoch 8/10 Iteration: 28900 Avg. Training loss: 2.3442 0.1010 sec/batch\n"
     ]
    },
    {
     "name": "stdout",
     "output_type": "stream",
     "text": [
      "Epoch 8/10 Iteration: 29000 Avg. Training loss: 2.2587 0.0996 sec/batch\nNearest to [word]: 录用, 及时性, 清理, excel, 图像, 有条理, vba, \n做,\nNearest to [ppt]: project, 性能, 行动力, 社会学, 呈现, 教材, 有利于, 财务软件,\nNearest to [熟悉]: 试产, 部件, 淘宝, ios开发, 各个部门, 首家, 相互, 投产,\nNearest to [java]: 漏洞, 大学, 街, 热点新闻, dba, \n项目介绍, 专长, 姓名,\nNearest to [能力]: 向往, 聊天, 金蝶, 意识, 战略目标, 翻, 勇于创新, 噻,\nNearest to [逻辑思维]: 理解力, 二手车, 为人, 肯干, opencv, 慎密, 深挖, 下午,\nNearest to [了解]: 之后, 更快, 汇编, dba, 组建, 涵盖, 萌, 不足,\n"
     ]
    },
    {
     "name": "stdout",
     "output_type": "stream",
     "text": [
      "Epoch 8/10 Iteration: 29100 Avg. Training loss: 2.3978 0.1024 sec/batch\n"
     ]
    },
    {
     "name": "stdout",
     "output_type": "stream",
     "text": [
      "Epoch 8/10 Iteration: 29200 Avg. Training loss: 1.9285 0.1007 sec/batch\n"
     ]
    },
    {
     "name": "stdout",
     "output_type": "stream",
     "text": [
      "Epoch 8/10 Iteration: 29300 Avg. Training loss: 2.3459 0.1023 sec/batch\n"
     ]
    },
    {
     "name": "stdout",
     "output_type": "stream",
     "text": [
      "Epoch 8/10 Iteration: 29400 Avg. Training loss: 2.3221 0.1014 sec/batch\n"
     ]
    },
    {
     "name": "stdout",
     "output_type": "stream",
     "text": [
      "Epoch 8/10 Iteration: 29500 Avg. Training loss: 2.2306 0.1025 sec/batch\n"
     ]
    },
    {
     "name": "stdout",
     "output_type": "stream",
     "text": [
      "Epoch 8/10 Iteration: 29600 Avg. Training loss: 2.3183 0.1014 sec/batch\n"
     ]
    },
    {
     "name": "stdout",
     "output_type": "stream",
     "text": [
      "Epoch 8/10 Iteration: 29700 Avg. Training loss: 2.2388 0.1024 sec/batch\n"
     ]
    },
    {
     "name": "stdout",
     "output_type": "stream",
     "text": [
      "Epoch 8/10 Iteration: 29800 Avg. Training loss: 2.3403 0.1019 sec/batch\n"
     ]
    },
    {
     "name": "stdout",
     "output_type": "stream",
     "text": [
      "Epoch 8/10 Iteration: 29900 Avg. Training loss: 2.2762 0.1020 sec/batch\n"
     ]
    },
    {
     "name": "stdout",
     "output_type": "stream",
     "text": [
      "Epoch 8/10 Iteration: 30000 Avg. Training loss: 2.2449 0.1023 sec/batch\nNearest to [word]: 录用, 及时性, 清理, excel, 图像, 有条理, \n做, vba,\nNearest to [ppt]: project, 性能, 行动力, 社会学, 呈现, 招投标, 设计者, 环节,\nNearest to [熟悉]: 试产, 淘宝, 部件, ios开发, 各个部门, 首家, 相互, 科技,\nNearest to [java]: 漏洞, 大学, 街, 热点新闻, dba, \n项目介绍, 专长, 媒体广告,\nNearest to [能力]: 向往, 聊天, 战略目标, 功能模块, 金蝶, 意识, 过滤, 噻,\nNearest to [逻辑思维]: 理解力, 二手车, 为人, 慎密, 态度, 解读, opencv, 创业精神,\nNearest to [了解]: 之后, 更快, dba, 汇编, 组建, 不足, 萌, 唱歌,\n"
     ]
    },
    {
     "name": "stdout",
     "output_type": "stream",
     "text": [
      "Epoch 8/10 Iteration: 30100 Avg. Training loss: 2.2507 0.1004 sec/batch\n"
     ]
    },
    {
     "name": "stdout",
     "output_type": "stream",
     "text": [
      "Epoch 8/10 Iteration: 30200 Avg. Training loss: 2.0541 0.1017 sec/batch\n"
     ]
    },
    {
     "name": "stdout",
     "output_type": "stream",
     "text": [
      "Epoch 8/10 Iteration: 30300 Avg. Training loss: 2.3452 0.1016 sec/batch\n"
     ]
    },
    {
     "name": "stdout",
     "output_type": "stream",
     "text": [
      "Epoch 8/10 Iteration: 30400 Avg. Training loss: 2.2458 0.1027 sec/batch\n"
     ]
    },
    {
     "name": "stdout",
     "output_type": "stream",
     "text": [
      "Epoch 8/10 Iteration: 30500 Avg. Training loss: 2.0976 0.1031 sec/batch\n"
     ]
    },
    {
     "name": "stdout",
     "output_type": "stream",
     "text": [
      "Epoch 8/10 Iteration: 30600 Avg. Training loss: 2.4208 0.1011 sec/batch\n"
     ]
    },
    {
     "name": "stdout",
     "output_type": "stream",
     "text": [
      "Epoch 8/10 Iteration: 30700 Avg. Training loss: 2.3440 0.1009 sec/batch\n"
     ]
    },
    {
     "name": "stdout",
     "output_type": "stream",
     "text": [
      "Epoch 8/10 Iteration: 30800 Avg. Training loss: 2.0209 0.1039 sec/batch\n"
     ]
    },
    {
     "name": "stdout",
     "output_type": "stream",
     "text": [
      "Epoch 8/10 Iteration: 30900 Avg. Training loss: 2.0256 0.1018 sec/batch\n"
     ]
    },
    {
     "name": "stdout",
     "output_type": "stream",
     "text": [
      "Epoch 8/10 Iteration: 31000 Avg. Training loss: 2.1967 0.1009 sec/batch\nNearest to [word]: 录用, 及时性, 清理, excel, 有条理, 图像, \n做, 差旅,\nNearest to [ppt]: project, 行动力, 性能, 社会学, 呈现, 招投标, 获, 教材,\nNearest to [熟悉]: 试产, 淘宝, 部件, 各个部门, 首家, ios开发, 科技, 相互,\nNearest to [java]: 漏洞, 大学, 街, 热点新闻, dba, \n项目介绍, 姓名, 专长,\nNearest to [能力]: 向往, 聊天, 过滤, 战略目标, 意识, 翻, 金蝶, 噻,\nNearest to [逻辑思维]: 理解力, 二手车, 为人, opencv, 肯干, 态度, 实习, 慎密,\nNearest to [了解]: 更快, 之后, dba, 汇编, 组建, 不足, 涵盖, 萌,\n"
     ]
    },
    {
     "name": "stdout",
     "output_type": "stream",
     "text": [
      "Epoch 8/10 Iteration: 31100 Avg. Training loss: 2.2581 0.1002 sec/batch\n"
     ]
    },
    {
     "name": "stdout",
     "output_type": "stream",
     "text": [
      "Epoch 8/10 Iteration: 31200 Avg. Training loss: 2.2357 0.1008 sec/batch\n"
     ]
    },
    {
     "name": "stdout",
     "output_type": "stream",
     "text": [
      "Epoch 9/10 Iteration: 31300 Avg. Training loss: 2.0952 0.0607 sec/batch\n"
     ]
    },
    {
     "name": "stdout",
     "output_type": "stream",
     "text": [
      "Epoch 9/10 Iteration: 31400 Avg. Training loss: 2.1690 0.1006 sec/batch\n"
     ]
    },
    {
     "name": "stdout",
     "output_type": "stream",
     "text": [
      "Epoch 9/10 Iteration: 31500 Avg. Training loss: 2.3874 0.1018 sec/batch\n"
     ]
    },
    {
     "name": "stdout",
     "output_type": "stream",
     "text": [
      "Epoch 9/10 Iteration: 31600 Avg. Training loss: 1.7276 0.1027 sec/batch\n"
     ]
    },
    {
     "name": "stdout",
     "output_type": "stream",
     "text": [
      "Epoch 9/10 Iteration: 31700 Avg. Training loss: 2.3922 0.1012 sec/batch\n"
     ]
    },
    {
     "name": "stdout",
     "output_type": "stream",
     "text": [
      "Epoch 9/10 Iteration: 31800 Avg. Training loss: 2.3166 0.0998 sec/batch\n"
     ]
    },
    {
     "name": "stdout",
     "output_type": "stream",
     "text": [
      "Epoch 9/10 Iteration: 31900 Avg. Training loss: 2.2380 0.1014 sec/batch\n"
     ]
    },
    {
     "name": "stdout",
     "output_type": "stream",
     "text": [
      "Epoch 9/10 Iteration: 32000 Avg. Training loss: 2.1522 0.1025 sec/batch\nNearest to [word]: 录用, 及时性, 清理, excel, 图像, 有条理, vba, \n做,\nNearest to [ppt]: project, 性能, 行动力, 社会学, 有利于, 商务, 呈现, 运营业务,\nNearest to [熟悉]: 试产, 淘宝, 部件, 各个部门, 科技, 首家, ios开发, 相互,\nNearest to [java]: 漏洞, 大学, 街, 热点新闻, dba, \n项目介绍, 专长, 姓名,\nNearest to [能力]: 向往, 聊天, 过滤, 意识, 战略目标, 金蝶, 翻, 公交车,\nNearest to [逻辑思维]: 理解力, 二手车, 为人, 肯干, opencv, 下午, 慎密, 解读,\nNearest to [了解]: 更快, 之后, 汇编, dba, 组建, 不足, 萌, 唱歌,\n"
     ]
    },
    {
     "name": "stdout",
     "output_type": "stream",
     "text": [
      "Epoch 9/10 Iteration: 32100 Avg. Training loss: 2.2040 0.1034 sec/batch\n"
     ]
    },
    {
     "name": "stdout",
     "output_type": "stream",
     "text": [
      "Epoch 9/10 Iteration: 32200 Avg. Training loss: 2.5574 0.1036 sec/batch\n"
     ]
    },
    {
     "name": "stdout",
     "output_type": "stream",
     "text": [
      "Epoch 9/10 Iteration: 32300 Avg. Training loss: 2.4118 0.1020 sec/batch\n"
     ]
    },
    {
     "name": "stdout",
     "output_type": "stream",
     "text": [
      "Epoch 9/10 Iteration: 32400 Avg. Training loss: 2.3370 0.1006 sec/batch\n"
     ]
    },
    {
     "name": "stdout",
     "output_type": "stream",
     "text": [
      "Epoch 9/10 Iteration: 32500 Avg. Training loss: 2.3151 0.1011 sec/batch\n"
     ]
    },
    {
     "name": "stdout",
     "output_type": "stream",
     "text": [
      "Epoch 9/10 Iteration: 32600 Avg. Training loss: 2.3628 0.0990 sec/batch\n"
     ]
    },
    {
     "name": "stdout",
     "output_type": "stream",
     "text": [
      "Epoch 9/10 Iteration: 32700 Avg. Training loss: 2.5240 0.1010 sec/batch\n"
     ]
    },
    {
     "name": "stdout",
     "output_type": "stream",
     "text": [
      "Epoch 9/10 Iteration: 32800 Avg. Training loss: 2.3727 0.1006 sec/batch\n"
     ]
    },
    {
     "name": "stdout",
     "output_type": "stream",
     "text": [
      "Epoch 9/10 Iteration: 32900 Avg. Training loss: 2.1850 0.1012 sec/batch\n"
     ]
    },
    {
     "name": "stdout",
     "output_type": "stream",
     "text": [
      "Epoch 9/10 Iteration: 33000 Avg. Training loss: 2.3708 0.1014 sec/batch\nNearest to [word]: 录用, 及时性, 清理, excel, 图像, 有条理, vba, \n做,\nNearest to [ppt]: project, 性能, 行动力, 社会学, 教材, 有利于, 呈现, 准备好,\nNearest to [熟悉]: 试产, 部件, 淘宝, 各个部门, ios开发, 首家, 相互, 科技,\nNearest to [java]: 漏洞, 大学, 街, 热点新闻, dba, \n项目介绍, 姓名, 专长,\nNearest to [能力]: 向往, 聊天, 过滤, 意识, 拍, 金蝶, 勇于创新, 晋升,\nNearest to [逻辑思维]: 理解力, 二手车, 为人, 慎密, 态度, 肯干, opencv, 创新能力,\nNearest to [了解]: 之后, 更快, 汇编, dba, 萌, 组建, 不足, 眼界,\n"
     ]
    },
    {
     "name": "stdout",
     "output_type": "stream",
     "text": [
      "Epoch 9/10 Iteration: 33100 Avg. Training loss: 2.0075 0.1015 sec/batch\n"
     ]
    },
    {
     "name": "stdout",
     "output_type": "stream",
     "text": [
      "Epoch 9/10 Iteration: 33200 Avg. Training loss: 2.3445 0.1027 sec/batch\n"
     ]
    },
    {
     "name": "stdout",
     "output_type": "stream",
     "text": [
      "Epoch 9/10 Iteration: 33300 Avg. Training loss: 2.3489 0.1021 sec/batch\n"
     ]
    },
    {
     "name": "stdout",
     "output_type": "stream",
     "text": [
      "Epoch 9/10 Iteration: 33400 Avg. Training loss: 2.2375 0.1039 sec/batch\n"
     ]
    },
    {
     "name": "stdout",
     "output_type": "stream",
     "text": [
      "Epoch 9/10 Iteration: 33500 Avg. Training loss: 2.3120 0.1035 sec/batch\n"
     ]
    },
    {
     "name": "stdout",
     "output_type": "stream",
     "text": [
      "Epoch 9/10 Iteration: 33600 Avg. Training loss: 2.1523 0.1044 sec/batch\n"
     ]
    },
    {
     "name": "stdout",
     "output_type": "stream",
     "text": [
      "Epoch 9/10 Iteration: 33700 Avg. Training loss: 2.3106 0.1026 sec/batch\n"
     ]
    },
    {
     "name": "stdout",
     "output_type": "stream",
     "text": [
      "Epoch 9/10 Iteration: 33800 Avg. Training loss: 2.2403 0.1034 sec/batch\n"
     ]
    },
    {
     "name": "stdout",
     "output_type": "stream",
     "text": [
      "Epoch 9/10 Iteration: 33900 Avg. Training loss: 2.2377 0.1039 sec/batch\n"
     ]
    },
    {
     "name": "stdout",
     "output_type": "stream",
     "text": [
      "Epoch 9/10 Iteration: 34000 Avg. Training loss: 2.2389 0.1020 sec/batch\nNearest to [word]: 录用, 及时性, 清理, excel, 图像, \n做, 有条理, vba,\nNearest to [ppt]: project, 性能, 行动力, 社会学, 环节, 运营业务, 有利于, 虚假,\nNearest to [熟悉]: 试产, 淘宝, 部件, 各个部门, 首家, ios开发, 科技, 相互,\nNearest to [java]: 漏洞, 大学, 街, 热点新闻, dba, \n项目介绍, 专长, 姓名,\nNearest to [能力]: 向往, 聊天, 战略目标, 过滤, 金蝶, 意识, 晋升, 勇于创新,\nNearest to [逻辑思维]: 理解力, 二手车, 为人, 解读, 态度, 慎密, 深挖, 商业银行,\nNearest to [了解]: 更快, 之后, dba, 汇编, 萌, 组建, 不足, 眼界,\n"
     ]
    },
    {
     "name": "stdout",
     "output_type": "stream",
     "text": [
      "Epoch 9/10 Iteration: 34100 Avg. Training loss: 1.9540 0.1023 sec/batch\n"
     ]
    },
    {
     "name": "stdout",
     "output_type": "stream",
     "text": [
      "Epoch 9/10 Iteration: 34200 Avg. Training loss: 2.3576 0.1021 sec/batch\n"
     ]
    },
    {
     "name": "stdout",
     "output_type": "stream",
     "text": [
      "Epoch 9/10 Iteration: 34300 Avg. Training loss: 2.1926 0.1030 sec/batch\n"
     ]
    },
    {
     "name": "stdout",
     "output_type": "stream",
     "text": [
      "Epoch 9/10 Iteration: 34400 Avg. Training loss: 2.0261 0.1021 sec/batch\n"
     ]
    },
    {
     "name": "stdout",
     "output_type": "stream",
     "text": [
      "Epoch 9/10 Iteration: 34500 Avg. Training loss: 2.3674 0.1011 sec/batch\n"
     ]
    },
    {
     "name": "stdout",
     "output_type": "stream",
     "text": [
      "Epoch 9/10 Iteration: 34600 Avg. Training loss: 2.3138 0.1012 sec/batch\n"
     ]
    },
    {
     "name": "stdout",
     "output_type": "stream",
     "text": [
      "Epoch 9/10 Iteration: 34700 Avg. Training loss: 2.0046 0.1040 sec/batch\n"
     ]
    },
    {
     "name": "stdout",
     "output_type": "stream",
     "text": [
      "Epoch 9/10 Iteration: 34800 Avg. Training loss: 1.9868 0.1039 sec/batch\n"
     ]
    },
    {
     "name": "stdout",
     "output_type": "stream",
     "text": [
      "Epoch 9/10 Iteration: 34900 Avg. Training loss: 2.1953 0.1009 sec/batch\n"
     ]
    },
    {
     "name": "stdout",
     "output_type": "stream",
     "text": [
      "Epoch 9/10 Iteration: 35000 Avg. Training loss: 2.2233 0.1013 sec/batch\nNearest to [word]: 录用, 及时性, 清理, excel, 图像, \n做, 有条理, vba,\nNearest to [ppt]: project, 性能, 行动力, 社会学, 有利于, 运营业务, 财务软件, 教材,\nNearest to [熟悉]: 试产, 淘宝, 部件, 首家, 科技, ios开发, 各个部门, 天下,\nNearest to [java]: 漏洞, 大学, 街, 热点新闻, dba, \n项目介绍, 姓名, 专长,\nNearest to [能力]: 向往, 过滤, 聊天, 战略目标, 金蝶, 意识, 晋升, 拍,\nNearest to [逻辑思维]: 理解力, 二手车, 为人, opencv, 态度, 解读, 慎密, 肯干,\nNearest to [了解]: 更快, 之后, dba, 汇编, 不足, 组建, 萌, 眼界,\n"
     ]
    },
    {
     "name": "stdout",
     "output_type": "stream",
     "text": [
      "Epoch 9/10 Iteration: 35100 Avg. Training loss: 2.2552 0.1020 sec/batch\n"
     ]
    },
    {
     "name": "stdout",
     "output_type": "stream",
     "text": [
      "Epoch 10/10 Iteration: 35200 Avg. Training loss: 2.1396 0.0558 sec/batch\n"
     ]
    },
    {
     "name": "stdout",
     "output_type": "stream",
     "text": [
      "Epoch 10/10 Iteration: 35300 Avg. Training loss: 2.1450 0.1024 sec/batch\n"
     ]
    },
    {
     "name": "stdout",
     "output_type": "stream",
     "text": [
      "Epoch 10/10 Iteration: 35400 Avg. Training loss: 2.3607 0.1050 sec/batch\n"
     ]
    },
    {
     "name": "stdout",
     "output_type": "stream",
     "text": [
      "Epoch 10/10 Iteration: 35500 Avg. Training loss: 1.6756 0.1012 sec/batch\n"
     ]
    },
    {
     "name": "stdout",
     "output_type": "stream",
     "text": [
      "Epoch 10/10 Iteration: 35600 Avg. Training loss: 2.4038 0.1008 sec/batch\n"
     ]
    },
    {
     "name": "stdout",
     "output_type": "stream",
     "text": [
      "Epoch 10/10 Iteration: 35700 Avg. Training loss: 2.2753 0.0999 sec/batch\n"
     ]
    },
    {
     "name": "stdout",
     "output_type": "stream",
     "text": [
      "Epoch 10/10 Iteration: 35800 Avg. Training loss: 2.2667 0.1025 sec/batch\n"
     ]
    },
    {
     "name": "stdout",
     "output_type": "stream",
     "text": [
      "Epoch 10/10 Iteration: 35900 Avg. Training loss: 2.0743 0.1032 sec/batch\n"
     ]
    },
    {
     "name": "stdout",
     "output_type": "stream",
     "text": [
      "Epoch 10/10 Iteration: 36000 Avg. Training loss: 2.1650 0.1011 sec/batch\nNearest to [word]: 录用, 及时性, 清理, excel, 图像, 有条理, \n做, vba,\nNearest to [ppt]: project, 行动力, 性能, 社会学, 有利于, 运营业务, 商务, 财务软件,\nNearest to [熟悉]: 试产, 淘宝, ios开发, 部件, 科技, 各个部门, 首家, 业态,\nNearest to [java]: 漏洞, 大学, 街, 热点新闻, dba, \n项目介绍, 专长, 姓名,\nNearest to [能力]: 向往, 聊天, 过滤, 金蝶, 战略目标, 意识, 晋升, 拍,\nNearest to [逻辑思维]: 理解力, 二手车, 为人, 肯干, 下午, 态度, opencv, 信件,\nNearest to [了解]: 之后, 更快, dba, 汇编, 不足, 萌, 组建, 眼界,\n"
     ]
    },
    {
     "name": "stdout",
     "output_type": "stream",
     "text": [
      "Epoch 10/10 Iteration: 36100 Avg. Training loss: 2.5323 0.1018 sec/batch\n"
     ]
    },
    {
     "name": "stdout",
     "output_type": "stream",
     "text": [
      "Epoch 10/10 Iteration: 36200 Avg. Training loss: 2.3290 0.1016 sec/batch\n"
     ]
    },
    {
     "name": "stdout",
     "output_type": "stream",
     "text": [
      "Epoch 10/10 Iteration: 36300 Avg. Training loss: 2.3216 0.1009 sec/batch\n"
     ]
    },
    {
     "name": "stdout",
     "output_type": "stream",
     "text": [
      "Epoch 10/10 Iteration: 36400 Avg. Training loss: 2.2698 0.1008 sec/batch\n"
     ]
    },
    {
     "name": "stdout",
     "output_type": "stream",
     "text": [
      "Epoch 10/10 Iteration: 36500 Avg. Training loss: 2.3678 0.0988 sec/batch\n"
     ]
    },
    {
     "name": "stdout",
     "output_type": "stream",
     "text": [
      "Epoch 10/10 Iteration: 36600 Avg. Training loss: 2.4251 0.0997 sec/batch\n"
     ]
    },
    {
     "name": "stdout",
     "output_type": "stream",
     "text": [
      "Epoch 10/10 Iteration: 36700 Avg. Training loss: 2.3872 0.1005 sec/batch\n"
     ]
    },
    {
     "name": "stdout",
     "output_type": "stream",
     "text": [
      "Epoch 10/10 Iteration: 36800 Avg. Training loss: 2.1700 0.1002 sec/batch\n"
     ]
    },
    {
     "name": "stdout",
     "output_type": "stream",
     "text": [
      "Epoch 10/10 Iteration: 36900 Avg. Training loss: 2.3332 0.1016 sec/batch\n"
     ]
    },
    {
     "name": "stdout",
     "output_type": "stream",
     "text": [
      "Epoch 10/10 Iteration: 37000 Avg. Training loss: 1.9797 0.1001 sec/batch\nNearest to [word]: 录用, 及时性, 清理, excel, 图像, vba, 有条理, \n做,\nNearest to [ppt]: project, 性能, 社会学, 行动力, 有利于, 教材, 财务软件, 运营业务,\nNearest to [熟悉]: 试产, 淘宝, ios开发, 首家, 部件, 科技, 各个部门, 相互,\nNearest to [java]: 漏洞, 大学, 街, 热点新闻, dba, \n项目介绍, 专长, 答复,\nNearest to [能力]: 向往, 聊天, 过滤, 晋升, 意识, 拍, 勇于创新, 金蝶,\nNearest to [逻辑思维]: 理解力, 二手车, 为人, 态度, 肯干, 慎密, 下午, 解读,\nNearest to [了解]: 之后, 更快, dba, 汇编, 萌, 不足, 眼界, 组建,\n"
     ]
    },
    {
     "name": "stdout",
     "output_type": "stream",
     "text": [
      "Epoch 10/10 Iteration: 37100 Avg. Training loss: 2.3220 0.1032 sec/batch\n"
     ]
    },
    {
     "name": "stdout",
     "output_type": "stream",
     "text": [
      "Epoch 10/10 Iteration: 37200 Avg. Training loss: 2.3217 0.1015 sec/batch\n"
     ]
    },
    {
     "name": "stdout",
     "output_type": "stream",
     "text": [
      "Epoch 10/10 Iteration: 37300 Avg. Training loss: 2.3532 0.1037 sec/batch\n"
     ]
    },
    {
     "name": "stdout",
     "output_type": "stream",
     "text": [
      "Epoch 10/10 Iteration: 37400 Avg. Training loss: 2.2717 0.1027 sec/batch\n"
     ]
    },
    {
     "name": "stdout",
     "output_type": "stream",
     "text": [
      "Epoch 10/10 Iteration: 37500 Avg. Training loss: 2.2128 0.1031 sec/batch\n"
     ]
    },
    {
     "name": "stdout",
     "output_type": "stream",
     "text": [
      "Epoch 10/10 Iteration: 37600 Avg. Training loss: 2.2770 0.1019 sec/batch\n"
     ]
    },
    {
     "name": "stdout",
     "output_type": "stream",
     "text": [
      "Epoch 10/10 Iteration: 37700 Avg. Training loss: 2.2349 0.1025 sec/batch\n"
     ]
    },
    {
     "name": "stdout",
     "output_type": "stream",
     "text": [
      "Epoch 10/10 Iteration: 37800 Avg. Training loss: 2.1046 0.1030 sec/batch\n"
     ]
    },
    {
     "name": "stdout",
     "output_type": "stream",
     "text": [
      "Epoch 10/10 Iteration: 37900 Avg. Training loss: 2.1667 0.1016 sec/batch\n"
     ]
    },
    {
     "name": "stdout",
     "output_type": "stream",
     "text": [
      "Epoch 10/10 Iteration: 38000 Avg. Training loss: 2.0128 0.1023 sec/batch\nNearest to [word]: 录用, 及时性, 清理, excel, 图像, \n做, 有条理, vba,\nNearest to [ppt]: project, 行动力, 性能, 社会学, 运营业务, word, 招投标, 财务软件,\nNearest to [熟悉]: 试产, 淘宝, 各个部门, 首家, 科技, ios开发, 部件, 黑,\nNearest to [java]: 漏洞, 大学, 街, 热点新闻, dba, \n项目介绍, 专长, 答复,\nNearest to [能力]: 向往, 聊天, 战略目标, 过滤, 晋升, 意识, 拍, 勇于创新,\nNearest to [逻辑思维]: 理解力, 二手车, 为人, 解读, 态度, 深挖, 慎密, 创新能力,\nNearest to [了解]: 更快, 之后, dba, 汇编, 不足, 萌, 眼界, 组建,\n"
     ]
    },
    {
     "name": "stdout",
     "output_type": "stream",
     "text": [
      "Epoch 10/10 Iteration: 38100 Avg. Training loss: 2.4862 0.1021 sec/batch\n"
     ]
    },
    {
     "name": "stdout",
     "output_type": "stream",
     "text": [
      "Epoch 10/10 Iteration: 38200 Avg. Training loss: 2.1351 0.1031 sec/batch\n"
     ]
    },
    {
     "name": "stdout",
     "output_type": "stream",
     "text": [
      "Epoch 10/10 Iteration: 38300 Avg. Training loss: 1.9983 0.1033 sec/batch\n"
     ]
    },
    {
     "name": "stdout",
     "output_type": "stream",
     "text": [
      "Epoch 10/10 Iteration: 38400 Avg. Training loss: 2.4554 0.1024 sec/batch\n"
     ]
    },
    {
     "name": "stdout",
     "output_type": "stream",
     "text": [
      "Epoch 10/10 Iteration: 38500 Avg. Training loss: 2.3652 0.1023 sec/batch\n"
     ]
    },
    {
     "name": "stdout",
     "output_type": "stream",
     "text": [
      "Epoch 10/10 Iteration: 38600 Avg. Training loss: 2.0002 0.1036 sec/batch\n"
     ]
    },
    {
     "name": "stdout",
     "output_type": "stream",
     "text": [
      "Epoch 10/10 Iteration: 38700 Avg. Training loss: 2.0067 0.1044 sec/batch\n"
     ]
    },
    {
     "name": "stdout",
     "output_type": "stream",
     "text": [
      "Epoch 10/10 Iteration: 38800 Avg. Training loss: 2.2528 0.1018 sec/batch\n"
     ]
    },
    {
     "name": "stdout",
     "output_type": "stream",
     "text": [
      "Epoch 10/10 Iteration: 38900 Avg. Training loss: 2.2349 0.1019 sec/batch\n"
     ]
    },
    {
     "name": "stdout",
     "output_type": "stream",
     "text": [
      "Epoch 10/10 Iteration: 39000 Avg. Training loss: 2.2179 0.1024 sec/batch\nNearest to [word]: 录用, 及时性, 清理, excel, 图像, \n做, 有条理, vba,\nNearest to [ppt]: project, 性能, 社会学, 运营业务, 行动力, 有利于, word, 财务软件,\nNearest to [熟悉]: 试产, 淘宝, 首家, 各个部门, 业态, 科技, 部件, ios开发,\nNearest to [java]: 漏洞, 大学, 街, 热点新闻, dba, \n项目介绍, 答复, 专长,\nNearest to [能力]: 向往, 聊天, 晋升, 战略目标, 意识, 过滤, 权衡, 金蝶,\nNearest to [逻辑思维]: 理解力, 二手车, 解读, 为人, 态度, 敏感度, 慎密, 信件,\nNearest to [了解]: 更快, 之后, dba, 汇编, 不足, 萌, 组建, 眼界,\n"
     ]
    },
    {
     "ename": "ValueError",
     "evalue": "Parent directory of checkpoints/text8.ckpt doesn't exist, can't save.",
     "traceback": [
      "\u001b[0;31m---------------------------------------------------------------------------\u001b[0m",
      "\u001b[0;31mValueError\u001b[0m                                Traceback (most recent call last)",
      "\u001b[0;32m<ipython-input-65-dee015d5bcbd>\u001b[0m in \u001b[0;36m<module>\u001b[0;34m()\u001b[0m\n\u001b[1;32m     48\u001b[0m             \u001b[0miteration\u001b[0m \u001b[0;34m+=\u001b[0m \u001b[0;36m1\u001b[0m\u001b[0;34m\u001b[0m\u001b[0m\n\u001b[1;32m     49\u001b[0m \u001b[0;34m\u001b[0m\u001b[0m\n\u001b[0;32m---> 50\u001b[0;31m     \u001b[0msave_path\u001b[0m \u001b[0;34m=\u001b[0m \u001b[0msaver\u001b[0m\u001b[0;34m.\u001b[0m\u001b[0msave\u001b[0m\u001b[0;34m(\u001b[0m\u001b[0msess\u001b[0m\u001b[0;34m,\u001b[0m \u001b[0;34m\"checkpoints/text8.ckpt\"\u001b[0m\u001b[0;34m)\u001b[0m\u001b[0;34m\u001b[0m\u001b[0m\n\u001b[0m\u001b[1;32m     51\u001b[0m     \u001b[0membed_mat\u001b[0m \u001b[0;34m=\u001b[0m \u001b[0msess\u001b[0m\u001b[0;34m.\u001b[0m\u001b[0mrun\u001b[0m\u001b[0;34m(\u001b[0m\u001b[0mnormalized_embedding\u001b[0m\u001b[0;34m)\u001b[0m\u001b[0;34m\u001b[0m\u001b[0m\n",
      "\u001b[0;32m/Users/didi/anaconda3/lib/python3.5/site-packages/tensorflow/python/training/saver.py\u001b[0m in \u001b[0;36msave\u001b[0;34m(self, sess, save_path, global_step, latest_filename, meta_graph_suffix, write_meta_graph, write_state)\u001b[0m\n\u001b[1;32m   1380\u001b[0m     \u001b[0;32mif\u001b[0m \u001b[0;32mnot\u001b[0m \u001b[0mgfile\u001b[0m\u001b[0;34m.\u001b[0m\u001b[0mIsDirectory\u001b[0m\u001b[0;34m(\u001b[0m\u001b[0mos\u001b[0m\u001b[0;34m.\u001b[0m\u001b[0mpath\u001b[0m\u001b[0;34m.\u001b[0m\u001b[0mdirname\u001b[0m\u001b[0;34m(\u001b[0m\u001b[0msave_path\u001b[0m\u001b[0;34m)\u001b[0m\u001b[0;34m)\u001b[0m\u001b[0;34m:\u001b[0m\u001b[0;34m\u001b[0m\u001b[0m\n\u001b[1;32m   1381\u001b[0m       raise ValueError(\n\u001b[0;32m-> 1382\u001b[0;31m           \"Parent directory of {} doesn't exist, can't save.\".format(save_path))\n\u001b[0m\u001b[1;32m   1383\u001b[0m \u001b[0;34m\u001b[0m\u001b[0m\n\u001b[1;32m   1384\u001b[0m     \u001b[0msave_path\u001b[0m \u001b[0;34m=\u001b[0m \u001b[0mos\u001b[0m\u001b[0;34m.\u001b[0m\u001b[0mpath\u001b[0m\u001b[0;34m.\u001b[0m\u001b[0mdirname\u001b[0m\u001b[0;34m(\u001b[0m\u001b[0msave_path\u001b[0m\u001b[0;34m)\u001b[0m\u001b[0;34m\u001b[0m\u001b[0m\n",
      "\u001b[0;31mValueError\u001b[0m: Parent directory of checkpoints/text8.ckpt doesn't exist, can't save."
     ],
     "output_type": "error"
    }
   ],
   "source": [
    "epochs = 10 # 迭代轮数\n",
    "batch_size = 1000 # batch大小\n",
    "window_size = 10 # 窗口大小\n",
    "\n",
    "with train_graph.as_default():\n",
    "    saver = tf.train.Saver() # 文件存储\n",
    "\n",
    "with tf.Session(graph=train_graph) as sess:\n",
    "    iteration = 1\n",
    "    loss = 0\n",
    "    sess.run(tf.global_variables_initializer())\n",
    "\n",
    "    for e in range(1, epochs+1):\n",
    "        batches = get_batches(train_words, batch_size, window_size)\n",
    "        start = time.time()\n",
    "        # \n",
    "        for x, y in batches:\n",
    "            \n",
    "            feed = {inputs: x,\n",
    "                    labels: np.array(y)[:, None]}\n",
    "            train_loss, _ = sess.run([cost, optimizer], feed_dict=feed)\n",
    "            \n",
    "            loss += train_loss\n",
    "            \n",
    "            if iteration % 100 == 0: \n",
    "                end = time.time()\n",
    "                print(\"Epoch {}/{}\".format(e, epochs),\n",
    "                      \"Iteration: {}\".format(iteration),\n",
    "                      \"Avg. Training loss: {:.4f}\".format(loss/100),\n",
    "                      \"{:.4f} sec/batch\".format((end-start)/100))\n",
    "                loss = 0\n",
    "                start = time.time()\n",
    "            \n",
    "            # 计算相似的词\n",
    "            if iteration % 1000 == 0:\n",
    "                # 计算similarity\n",
    "                sim = similarity.eval()\n",
    "                for i in range(valid_size):\n",
    "                    valid_word = int_to_vocab[valid_examples[i]]\n",
    "                    top_k = 8 # 取最相似单词的前8个\n",
    "                    nearest = (-sim[i, :]).argsort()[1:top_k+1]\n",
    "                    log = 'Nearest to [%s]:' % valid_word\n",
    "                    for k in range(top_k):\n",
    "                        close_word = int_to_vocab[nearest[k]]\n",
    "                        log = '%s %s,' % (log, close_word)\n",
    "                    print(log)\n",
    "            \n",
    "            iteration += 1\n",
    "            \n",
    "    save_path = saver.save(sess, \"checkpoints/text8.ckpt\")\n",
    "    embed_mat = sess.run(normalized_embedding)"
   ]
  },
  {
   "cell_type": "code",
   "execution_count": 68,
   "metadata": {},
   "outputs": [
    {
     "ename": "RuntimeError",
     "evalue": "Attempted to use a closed Session.",
     "traceback": [
      "\u001b[0;31m---------------------------------------------------------------------------\u001b[0m",
      "\u001b[0;31mRuntimeError\u001b[0m                              Traceback (most recent call last)",
      "\u001b[0;32m<ipython-input-68-b7e378954ee4>\u001b[0m in \u001b[0;36m<module>\u001b[0;34m()\u001b[0m\n\u001b[1;32m      1\u001b[0m \u001b[0;32mwith\u001b[0m \u001b[0mtrain_graph\u001b[0m\u001b[0;34m.\u001b[0m\u001b[0mas_default\u001b[0m\u001b[0;34m(\u001b[0m\u001b[0;34m)\u001b[0m\u001b[0;34m:\u001b[0m\u001b[0;34m\u001b[0m\u001b[0m\n\u001b[1;32m      2\u001b[0m     \u001b[0msave_path\u001b[0m \u001b[0;34m=\u001b[0m \u001b[0msaver\u001b[0m\u001b[0;34m.\u001b[0m\u001b[0msave\u001b[0m\u001b[0;34m(\u001b[0m\u001b[0msess\u001b[0m\u001b[0;34m,\u001b[0m \u001b[0;34m\"checkpoints/text8.ckpt\"\u001b[0m\u001b[0;34m)\u001b[0m\u001b[0;34m\u001b[0m\u001b[0m\n\u001b[0;32m----> 3\u001b[0;31m     \u001b[0membed_mat\u001b[0m \u001b[0;34m=\u001b[0m \u001b[0msess\u001b[0m\u001b[0;34m.\u001b[0m\u001b[0mrun\u001b[0m\u001b[0;34m(\u001b[0m\u001b[0mnormalized_embedding\u001b[0m\u001b[0;34m)\u001b[0m\u001b[0;34m\u001b[0m\u001b[0m\n\u001b[0m",
      "\u001b[0;32m/Users/didi/anaconda3/lib/python3.5/contextlib.py\u001b[0m in \u001b[0;36m__exit__\u001b[0;34m(self, type, value, traceback)\u001b[0m\n\u001b[1;32m     75\u001b[0m                 \u001b[0mvalue\u001b[0m \u001b[0;34m=\u001b[0m \u001b[0mtype\u001b[0m\u001b[0;34m(\u001b[0m\u001b[0;34m)\u001b[0m\u001b[0;34m\u001b[0m\u001b[0m\n\u001b[1;32m     76\u001b[0m             \u001b[0;32mtry\u001b[0m\u001b[0;34m:\u001b[0m\u001b[0;34m\u001b[0m\u001b[0m\n\u001b[0;32m---> 77\u001b[0;31m                 \u001b[0mself\u001b[0m\u001b[0;34m.\u001b[0m\u001b[0mgen\u001b[0m\u001b[0;34m.\u001b[0m\u001b[0mthrow\u001b[0m\u001b[0;34m(\u001b[0m\u001b[0mtype\u001b[0m\u001b[0;34m,\u001b[0m \u001b[0mvalue\u001b[0m\u001b[0;34m,\u001b[0m \u001b[0mtraceback\u001b[0m\u001b[0;34m)\u001b[0m\u001b[0;34m\u001b[0m\u001b[0m\n\u001b[0m\u001b[1;32m     78\u001b[0m                 \u001b[0;32mraise\u001b[0m \u001b[0mRuntimeError\u001b[0m\u001b[0;34m(\u001b[0m\u001b[0;34m\"generator didn't stop after throw()\"\u001b[0m\u001b[0;34m)\u001b[0m\u001b[0;34m\u001b[0m\u001b[0m\n\u001b[1;32m     79\u001b[0m             \u001b[0;32mexcept\u001b[0m \u001b[0mStopIteration\u001b[0m \u001b[0;32mas\u001b[0m \u001b[0mexc\u001b[0m\u001b[0;34m:\u001b[0m\u001b[0;34m\u001b[0m\u001b[0m\n",
      "\u001b[0;32m/Users/didi/anaconda3/lib/python3.5/site-packages/tensorflow/python/framework/ops.py\u001b[0m in \u001b[0;36mget_controller\u001b[0;34m(self, default)\u001b[0m\n\u001b[1;32m   3623\u001b[0m     \u001b[0;32mtry\u001b[0m\u001b[0;34m:\u001b[0m\u001b[0;34m\u001b[0m\u001b[0m\n\u001b[1;32m   3624\u001b[0m       \u001b[0mself\u001b[0m\u001b[0;34m.\u001b[0m\u001b[0mstack\u001b[0m\u001b[0;34m.\u001b[0m\u001b[0mappend\u001b[0m\u001b[0;34m(\u001b[0m\u001b[0mdefault\u001b[0m\u001b[0;34m)\u001b[0m\u001b[0;34m\u001b[0m\u001b[0m\n\u001b[0;32m-> 3625\u001b[0;31m       \u001b[0;32myield\u001b[0m \u001b[0mdefault\u001b[0m\u001b[0;34m\u001b[0m\u001b[0m\n\u001b[0m\u001b[1;32m   3626\u001b[0m     \u001b[0;32mfinally\u001b[0m\u001b[0;34m:\u001b[0m\u001b[0;34m\u001b[0m\u001b[0m\n\u001b[1;32m   3627\u001b[0m       \u001b[0;32mif\u001b[0m \u001b[0mself\u001b[0m\u001b[0;34m.\u001b[0m\u001b[0m_enforce_nesting\u001b[0m\u001b[0;34m:\u001b[0m\u001b[0;34m\u001b[0m\u001b[0m\n",
      "\u001b[0;32m<ipython-input-68-b7e378954ee4>\u001b[0m in \u001b[0;36m<module>\u001b[0;34m()\u001b[0m\n\u001b[1;32m      1\u001b[0m \u001b[0;32mwith\u001b[0m \u001b[0mtrain_graph\u001b[0m\u001b[0;34m.\u001b[0m\u001b[0mas_default\u001b[0m\u001b[0;34m(\u001b[0m\u001b[0;34m)\u001b[0m\u001b[0;34m:\u001b[0m\u001b[0;34m\u001b[0m\u001b[0m\n\u001b[0;32m----> 2\u001b[0;31m     \u001b[0msave_path\u001b[0m \u001b[0;34m=\u001b[0m \u001b[0msaver\u001b[0m\u001b[0;34m.\u001b[0m\u001b[0msave\u001b[0m\u001b[0;34m(\u001b[0m\u001b[0msess\u001b[0m\u001b[0;34m,\u001b[0m \u001b[0;34m\"checkpoints/text8.ckpt\"\u001b[0m\u001b[0;34m)\u001b[0m\u001b[0;34m\u001b[0m\u001b[0m\n\u001b[0m\u001b[1;32m      3\u001b[0m     \u001b[0membed_mat\u001b[0m \u001b[0;34m=\u001b[0m \u001b[0msess\u001b[0m\u001b[0;34m.\u001b[0m\u001b[0mrun\u001b[0m\u001b[0;34m(\u001b[0m\u001b[0mnormalized_embedding\u001b[0m\u001b[0;34m)\u001b[0m\u001b[0;34m\u001b[0m\u001b[0m\n",
      "\u001b[0;32m/Users/didi/anaconda3/lib/python3.5/site-packages/tensorflow/python/training/saver.py\u001b[0m in \u001b[0;36msave\u001b[0;34m(self, sess, save_path, global_step, latest_filename, meta_graph_suffix, write_meta_graph, write_state)\u001b[0m\n\u001b[1;32m   1389\u001b[0m       model_checkpoint_path = sess.run(\n\u001b[1;32m   1390\u001b[0m           \u001b[0mself\u001b[0m\u001b[0;34m.\u001b[0m\u001b[0msaver_def\u001b[0m\u001b[0;34m.\u001b[0m\u001b[0msave_tensor_name\u001b[0m\u001b[0;34m,\u001b[0m\u001b[0;34m\u001b[0m\u001b[0m\n\u001b[0;32m-> 1391\u001b[0;31m           {self.saver_def.filename_tensor_name: checkpoint_file})\n\u001b[0m\u001b[1;32m   1392\u001b[0m       \u001b[0mmodel_checkpoint_path\u001b[0m \u001b[0;34m=\u001b[0m \u001b[0mcompat\u001b[0m\u001b[0;34m.\u001b[0m\u001b[0mas_str\u001b[0m\u001b[0;34m(\u001b[0m\u001b[0mmodel_checkpoint_path\u001b[0m\u001b[0;34m)\u001b[0m\u001b[0;34m\u001b[0m\u001b[0m\n\u001b[1;32m   1393\u001b[0m       \u001b[0;32mif\u001b[0m \u001b[0mwrite_state\u001b[0m\u001b[0;34m:\u001b[0m\u001b[0;34m\u001b[0m\u001b[0m\n",
      "\u001b[0;32m/Users/didi/anaconda3/lib/python3.5/site-packages/tensorflow/python/client/session.py\u001b[0m in \u001b[0;36mrun\u001b[0;34m(self, fetches, feed_dict, options, run_metadata)\u001b[0m\n\u001b[1;32m    776\u001b[0m     \u001b[0;32mtry\u001b[0m\u001b[0;34m:\u001b[0m\u001b[0;34m\u001b[0m\u001b[0m\n\u001b[1;32m    777\u001b[0m       result = self._run(None, fetches, feed_dict, options_ptr,\n\u001b[0;32m--> 778\u001b[0;31m                          run_metadata_ptr)\n\u001b[0m\u001b[1;32m    779\u001b[0m       \u001b[0;32mif\u001b[0m \u001b[0mrun_metadata\u001b[0m\u001b[0;34m:\u001b[0m\u001b[0;34m\u001b[0m\u001b[0m\n\u001b[1;32m    780\u001b[0m         \u001b[0mproto_data\u001b[0m \u001b[0;34m=\u001b[0m \u001b[0mtf_session\u001b[0m\u001b[0;34m.\u001b[0m\u001b[0mTF_GetBuffer\u001b[0m\u001b[0;34m(\u001b[0m\u001b[0mrun_metadata_ptr\u001b[0m\u001b[0;34m)\u001b[0m\u001b[0;34m\u001b[0m\u001b[0m\n",
      "\u001b[0;32m/Users/didi/anaconda3/lib/python3.5/site-packages/tensorflow/python/client/session.py\u001b[0m in \u001b[0;36m_run\u001b[0;34m(self, handle, fetches, feed_dict, options, run_metadata)\u001b[0m\n\u001b[1;32m    912\u001b[0m     \u001b[0;31m# Check session.\u001b[0m\u001b[0;34m\u001b[0m\u001b[0;34m\u001b[0m\u001b[0m\n\u001b[1;32m    913\u001b[0m     \u001b[0;32mif\u001b[0m \u001b[0mself\u001b[0m\u001b[0;34m.\u001b[0m\u001b[0m_closed\u001b[0m\u001b[0;34m:\u001b[0m\u001b[0;34m\u001b[0m\u001b[0m\n\u001b[0;32m--> 914\u001b[0;31m       \u001b[0;32mraise\u001b[0m \u001b[0mRuntimeError\u001b[0m\u001b[0;34m(\u001b[0m\u001b[0;34m'Attempted to use a closed Session.'\u001b[0m\u001b[0;34m)\u001b[0m\u001b[0;34m\u001b[0m\u001b[0m\n\u001b[0m\u001b[1;32m    915\u001b[0m     \u001b[0;32mif\u001b[0m \u001b[0mself\u001b[0m\u001b[0;34m.\u001b[0m\u001b[0mgraph\u001b[0m\u001b[0;34m.\u001b[0m\u001b[0mversion\u001b[0m \u001b[0;34m==\u001b[0m \u001b[0;36m0\u001b[0m\u001b[0;34m:\u001b[0m\u001b[0;34m\u001b[0m\u001b[0m\n\u001b[1;32m    916\u001b[0m       raise RuntimeError('The Session graph is empty.  Add operations to the '\n",
      "\u001b[0;31mRuntimeError\u001b[0m: Attempted to use a closed Session."
     ],
     "output_type": "error"
    }
   ],
   "source": [
    "with train_graph.as_default():\n",
    "    save_path = saver.save(sess, \"checkpoints/text8.ckpt\")\n",
    "    embed_mat = sess.run(normalized_embedding)"
   ]
  },
  {
   "cell_type": "code",
   "execution_count": null,
   "metadata": {},
   "outputs": [],
   "source": []
  }
 ],
 "metadata": {
  "kernelspec": {
   "display_name": "Python 2",
   "language": "python",
   "name": "python2"
  },
  "language_info": {
   "codemirror_mode": {
    "name": "ipython",
    "version": 2
   },
   "file_extension": ".py",
   "mimetype": "text/x-python",
   "name": "python",
   "nbconvert_exporter": "python",
   "pygments_lexer": "ipython2",
   "version": "2.7.6"
  }
 },
 "nbformat": 4,
 "nbformat_minor": 0
}

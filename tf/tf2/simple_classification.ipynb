{
 "cells": [
  {
   "cell_type": "code",
   "execution_count": 33,
   "metadata": {
    "collapsed": true
   },
   "outputs": [],
   "source": [
    "import tensorflow as tf\n",
    "import matplotlib .pyplot as plt\n",
    "import numpy as np\n",
    "from tensorflow.python.framework import ops\n",
    "s = tf.Session()\n",
    "#ops.reset_default_graph()"
   ]
  },
  {
   "cell_type": "code",
   "execution_count": 34,
   "metadata": {},
   "outputs": [],
   "source": [
    "x_vals = np.concatenate((np.random.normal(-1.,1.,50),np.random.normal(3.,1.,50)))\n",
    "y_vals = np.concatenate((np.repeat(0., 50), np.repeat(1., 50)))\n",
    "x_data = tf.placeholder(shape=[1], dtype=tf.float32)\n",
    "y_target = tf.placeholder(shape=[1], dtype=tf.float32)\n",
    "A = tf.Variable(tf.random_normal(mean=10, shape=[1]))"
   ]
  },
  {
   "cell_type": "code",
   "execution_count": 35,
   "metadata": {},
   "outputs": [
    {
     "name": "stdout",
     "output_type": "stream",
     "text": [
      "WARNING:tensorflow:From C:\\Users\\BFD-725\\Anaconda3\\lib\\site-packages\\tensorflow\\python\\util\\tf_should_use.py:175: initialize_all_variables (from tensorflow.python.ops.variables) is deprecated and will be removed after 2017-03-02.\nInstructions for updating:\nUse `tf.global_variables_initializer` instead.\n"
     ]
    }
   ],
   "source": [
    "my_output = tf.add(x_data,A)\n",
    "ox = tf.expand_dims(my_output,0)\n",
    "yx = tf.expand_dims(y_target,0)\n",
    "init = tf.initialize_all_variables()\n",
    "s.run(init)"
   ]
  },
  {
   "cell_type": "code",
   "execution_count": 36,
   "metadata": {},
   "outputs": [],
   "source": [
    "xe = tf.nn.sigmoid_cross_entropy_with_logits(logits=ox,labels=yx)\n",
    "opt = tf.train.GradientDescentOptimizer(learning_rate=0.05)\n",
    "train_step = opt.minimize(xe)"
   ]
  },
  {
   "cell_type": "code",
   "execution_count": 37,
   "metadata": {},
   "outputs": [
    {
     "name": "stdout",
     "output_type": "stream",
     "text": [
      "Step #1 A = [ 11.62716007]\nLoss = [[  2.58863338e-07]]\nStep #201 A = [ 6.98056459]\nLoss = [[  7.49977062e-06]]\nStep #401 A = [ 2.38778901]\nLoss = [[ 1.3952384]]\n"
     ]
    },
    {
     "name": "stdout",
     "output_type": "stream",
     "text": [
      "Step #601 A = [-0.25337851]\nLoss = [[ 0.68028355]]\nStep #801 A = [-0.9475013]\nLoss = [[ 0.10203229]]\nStep #1001 A = [-1.10365665]\nLoss = [[ 0.34809962]]\n"
     ]
    },
    {
     "name": "stdout",
     "output_type": "stream",
     "text": [
      "Step #1201 A = [-1.26181269]\nLoss = [[ 0.12713006]]\nStep #1401 A = [-1.22241247]\nLoss = [[ 0.32183862]]\nStep #1601 A = [-1.21723104]\nLoss = [[ 0.10514212]]\n"
     ]
    },
    {
     "name": "stdout",
     "output_type": "stream",
     "text": [
      "Step #1801 A = [-1.19174123]\nLoss = [[ 0.05227043]]\n"
     ]
    }
   ],
   "source": [
    "for i in range(2000):\n",
    "    rand_index = np.random.choice(100)\n",
    "    rx = [x_vals[rand_index]]\n",
    "    ry = [y_vals[rand_index]]\n",
    "    s.run(train_step,feed_dict={x_data:rx,y_target:ry})\n",
    "    if(i%200) ==0:\n",
    "        print('Step #' + str(i+1) + ' A = ' + str(s.run(A)))\n",
    "        print('Loss = ' + str(s.run(xe, feed_dict={x_data: rx, y_target: ry})))"
   ]
  },
  {
   "cell_type": "code",
   "execution_count": null,
   "metadata": {},
   "outputs": [],
   "source": [
    ""
   ]
  }
 ],
 "metadata": {
  "kernelspec": {
   "display_name": "Python 2",
   "language": "python",
   "name": "python2"
  },
  "language_info": {
   "codemirror_mode": {
    "name": "ipython",
    "version": 2
   },
   "file_extension": ".py",
   "mimetype": "text/x-python",
   "name": "python",
   "nbconvert_exporter": "python",
   "pygments_lexer": "ipython2",
   "version": "2.7.6"
  }
 },
 "nbformat": 4,
 "nbformat_minor": 0
}

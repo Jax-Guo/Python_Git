{
 "cells": [
  {
   "cell_type": "code",
   "execution_count": 1,
   "metadata": {
    "collapsed": true
   },
   "outputs": [],
   "source": [
    "import numpy as np\n",
    "import tensorflow as tf\n",
    "s = tf.Session()\n",
    "sr = s.run"
   ]
  },
  {
   "cell_type": "code",
   "execution_count": 18,
   "metadata": {},
   "outputs": [],
   "source": [
    "x_vals = np.random.normal(1.,0.1,100)\n",
    "y_vals = np.repeat(10.,100)\n",
    "x_data = tf.placeholder(shape=[1],dtype=tf.float32)\n",
    "y_target = tf.placeholder(shape=[1],dtype=tf.float32)\n",
    "A = tf.Variable(tf.random_normal(shape=[1]))"
   ]
  },
  {
   "cell_type": "code",
   "execution_count": 4,
   "metadata": {},
   "outputs": [],
   "source": [
    "out = tf.multiply(x_data,A)\n",
    "loss = tf.square(y_target-out)"
   ]
  },
  {
   "cell_type": "code",
   "execution_count": 5,
   "metadata": {},
   "outputs": [],
   "source": [
    "init = tf.global_variables_initializer()\n",
    "sr(init)"
   ]
  },
  {
   "cell_type": "code",
   "execution_count": 10,
   "metadata": {},
   "outputs": [],
   "source": [
    "my_opt = tf.train.GradientDescentOptimizer(learning_rate=0.02)\n",
    "train_step = my_opt.minimize(loss)"
   ]
  },
  {
   "cell_type": "code",
   "execution_count": 14,
   "metadata": {},
   "outputs": [
    {
     "name": "stdout",
     "output_type": "stream",
     "text": [
      "Step #100 A = [ 9.56233501]\nLoss = [ 0.00057555]\nStep #200 A = [ 9.85717583]\nLoss = [ 1.02034318]\nStep #300 A = [ 9.99045944]\nLoss = [ 0.00087003]\nStep #400 A = [ 9.79683781]\nLoss = [ 1.28607237]\nStep #500 A = [ 10.06352425]\nLoss = [ 0.18045579]\nStep #600 A = [ 9.92904091]\nLoss = [ 1.38650119]\n"
     ]
    },
    {
     "name": "stdout",
     "output_type": "stream",
     "text": [
      "Step #700 A = [ 9.73578644]\nLoss = [ 0.42851883]\nStep #800 A = [ 10.05487251]\nLoss = [ 0.02598622]\nStep #900 A = [ 10.15608501]\nLoss = [ 1.24228466]\nStep #1000 A = [ 9.78244209]\nLoss = [ 0.09837341]\n"
     ]
    }
   ],
   "source": [
    "for i in range(1000):\n",
    "    rand_index = np.random.choice(100)\n",
    "    rand_x = [x_vals[rand_index]]\n",
    "    rand_y = [y_vals[rand_index]]\n",
    "    sr(train_step,feed_dict={x_data:rand_x,y_target:rand_y})\n",
    "    if (i+1) % 100 ==0:\n",
    "        print('Step #' + str(i+1) + ' A = ' + str(sr(A)))\n",
    "        print('Loss = ' + str(sr(loss, feed_dict={x_data:rand_x, y_target: rand_y})))"
   ]
  },
  {
   "cell_type": "code",
   "execution_count": 17,
   "metadata": {},
   "outputs": [
    {
     "name": "stdout",
     "output_type": "stream",
     "text": [
      "[ 9.78244209]\n"
     ]
    }
   ],
   "source": [
    "print(sr(A))"
   ]
  },
  {
   "cell_type": "code",
   "execution_count": null,
   "metadata": {},
   "outputs": [],
   "source": [
    ""
   ]
  }
 ],
 "metadata": {
  "kernelspec": {
   "display_name": "Python 2",
   "language": "python",
   "name": "python2"
  },
  "language_info": {
   "codemirror_mode": {
    "name": "ipython",
    "version": 2
   },
   "file_extension": ".py",
   "mimetype": "text/x-python",
   "name": "python",
   "nbconvert_exporter": "python",
   "pygments_lexer": "ipython2",
   "version": "2.7.6"
  }
 },
 "nbformat": 4,
 "nbformat_minor": 0
}

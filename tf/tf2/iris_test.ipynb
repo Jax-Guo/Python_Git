{
 "cells": [
  {
   "cell_type": "code",
   "execution_count": 1,
   "metadata": {
    "collapsed": true
   },
   "outputs": [],
   "source": [
    "import matplotlib.pyplot as plt\n",
    "import numpy as np\n",
    "from sklearn import datasets\n",
    "import tensorflow as tf\n",
    "sess = tf.Session()"
   ]
  },
  {
   "cell_type": "code",
   "execution_count": 4,
   "metadata": {},
   "outputs": [],
   "source": [
    "iris = datasets.load_iris()"
   ]
  },
  {
   "cell_type": "code",
   "execution_count": 5,
   "metadata": {},
   "outputs": [],
   "source": [
    "binary_target = np.array([1. if x==0 else 0. for x in iris.target])\n",
    "iris_2d = np.array([[x[2],x[3]] for x in iris.data])"
   ]
  },
  {
   "cell_type": "code",
   "execution_count": 7,
   "metadata": {},
   "outputs": [],
   "source": [
    "batch_size = 20\n",
    "x1_data = tf.placeholder(shape=[None,1],dtype=tf.float32)\n",
    "x2_data = tf.placeholder(shape=[None,1],dtype=tf.float32)\n",
    "y_target = tf.placeholder(shape=[None, 1], dtype=tf.float32)\n",
    "A = tf.Variable(tf.random_normal(shape=[1, 1]))\n",
    "b = tf.Variable(tf.random_normal(shape=[1, 1]))"
   ]
  },
  {
   "cell_type": "code",
   "execution_count": 8,
   "metadata": {},
   "outputs": [],
   "source": [
    "my_mult = tf.matmul(x2_data, A)\n",
    "my_add = tf.add(my_mult, b)\n",
    "my_output = tf.subtract(x1_data, my_add)"
   ]
  },
  {
   "cell_type": "code",
   "execution_count": 10,
   "metadata": {},
   "outputs": [],
   "source": [
    "xentropy = tf.nn.sigmoid_cross_entropy_with_logits(logits=my_output,labels=y_target)\n",
    "my_opt = tf.train.GradientDescentOptimizer(0.05)\n",
    "train_step = my_opt.minimize(xentropy)"
   ]
  },
  {
   "cell_type": "code",
   "execution_count": 12,
   "metadata": {},
   "outputs": [],
   "source": [
    "init = tf.global_variables_initializer()\n",
    "sess.run(init)"
   ]
  },
  {
   "cell_type": "code",
   "execution_count": 15,
   "metadata": {},
   "outputs": [
    {
     "name": "stdout",
     "output_type": "stream",
     "text": [
      "Step #200 A = [[ 12.88585472]], b = [[-6.77471161]]\nStep #400 A = [[ 13.34495354]], b = [[-7.07676744]]\n"
     ]
    },
    {
     "name": "stdout",
     "output_type": "stream",
     "text": [
      "Step #600 A = [[ 13.70164204]], b = [[-7.34662771]]\nStep #800 A = [[ 14.0372057]], b = [[-7.57031202]]\n"
     ]
    },
    {
     "name": "stdout",
     "output_type": "stream",
     "text": [
      "Step #1000 A = [[ 14.29947281]], b = [[-7.80360079]]\nStep #1200 A = [[ 14.53251648]], b = [[-8.05390167]]\n"
     ]
    },
    {
     "name": "stdout",
     "output_type": "stream",
     "text": [
      "Step #1400 A = [[ 14.80254745]], b = [[-8.18218613]]\nStep #1600 A = [[ 15.01756477]], b = [[-8.33202076]]\n"
     ]
    },
    {
     "name": "stdout",
     "output_type": "stream",
     "text": [
      "Step #1800 A = [[ 15.19334984]], b = [[-8.56014538]]\nStep #2000 A = [[ 15.41166496]], b = [[-8.72853661]]\n"
     ]
    },
    {
     "name": "stdout",
     "output_type": "stream",
     "text": [
      "Step #2200 A = [[ 15.56346703]], b = [[-8.90204716]]\nStep #2400 A = [[ 15.74392509]], b = [[-9.04729366]]\nStep #2600 A = [[ 15.96883869]], b = [[-9.09963703]]"
     ]
    },
    {
     "name": "stdout",
     "output_type": "stream",
     "text": [
      "\nStep #2800 A = [[ 16.08787346]], b = [[-9.27434731]]\nStep #3000 A = [[ 16.21395874]], b = [[-9.4520731]]\nStep #3200 A = [[ 16.39902306]], b = [[-9.52639008]]"
     ]
    },
    {
     "name": "stdout",
     "output_type": "stream",
     "text": [
      "\nStep #3400 A = [[ 16.55911064]], b = [[-9.60365963]]\nStep #3600 A = [[ 16.69048309]], b = [[-9.74319744]]\n"
     ]
    },
    {
     "name": "stdout",
     "output_type": "stream",
     "text": [
      "Step #3800 A = [[ 16.86467361]], b = [[-9.78437996]]\nStep #4000 A = [[ 16.97303963]], b = [[-9.89242744]]\n"
     ]
    },
    {
     "name": "stdout",
     "output_type": "stream",
     "text": [
      "Step #4200 A = [[ 17.10034561]], b = [[-9.98442459]]\nStep #4400 A = [[ 17.21445465]], b = [[-10.09096718]]\n"
     ]
    },
    {
     "name": "stdout",
     "output_type": "stream",
     "text": [
      "Step #4600 A = [[ 17.32885742]], b = [[-10.19227505]]\nStep #4800 A = [[ 17.41744423]], b = [[-10.32586098]]\nStep #5000 A = [[ 17.5649128]], b = [[-10.32917881]]"
     ]
    },
    {
     "name": "stdout",
     "output_type": "stream",
     "text": [
      "\nStep #5200 A = [[ 17.66980171]], b = [[-10.4079752]]\nStep #5400 A = [[ 17.73518372]], b = [[-10.54200459]]\n"
     ]
    },
    {
     "name": "stdout",
     "output_type": "stream",
     "text": [
      "Step #5600 A = [[ 17.86467552]], b = [[-10.59445095]]\nStep #5800 A = [[ 17.98786926]], b = [[-10.63662434]]\n"
     ]
    },
    {
     "name": "stdout",
     "output_type": "stream",
     "text": [
      "Step #6000 A = [[ 18.02778244]], b = [[-10.79775906]]\nStep #6200 A = [[ 18.15063667]], b = [[-10.83063698]]\n"
     ]
    },
    {
     "name": "stdout",
     "output_type": "stream",
     "text": [
      "Step #6400 A = [[ 18.21599007]], b = [[-10.93238068]]\nStep #6600 A = [[ 18.27386284]], b = [[-11.0440321]]\n"
     ]
    },
    {
     "name": "stdout",
     "output_type": "stream",
     "text": [
      "Step #6800 A = [[ 18.3894825]], b = [[-11.06991577]]\nStep #7000 A = [[ 18.47008514]], b = [[-11.13884926]]\n"
     ]
    },
    {
     "name": "stdout",
     "output_type": "stream",
     "text": [
      "Step #7200 A = [[ 18.54773903]], b = [[-11.19412994]]\nStep #7400 A = [[ 18.62547874]], b = [[-11.283494]]\nStep #7600 A = [[ 18.70187569]], b = [[-11.35359764]]"
     ]
    },
    {
     "name": "stdout",
     "output_type": "stream",
     "text": [
      "\nStep #7800 A = [[ 18.81886673]], b = [[-11.34873867]]\nStep #8000 A = [[ 18.87349319]], b = [[-11.43953991]]\n"
     ]
    },
    {
     "name": "stdout",
     "output_type": "stream",
     "text": [
      "Step #8200 A = [[ 18.96364403]], b = [[-11.47411823]]\nStep #8400 A = [[ 19.01712418]], b = [[-11.55953217]]\n"
     ]
    },
    {
     "name": "stdout",
     "output_type": "stream",
     "text": [
      "Step #8600 A = [[ 19.10696983]], b = [[-11.60754299]]\nStep #8800 A = [[ 19.18101501]], b = [[-11.63678455]]\n"
     ]
    },
    {
     "name": "stdout",
     "output_type": "stream",
     "text": [
      "Step #9000 A = [[ 19.23437309]], b = [[-11.70159817]]\nStep #9200 A = [[ 19.28511238]], b = [[-11.78205872]]\n"
     ]
    },
    {
     "name": "stdout",
     "output_type": "stream",
     "text": [
      "Step #9400 A = [[ 19.36480713]], b = [[-11.8198719]]\nStep #9600 A = [[ 19.41028786]], b = [[-11.89268589]]\n"
     ]
    },
    {
     "name": "stdout",
     "output_type": "stream",
     "text": [
      "Step #9800 A = [[ 19.47772789]], b = [[-11.9505806]]\nStep #10000 A = [[ 19.53644562]], b = [[-12.02109051]]\n"
     ]
    }
   ],
   "source": [
    "for i in range(10000):\n",
    "    rand_index = np.random.choice(len(iris_2d), size=batch_size)\n",
    "    rand_x = iris_2d[rand_index]\n",
    "    rand_x1 = np.array([[x[0]] for x in rand_x])\n",
    "    rand_x2 = np.array([[x[1]] for x in rand_x])\n",
    "    rand_y = np.array([[y] for y in binary_target[rand_index]])\n",
    "    sess.run(train_step, feed_dict={x1_data: rand_x1, x2_data:\n",
    "    rand_x2, y_target: rand_y})\n",
    "    if (i+1)%200==0:\n",
    "        print('Step #' + str(i+1) + ' A = ' + str(sess.run(A)) +', b = ' + str(sess.run(b)))"
   ]
  },
  {
   "cell_type": "code",
   "execution_count": null,
   "metadata": {},
   "outputs": [],
   "source": [
    ""
   ]
  }
 ],
 "metadata": {
  "kernelspec": {
   "display_name": "Python 2",
   "language": "python",
   "name": "python2"
  },
  "language_info": {
   "codemirror_mode": {
    "name": "ipython",
    "version": 2
   },
   "file_extension": ".py",
   "mimetype": "text/x-python",
   "name": "python",
   "nbconvert_exporter": "python",
   "pygments_lexer": "ipython2",
   "version": "2.7.6"
  }
 },
 "nbformat": 4,
 "nbformat_minor": 0
}

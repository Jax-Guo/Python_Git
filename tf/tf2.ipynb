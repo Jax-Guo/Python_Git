{
 "cells": [
  {
   "cell_type": "code",
   "execution_count": 1,
   "metadata": {
    "collapsed": true
   },
   "outputs": [],
   "source": [
    "import tensorflow as tf\n",
    "import numpy as np\n",
    "s = tf.Session()\n",
    "sr = s.run"
   ]
  },
  {
   "cell_type": "code",
   "execution_count": 2,
   "metadata": {},
   "outputs": [
    {
     "name": "stdout",
     "output_type": "stream",
     "text": [
      "3.0\n9.0\n15.0\n21.0\n27.0\n"
     ]
    }
   ],
   "source": [
    "x_vals = np.array([1.,3.,5.,7.,9.])\n",
    "x_data = tf.placeholder(tf.float32,name='x_data')\n",
    "m_const = tf.constant(3.,name='m_const')\n",
    "my_product = tf.multiply(x_data,m_const,name='my_product')\n",
    "for x_val in x_vals:\n",
    "    print(sr(my_product,feed_dict={x_data:x_val}))\n",
    "writer = tf.summary.FileWriter(\"C:/Users/BFD-725/Anaconda3/Lib/site-packages/tensorboard/log\",tf.get_default_graph())\n",
    "writer.close()"
   ]
  },
  {
   "cell_type": "code",
   "execution_count": 3,
   "metadata": {},
   "outputs": [],
   "source": [
    "my_array = np.array([[1., 3., 5., 7., 9.],\n",
    "[-2., 0., 2., 4., 6.],\n",
    "[-6., -3., 0., 3., 6.]])\n",
    "x_vals = np.array([my_array, my_array + 1])\n",
    "x_data = tf.placeholder(tf.float32, shape=(3, 5),name=\"x_data\")"
   ]
  },
  {
   "cell_type": "code",
   "execution_count": 4,
   "metadata": {},
   "outputs": [],
   "source": [
    "m1 = tf.constant([[1.],[0.],[-1.],[2.],[4.]],name='m1')\n",
    "m2 = tf.constant([[2.]],name='m2')\n",
    "a1 = tf.constant([[10.]],name='a1')"
   ]
  },
  {
   "cell_type": "code",
   "execution_count": 5,
   "metadata": {},
   "outputs": [],
   "source": [
    "prod1 = tf.matmul(x_data, m1,name='prod1')\n",
    "prod2 = tf.matmul(prod1, m2,name='prod2')\n",
    "add1 = tf.add(prod2, a1,name='add1')"
   ]
  },
  {
   "cell_type": "code",
   "execution_count": 7,
   "metadata": {},
   "outputs": [],
   "source": [
    "writer = tf.summary.FileWriter(\"C:/Users/BFD-725/Anaconda3/Lib/site-packages/tensorboard/log\",tf.get_default_graph())\n",
    "writer.close()"
   ]
  },
  {
   "cell_type": "code",
   "execution_count": 8,
   "metadata": {},
   "outputs": [
    {
     "name": "stdout",
     "output_type": "stream",
     "text": [
      "[[ 102.]\n [  66.]\n [  58.]]\n[[ 114.]\n [  78.]\n [  70.]]\n"
     ]
    }
   ],
   "source": [
    "for x_val in x_vals:\n",
    "    print(s.run(add1, feed_dict={x_data: x_val}))"
   ]
  },
  {
   "cell_type": "code",
   "execution_count": 13,
   "metadata": {},
   "outputs": [
    {
     "data": {
      "text/plain": [
       "<tf.Tensor 'Placeholder:0' shape=(3, ?) dtype=float32>"
      ]
     },
     "execution_count": 13,
     "metadata": {},
     "output_type": "execute_result"
    }
   ],
   "source": [
    "tf.placeholder(tf.float32, shape=(3,None))"
   ]
  },
  {
   "cell_type": "code",
   "execution_count": 19,
   "metadata": {
    "collapsed": true
   },
   "outputs": [
    {
     "data": {
      "text/plain": [
       "array([[[[ 0.87417995],\n         [ 0.47771542],\n         [ 0.59551458],\n         [ 0.02190165]],\n\n        [[ 0.10113034],\n         [ 0.98364718],\n         [ 0.09391962],\n         [ 0.54701781]],\n\n        [[ 0.20338663],\n         [ 0.82823084],\n         [ 0.476467  ],\n         [ 0.41890561]],\n\n        [[ 0.19885576],\n         [ 0.01082537],\n         [ 0.04901783],\n         [ 0.58554896]]]])"
      ]
     },
     "execution_count": 19,
     "metadata": {},
     "output_type": "execute_result"
    }
   ],
   "source": [
    "x_shape = [1,4,4,1]\n",
    "x_val = np.random.uniform(size=x_shape)\n",
    "x_data = tf.placeholder(tf.float32,shape=x_shape)\n",
    "x_val"
   ]
  },
  {
   "cell_type": "code",
   "execution_count": 20,
   "metadata": {},
   "outputs": [
    {
     "data": {
      "text/plain": [
       "array([[[[ 0.25]],\n\n        [[ 0.25]]],\n\n\n       [[[ 0.25]],\n\n        [[ 0.25]]]], dtype=float32)"
      ]
     },
     "execution_count": 20,
     "metadata": {},
     "output_type": "execute_result"
    }
   ],
   "source": [
    "my_filter = tf.constant(0.25,shape=[2,2,1,1])\n",
    "my_stride = [1,2,2,1]\n",
    "sr(my_filter)"
   ]
  },
  {
   "cell_type": "code",
   "execution_count": 22,
   "metadata": {},
   "outputs": [
    {
     "data": {
      "text/plain": [
       "<tf.Tensor 'mov_avg_layer_1:0' shape=(1, 2, 2, 1) dtype=float32>"
      ]
     },
     "execution_count": 22,
     "metadata": {},
     "output_type": "execute_result"
    }
   ],
   "source": [
    "mov_avg_layer = tf.nn.conv2d(x_data,my_filter,my_stride,padding=\"SAME\",name = \"mov_avg_layer\")\n",
    "mov_avg_layer"
   ]
  },
  {
   "cell_type": "code",
   "execution_count": 24,
   "metadata": {},
   "outputs": [],
   "source": [
    "def custom_layer(input_mat):\n",
    "    ims = tf.squeeze(input_mat)\n",
    "    A = tf.constant([[1., 2.], [-1., 3.]])\n",
    "    b = tf.constant(1., shape=[2, 2])\n",
    "    t1 = tf.matmul(A,ims)\n",
    "    t2 = tf.add(t1,b)\n",
    "    return(tf.sigmoid(t2))"
   ]
  },
  {
   "cell_type": "code",
   "execution_count": 26,
   "metadata": {},
   "outputs": [],
   "source": [
    "with tf.name_scope(\"Custom_Layer\") as  scope:\n",
    "    custom_layer1 = custom_layer(mov_avg_layer)"
   ]
  },
  {
   "cell_type": "code",
   "execution_count": 28,
   "metadata": {},
   "outputs": [],
   "source": [
    "writer = tf.summary.FileWriter(\"C:/Users/BFD-725/Anaconda3/Lib/site-packages/tensorboard/log\",tf.get_default_graph())\n",
    "writer.close()"
   ]
  },
  {
   "cell_type": "code",
   "execution_count": 27,
   "metadata": {},
   "outputs": [
    {
     "data": {
      "text/plain": [
       "array([[ 0.90289533,  0.8889004 ],\n       [ 0.789482  ,  0.86210281]], dtype=float32)"
      ]
     },
     "execution_count": 27,
     "metadata": {},
     "output_type": "execute_result"
    }
   ],
   "source": [
    "sr(custom_layer1,feed_dict={x_data:x_val})"
   ]
  }
 ],
 "metadata": {
  "kernelspec": {
   "display_name": "Python 2",
   "language": "python",
   "name": "python2"
  },
  "language_info": {
   "codemirror_mode": {
    "name": "ipython",
    "version": 2.0
   },
   "file_extension": ".py",
   "mimetype": "text/x-python",
   "name": "python",
   "nbconvert_exporter": "python",
   "pygments_lexer": "ipython2",
   "version": "2.7.6"
  }
 },
 "nbformat": 4,
 "nbformat_minor": 0
}
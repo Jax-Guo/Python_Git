{
 "cells": [
  {
   "cell_type": "code",
   "execution_count": 2,
   "metadata": {
    "collapsed": true
   },
   "outputs": [
    {
     "name": "stdout",
     "output_type": "stream",
     "text": [
      "2\n4\n6\n8\n10\n12\n14\n16\n18\n20\n"
     ]
    }
   ],
   "source": [
    "import itertools\n",
    "n = itertools.count(2,2)\n",
    "for i in n:\n",
    "    if(i > 20):\n",
    "        break\n",
    "    print(i)"
   ]
  },
  {
   "cell_type": "code",
   "execution_count": 7,
   "metadata": {},
   "outputs": [
    {
     "data": {
      "text/plain": [
       "'A'"
      ]
     },
     "execution_count": 7,
     "metadata": {},
     "output_type": "execute_result"
    }
   ],
   "source": [
    "cs = itertools.cycle('ABC')\n",
    "next(cs)"
   ]
  },
  {
   "cell_type": "code",
   "execution_count": 11,
   "metadata": {},
   "outputs": [
    {
     "data": {
      "text/plain": [
       "[2, 4, 6, 8, 10]"
      ]
     },
     "execution_count": 11,
     "metadata": {},
     "output_type": "execute_result"
    }
   ],
   "source": [
    "n = itertools.count(2,2)\n",
    "ns = itertools.takewhile(lambda x: x <=10,n)\n",
    "list(ns)"
   ]
  },
  {
   "cell_type": "code",
   "execution_count": 12,
   "metadata": {},
   "outputs": [
    {
     "name": "stdout",
     "output_type": "stream",
     "text": [
      "A\nB\nC\nX\nY\nZ\n"
     ]
    }
   ],
   "source": [
    "for c in itertools.chain('ABC', 'XYZ'):\n",
    "    print(c)"
   ]
  },
  {
   "cell_type": "code",
   "execution_count": 14,
   "metadata": {},
   "outputs": [
    {
     "name": "stdout",
     "output_type": "stream",
     "text": [
      "A ['A', 'A', 'A', 'A', 'a', 'a', 'a']\nB ['B', 'B', 'B']\nC ['C', 'C']\nD ['D', 'D']\nF ['F', 'F']\nS ['S', 'S']\n"
     ]
    }
   ],
   "source": [
    "for key, group in itertools.groupby('AAAAaaaBBBCCDDFFSS',lambda c:c.upper()):\n",
    "    print(key,list(group))"
   ]
  },
  {
   "cell_type": "code",
   "execution_count": null,
   "metadata": {},
   "outputs": [],
   "source": []
  }
 ],
 "metadata": {
  "kernelspec": {
   "display_name": "Python 2",
   "language": "python",
   "name": "python2"
  },
  "language_info": {
   "codemirror_mode": {
    "name": "ipython",
    "version": 2
   },
   "file_extension": ".py",
   "mimetype": "text/x-python",
   "name": "python",
   "nbconvert_exporter": "python",
   "pygments_lexer": "ipython2",
   "version": "2.7.6"
  }
 },
 "nbformat": 4,
 "nbformat_minor": 0
}

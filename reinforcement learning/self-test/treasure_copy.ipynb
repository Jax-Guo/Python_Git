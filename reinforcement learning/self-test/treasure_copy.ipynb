{
 "cells": [
  {
   "cell_type": "code",
   "execution_count": 6,
   "metadata": {
    "collapsed": true
   },
   "outputs": [],
   "source": [
    "import numpy as np\n",
    "import pandas as pd\n",
    "import time\n",
    "\n",
    "np.random.seed(6)\n",
    "N_STATES = 6\n",
    "ACTIONS = ['left','right']\n",
    "EPSILON = 0.95\n",
    "ALPHA = 0.1\n",
    "GAMMA = 0.9\n",
    "MAX_EPISODES = 13\n",
    "FRESH_TIME = 0.3\n",
    "\n",
    "def build_q_table(n_states,actions):\n",
    "    table = pd.DataFrame(np.zeros((n_states,len(actions))),columns=actions)\n",
    "    return table\n",
    "\n",
    "def update_env(S,episode,step_counter):\n",
    "    env_list = ['-'] * (N_STATES -1) + ['T']\n",
    "    if S == 'terminal':\n",
    "        # '---------T' our environment\n",
    "        interaction = 'Episode {ep}: total_steps = {counter}'.format(ep=episode + 1, counter=step_counter)\n",
    "        print('\\r{}'.format(interaction), end='')\n",
    "        time.sleep(2)\n",
    "        print('\\r                                ', end='')\n",
    "    else:\n",
    "        env_list[S] = 'o'\n",
    "        interaction = ''.join(env_list)\n",
    "        print('\\r{}'.format(interaction), end='')\n",
    "        time.sleep(FRESH_TIME)\n",
    "\n",
    "def choose_action(state,q_table):\n",
    "    state_actions = q_table.iloc[state,:]\n",
    "    if (np.random.uniform()>EPSILON) or (state_actions.all() == 0):\n",
    "        action_name = np.random.choice(ACTIONS)\n",
    "    else:\n",
    "        action_name = state_actions.idxmax()\n",
    "    return action_name\n",
    "\n",
    "def get_env_feedback(S,A):\n",
    "    if A == 'right':\n",
    "        if S == N_STATES -2:\n",
    "            S_ = 'terminal'\n",
    "            R = 1\n",
    "        else:\n",
    "            S_ = S + 1\n",
    "            R = 0\n",
    "    else:\n",
    "        R = 0\n",
    "        if S == 0:\n",
    "            S_ = S\n",
    "        else:\n",
    "            S_ = S -1\n",
    "    return S_,R\n",
    "        \n",
    "def rl():\n",
    "    q_table = build_q_table(N_STATES,ACTIONS)\n",
    "    for episode in range(MAX_EPISODES):\n",
    "        step_counter = 0\n",
    "        S =0\n",
    "        is_terminated = False\n",
    "        update_env(S,episode,step_counter)\n",
    "        while not is_terminated:\n",
    "            A = choose_action(S,q_table)\n",
    "            S_, R = get_env_feedback(S,A)\n",
    "            q_predict = q_table.ix[S,A]\n",
    "            if S_ != 'terminal':\n",
    "                q_target = R + GAMMA * q_table.iloc[S_,:].max()\n",
    "            else:\n",
    "                q_target = R\n",
    "                is_terminated = True\n",
    "            q_table.ix[S,A] += ALPHA * (q_target - q_predict)\n",
    "            S = S_\n",
    "            step_counter += 1\n",
    "            update_env(S,episode,step_counter)\n",
    "    return q_table"
   ]
  },
  {
   "cell_type": "code",
   "execution_count": 7,
   "metadata": {},
   "outputs": [
    {
     "name": "stdout",
     "output_type": "stream",
     "text": [
      "\ro----T"
     ]
    },
    {
     "name": "stderr",
     "output_type": "stream",
     "text": [
      "/Users/didi/anaconda3/lib/python3.5/site-packages/ipykernel_launcher.py:66: DeprecationWarning: \n.ix is deprecated. Please use\n.loc for label based indexing or\n.iloc for positional indexing\n\nSee the documentation here:\nhttp://pandas.pydata.org/pandas-docs/stable/indexing.html#ix-indexer-is-deprecated\n"
     ]
    },
    {
     "name": "stdout",
     "output_type": "stream",
     "text": [
      "\r-o---T"
     ]
    },
    {
     "name": "stdout",
     "output_type": "stream",
     "text": [
      "\r--o--T"
     ]
    },
    {
     "name": "stdout",
     "output_type": "stream",
     "text": [
      "\r-o---T"
     ]
    },
    {
     "name": "stdout",
     "output_type": "stream",
     "text": [
      "\r--o--T"
     ]
    },
    {
     "name": "stdout",
     "output_type": "stream",
     "text": [
      "\r---o-T"
     ]
    },
    {
     "name": "stdout",
     "output_type": "stream",
     "text": [
      "\r----oT"
     ]
    },
    {
     "name": "stdout",
     "output_type": "stream",
     "text": [
      "\r---o-T"
     ]
    },
    {
     "name": "stdout",
     "output_type": "stream",
     "text": [
      "\r--o--T"
     ]
    },
    {
     "name": "stdout",
     "output_type": "stream",
     "text": [
      "\r---o-T"
     ]
    },
    {
     "name": "stdout",
     "output_type": "stream",
     "text": [
      "\r----oT"
     ]
    },
    {
     "name": "stdout",
     "output_type": "stream",
     "text": [
      "\rEpisode 1: total_steps = 11"
     ]
    },
    {
     "name": "stdout",
     "output_type": "stream",
     "text": [
      "\r                                \ro----T"
     ]
    },
    {
     "name": "stdout",
     "output_type": "stream",
     "text": [
      "\ro----T"
     ]
    },
    {
     "name": "stdout",
     "output_type": "stream",
     "text": [
      "\r-o---T"
     ]
    },
    {
     "name": "stdout",
     "output_type": "stream",
     "text": [
      "\r--o--T"
     ]
    },
    {
     "name": "stdout",
     "output_type": "stream",
     "text": [
      "\r-o---T"
     ]
    },
    {
     "name": "stdout",
     "output_type": "stream",
     "text": [
      "\r--o--T"
     ]
    },
    {
     "name": "stdout",
     "output_type": "stream",
     "text": [
      "\r-o---T"
     ]
    },
    {
     "name": "stdout",
     "output_type": "stream",
     "text": [
      "\r--o--T"
     ]
    },
    {
     "name": "stdout",
     "output_type": "stream",
     "text": [
      "\r-o---T"
     ]
    },
    {
     "name": "stdout",
     "output_type": "stream",
     "text": [
      "\ro----T"
     ]
    },
    {
     "name": "stdout",
     "output_type": "stream",
     "text": [
      "\ro----T"
     ]
    },
    {
     "name": "stdout",
     "output_type": "stream",
     "text": [
      "\ro----T"
     ]
    },
    {
     "name": "stdout",
     "output_type": "stream",
     "text": [
      "\r-o---T"
     ]
    },
    {
     "name": "stdout",
     "output_type": "stream",
     "text": [
      "\r--o--T"
     ]
    },
    {
     "name": "stdout",
     "output_type": "stream",
     "text": [
      "\r---o-T"
     ]
    },
    {
     "name": "stdout",
     "output_type": "stream",
     "text": [
      "\r--o--T"
     ]
    },
    {
     "name": "stdout",
     "output_type": "stream",
     "text": [
      "\r---o-T"
     ]
    },
    {
     "name": "stdout",
     "output_type": "stream",
     "text": [
      "\r--o--T"
     ]
    },
    {
     "name": "stdout",
     "output_type": "stream",
     "text": [
      "\r-o---T"
     ]
    },
    {
     "name": "stdout",
     "output_type": "stream",
     "text": [
      "\r--o--T"
     ]
    },
    {
     "name": "stdout",
     "output_type": "stream",
     "text": [
      "\r---o-T"
     ]
    },
    {
     "name": "stdout",
     "output_type": "stream",
     "text": [
      "\r--o--T"
     ]
    },
    {
     "name": "stdout",
     "output_type": "stream",
     "text": [
      "\r-o---T"
     ]
    },
    {
     "name": "stdout",
     "output_type": "stream",
     "text": [
      "\ro----T"
     ]
    },
    {
     "name": "stdout",
     "output_type": "stream",
     "text": [
      "\r-o---T"
     ]
    },
    {
     "name": "stdout",
     "output_type": "stream",
     "text": [
      "\ro----T"
     ]
    },
    {
     "name": "stdout",
     "output_type": "stream",
     "text": [
      "\r-o---T"
     ]
    },
    {
     "name": "stdout",
     "output_type": "stream",
     "text": [
      "\ro----T"
     ]
    },
    {
     "name": "stdout",
     "output_type": "stream",
     "text": [
      "\ro----T"
     ]
    },
    {
     "name": "stdout",
     "output_type": "stream",
     "text": [
      "\r-o---T"
     ]
    },
    {
     "name": "stdout",
     "output_type": "stream",
     "text": [
      "\r--o--T"
     ]
    },
    {
     "name": "stdout",
     "output_type": "stream",
     "text": [
      "\r-o---T"
     ]
    },
    {
     "name": "stdout",
     "output_type": "stream",
     "text": [
      "\ro----T"
     ]
    },
    {
     "name": "stdout",
     "output_type": "stream",
     "text": [
      "\ro----T"
     ]
    },
    {
     "name": "stdout",
     "output_type": "stream",
     "text": [
      "\ro----T"
     ]
    },
    {
     "name": "stdout",
     "output_type": "stream",
     "text": [
      "\r-o---T"
     ]
    },
    {
     "name": "stdout",
     "output_type": "stream",
     "text": [
      "\r--o--T"
     ]
    },
    {
     "name": "stdout",
     "output_type": "stream",
     "text": [
      "\r---o-T"
     ]
    },
    {
     "name": "stdout",
     "output_type": "stream",
     "text": [
      "\r--o--T"
     ]
    },
    {
     "name": "stdout",
     "output_type": "stream",
     "text": [
      "\r---o-T"
     ]
    },
    {
     "name": "stdout",
     "output_type": "stream",
     "text": [
      "\r----oT"
     ]
    },
    {
     "name": "stdout",
     "output_type": "stream",
     "text": [
      "\rEpisode 2: total_steps = 41"
     ]
    },
    {
     "name": "stdout",
     "output_type": "stream",
     "text": [
      "\r                                \ro----T"
     ]
    },
    {
     "name": "stdout",
     "output_type": "stream",
     "text": [
      "\ro----T"
     ]
    },
    {
     "name": "stdout",
     "output_type": "stream",
     "text": [
      "\r-o---T"
     ]
    },
    {
     "name": "stdout",
     "output_type": "stream",
     "text": [
      "\r--o--T"
     ]
    },
    {
     "name": "stdout",
     "output_type": "stream",
     "text": [
      "\r-o---T"
     ]
    },
    {
     "name": "stdout",
     "output_type": "stream",
     "text": [
      "\ro----T"
     ]
    },
    {
     "name": "stdout",
     "output_type": "stream",
     "text": [
      "\r-o---T"
     ]
    },
    {
     "name": "stdout",
     "output_type": "stream",
     "text": [
      "\ro----T"
     ]
    },
    {
     "name": "stdout",
     "output_type": "stream",
     "text": [
      "\ro----T"
     ]
    },
    {
     "name": "stdout",
     "output_type": "stream",
     "text": [
      "\ro----T"
     ]
    },
    {
     "name": "stdout",
     "output_type": "stream",
     "text": [
      "\r-o---T"
     ]
    },
    {
     "name": "stdout",
     "output_type": "stream",
     "text": [
      "\r--o--T"
     ]
    },
    {
     "name": "stdout",
     "output_type": "stream",
     "text": [
      "\r---o-T"
     ]
    },
    {
     "name": "stdout",
     "output_type": "stream",
     "text": [
      "\r--o--T"
     ]
    },
    {
     "name": "stdout",
     "output_type": "stream",
     "text": [
      "\r---o-T"
     ]
    },
    {
     "name": "stdout",
     "output_type": "stream",
     "text": [
      "\r----oT"
     ]
    },
    {
     "name": "stdout",
     "output_type": "stream",
     "text": [
      "\r---o-T"
     ]
    },
    {
     "name": "stdout",
     "output_type": "stream",
     "text": [
      "\r----oT"
     ]
    },
    {
     "name": "stdout",
     "output_type": "stream",
     "text": [
      "\rEpisode 3: total_steps = 18"
     ]
    },
    {
     "name": "stdout",
     "output_type": "stream",
     "text": [
      "\r                                \ro----T"
     ]
    },
    {
     "name": "stdout",
     "output_type": "stream",
     "text": [
      "\r-o---T"
     ]
    },
    {
     "name": "stdout",
     "output_type": "stream",
     "text": [
      "\r--o--T"
     ]
    },
    {
     "name": "stdout",
     "output_type": "stream",
     "text": [
      "\r---o-T"
     ]
    },
    {
     "name": "stdout",
     "output_type": "stream",
     "text": [
      "\r----oT"
     ]
    },
    {
     "name": "stdout",
     "output_type": "stream",
     "text": [
      "\rEpisode 4: total_steps = 5"
     ]
    },
    {
     "name": "stdout",
     "output_type": "stream",
     "text": [
      "\r                                \ro----T"
     ]
    },
    {
     "name": "stdout",
     "output_type": "stream",
     "text": [
      "\ro----T"
     ]
    },
    {
     "name": "stdout",
     "output_type": "stream",
     "text": [
      "\ro----T"
     ]
    },
    {
     "name": "stdout",
     "output_type": "stream",
     "text": [
      "\r-o---T"
     ]
    },
    {
     "name": "stdout",
     "output_type": "stream",
     "text": [
      "\ro----T"
     ]
    },
    {
     "name": "stdout",
     "output_type": "stream",
     "text": [
      "\r-o---T"
     ]
    },
    {
     "name": "stdout",
     "output_type": "stream",
     "text": [
      "\r--o--T"
     ]
    },
    {
     "name": "stdout",
     "output_type": "stream",
     "text": [
      "\r-o---T"
     ]
    },
    {
     "name": "stdout",
     "output_type": "stream",
     "text": [
      "\r--o--T"
     ]
    },
    {
     "name": "stdout",
     "output_type": "stream",
     "text": [
      "\r---o-T"
     ]
    },
    {
     "name": "stdout",
     "output_type": "stream",
     "text": [
      "\r----oT"
     ]
    },
    {
     "name": "stdout",
     "output_type": "stream",
     "text": [
      "\rEpisode 5: total_steps = 11"
     ]
    },
    {
     "name": "stdout",
     "output_type": "stream",
     "text": [
      "\r                                \ro----T"
     ]
    },
    {
     "name": "stdout",
     "output_type": "stream",
     "text": [
      "\ro----T"
     ]
    },
    {
     "name": "stdout",
     "output_type": "stream",
     "text": [
      "\r-o---T"
     ]
    },
    {
     "name": "stdout",
     "output_type": "stream",
     "text": [
      "\r--o--T"
     ]
    },
    {
     "name": "stdout",
     "output_type": "stream",
     "text": [
      "\r---o-T"
     ]
    },
    {
     "name": "stdout",
     "output_type": "stream",
     "text": [
      "\r----oT"
     ]
    },
    {
     "name": "stdout",
     "output_type": "stream",
     "text": [
      "\rEpisode 6: total_steps = 6"
     ]
    },
    {
     "name": "stdout",
     "output_type": "stream",
     "text": [
      "\r                                \ro----T"
     ]
    },
    {
     "name": "stdout",
     "output_type": "stream",
     "text": [
      "\r-o---T"
     ]
    },
    {
     "name": "stdout",
     "output_type": "stream",
     "text": [
      "\r--o--T"
     ]
    },
    {
     "name": "stdout",
     "output_type": "stream",
     "text": [
      "\r---o-T"
     ]
    },
    {
     "name": "stdout",
     "output_type": "stream",
     "text": [
      "\r----oT"
     ]
    },
    {
     "name": "stdout",
     "output_type": "stream",
     "text": [
      "\rEpisode 7: total_steps = 5"
     ]
    },
    {
     "name": "stdout",
     "output_type": "stream",
     "text": [
      "\r                                \ro----T"
     ]
    },
    {
     "name": "stdout",
     "output_type": "stream",
     "text": [
      "\r-o---T"
     ]
    },
    {
     "name": "stdout",
     "output_type": "stream",
     "text": [
      "\r--o--T"
     ]
    },
    {
     "name": "stdout",
     "output_type": "stream",
     "text": [
      "\r---o-T"
     ]
    },
    {
     "name": "stdout",
     "output_type": "stream",
     "text": [
      "\r----oT"
     ]
    },
    {
     "name": "stdout",
     "output_type": "stream",
     "text": [
      "\rEpisode 8: total_steps = 5"
     ]
    },
    {
     "name": "stdout",
     "output_type": "stream",
     "text": [
      "\r                                \ro----T"
     ]
    },
    {
     "name": "stdout",
     "output_type": "stream",
     "text": [
      "\r-o---T"
     ]
    },
    {
     "name": "stdout",
     "output_type": "stream",
     "text": [
      "\r--o--T"
     ]
    },
    {
     "name": "stdout",
     "output_type": "stream",
     "text": [
      "\r---o-T"
     ]
    },
    {
     "name": "stdout",
     "output_type": "stream",
     "text": [
      "\r----oT"
     ]
    },
    {
     "name": "stdout",
     "output_type": "stream",
     "text": [
      "\rEpisode 9: total_steps = 5"
     ]
    },
    {
     "name": "stdout",
     "output_type": "stream",
     "text": [
      "\r                                \ro----T"
     ]
    },
    {
     "name": "stdout",
     "output_type": "stream",
     "text": [
      "\r-o---T"
     ]
    },
    {
     "name": "stdout",
     "output_type": "stream",
     "text": [
      "\ro----T"
     ]
    },
    {
     "name": "stdout",
     "output_type": "stream",
     "text": [
      "\r-o---T"
     ]
    },
    {
     "name": "stdout",
     "output_type": "stream",
     "text": [
      "\r--o--T"
     ]
    },
    {
     "name": "stdout",
     "output_type": "stream",
     "text": [
      "\r---o-T"
     ]
    },
    {
     "name": "stdout",
     "output_type": "stream",
     "text": [
      "\r----oT"
     ]
    },
    {
     "name": "stdout",
     "output_type": "stream",
     "text": [
      "\rEpisode 10: total_steps = 7"
     ]
    },
    {
     "name": "stdout",
     "output_type": "stream",
     "text": [
      "\r                                \ro----T"
     ]
    },
    {
     "name": "stdout",
     "output_type": "stream",
     "text": [
      "\r-o---T"
     ]
    },
    {
     "name": "stdout",
     "output_type": "stream",
     "text": [
      "\r--o--T"
     ]
    },
    {
     "name": "stdout",
     "output_type": "stream",
     "text": [
      "\r---o-T"
     ]
    },
    {
     "name": "stdout",
     "output_type": "stream",
     "text": [
      "\r----oT"
     ]
    },
    {
     "name": "stdout",
     "output_type": "stream",
     "text": [
      "\rEpisode 11: total_steps = 5"
     ]
    },
    {
     "name": "stdout",
     "output_type": "stream",
     "text": [
      "\r                                \ro----T"
     ]
    },
    {
     "name": "stdout",
     "output_type": "stream",
     "text": [
      "\r-o---T"
     ]
    },
    {
     "name": "stdout",
     "output_type": "stream",
     "text": [
      "\r--o--T"
     ]
    },
    {
     "name": "stdout",
     "output_type": "stream",
     "text": [
      "\r---o-T"
     ]
    },
    {
     "name": "stdout",
     "output_type": "stream",
     "text": [
      "\r----oT"
     ]
    },
    {
     "name": "stdout",
     "output_type": "stream",
     "text": [
      "\rEpisode 12: total_steps = 5"
     ]
    },
    {
     "name": "stdout",
     "output_type": "stream",
     "text": [
      "\r                                \ro----T"
     ]
    },
    {
     "name": "stdout",
     "output_type": "stream",
     "text": [
      "\r-o---T"
     ]
    },
    {
     "name": "stdout",
     "output_type": "stream",
     "text": [
      "\r--o--T"
     ]
    },
    {
     "name": "stdout",
     "output_type": "stream",
     "text": [
      "\r---o-T"
     ]
    },
    {
     "name": "stdout",
     "output_type": "stream",
     "text": [
      "\r----oT"
     ]
    },
    {
     "name": "stdout",
     "output_type": "stream",
     "text": [
      "\rEpisode 13: total_steps = 5"
     ]
    },
    {
     "name": "stdout",
     "output_type": "stream",
     "text": [
      "\r                                \r\nQ-table:\n\n       left     right\n0  0.000002  0.005499\n1  0.000137  0.027613\n2  0.000051  0.113783\n3  0.000073  0.345873\n4  0.002268  0.745813\n5  0.000000  0.000000\n"
     ]
    }
   ],
   "source": [
    "q_table = rl()\n",
    "print('\\r\\nQ-table:\\n')\n",
    "print(q_table)"
   ]
  },
  {
   "cell_type": "code",
   "execution_count": null,
   "metadata": {},
   "outputs": [],
   "source": []
  }
 ],
 "metadata": {
  "kernelspec": {
   "display_name": "Python 2",
   "language": "python",
   "name": "python2"
  },
  "language_info": {
   "codemirror_mode": {
    "name": "ipython",
    "version": 2
   },
   "file_extension": ".py",
   "mimetype": "text/x-python",
   "name": "python",
   "nbconvert_exporter": "python",
   "pygments_lexer": "ipython2",
   "version": "2.7.6"
  }
 },
 "nbformat": 4,
 "nbformat_minor": 0
}

{
 "cells": [
  {
   "cell_type": "code",
   "execution_count": 8,
   "metadata": {},
   "outputs": [],
   "source": [
    "s = {}\n",
    "src_lst = [\"dd\"]\n",
    "cnt_lst = [\"total_cnt\", \"valid_cnt\", \"fail_cnt\", \"b_100m_cnt\", \"b_200m_cnt\", \"b_500m_cnt\", \"b_1km_cnt\", \"b_5km_cnt\", \"b_10km_cnt\"]\n",
    "for i in src_lst:\n",
    "    s[i] = {}\n",
    "    s[i][\"dist\"] = []\n",
    "for i in src_lst:\n",
    "    for j in cnt_lst:\n",
    "        s[i][j] = 0"
   ]
  },
  {
   "cell_type": "code",
   "execution_count": 9,
   "metadata": {
    "collapsed": true
   },
   "outputs": [],
   "source": [
    "file = open(\"part-00000.offline_dist\")\n",
    "lines = file.readlines()\n",
    "for line in lines[::-1]:\n",
    "    f = line.strip().split(\"\\t\")\n",
    "    if len(f) != 3:\n",
    "        continue\n",
    "    src = f[1]\n",
    "    s[src][\"total_cnt\"] += 1\n",
    "    if f[2] == \"-\":\n",
    "        s[src][\"fail_cnt\"] += 1\n",
    "    else:\n",
    "        s[src][\"valid_cnt\"] +=1\n",
    "        dist = float(f[2])\n",
    "        s[src][\"dist\"].append(dist)\n",
    "        if dist > 100:\n",
    "            s[src][\"b_100m_cnt\"] += 1\n",
    "        if dist > 200:\n",
    "            s[src][\"b_200m_cnt\"] += 1\n",
    "        if dist > 500:\n",
    "            s[src][\"b_500m_cnt\"] += 1\n",
    "        if dist > 1000:\n",
    "            s[src][\"b_1km_cnt\"] += 1\n",
    "        if dist > 5000:\n",
    "            s[src][\"b_5km_cnt\"] += 1\n",
    "        if dist > 10000:\n",
    "            s[src][\"b_10km_cnt\"] += 1"
   ]
  },
  {
   "cell_type": "code",
   "execution_count": 11,
   "metadata": {},
   "outputs": [],
   "source": [
    "\n",
    "def get_quantile(l,q):\n",
    "\tr = []\n",
    "\tl = sorted(l)\n",
    "\tfor i in q:\n",
    "\t\tr.append(l[int(len(l) * i / 100)])\n",
    "\treturn r\n",
    "for i in src_lst:\n",
    "    q = get_quantile(s[i][\"dist\"], [50,80])\n",
    "    s[i][\"q_50\"] = q[0]\n",
    "    s[i][\"q_80\"] = q[1]"
   ]
  },
  {
   "cell_type": "code",
   "execution_count": 12,
   "metadata": {
    "collapsed": false
   },
   "outputs": [
    {
     "name": "stdout",
     "output_type": "stream",
     "text": [
      "dd\ttotal_cnt\t149145\ndd\tvalid_cnt\t147905\ndd\tfail_cnt\t1240\ndd\tb_100m_cnt\t87100\ndd\tb_200m_cnt\t51062\ndd\tb_500m_cnt\t17794\ndd\tb_1km_cnt\t9037\ndd\tb_5km_cnt\t1703\ndd\tb_10km_cnt\t413\ndd\tfail\t0.0083\ndd\tq_50\t129.44\ndd\tq_80\t326.50\ndd\tb_100m\t0.5889\ndd\tb_200m\t0.3452\ndd\tb_500m\t0.1203\ndd\tb_1km\t0.0611\ndd\tb_5km\t0.0115\ndd\tb_10km\t0.0028\n"
     ]
    }
   ],
   "source": [
    "for i in src_lst:\n",
    "\t\tfor j in cnt_lst:\n",
    "\t\t\tprint(\"%s\\t%s\\t%d\" % (i, j, s[i][j]))\n",
    "\t\tprint(\"%s\\tfail\\t%.4f\" % (i, float(s[i][\"fail_cnt\"]) / s[i][\"total_cnt\"]))\n",
    "\t\tprint(\"%s\\tq_50\\t%.2f\" % (i, s[i][\"q_50\"]))\n",
    "\t\tprint(\"%s\\tq_80\\t%.2f\" % (i, s[i][\"q_80\"]))\n",
    "\t\tprint(\"%s\\tb_100m\\t%.4f\" % (i, float(s[i][\"b_100m_cnt\"]) / s[i][\"valid_cnt\"]))\n",
    "\t\tprint(\"%s\\tb_200m\\t%.4f\" % (i, float(s[i][\"b_200m_cnt\"]) / s[i][\"valid_cnt\"]))\n",
    "\t\tprint(\"%s\\tb_500m\\t%.4f\" % (i, float(s[i][\"b_500m_cnt\"]) / s[i][\"valid_cnt\"]))\n",
    "\t\tprint(\"%s\\tb_1km\\t%.4f\" % (i, float(s[i][\"b_1km_cnt\"]) / s[i][\"valid_cnt\"]))\n",
    "\t\tprint(\"%s\\tb_5km\\t%.4f\" % (i, float(s[i][\"b_5km_cnt\"]) / s[i][\"valid_cnt\"]))\n",
    "\t\tprint(\"%s\\tb_10km\\t%.4f\" % (i, float(s[i][\"b_10km_cnt\"]) / s[i][\"valid_cnt\"]))"
   ]
  },
  {
   "cell_type": "code",
   "execution_count": null,
   "metadata": {},
   "outputs": [],
   "source": []
  }
 ],
 "metadata": {
  "kernelspec": {
   "display_name": "Python 2",
   "language": "python",
   "name": "python2"
  },
  "language_info": {
   "codemirror_mode": {
    "name": "ipython",
    "version": 2
   },
   "file_extension": ".py",
   "mimetype": "text/x-python",
   "name": "python",
   "nbconvert_exporter": "python",
   "pygments_lexer": "ipython2",
   "version": "2.7.6"
  }
 },
 "nbformat": 4,
 "nbformat_minor": 0
}

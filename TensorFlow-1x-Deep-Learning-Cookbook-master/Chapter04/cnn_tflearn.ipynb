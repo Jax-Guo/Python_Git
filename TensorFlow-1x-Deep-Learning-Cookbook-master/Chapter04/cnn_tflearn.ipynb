{
 "cells": [
  {
   "cell_type": "code",
   "execution_count": 1,
   "metadata": {
    "collapsed": true
   },
   "outputs": [],
   "source": [
    "from __future__ import division, print_function, absolute_import"
   ]
  },
  {
   "cell_type": "code",
   "execution_count": 2,
   "metadata": {},
   "outputs": [],
   "source": [
    "import tflearn\n",
    "from tflearn.data_utils import shuffle,to_categorical\n",
    "from tflearn.layers.core import input_data,dropout,fully_connected\n",
    "from tflearn.layers.conv import conv_2d,max_pool_2d\n",
    "from tflearn.layers.estimator import regression\n",
    "from tflearn.data_preprocessing import ImagePreprocessing\n",
    "from tflearn.data_augmentation import ImageAugmentation"
   ]
  },
  {
   "cell_type": "code",
   "execution_count": 3,
   "metadata": {},
   "outputs": [
    {
     "data": {
      "text/plain": [
       "dtype('float64')"
      ]
     },
     "execution_count": 3,
     "metadata": {},
     "output_type": "execute_result"
    }
   ],
   "source": [
    "from tflearn.datasets import cifar10\n",
    "(X,Y),(X_test,Y_test) = cifar10.load_data()\n",
    "X.dtype"
   ]
  },
  {
   "cell_type": "code",
   "execution_count": 4,
   "metadata": {},
   "outputs": [
    {
     "data": {
      "text/plain": [
       "<numpy.core._internal._ctypes at 0x104907e48>"
      ]
     },
     "execution_count": 4,
     "metadata": {},
     "output_type": "execute_result"
    }
   ],
   "source": [
    "X.ctypes"
   ]
  },
  {
   "cell_type": "code",
   "execution_count": 5,
   "metadata": {},
   "outputs": [],
   "source": [
    "X,Y = shuffle(X,Y)\n",
    "Y = to_categorical(Y,10)\n",
    "Y_test = to_categorical(Y_test,10)\n",
    "img_prep = ImagePreprocessing()\n",
    "img_prep.add_featurewise_zero_center()\n",
    "img_prep.add_featurewise_stdnorm()\n",
    "\n",
    "img_aug = ImageAugmentation()\n",
    "img_aug.add_random_flip_leftright()\n",
    "img_aug.add_random_rotation(max_angle=25.)"
   ]
  },
  {
   "cell_type": "code",
   "execution_count": 7,
   "metadata": {
    "collapsed": false
   },
   "outputs": [
    {
     "name": "stdout",
     "output_type": "stream",
     "text": [
      "---------------------------------\nRun id: cifar10_cnn\nLog directory: /tmp/tflearn_logs/\n"
     ]
    },
    {
     "name": "stdout",
     "output_type": "stream",
     "text": [
      "---------------------------------\nPreprocessing... Calculating mean over all dataset (this may take long)...\n"
     ]
    },
    {
     "name": "stdout",
     "output_type": "stream",
     "text": [
      "Mean: 0.473363000485 (To avoid repetitive computation, add it to argument 'mean' of `add_featurewise_zero_center`)\n---------------------------------\nPreprocessing... Calculating std over all dataset (this may take long)...\n"
     ]
    },
    {
     "name": "stdout",
     "output_type": "stream",
     "text": [
      "STD: 0.251568925063 (To avoid repetitive computation, add it to argument 'std' of `add_featurewise_stdnorm`)\nINFO:tensorflow:Summary name Accuracy/ (raw) is illegal; using Accuracy/__raw_ instead.\n"
     ]
    },
    {
     "name": "stdout",
     "output_type": "stream",
     "text": [
      "---------------------------------\nTraining samples: 50000\nValidation samples: 10000\n--\n"
     ]
    },
    {
     "name": "stdout",
     "output_type": "stream",
     "text": [
      "Training Step: 1  | time: 0.701s\n\u001b[2K\r| Adam | epoch: 001 | loss: 0.00000 - acc: 0.0000 -- iter: 00096/50000\n"
     ]
    },
    {
     "name": "stdout",
     "output_type": "stream",
     "text": [
      "Training Step: 2  | total loss: \u001b[1m\u001b[32m2.06462\u001b[0m\u001b[0m | time: 1.235s\n\u001b[2K\r| Adam | epoch: 001 | loss: 2.06462 - acc: 0.0656 -- iter: 00192/50000\n"
     ]
    },
    {
     "name": "stdout",
     "output_type": "stream",
     "text": [
      "Training Step: 3  | total loss: \u001b[1m\u001b[32m2.36654\u001b[0m\u001b[0m | time: 1.830s\n\u001b[2K\r| Adam | epoch: 001 | loss: 2.36654 - acc: 0.1057 -- iter: 00288/50000\n"
     ]
    },
    {
     "name": "stdout",
     "output_type": "stream",
     "text": [
      "Training Step: 4  | total loss: \u001b[1m\u001b[32m2.56295\u001b[0m\u001b[0m | time: 2.360s\n\u001b[2K\r| Adam | epoch: 001 | loss: 2.56295 - acc: 0.0967 -- iter: 00384/50000\n"
     ]
    },
    {
     "name": "stdout",
     "output_type": "stream",
     "text": [
      "Training Step: 5  | total loss: \u001b[1m\u001b[32m2.41494\u001b[0m\u001b[0m | time: 2.811s\n\u001b[2K\r| Adam | epoch: 001 | loss: 2.41494 - acc: 0.1379 -- iter: 00480/50000\n"
     ]
    },
    {
     "name": "stdout",
     "output_type": "stream",
     "text": [
      "Training Step: 6  | total loss: \u001b[1m\u001b[32m2.32562\u001b[0m\u001b[0m | time: 3.224s\n\u001b[2K\r| Adam | epoch: 001 | loss: 2.32562 - acc: 0.1698 -- iter: 00576/50000\n"
     ]
    },
    {
     "name": "stdout",
     "output_type": "stream",
     "text": [
      "Training Step: 7  | total loss: \u001b[1m\u001b[32m2.29837\u001b[0m\u001b[0m | time: 3.640s\n\u001b[2K\r| Adam | epoch: 001 | loss: 2.29837 - acc: 0.1492 -- iter: 00672/50000\n"
     ]
    },
    {
     "name": "stdout",
     "output_type": "stream",
     "text": [
      "Training Step: 8  | total loss: \u001b[1m\u001b[32m2.27517\u001b[0m\u001b[0m | time: 4.054s\n\u001b[2K\r| Adam | epoch: 001 | loss: 2.27517 - acc: 0.1590 -- iter: 00768/50000\n"
     ]
    },
    {
     "name": "stdout",
     "output_type": "stream",
     "text": [
      "Training Step: 9  | total loss: \u001b[1m\u001b[32m2.25577\u001b[0m\u001b[0m | time: 4.459s\n\u001b[2K\r| Adam | epoch: 001 | loss: 2.25577 - acc: 0.1686 -- iter: 00864/50000\n"
     ]
    },
    {
     "name": "stdout",
     "output_type": "stream",
     "text": [
      "Training Step: 10  | total loss: \u001b[1m\u001b[32m2.22130\u001b[0m\u001b[0m | time: 4.889s\n\u001b[2K\r| Adam | epoch: 001 | loss: 2.22130 - acc: 0.1989 -- iter: 00960/50000\n"
     ]
    },
    {
     "name": "stdout",
     "output_type": "stream",
     "text": [
      "Training Step: 11  | total loss: \u001b[1m\u001b[32m2.22067\u001b[0m\u001b[0m | time: 5.296s\n\u001b[2K\r| Adam | epoch: 001 | loss: 2.22067 - acc: 0.1886 -- iter: 01056/50000\n"
     ]
    },
    {
     "name": "stdout",
     "output_type": "stream",
     "text": [
      "Training Step: 12  | total loss: \u001b[1m\u001b[32m2.19910\u001b[0m\u001b[0m | time: 5.709s\n\u001b[2K\r| Adam | epoch: 001 | loss: 2.19910 - acc: 0.1693 -- iter: 01152/50000\n"
     ]
    },
    {
     "name": "stdout",
     "output_type": "stream",
     "text": [
      "Training Step: 13  | total loss: \u001b[1m\u001b[32m2.18324\u001b[0m\u001b[0m | time: 6.124s\n\u001b[2K\r| Adam | epoch: 001 | loss: 2.18324 - acc: 0.2262 -- iter: 01248/50000\n"
     ]
    },
    {
     "name": "stdout",
     "output_type": "stream",
     "text": [
      "Training Step: 14  | total loss: \u001b[1m\u001b[32m2.18223\u001b[0m\u001b[0m | time: 6.534s\n\u001b[2K\r| Adam | epoch: 001 | loss: 2.18223 - acc: 0.2019 -- iter: 01344/50000\n"
     ]
    },
    {
     "name": "stdout",
     "output_type": "stream",
     "text": [
      "Training Step: 15  | total loss: \u001b[1m\u001b[32m2.16498\u001b[0m\u001b[0m | time: 6.939s\n\u001b[2K\r| Adam | epoch: 001 | loss: 2.16498 - acc: 0.2166 -- iter: 01440/50000\n"
     ]
    },
    {
     "name": "stdout",
     "output_type": "stream",
     "text": [
      "Training Step: 16  | total loss: \u001b[1m\u001b[32m2.12940\u001b[0m\u001b[0m | time: 7.340s\n\u001b[2K\r| Adam | epoch: 001 | loss: 2.12940 - acc: 0.2252 -- iter: 01536/50000\n"
     ]
    },
    {
     "name": "stdout",
     "output_type": "stream",
     "text": [
      "Training Step: 17  | total loss: \u001b[1m\u001b[32m2.11306\u001b[0m\u001b[0m | time: 7.753s\n\u001b[2K\r| Adam | epoch: 001 | loss: 2.11306 - acc: 0.2266 -- iter: 01632/50000\n"
     ]
    },
    {
     "name": "stdout",
     "output_type": "stream",
     "text": [
      "Training Step: 18  | total loss: \u001b[1m\u001b[32m2.12984\u001b[0m\u001b[0m | time: 8.172s\n\u001b[2K\r| Adam | epoch: 001 | loss: 2.12984 - acc: 0.2131 -- iter: 01728/50000\n"
     ]
    },
    {
     "name": "stdout",
     "output_type": "stream",
     "text": [
      "Training Step: 19  | total loss: \u001b[1m\u001b[32m2.08801\u001b[0m\u001b[0m | time: 8.588s\n\u001b[2K\r| Adam | epoch: 001 | loss: 2.08801 - acc: 0.2289 -- iter: 01824/50000\n"
     ]
    },
    {
     "name": "stdout",
     "output_type": "stream",
     "text": [
      "Training Step: 20  | total loss: \u001b[1m\u001b[32m2.07057\u001b[0m\u001b[0m | time: 8.982s\n\u001b[2K\r| Adam | epoch: 001 | loss: 2.07057 - acc: 0.2223 -- iter: 01920/50000\n"
     ]
    },
    {
     "name": "stdout",
     "output_type": "stream",
     "text": [
      "Training Step: 21  | total loss: \u001b[1m\u001b[32m2.05096\u001b[0m\u001b[0m | time: 9.394s\n\u001b[2K\r| Adam | epoch: 001 | loss: 2.05096 - acc: 0.2503 -- iter: 02016/50000\n"
     ]
    },
    {
     "name": "stdout",
     "output_type": "stream",
     "text": [
      "Training Step: 22  | total loss: \u001b[1m\u001b[32m2.06620\u001b[0m\u001b[0m | time: 9.794s\n\u001b[2K\r| Adam | epoch: 001 | loss: 2.06620 - acc: 0.2502 -- iter: 02112/50000\n"
     ]
    },
    {
     "name": "stdout",
     "output_type": "stream",
     "text": [
      "Training Step: 23  | total loss: \u001b[1m\u001b[32m2.05995\u001b[0m\u001b[0m | time: 10.202s\n\u001b[2K\r| Adam | epoch: 001 | loss: 2.05995 - acc: 0.2411 -- iter: 02208/50000\n"
     ]
    },
    {
     "name": "stdout",
     "output_type": "stream",
     "text": [
      "Training Step: 24  | total loss: \u001b[1m\u001b[32m2.07894\u001b[0m\u001b[0m | time: 10.628s\n\u001b[2K\r| Adam | epoch: 001 | loss: 2.07894 - acc: 0.2524 -- iter: 02304/50000\n"
     ]
    },
    {
     "name": "stdout",
     "output_type": "stream",
     "text": [
      "Training Step: 25  | total loss: \u001b[1m\u001b[32m2.05444\u001b[0m\u001b[0m | time: 11.037s\n\u001b[2K\r| Adam | epoch: 001 | loss: 2.05444 - acc: 0.2659 -- iter: 02400/50000\n"
     ]
    },
    {
     "name": "stdout",
     "output_type": "stream",
     "text": [
      "Training Step: 26  | total loss: \u001b[1m\u001b[32m2.04906\u001b[0m\u001b[0m | time: 11.445s\n\u001b[2K\r| Adam | epoch: 001 | loss: 2.04906 - acc: 0.2341 -- iter: 02496/50000\n"
     ]
    },
    {
     "name": "stdout",
     "output_type": "stream",
     "text": [
      "Training Step: 27  | total loss: \u001b[1m\u001b[32m2.08523\u001b[0m\u001b[0m | time: 11.869s\n\u001b[2K\r| Adam | epoch: 001 | loss: 2.08523 - acc: 0.2382 -- iter: 02592/50000\n"
     ]
    },
    {
     "name": "stdout",
     "output_type": "stream",
     "text": [
      "Training Step: 28  | total loss: \u001b[1m\u001b[32m2.05138\u001b[0m\u001b[0m | time: 12.287s\n\u001b[2K\r| Adam | epoch: 001 | loss: 2.05138 - acc: 0.2542 -- iter: 02688/50000\n"
     ]
    },
    {
     "name": "stdout",
     "output_type": "stream",
     "text": [
      "Training Step: 29  | total loss: \u001b[1m\u001b[32m2.04673\u001b[0m\u001b[0m | time: 12.725s\n\u001b[2K\r| Adam | epoch: 001 | loss: 2.04673 - acc: 0.2481 -- iter: 02784/50000\n"
     ]
    },
    {
     "name": "stdout",
     "output_type": "stream",
     "text": [
      "Training Step: 30  | total loss: \u001b[1m\u001b[32m2.04824\u001b[0m\u001b[0m | time: 13.153s\n\u001b[2K\r| Adam | epoch: 001 | loss: 2.04824 - acc: 0.2313 -- iter: 02880/50000\n"
     ]
    },
    {
     "name": "stdout",
     "output_type": "stream",
     "text": [
      "Training Step: 31  | total loss: \u001b[1m\u001b[32m2.02376\u001b[0m\u001b[0m | time: 13.571s\n\u001b[2K\r| Adam | epoch: 001 | loss: 2.02376 - acc: 0.2380 -- iter: 02976/50000\n"
     ]
    },
    {
     "name": "stdout",
     "output_type": "stream",
     "text": [
      "Training Step: 32  | total loss: \u001b[1m\u001b[32m1.99623\u001b[0m\u001b[0m | time: 13.998s\n\u001b[2K\r| Adam | epoch: 001 | loss: 1.99623 - acc: 0.2571 -- iter: 03072/50000\n"
     ]
    },
    {
     "name": "stdout",
     "output_type": "stream",
     "text": [
      "Training Step: 33  | total loss: \u001b[1m\u001b[32m1.99375\u001b[0m\u001b[0m | time: 14.421s\n\u001b[2K\r| Adam | epoch: 001 | loss: 1.99375 - acc: 0.2510 -- iter: 03168/50000\n"
     ]
    },
    {
     "name": "stdout",
     "output_type": "stream",
     "text": [
      "Training Step: 34  | total loss: \u001b[1m\u001b[32m1.97199\u001b[0m\u001b[0m | time: 15.163s\n\u001b[2K\r| Adam | epoch: 001 | loss: 1.97199 - acc: 0.2642 -- iter: 03264/50000\n"
     ]
    },
    {
     "name": "stdout",
     "output_type": "stream",
     "text": [
      "Training Step: 35  | total loss: \u001b[1m\u001b[32m1.97022\u001b[0m\u001b[0m | time: 15.833s\n\u001b[2K\r| Adam | epoch: 001 | loss: 1.97022 - acc: 0.2568 -- iter: 03360/50000\n"
     ]
    },
    {
     "name": "stdout",
     "output_type": "stream",
     "text": [
      "Training Step: 36  | total loss: \u001b[1m\u001b[32m1.95467\u001b[0m\u001b[0m | time: 16.461s\n\u001b[2K\r| Adam | epoch: 001 | loss: 1.95467 - acc: 0.2831 -- iter: 03456/50000\n"
     ]
    },
    {
     "name": "stdout",
     "output_type": "stream",
     "text": [
      "Training Step: 37  | total loss: \u001b[1m\u001b[32m1.94121\u001b[0m\u001b[0m | time: 17.305s\n\u001b[2K\r| Adam | epoch: 001 | loss: 1.94121 - acc: 0.2828 -- iter: 03552/50000\n"
     ]
    },
    {
     "name": "stdout",
     "output_type": "stream",
     "text": [
      "Training Step: 38  | total loss: \u001b[1m\u001b[32m1.92086\u001b[0m\u001b[0m | time: 18.171s\n\u001b[2K\r| Adam | epoch: 001 | loss: 1.92086 - acc: 0.2906 -- iter: 03648/50000\n"
     ]
    },
    {
     "name": "stdout",
     "output_type": "stream",
     "text": [
      "Training Step: 39  | total loss: \u001b[1m\u001b[32m1.90935\u001b[0m\u001b[0m | time: 18.800s\n\u001b[2K\r| Adam | epoch: 001 | loss: 1.90935 - acc: 0.2928 -- iter: 03744/50000\n"
     ]
    },
    {
     "name": "stdout",
     "output_type": "stream",
     "text": [
      "Training Step: 40  | total loss: \u001b[1m\u001b[32m1.87720\u001b[0m\u001b[0m | time: 19.412s\n\u001b[2K\r| Adam | epoch: 001 | loss: 1.87720 - acc: 0.3082 -- iter: 03840/50000\n"
     ]
    },
    {
     "name": "stdout",
     "output_type": "stream",
     "text": [
      "Training Step: 41  | total loss: \u001b[1m\u001b[32m1.89372\u001b[0m\u001b[0m | time: 19.886s\n\u001b[2K\r| Adam | epoch: 001 | loss: 1.89372 - acc: 0.3224 -- iter: 03936/50000\n"
     ]
    },
    {
     "name": "stdout",
     "output_type": "stream",
     "text": [
      "Training Step: 42  | total loss: \u001b[1m\u001b[32m1.85583\u001b[0m\u001b[0m | time: 20.343s\n\u001b[2K\r| Adam | epoch: 001 | loss: 1.85583 - acc: 0.3319 -- iter: 04032/50000\n"
     ]
    },
    {
     "name": "stdout",
     "output_type": "stream",
     "text": [
      "Training Step: 43  | total loss: \u001b[1m\u001b[32m1.85880\u001b[0m\u001b[0m | time: 20.812s\n\u001b[2K\r| Adam | epoch: 001 | loss: 1.85880 - acc: 0.3285 -- iter: 04128/50000\n"
     ]
    },
    {
     "name": "stdout",
     "output_type": "stream",
     "text": [
      "Training Step: 44  | total loss: \u001b[1m\u001b[32m1.85971\u001b[0m\u001b[0m | time: 21.285s\n\u001b[2K\r| Adam | epoch: 001 | loss: 1.85971 - acc: 0.3203 -- iter: 04224/50000\n"
     ]
    },
    {
     "name": "stdout",
     "output_type": "stream",
     "text": [
      "Training Step: 45  | total loss: \u001b[1m\u001b[32m1.88390\u001b[0m\u001b[0m | time: 21.742s\n\u001b[2K\r| Adam | epoch: 001 | loss: 1.88390 - acc: 0.3101 -- iter: 04320/50000\n"
     ]
    },
    {
     "name": "stdout",
     "output_type": "stream",
     "text": [
      "Training Step: 46  | total loss: \u001b[1m\u001b[32m1.86746\u001b[0m\u001b[0m | time: 22.209s\n\u001b[2K\r| Adam | epoch: 001 | loss: 1.86746 - acc: 0.3157 -- iter: 04416/50000\n"
     ]
    },
    {
     "name": "stdout",
     "output_type": "stream",
     "text": [
      "Training Step: 47  | total loss: \u001b[1m\u001b[32m1.85161\u001b[0m\u001b[0m | time: 22.741s\n\u001b[2K\r| Adam | epoch: 001 | loss: 1.85161 - acc: 0.3271 -- iter: 04512/50000\n"
     ]
    },
    {
     "name": "stdout",
     "output_type": "stream",
     "text": [
      "Training Step: 48  | total loss: \u001b[1m\u001b[32m1.85164\u001b[0m\u001b[0m | time: 23.280s\n\u001b[2K\r| Adam | epoch: 001 | loss: 1.85164 - acc: 0.3214 -- iter: 04608/50000\n"
     ]
    },
    {
     "name": "stdout",
     "output_type": "stream",
     "text": [
      "Training Step: 49  | total loss: \u001b[1m\u001b[32m1.87810\u001b[0m\u001b[0m | time: 23.777s\n\u001b[2K\r| Adam | epoch: 001 | loss: 1.87810 - acc: 0.3085 -- iter: 04704/50000\n"
     ]
    },
    {
     "name": "stdout",
     "output_type": "stream",
     "text": [
      "Training Step: 50  | total loss: \u001b[1m\u001b[32m1.86213\u001b[0m\u001b[0m | time: 24.254s\n\u001b[2K\r| Adam | epoch: 001 | loss: 1.86213 - acc: 0.3124 -- iter: 04800/50000\n"
     ]
    },
    {
     "name": "stdout",
     "output_type": "stream",
     "text": [
      "Training Step: 51  | total loss: \u001b[1m\u001b[32m1.85421\u001b[0m\u001b[0m | time: 24.723s\n\u001b[2K\r| Adam | epoch: 001 | loss: 1.85421 - acc: 0.3060 -- iter: 04896/50000\n"
     ]
    },
    {
     "name": "stdout",
     "output_type": "stream",
     "text": [
      "Training Step: 52  | total loss: \u001b[1m\u001b[32m1.86001\u001b[0m\u001b[0m | time: 25.199s\n\u001b[2K\r| Adam | epoch: 001 | loss: 1.86001 - acc: 0.3117 -- iter: 04992/50000\n"
     ]
    },
    {
     "name": "stdout",
     "output_type": "stream",
     "text": [
      "Training Step: 53  | total loss: \u001b[1m\u001b[32m1.83927\u001b[0m\u001b[0m | time: 25.678s\n\u001b[2K\r| Adam | epoch: 001 | loss: 1.83927 - acc: 0.3226 -- iter: 05088/50000\n"
     ]
    },
    {
     "name": "stdout",
     "output_type": "stream",
     "text": [
      "Training Step: 54  | total loss: \u001b[1m\u001b[32m1.84887\u001b[0m\u001b[0m | time: 26.153s\n\u001b[2K\r| Adam | epoch: 001 | loss: 1.84887 - acc: 0.3181 -- iter: 05184/50000\n"
     ]
    },
    {
     "name": "stdout",
     "output_type": "stream",
     "text": [
      "Training Step: 55  | total loss: \u001b[1m\u001b[32m1.82684\u001b[0m\u001b[0m | time: 26.615s\n\u001b[2K\r| Adam | epoch: 001 | loss: 1.82684 - acc: 0.3277 -- iter: 05280/50000\n"
     ]
    },
    {
     "name": "stdout",
     "output_type": "stream",
     "text": [
      "Training Step: 56  | total loss: \u001b[1m\u001b[32m1.82592\u001b[0m\u001b[0m | time: 27.060s\n\u001b[2K\r| Adam | epoch: 001 | loss: 1.82592 - acc: 0.3270 -- iter: 05376/50000\n"
     ]
    },
    {
     "name": "stdout",
     "output_type": "stream",
     "text": [
      "Training Step: 57  | total loss: \u001b[1m\u001b[32m1.80046\u001b[0m\u001b[0m | time: 27.524s\n\u001b[2K\r| Adam | epoch: 001 | loss: 1.80046 - acc: 0.3380 -- iter: 05472/50000\n"
     ]
    },
    {
     "name": "stdout",
     "output_type": "stream",
     "text": [
      "Training Step: 58  | total loss: \u001b[1m\u001b[32m1.81411\u001b[0m\u001b[0m | time: 28.029s\n\u001b[2K\r| Adam | epoch: 001 | loss: 1.81411 - acc: 0.3317 -- iter: 05568/50000\n"
     ]
    },
    {
     "name": "stdout",
     "output_type": "stream",
     "text": [
      "Training Step: 59  | total loss: \u001b[1m\u001b[32m1.79175\u001b[0m\u001b[0m | time: 28.505s\n\u001b[2K\r| Adam | epoch: 001 | loss: 1.79175 - acc: 0.3445 -- iter: 05664/50000\n"
     ]
    },
    {
     "name": "stdout",
     "output_type": "stream",
     "text": [
      "Training Step: 60  | total loss: \u001b[1m\u001b[32m1.78638\u001b[0m\u001b[0m | time: 29.010s\n\u001b[2K\r| Adam | epoch: 001 | loss: 1.78638 - acc: 0.3513 -- iter: 05760/50000\n"
     ]
    },
    {
     "name": "stdout",
     "output_type": "stream",
     "text": [
      "Training Step: 61  | total loss: \u001b[1m\u001b[32m1.77081\u001b[0m\u001b[0m | time: 29.471s\n\u001b[2K\r| Adam | epoch: 001 | loss: 1.77081 - acc: 0.3585 -- iter: 05856/50000\n"
     ]
    },
    {
     "name": "stdout",
     "output_type": "stream",
     "text": [
      "Training Step: 62  | total loss: \u001b[1m\u001b[32m1.76234\u001b[0m\u001b[0m | time: 29.920s\n\u001b[2K\r| Adam | epoch: 001 | loss: 1.76234 - acc: 0.3606 -- iter: 05952/50000\n"
     ]
    },
    {
     "name": "stdout",
     "output_type": "stream",
     "text": [
      "Training Step: 63  | total loss: \u001b[1m\u001b[32m1.73052\u001b[0m\u001b[0m | time: 30.400s\n\u001b[2K\r| Adam | epoch: 001 | loss: 1.73052 - acc: 0.3769 -- iter: 06048/50000\n"
     ]
    },
    {
     "name": "stdout",
     "output_type": "stream",
     "text": [
      "Training Step: 64  | total loss: \u001b[1m\u001b[32m1.72095\u001b[0m\u001b[0m | time: 30.865s\n\u001b[2K\r| Adam | epoch: 001 | loss: 1.72095 - acc: 0.3806 -- iter: 06144/50000\n"
     ]
    },
    {
     "name": "stdout",
     "output_type": "stream",
     "text": [
      "Training Step: 65  | total loss: \u001b[1m\u001b[32m1.73328\u001b[0m\u001b[0m | time: 31.319s\n\u001b[2K\r| Adam | epoch: 001 | loss: 1.73328 - acc: 0.3735 -- iter: 06240/50000\n"
     ]
    },
    {
     "name": "stdout",
     "output_type": "stream",
     "text": [
      "Training Step: 66  | total loss: \u001b[1m\u001b[32m1.74708\u001b[0m\u001b[0m | time: 31.778s\n\u001b[2K\r| Adam | epoch: 001 | loss: 1.74708 - acc: 0.3699 -- iter: 06336/50000\n"
     ]
    },
    {
     "name": "stdout",
     "output_type": "stream",
     "text": [
      "Training Step: 67  | total loss: \u001b[1m\u001b[32m1.77647\u001b[0m\u001b[0m | time: 32.238s\n\u001b[2K\r| Adam | epoch: 001 | loss: 1.77647 - acc: 0.3655 -- iter: 06432/50000\n"
     ]
    },
    {
     "name": "stdout",
     "output_type": "stream",
     "text": [
      "Training Step: 68  | total loss: \u001b[1m\u001b[32m1.80251\u001b[0m\u001b[0m | time: 32.711s\n\u001b[2K\r| Adam | epoch: 001 | loss: 1.80251 - acc: 0.3469 -- iter: 06528/50000\n"
     ]
    },
    {
     "name": "stdout",
     "output_type": "stream",
     "text": [
      "Training Step: 69  | total loss: \u001b[1m\u001b[32m1.79145\u001b[0m\u001b[0m | time: 33.179s\n\u001b[2K\r| Adam | epoch: 001 | loss: 1.79145 - acc: 0.3538 -- iter: 06624/50000\n"
     ]
    },
    {
     "name": "stdout",
     "output_type": "stream",
     "text": [
      "Training Step: 70  | total loss: \u001b[1m\u001b[32m1.81182\u001b[0m\u001b[0m | time: 33.667s\n\u001b[2K\r| Adam | epoch: 001 | loss: 1.81182 - acc: 0.3418 -- iter: 06720/50000\n"
     ]
    },
    {
     "name": "stdout",
     "output_type": "stream",
     "text": [
      "Training Step: 71  | total loss: \u001b[1m\u001b[32m1.79510\u001b[0m\u001b[0m | time: 34.132s\n\u001b[2K\r| Adam | epoch: 001 | loss: 1.79510 - acc: 0.3456 -- iter: 06816/50000\n"
     ]
    },
    {
     "name": "stdout",
     "output_type": "stream",
     "text": [
      "Training Step: 72  | total loss: \u001b[1m\u001b[32m1.77815\u001b[0m\u001b[0m | time: 34.592s\n\u001b[2K\r| Adam | epoch: 001 | loss: 1.77815 - acc: 0.3524 -- iter: 06912/50000\n"
     ]
    },
    {
     "name": "stdout",
     "output_type": "stream",
     "text": [
      "Training Step: 73  | total loss: \u001b[1m\u001b[32m1.78124\u001b[0m\u001b[0m | time: 35.083s\n\u001b[2K\r| Adam | epoch: 001 | loss: 1.78124 - acc: 0.3573 -- iter: 07008/50000\n"
     ]
    },
    {
     "name": "stdout",
     "output_type": "stream",
     "text": [
      "Training Step: 74  | total loss: \u001b[1m\u001b[32m1.76973\u001b[0m\u001b[0m | time: 35.642s\n\u001b[2K\r| Adam | epoch: 001 | loss: 1.76973 - acc: 0.3626 -- iter: 07104/50000\n"
     ]
    },
    {
     "name": "stdout",
     "output_type": "stream",
     "text": [
      "Training Step: 75  | total loss: \u001b[1m\u001b[32m1.76829\u001b[0m\u001b[0m | time: 36.108s\n\u001b[2K\r| Adam | epoch: 001 | loss: 1.76829 - acc: 0.3617 -- iter: 07200/50000\n"
     ]
    },
    {
     "name": "stdout",
     "output_type": "stream",
     "text": [
      "Training Step: 76  | total loss: \u001b[1m\u001b[32m1.76297\u001b[0m\u001b[0m | time: 36.579s\n\u001b[2K\r| Adam | epoch: 001 | loss: 1.76297 - acc: 0.3587 -- iter: 07296/50000\n"
     ]
    },
    {
     "name": "stdout",
     "output_type": "stream",
     "text": [
      "Training Step: 77  | total loss: \u001b[1m\u001b[32m1.76303\u001b[0m\u001b[0m | time: 37.053s\n\u001b[2K\r| Adam | epoch: 001 | loss: 1.76303 - acc: 0.3582 -- iter: 07392/50000\n"
     ]
    },
    {
     "name": "stdout",
     "output_type": "stream",
     "text": [
      "Training Step: 78  | total loss: \u001b[1m\u001b[32m1.75183\u001b[0m\u001b[0m | time: 37.506s\n\u001b[2K\r| Adam | epoch: 001 | loss: 1.75183 - acc: 0.3665 -- iter: 07488/50000\n"
     ]
    },
    {
     "name": "stdout",
     "output_type": "stream",
     "text": [
      "Training Step: 79  | total loss: \u001b[1m\u001b[32m1.75588\u001b[0m\u001b[0m | time: 37.981s\n\u001b[2K\r| Adam | epoch: 001 | loss: 1.75588 - acc: 0.3685 -- iter: 07584/50000\n"
     ]
    },
    {
     "name": "stdout",
     "output_type": "stream",
     "text": [
      "Training Step: 80  | total loss: \u001b[1m\u001b[32m1.75070\u001b[0m\u001b[0m | time: 38.434s\n\u001b[2K\r| Adam | epoch: 001 | loss: 1.75070 - acc: 0.3745 -- iter: 07680/50000\n"
     ]
    },
    {
     "name": "stdout",
     "output_type": "stream",
     "text": [
      "Training Step: 81  | total loss: \u001b[1m\u001b[32m1.73943\u001b[0m\u001b[0m | time: 38.893s\n\u001b[2K\r| Adam | epoch: 001 | loss: 1.73943 - acc: 0.3745 -- iter: 07776/50000\n"
     ]
    },
    {
     "name": "stdout",
     "output_type": "stream",
     "text": [
      "Training Step: 82  | total loss: \u001b[1m\u001b[32m1.74671\u001b[0m\u001b[0m | time: 39.340s\n\u001b[2K\r| Adam | epoch: 001 | loss: 1.74671 - acc: 0.3714 -- iter: 07872/50000\n"
     ]
    },
    {
     "name": "stdout",
     "output_type": "stream",
     "text": [
      "Training Step: 83  | total loss: \u001b[1m\u001b[32m1.73258\u001b[0m\u001b[0m | time: 39.799s\n\u001b[2K\r| Adam | epoch: 001 | loss: 1.73258 - acc: 0.3791 -- iter: 07968/50000\n"
     ]
    },
    {
     "name": "stdout",
     "output_type": "stream",
     "text": [
      "Training Step: 84  | total loss: \u001b[1m\u001b[32m1.71648\u001b[0m\u001b[0m | time: 40.257s\n\u001b[2K\r| Adam | epoch: 001 | loss: 1.71648 - acc: 0.3860 -- iter: 08064/50000\n"
     ]
    },
    {
     "name": "stdout",
     "output_type": "stream",
     "text": [
      "Training Step: 85  | total loss: \u001b[1m\u001b[32m1.70384\u001b[0m\u001b[0m | time: 40.719s\n\u001b[2K\r| Adam | epoch: 001 | loss: 1.70384 - acc: 0.3922 -- iter: 08160/50000\n"
     ]
    },
    {
     "name": "stdout",
     "output_type": "stream",
     "text": [
      "Training Step: 86  | total loss: \u001b[1m\u001b[32m1.69398\u001b[0m\u001b[0m | time: 41.167s\n\u001b[2K\r| Adam | epoch: 001 | loss: 1.69398 - acc: 0.3946 -- iter: 08256/50000\n"
     ]
    },
    {
     "name": "stdout",
     "output_type": "stream",
     "text": [
      "Training Step: 87  | total loss: \u001b[1m\u001b[32m1.68951\u001b[0m\u001b[0m | time: 41.628s\n\u001b[2K\r| Adam | epoch: 001 | loss: 1.68951 - acc: 0.3947 -- iter: 08352/50000\n"
     ]
    },
    {
     "name": "stdout",
     "output_type": "stream",
     "text": [
      "Training Step: 88  | total loss: \u001b[1m\u001b[32m1.69612\u001b[0m\u001b[0m | time: 42.099s\n\u001b[2K\r| Adam | epoch: 001 | loss: 1.69612 - acc: 0.3938 -- iter: 08448/50000\n"
     ]
    },
    {
     "name": "stdout",
     "output_type": "stream",
     "text": [
      "Training Step: 89  | total loss: \u001b[1m\u001b[32m1.68340\u001b[0m\u001b[0m | time: 42.562s\n\u001b[2K\r| Adam | epoch: 001 | loss: 1.68340 - acc: 0.3950 -- iter: 08544/50000\n"
     ]
    },
    {
     "name": "stdout",
     "output_type": "stream",
     "text": [
      "Training Step: 90  | total loss: \u001b[1m\u001b[32m1.68016\u001b[0m\u001b[0m | time: 43.080s\n\u001b[2K\r| Adam | epoch: 001 | loss: 1.68016 - acc: 0.3982 -- iter: 08640/50000\n"
     ]
    },
    {
     "name": "stdout",
     "output_type": "stream",
     "text": [
      "Training Step: 91  | total loss: \u001b[1m\u001b[32m1.68218\u001b[0m\u001b[0m | time: 43.531s\n\u001b[2K\r| Adam | epoch: 001 | loss: 1.68218 - acc: 0.3938 -- iter: 08736/50000\n"
     ]
    },
    {
     "name": "stdout",
     "output_type": "stream",
     "text": [
      "Training Step: 92  | total loss: \u001b[1m\u001b[32m1.68188\u001b[0m\u001b[0m | time: 43.973s\n\u001b[2K\r| Adam | epoch: 001 | loss: 1.68188 - acc: 0.3899 -- iter: 08832/50000\n"
     ]
    },
    {
     "name": "stdout",
     "output_type": "stream",
     "text": [
      "Training Step: 93  | total loss: \u001b[1m\u001b[32m1.68437\u001b[0m\u001b[0m | time: 44.398s\n\u001b[2K\r| Adam | epoch: 001 | loss: 1.68437 - acc: 0.3915 -- iter: 08928/50000\n"
     ]
    },
    {
     "name": "stdout",
     "output_type": "stream",
     "text": [
      "Training Step: 94  | total loss: \u001b[1m\u001b[32m1.68855\u001b[0m\u001b[0m | time: 44.818s\n\u001b[2K\r| Adam | epoch: 001 | loss: 1.68855 - acc: 0.3919 -- iter: 09024/50000\n"
     ]
    },
    {
     "name": "stdout",
     "output_type": "stream",
     "text": [
      "Training Step: 95  | total loss: \u001b[1m\u001b[32m1.69500\u001b[0m\u001b[0m | time: 45.260s\n\u001b[2K\r| Adam | epoch: 001 | loss: 1.69500 - acc: 0.3871 -- iter: 09120/50000\n"
     ]
    },
    {
     "name": "stdout",
     "output_type": "stream",
     "text": [
      "Training Step: 96  | total loss: \u001b[1m\u001b[32m1.69274\u001b[0m\u001b[0m | time: 45.697s\n\u001b[2K\r| Adam | epoch: 001 | loss: 1.69274 - acc: 0.3880 -- iter: 09216/50000\n"
     ]
    },
    {
     "name": "stdout",
     "output_type": "stream",
     "text": [
      "Training Step: 97  | total loss: \u001b[1m\u001b[32m1.71305\u001b[0m\u001b[0m | time: 46.106s\n\u001b[2K\r| Adam | epoch: 001 | loss: 1.71305 - acc: 0.3815 -- iter: 09312/50000\n"
     ]
    },
    {
     "name": "stdout",
     "output_type": "stream",
     "text": [
      "Training Step: 98  | total loss: \u001b[1m\u001b[32m1.70700\u001b[0m\u001b[0m | time: 46.523s\n\u001b[2K\r| Adam | epoch: 001 | loss: 1.70700 - acc: 0.3777 -- iter: 09408/50000\n"
     ]
    },
    {
     "name": "stdout",
     "output_type": "stream",
     "text": [
      "Training Step: 99  | total loss: \u001b[1m\u001b[32m1.71232\u001b[0m\u001b[0m | time: 46.926s\n\u001b[2K\r| Adam | epoch: 001 | loss: 1.71232 - acc: 0.3733 -- iter: 09504/50000\n"
     ]
    },
    {
     "name": "stdout",
     "output_type": "stream",
     "text": [
      "Training Step: 100  | total loss: \u001b[1m\u001b[32m1.71394\u001b[0m\u001b[0m | time: 47.331s\n\u001b[2K\r| Adam | epoch: 001 | loss: 1.71394 - acc: 0.3714 -- iter: 09600/50000\n"
     ]
    },
    {
     "name": "stdout",
     "output_type": "stream",
     "text": [
      "Training Step: 101  | total loss: \u001b[1m\u001b[32m1.71190\u001b[0m\u001b[0m | time: 47.748s\n\u001b[2K\r| Adam | epoch: 001 | loss: 1.71190 - acc: 0.3676 -- iter: 09696/50000\n"
     ]
    },
    {
     "name": "stdout",
     "output_type": "stream",
     "text": [
      "Training Step: 102  | total loss: \u001b[1m\u001b[32m1.71039\u001b[0m\u001b[0m | time: 48.159s\n\u001b[2K\r| Adam | epoch: 001 | loss: 1.71039 - acc: 0.3641 -- iter: 09792/50000\n"
     ]
    },
    {
     "name": "stdout",
     "output_type": "stream",
     "text": [
      "Training Step: 103  | total loss: \u001b[1m\u001b[32m1.69192\u001b[0m\u001b[0m | time: 48.625s\n\u001b[2K\r| Adam | epoch: 001 | loss: 1.69192 - acc: 0.3725 -- iter: 09888/50000\n"
     ]
    },
    {
     "name": "stdout",
     "output_type": "stream",
     "text": [
      "Training Step: 104  | total loss: \u001b[1m\u001b[32m1.69666\u001b[0m\u001b[0m | time: 49.040s\n\u001b[2K\r| Adam | epoch: 001 | loss: 1.69666 - acc: 0.3748 -- iter: 09984/50000\n"
     ]
    },
    {
     "name": "stdout",
     "output_type": "stream",
     "text": [
      "Training Step: 105  | total loss: \u001b[1m\u001b[32m1.69162\u001b[0m\u001b[0m | time: 49.449s\n\u001b[2K\r| Adam | epoch: 001 | loss: 1.69162 - acc: 0.3749 -- iter: 10080/50000\n"
     ]
    },
    {
     "name": "stdout",
     "output_type": "stream",
     "text": [
      "Training Step: 106  | total loss: \u001b[1m\u001b[32m1.67408\u001b[0m\u001b[0m | time: 49.860s\n\u001b[2K\r| Adam | epoch: 001 | loss: 1.67408 - acc: 0.3780 -- iter: 10176/50000\n"
     ]
    },
    {
     "name": "stdout",
     "output_type": "stream",
     "text": [
      "Training Step: 107  | total loss: \u001b[1m\u001b[32m1.66951\u001b[0m\u001b[0m | time: 50.275s\n\u001b[2K\r| Adam | epoch: 001 | loss: 1.66951 - acc: 0.3840 -- iter: 10272/50000\n"
     ]
    },
    {
     "name": "stdout",
     "output_type": "stream",
     "text": [
      "Training Step: 108  | total loss: \u001b[1m\u001b[32m1.67493\u001b[0m\u001b[0m | time: 50.700s\n\u001b[2K\r| Adam | epoch: 001 | loss: 1.67493 - acc: 0.3862 -- iter: 10368/50000\n"
     ]
    },
    {
     "name": "stdout",
     "output_type": "stream",
     "text": [
      "Training Step: 109  | total loss: \u001b[1m\u001b[32m1.66440\u001b[0m\u001b[0m | time: 51.157s\n\u001b[2K\r| Adam | epoch: 001 | loss: 1.66440 - acc: 0.3913 -- iter: 10464/50000\n"
     ]
    },
    {
     "name": "stdout",
     "output_type": "stream",
     "text": [
      "Training Step: 110  | total loss: \u001b[1m\u001b[32m1.66536\u001b[0m\u001b[0m | time: 51.597s\n\u001b[2K\r| Adam | epoch: 001 | loss: 1.66536 - acc: 0.3907 -- iter: 10560/50000\n"
     ]
    },
    {
     "name": "stdout",
     "output_type": "stream",
     "text": [
      "Training Step: 111  | total loss: \u001b[1m\u001b[32m1.66435\u001b[0m\u001b[0m | time: 52.036s\n\u001b[2K\r| Adam | epoch: 001 | loss: 1.66435 - acc: 0.3923 -- iter: 10656/50000\n"
     ]
    },
    {
     "name": "stdout",
     "output_type": "stream",
     "text": [
      "Training Step: 112  | total loss: \u001b[1m\u001b[32m1.66223\u001b[0m\u001b[0m | time: 52.467s\n\u001b[2K\r| Adam | epoch: 001 | loss: 1.66223 - acc: 0.3968 -- iter: 10752/50000\n"
     ]
    },
    {
     "name": "stdout",
     "output_type": "stream",
     "text": [
      "Training Step: 113  | total loss: \u001b[1m\u001b[32m1.65967\u001b[0m\u001b[0m | time: 52.889s\n\u001b[2K\r| Adam | epoch: 001 | loss: 1.65967 - acc: 0.3967 -- iter: 10848/50000\n"
     ]
    },
    {
     "name": "stdout",
     "output_type": "stream",
     "text": [
      "Training Step: 114  | total loss: \u001b[1m\u001b[32m1.65875\u001b[0m\u001b[0m | time: 53.306s\n\u001b[2K\r| Adam | epoch: 001 | loss: 1.65875 - acc: 0.3987 -- iter: 10944/50000\n"
     ]
    },
    {
     "name": "stdout",
     "output_type": "stream",
     "text": [
      "Training Step: 115  | total loss: \u001b[1m\u001b[32m1.66485\u001b[0m\u001b[0m | time: 53.723s\n\u001b[2K\r| Adam | epoch: 001 | loss: 1.66485 - acc: 0.3963 -- iter: 11040/50000\n"
     ]
    },
    {
     "name": "stdout",
     "output_type": "stream",
     "text": [
      "Training Step: 116  | total loss: \u001b[1m\u001b[32m1.65593\u001b[0m\u001b[0m | time: 54.160s\n\u001b[2K\r| Adam | epoch: 001 | loss: 1.65593 - acc: 0.4015 -- iter: 11136/50000\n"
     ]
    },
    {
     "name": "stdout",
     "output_type": "stream",
     "text": [
      "Training Step: 117  | total loss: \u001b[1m\u001b[32m1.64163\u001b[0m\u001b[0m | time: 54.599s\n\u001b[2K\r| Adam | epoch: 001 | loss: 1.64163 - acc: 0.4061 -- iter: 11232/50000\n"
     ]
    },
    {
     "name": "stdout",
     "output_type": "stream",
     "text": [
      "Training Step: 118  | total loss: \u001b[1m\u001b[32m1.66773\u001b[0m\u001b[0m | time: 55.001s\n\u001b[2K\r| Adam | epoch: 001 | loss: 1.66773 - acc: 0.3947 -- iter: 11328/50000\n"
     ]
    },
    {
     "name": "stdout",
     "output_type": "stream",
     "text": [
      "Training Step: 119  | total loss: \u001b[1m\u001b[32m1.67200\u001b[0m\u001b[0m | time: 55.461s\n\u001b[2K\r| Adam | epoch: 001 | loss: 1.67200 - acc: 0.3958 -- iter: 11424/50000\n"
     ]
    },
    {
     "name": "stdout",
     "output_type": "stream",
     "text": [
      "Training Step: 120  | total loss: \u001b[1m\u001b[32m1.67718\u001b[0m\u001b[0m | time: 55.869s\n\u001b[2K\r| Adam | epoch: 001 | loss: 1.67718 - acc: 0.3969 -- iter: 11520/50000\n"
     ]
    },
    {
     "name": "stdout",
     "output_type": "stream",
     "text": [
      "Training Step: 121  | total loss: \u001b[1m\u001b[32m1.66354\u001b[0m\u001b[0m | time: 56.283s\n\u001b[2K\r| Adam | epoch: 001 | loss: 1.66354 - acc: 0.4030 -- iter: 11616/50000\n"
     ]
    },
    {
     "name": "stdout",
     "output_type": "stream",
     "text": [
      "Training Step: 122  | total loss: \u001b[1m\u001b[32m1.66010\u001b[0m\u001b[0m | time: 56.696s\n\u001b[2K\r| Adam | epoch: 001 | loss: 1.66010 - acc: 0.4117 -- iter: 11712/50000\n"
     ]
    },
    {
     "name": "stdout",
     "output_type": "stream",
     "text": [
      "Training Step: 123  | total loss: \u001b[1m\u001b[32m1.64548\u001b[0m\u001b[0m | time: 57.111s\n\u001b[2K\r| Adam | epoch: 001 | loss: 1.64548 - acc: 0.4205 -- iter: 11808/50000\n"
     ]
    },
    {
     "name": "stdout",
     "output_type": "stream",
     "text": [
      "Training Step: 124  | total loss: \u001b[1m\u001b[32m1.64971\u001b[0m\u001b[0m | time: 57.527s\n\u001b[2K\r| Adam | epoch: 001 | loss: 1.64971 - acc: 0.4128 -- iter: 11904/50000\n"
     ]
    },
    {
     "name": "stdout",
     "output_type": "stream",
     "text": [
      "Training Step: 125  | total loss: \u001b[1m\u001b[32m1.63660\u001b[0m\u001b[0m | time: 57.929s\n\u001b[2K\r| Adam | epoch: 001 | loss: 1.63660 - acc: 0.4143 -- iter: 12000/50000\n"
     ]
    },
    {
     "name": "stdout",
     "output_type": "stream",
     "text": [
      "Training Step: 126  | total loss: \u001b[1m\u001b[32m1.64063\u001b[0m\u001b[0m | time: 58.344s\n\u001b[2K\r| Adam | epoch: 001 | loss: 1.64063 - acc: 0.4145 -- iter: 12096/50000\n"
     ]
    },
    {
     "name": "stdout",
     "output_type": "stream",
     "text": [
      "Training Step: 127  | total loss: \u001b[1m\u001b[32m1.63420\u001b[0m\u001b[0m | time: 58.758s\n\u001b[2K\r| Adam | epoch: 001 | loss: 1.63420 - acc: 0.4147 -- iter: 12192/50000\n"
     ]
    },
    {
     "name": "stdout",
     "output_type": "stream",
     "text": [
      "Training Step: 128  | total loss: \u001b[1m\u001b[32m1.63550\u001b[0m\u001b[0m | time: 59.191s\n\u001b[2K\r| Adam | epoch: 001 | loss: 1.63550 - acc: 0.4118 -- iter: 12288/50000\n"
     ]
    },
    {
     "name": "stdout",
     "output_type": "stream",
     "text": [
      "Training Step: 129  | total loss: \u001b[1m\u001b[32m1.62465\u001b[0m\u001b[0m | time: 59.606s\n\u001b[2K\r| Adam | epoch: 001 | loss: 1.62465 - acc: 0.4164 -- iter: 12384/50000\n"
     ]
    },
    {
     "name": "stdout",
     "output_type": "stream",
     "text": [
      "Training Step: 130  | total loss: \u001b[1m\u001b[32m1.62657\u001b[0m\u001b[0m | time: 60.025s\n\u001b[2K\r| Adam | epoch: 001 | loss: 1.62657 - acc: 0.4123 -- iter: 12480/50000\n"
     ]
    },
    {
     "name": "stdout",
     "output_type": "stream",
     "text": [
      "Training Step: 131  | total loss: \u001b[1m\u001b[32m1.62804\u001b[0m\u001b[0m | time: 60.457s\n\u001b[2K\r| Adam | epoch: 001 | loss: 1.62804 - acc: 0.4148 -- iter: 12576/50000\n"
     ]
    },
    {
     "name": "stdout",
     "output_type": "stream",
     "text": [
      "Training Step: 132  | total loss: \u001b[1m\u001b[32m1.62401\u001b[0m\u001b[0m | time: 60.862s\n\u001b[2K\r| Adam | epoch: 001 | loss: 1.62401 - acc: 0.4160 -- iter: 12672/50000\n"
     ]
    },
    {
     "name": "stdout",
     "output_type": "stream",
     "text": [
      "Training Step: 133  | total loss: \u001b[1m\u001b[32m1.61785\u001b[0m\u001b[0m | time: 61.271s\n\u001b[2K\r| Adam | epoch: 001 | loss: 1.61785 - acc: 0.4203 -- iter: 12768/50000\n"
     ]
    },
    {
     "name": "stdout",
     "output_type": "stream",
     "text": [
      "Training Step: 134  | total loss: \u001b[1m\u001b[32m1.61689\u001b[0m\u001b[0m | time: 61.677s\n\u001b[2K\r| Adam | epoch: 001 | loss: 1.61689 - acc: 0.4137 -- iter: 12864/50000\n"
     ]
    },
    {
     "name": "stdout",
     "output_type": "stream",
     "text": [
      "Training Step: 135  | total loss: \u001b[1m\u001b[32m1.62949\u001b[0m\u001b[0m | time: 62.094s\n\u001b[2K\r| Adam | epoch: 001 | loss: 1.62949 - acc: 0.4129 -- iter: 12960/50000\n"
     ]
    },
    {
     "name": "stdout",
     "output_type": "stream",
     "text": [
      "Training Step: 136  | total loss: \u001b[1m\u001b[32m1.61825\u001b[0m\u001b[0m | time: 62.517s\n\u001b[2K\r| Adam | epoch: 001 | loss: 1.61825 - acc: 0.4123 -- iter: 13056/50000\n"
     ]
    },
    {
     "name": "stdout",
     "output_type": "stream",
     "text": [
      "Training Step: 137  | total loss: \u001b[1m\u001b[32m1.64030\u001b[0m\u001b[0m | time: 62.922s\n\u001b[2K\r| Adam | epoch: 001 | loss: 1.64030 - acc: 0.4044 -- iter: 13152/50000\n"
     ]
    },
    {
     "name": "stdout",
     "output_type": "stream",
     "text": [
      "Training Step: 138  | total loss: \u001b[1m\u001b[32m1.61499\u001b[0m\u001b[0m | time: 63.327s\n\u001b[2K\r| Adam | epoch: 001 | loss: 1.61499 - acc: 0.4087 -- iter: 13248/50000\n"
     ]
    },
    {
     "name": "stdout",
     "output_type": "stream",
     "text": [
      "Training Step: 139  | total loss: \u001b[1m\u001b[32m1.60734\u001b[0m\u001b[0m | time: 63.738s\n\u001b[2K\r| Adam | epoch: 001 | loss: 1.60734 - acc: 0.4147 -- iter: 13344/50000\n"
     ]
    },
    {
     "name": "stdout",
     "output_type": "stream",
     "text": [
      "Training Step: 140  | total loss: \u001b[1m\u001b[32m1.61138\u001b[0m\u001b[0m | time: 64.141s\n\u001b[2K\r| Adam | epoch: 001 | loss: 1.61138 - acc: 0.4128 -- iter: 13440/50000\n"
     ]
    },
    {
     "name": "stdout",
     "output_type": "stream",
     "text": [
      "Training Step: 141  | total loss: \u001b[1m\u001b[32m1.59664\u001b[0m\u001b[0m | time: 64.562s\n\u001b[2K\r| Adam | epoch: 001 | loss: 1.59664 - acc: 0.4184 -- iter: 13536/50000\n"
     ]
    },
    {
     "name": "stdout",
     "output_type": "stream",
     "text": [
      "Training Step: 142  | total loss: \u001b[1m\u001b[32m1.59381\u001b[0m\u001b[0m | time: 64.978s\n\u001b[2K\r| Adam | epoch: 001 | loss: 1.59381 - acc: 0.4141 -- iter: 13632/50000\n"
     ]
    },
    {
     "name": "stdout",
     "output_type": "stream",
     "text": [
      "Training Step: 143  | total loss: \u001b[1m\u001b[32m1.58794\u001b[0m\u001b[0m | time: 65.383s\n\u001b[2K\r| Adam | epoch: 001 | loss: 1.58794 - acc: 0.4143 -- iter: 13728/50000\n"
     ]
    },
    {
     "name": "stdout",
     "output_type": "stream",
     "text": [
      "Training Step: 144  | total loss: \u001b[1m\u001b[32m1.57172\u001b[0m\u001b[0m | time: 65.798s\n\u001b[2K\r| Adam | epoch: 001 | loss: 1.57172 - acc: 0.4260 -- iter: 13824/50000\n"
     ]
    },
    {
     "name": "stdout",
     "output_type": "stream",
     "text": [
      "Training Step: 145  | total loss: \u001b[1m\u001b[32m1.57809\u001b[0m\u001b[0m | time: 66.219s\n\u001b[2K\r| Adam | epoch: 001 | loss: 1.57809 - acc: 0.4220 -- iter: 13920/50000\n"
     ]
    },
    {
     "name": "stdout",
     "output_type": "stream",
     "text": [
      "Training Step: 146  | total loss: \u001b[1m\u001b[32m1.55612\u001b[0m\u001b[0m | time: 66.616s\n\u001b[2K\r| Adam | epoch: 001 | loss: 1.55612 - acc: 0.4287 -- iter: 14016/50000\n"
     ]
    },
    {
     "name": "stdout",
     "output_type": "stream",
     "text": [
      "Training Step: 147  | total loss: \u001b[1m\u001b[32m1.56765\u001b[0m\u001b[0m | time: 67.028s\n\u001b[2K\r| Adam | epoch: 001 | loss: 1.56765 - acc: 0.4254 -- iter: 14112/50000\n"
     ]
    },
    {
     "name": "stdout",
     "output_type": "stream",
     "text": [
      "Training Step: 148  | total loss: \u001b[1m\u001b[32m1.55350\u001b[0m\u001b[0m | time: 67.435s\n\u001b[2K\r| Adam | epoch: 001 | loss: 1.55350 - acc: 0.4350 -- iter: 14208/50000\n"
     ]
    },
    {
     "name": "stdout",
     "output_type": "stream",
     "text": [
      "Training Step: 149  | total loss: \u001b[1m\u001b[32m1.55915\u001b[0m\u001b[0m | time: 67.841s\n\u001b[2K\r| Adam | epoch: 001 | loss: 1.55915 - acc: 0.4331 -- iter: 14304/50000\n"
     ]
    },
    {
     "name": "stdout",
     "output_type": "stream",
     "text": [
      "Training Step: 150  | total loss: \u001b[1m\u001b[32m1.55696\u001b[0m\u001b[0m | time: 68.270s\n\u001b[2K\r| Adam | epoch: 001 | loss: 1.55696 - acc: 0.4305 -- iter: 14400/50000\n"
     ]
    },
    {
     "name": "stdout",
     "output_type": "stream",
     "text": [
      "Training Step: 151  | total loss: \u001b[1m\u001b[32m1.56910\u001b[0m\u001b[0m | time: 68.681s\n\u001b[2K\r| Adam | epoch: 001 | loss: 1.56910 - acc: 0.4332 -- iter: 14496/50000\n"
     ]
    },
    {
     "name": "stdout",
     "output_type": "stream",
     "text": [
      "Training Step: 152  | total loss: \u001b[1m\u001b[32m1.57213\u001b[0m\u001b[0m | time: 69.086s\n\u001b[2K\r| Adam | epoch: 001 | loss: 1.57213 - acc: 0.4243 -- iter: 14592/50000\n"
     ]
    },
    {
     "name": "stdout",
     "output_type": "stream",
     "text": [
      "Training Step: 153  | total loss: \u001b[1m\u001b[32m1.57073\u001b[0m\u001b[0m | time: 69.496s\n\u001b[2K\r| Adam | epoch: 001 | loss: 1.57073 - acc: 0.4256 -- iter: 14688/50000\n"
     ]
    },
    {
     "name": "stdout",
     "output_type": "stream",
     "text": [
      "Training Step: 154  | total loss: \u001b[1m\u001b[32m1.58656\u001b[0m\u001b[0m | time: 69.913s\n\u001b[2K\r| Adam | epoch: 001 | loss: 1.58656 - acc: 0.4278 -- iter: 14784/50000\n"
     ]
    },
    {
     "name": "stdout",
     "output_type": "stream",
     "text": [
      "Training Step: 155  | total loss: \u001b[1m\u001b[32m1.57694\u001b[0m\u001b[0m | time: 70.322s\n\u001b[2K\r| Adam | epoch: 001 | loss: 1.57694 - acc: 0.4288 -- iter: 14880/50000\n"
     ]
    },
    {
     "name": "stdout",
     "output_type": "stream",
     "text": [
      "Training Step: 156  | total loss: \u001b[1m\u001b[32m1.56935\u001b[0m\u001b[0m | time: 70.722s\n\u001b[2K\r| Adam | epoch: 001 | loss: 1.56935 - acc: 0.4318 -- iter: 14976/50000\n"
     ]
    },
    {
     "name": "stdout",
     "output_type": "stream",
     "text": [
      "Training Step: 157  | total loss: \u001b[1m\u001b[32m1.54378\u001b[0m\u001b[0m | time: 71.128s\n\u001b[2K\r| Adam | epoch: 001 | loss: 1.54378 - acc: 0.4417 -- iter: 15072/50000\n"
     ]
    },
    {
     "name": "stdout",
     "output_type": "stream",
     "text": [
      "Training Step: 158  | total loss: \u001b[1m\u001b[32m1.53607\u001b[0m\u001b[0m | time: 71.539s\n\u001b[2K\r| Adam | epoch: 001 | loss: 1.53607 - acc: 0.4403 -- iter: 15168/50000\n"
     ]
    },
    {
     "name": "stdout",
     "output_type": "stream",
     "text": [
      "Training Step: 159  | total loss: \u001b[1m\u001b[32m1.54150\u001b[0m\u001b[0m | time: 71.945s\n\u001b[2K\r| Adam | epoch: 001 | loss: 1.54150 - acc: 0.4379 -- iter: 15264/50000\n"
     ]
    },
    {
     "name": "stdout",
     "output_type": "stream",
     "text": [
      "Training Step: 160  | total loss: \u001b[1m\u001b[32m1.54526\u001b[0m\u001b[0m | time: 72.361s\n\u001b[2K\r| Adam | epoch: 001 | loss: 1.54526 - acc: 0.4337 -- iter: 15360/50000\n"
     ]
    },
    {
     "name": "stdout",
     "output_type": "stream",
     "text": [
      "Training Step: 161  | total loss: \u001b[1m\u001b[32m1.54416\u001b[0m\u001b[0m | time: 72.780s\n\u001b[2K\r| Adam | epoch: 001 | loss: 1.54416 - acc: 0.4330 -- iter: 15456/50000\n"
     ]
    },
    {
     "name": "stdout",
     "output_type": "stream",
     "text": [
      "Training Step: 162  | total loss: \u001b[1m\u001b[32m1.54490\u001b[0m\u001b[0m | time: 73.195s\n\u001b[2K\r| Adam | epoch: 001 | loss: 1.54490 - acc: 0.4272 -- iter: 15552/50000\n"
     ]
    },
    {
     "name": "stdout",
     "output_type": "stream",
     "text": [
      "Training Step: 163  | total loss: \u001b[1m\u001b[32m1.55840\u001b[0m\u001b[0m | time: 73.614s\n\u001b[2K\r| Adam | epoch: 001 | loss: 1.55840 - acc: 0.4241 -- iter: 15648/50000\n"
     ]
    },
    {
     "name": "stdout",
     "output_type": "stream",
     "text": [
      "Training Step: 164  | total loss: \u001b[1m\u001b[32m1.55455\u001b[0m\u001b[0m | time: 74.027s\n\u001b[2K\r| Adam | epoch: 001 | loss: 1.55455 - acc: 0.4254 -- iter: 15744/50000\n"
     ]
    },
    {
     "name": "stdout",
     "output_type": "stream",
     "text": [
      "Training Step: 165  | total loss: \u001b[1m\u001b[32m1.56150\u001b[0m\u001b[0m | time: 74.457s\n\u001b[2K\r| Adam | epoch: 001 | loss: 1.56150 - acc: 0.4214 -- iter: 15840/50000\n"
     ]
    },
    {
     "name": "stdout",
     "output_type": "stream",
     "text": [
      "Training Step: 166  | total loss: \u001b[1m\u001b[32m1.55023\u001b[0m\u001b[0m | time: 74.867s\n\u001b[2K\r| Adam | epoch: 001 | loss: 1.55023 - acc: 0.4303 -- iter: 15936/50000\n"
     ]
    },
    {
     "name": "stdout",
     "output_type": "stream",
     "text": [
      "Training Step: 167  | total loss: \u001b[1m\u001b[32m1.55458\u001b[0m\u001b[0m | time: 75.288s\n\u001b[2K\r| Adam | epoch: 001 | loss: 1.55458 - acc: 0.4258 -- iter: 16032/50000\n"
     ]
    },
    {
     "name": "stdout",
     "output_type": "stream",
     "text": [
      "Training Step: 168  | total loss: \u001b[1m\u001b[32m1.57434\u001b[0m\u001b[0m | time: 75.711s\n\u001b[2K\r| Adam | epoch: 001 | loss: 1.57434 - acc: 0.4228 -- iter: 16128/50000\n"
     ]
    },
    {
     "name": "stdout",
     "output_type": "stream",
     "text": [
      "Training Step: 169  | total loss: \u001b[1m\u001b[32m1.55063\u001b[0m\u001b[0m | time: 76.162s\n\u001b[2K\r| Adam | epoch: 001 | loss: 1.55063 - acc: 0.4347 -- iter: 16224/50000\n"
     ]
    },
    {
     "name": "stdout",
     "output_type": "stream",
     "text": [
      "Training Step: 170  | total loss: \u001b[1m\u001b[32m1.56514\u001b[0m\u001b[0m | time: 76.579s\n\u001b[2K\r| Adam | epoch: 001 | loss: 1.56514 - acc: 0.4329 -- iter: 16320/50000\n"
     ]
    },
    {
     "name": "stdout",
     "output_type": "stream",
     "text": [
      "Training Step: 171  | total loss: \u001b[1m\u001b[32m1.54943\u001b[0m\u001b[0m | time: 76.992s\n\u001b[2K\r| Adam | epoch: 001 | loss: 1.54943 - acc: 0.4386 -- iter: 16416/50000\n"
     ]
    },
    {
     "name": "stdout",
     "output_type": "stream",
     "text": [
      "Training Step: 172  | total loss: \u001b[1m\u001b[32m1.54466\u001b[0m\u001b[0m | time: 77.402s\n\u001b[2K\r| Adam | epoch: 001 | loss: 1.54466 - acc: 0.4385 -- iter: 16512/50000\n"
     ]
    },
    {
     "name": "stdout",
     "output_type": "stream",
     "text": [
      "Training Step: 173  | total loss: \u001b[1m\u001b[32m1.54083\u001b[0m\u001b[0m | time: 77.813s\n\u001b[2K\r| Adam | epoch: 001 | loss: 1.54083 - acc: 0.4415 -- iter: 16608/50000\n"
     ]
    },
    {
     "name": "stdout",
     "output_type": "stream",
     "text": [
      "Training Step: 174  | total loss: \u001b[1m\u001b[32m1.55340\u001b[0m\u001b[0m | time: 78.227s\n\u001b[2K\r| Adam | epoch: 001 | loss: 1.55340 - acc: 0.4411 -- iter: 16704/50000\n"
     ]
    },
    {
     "name": "stdout",
     "output_type": "stream",
     "text": [
      "Training Step: 175  | total loss: \u001b[1m\u001b[32m1.55731\u001b[0m\u001b[0m | time: 78.631s\n\u001b[2K\r| Adam | epoch: 001 | loss: 1.55731 - acc: 0.4397 -- iter: 16800/50000\n"
     ]
    },
    {
     "name": "stdout",
     "output_type": "stream",
     "text": [
      "Training Step: 176  | total loss: \u001b[1m\u001b[32m1.55817\u001b[0m\u001b[0m | time: 79.042s\n\u001b[2K\r| Adam | epoch: 001 | loss: 1.55817 - acc: 0.4416 -- iter: 16896/50000\n"
     ]
    },
    {
     "name": "stdout",
     "output_type": "stream",
     "text": [
      "Training Step: 177  | total loss: \u001b[1m\u001b[32m1.56921\u001b[0m\u001b[0m | time: 79.458s\n\u001b[2K\r| Adam | epoch: 001 | loss: 1.56921 - acc: 0.4380 -- iter: 16992/50000\n"
     ]
    },
    {
     "name": "stdout",
     "output_type": "stream",
     "text": [
      "Training Step: 178  | total loss: \u001b[1m\u001b[32m1.56290\u001b[0m\u001b[0m | time: 79.868s\n\u001b[2K\r| Adam | epoch: 001 | loss: 1.56290 - acc: 0.4359 -- iter: 17088/50000\n"
     ]
    },
    {
     "name": "stdout",
     "output_type": "stream",
     "text": [
      "Training Step: 179  | total loss: \u001b[1m\u001b[32m1.57487\u001b[0m\u001b[0m | time: 80.280s\n\u001b[2K\r| Adam | epoch: 001 | loss: 1.57487 - acc: 0.4361 -- iter: 17184/50000\n"
     ]
    },
    {
     "name": "stdout",
     "output_type": "stream",
     "text": [
      "Training Step: 180  | total loss: \u001b[1m\u001b[32m1.57114\u001b[0m\u001b[0m | time: 80.689s\n\u001b[2K\r| Adam | epoch: 001 | loss: 1.57114 - acc: 0.4352 -- iter: 17280/50000\n"
     ]
    },
    {
     "name": "stdout",
     "output_type": "stream",
     "text": [
      "Training Step: 181  | total loss: \u001b[1m\u001b[32m1.58902\u001b[0m\u001b[0m | time: 81.170s\n\u001b[2K\r| Adam | epoch: 001 | loss: 1.58902 - acc: 0.4302 -- iter: 17376/50000\n"
     ]
    },
    {
     "name": "stdout",
     "output_type": "stream",
     "text": [
      "Training Step: 182  | total loss: \u001b[1m\u001b[32m1.58418\u001b[0m\u001b[0m | time: 81.582s\n\u001b[2K\r| Adam | epoch: 001 | loss: 1.58418 - acc: 0.4340 -- iter: 17472/50000\n"
     ]
    },
    {
     "name": "stdout",
     "output_type": "stream",
     "text": [
      "Training Step: 183  | total loss: \u001b[1m\u001b[32m1.57500\u001b[0m\u001b[0m | time: 81.992s\n\u001b[2K\r| Adam | epoch: 001 | loss: 1.57500 - acc: 0.4333 -- iter: 17568/50000\n"
     ]
    },
    {
     "name": "stdout",
     "output_type": "stream",
     "text": [
      "Training Step: 184  | total loss: \u001b[1m\u001b[32m1.55673\u001b[0m\u001b[0m | time: 82.404s\n\u001b[2K\r| Adam | epoch: 001 | loss: 1.55673 - acc: 0.4400 -- iter: 17664/50000\n"
     ]
    },
    {
     "name": "stdout",
     "output_type": "stream",
     "text": [
      "Training Step: 185  | total loss: \u001b[1m\u001b[32m1.54487\u001b[0m\u001b[0m | time: 82.813s\n\u001b[2K\r| Adam | epoch: 001 | loss: 1.54487 - acc: 0.4471 -- iter: 17760/50000\n"
     ]
    },
    {
     "name": "stdout",
     "output_type": "stream",
     "text": [
      "Training Step: 186  | total loss: \u001b[1m\u001b[32m1.55597\u001b[0m\u001b[0m | time: 83.259s\n\u001b[2K\r| Adam | epoch: 001 | loss: 1.55597 - acc: 0.4398 -- iter: 17856/50000\n"
     ]
    },
    {
     "name": "stdout",
     "output_type": "stream",
     "text": [
      "Training Step: 187  | total loss: \u001b[1m\u001b[32m1.56311\u001b[0m\u001b[0m | time: 83.686s\n\u001b[2K\r| Adam | epoch: 001 | loss: 1.56311 - acc: 0.4375 -- iter: 17952/50000\n"
     ]
    },
    {
     "name": "stdout",
     "output_type": "stream",
     "text": [
      "Training Step: 188  | total loss: \u001b[1m\u001b[32m1.54469\u001b[0m\u001b[0m | time: 84.136s\n\u001b[2K\r| Adam | epoch: 001 | loss: 1.54469 - acc: 0.4459 -- iter: 18048/50000\n"
     ]
    },
    {
     "name": "stdout",
     "output_type": "stream",
     "text": [
      "Training Step: 189  | total loss: \u001b[1m\u001b[32m1.55199\u001b[0m\u001b[0m | time: 84.561s\n\u001b[2K\r| Adam | epoch: 001 | loss: 1.55199 - acc: 0.4419 -- iter: 18144/50000\n"
     ]
    },
    {
     "name": "stdout",
     "output_type": "stream",
     "text": [
      "Training Step: 190  | total loss: \u001b[1m\u001b[32m1.55340\u001b[0m\u001b[0m | time: 85.025s\n\u001b[2K\r| Adam | epoch: 001 | loss: 1.55340 - acc: 0.4352 -- iter: 18240/50000\n"
     ]
    },
    {
     "name": "stdout",
     "output_type": "stream",
     "text": [
      "Training Step: 191  | total loss: \u001b[1m\u001b[32m1.54280\u001b[0m\u001b[0m | time: 85.433s\n\u001b[2K\r| Adam | epoch: 001 | loss: 1.54280 - acc: 0.4427 -- iter: 18336/50000\n"
     ]
    },
    {
     "name": "stdout",
     "output_type": "stream",
     "text": [
      "Training Step: 192  | total loss: \u001b[1m\u001b[32m1.52234\u001b[0m\u001b[0m | time: 85.849s\n\u001b[2K\r| Adam | epoch: 001 | loss: 1.52234 - acc: 0.4485 -- iter: 18432/50000\n"
     ]
    },
    {
     "name": "stdout",
     "output_type": "stream",
     "text": [
      "Training Step: 193  | total loss: \u001b[1m\u001b[32m1.52642\u001b[0m\u001b[0m | time: 86.314s\n\u001b[2K\r| Adam | epoch: 001 | loss: 1.52642 - acc: 0.4536 -- iter: 18528/50000\n"
     ]
    },
    {
     "name": "stdout",
     "output_type": "stream",
     "text": [
      "Training Step: 194  | total loss: \u001b[1m\u001b[32m1.53805\u001b[0m\u001b[0m | time: 86.733s\n\u001b[2K\r| Adam | epoch: 001 | loss: 1.53805 - acc: 0.4489 -- iter: 18624/50000\n"
     ]
    },
    {
     "name": "stdout",
     "output_type": "stream",
     "text": [
      "Training Step: 195  | total loss: \u001b[1m\u001b[32m1.52302\u001b[0m\u001b[0m | time: 87.181s\n\u001b[2K\r| Adam | epoch: 001 | loss: 1.52302 - acc: 0.4529 -- iter: 18720/50000\n"
     ]
    },
    {
     "name": "stdout",
     "output_type": "stream",
     "text": [
      "Training Step: 196  | total loss: \u001b[1m\u001b[32m1.51536\u001b[0m\u001b[0m | time: 87.606s\n\u001b[2K\r| Adam | epoch: 001 | loss: 1.51536 - acc: 0.4493 -- iter: 18816/50000\n"
     ]
    },
    {
     "name": "stdout",
     "output_type": "stream",
     "text": [
      "Training Step: 197  | total loss: \u001b[1m\u001b[32m1.51734\u001b[0m\u001b[0m | time: 88.021s\n\u001b[2K\r| Adam | epoch: 001 | loss: 1.51734 - acc: 0.4544 -- iter: 18912/50000\n"
     ]
    },
    {
     "name": "stdout",
     "output_type": "stream",
     "text": [
      "Training Step: 198  | total loss: \u001b[1m\u001b[32m1.51586\u001b[0m\u001b[0m | time: 88.438s\n\u001b[2K\r| Adam | epoch: 001 | loss: 1.51586 - acc: 0.4517 -- iter: 19008/50000\n"
     ]
    },
    {
     "name": "stdout",
     "output_type": "stream",
     "text": [
      "Training Step: 199  | total loss: \u001b[1m\u001b[32m1.50904\u001b[0m\u001b[0m | time: 88.866s\n\u001b[2K\r| Adam | epoch: 001 | loss: 1.50904 - acc: 0.4492 -- iter: 19104/50000\n"
     ]
    },
    {
     "name": "stdout",
     "output_type": "stream",
     "text": [
      "Training Step: 200  | total loss: \u001b[1m\u001b[32m1.51854\u001b[0m\u001b[0m | time: 89.285s\n\u001b[2K\r| Adam | epoch: 001 | loss: 1.51854 - acc: 0.4491 -- iter: 19200/50000\n"
     ]
    },
    {
     "name": "stdout",
     "output_type": "stream",
     "text": [
      "Training Step: 201  | total loss: \u001b[1m\u001b[32m1.50323\u001b[0m\u001b[0m | time: 89.695s\n\u001b[2K\r| Adam | epoch: 001 | loss: 1.50323 - acc: 0.4604 -- iter: 19296/50000\n"
     ]
    },
    {
     "name": "stdout",
     "output_type": "stream",
     "text": [
      "Training Step: 202  | total loss: \u001b[1m\u001b[32m1.51357\u001b[0m\u001b[0m | time: 90.113s\n\u001b[2K\r| Adam | epoch: 001 | loss: 1.51357 - acc: 0.4540 -- iter: 19392/50000\n"
     ]
    },
    {
     "name": "stdout",
     "output_type": "stream",
     "text": [
      "Training Step: 203  | total loss: \u001b[1m\u001b[32m1.53466\u001b[0m\u001b[0m | time: 90.529s\n\u001b[2K\r| Adam | epoch: 001 | loss: 1.53466 - acc: 0.4492 -- iter: 19488/50000\n"
     ]
    },
    {
     "name": "stdout",
     "output_type": "stream",
     "text": [
      "Training Step: 204  | total loss: \u001b[1m\u001b[32m1.52401\u001b[0m\u001b[0m | time: 91.011s\n\u001b[2K\r| Adam | epoch: 001 | loss: 1.52401 - acc: 0.4511 -- iter: 19584/50000\n"
     ]
    },
    {
     "name": "stdout",
     "output_type": "stream",
     "text": [
      "Training Step: 205  | total loss: \u001b[1m\u001b[32m1.53294\u001b[0m\u001b[0m | time: 91.424s\n\u001b[2K\r| Adam | epoch: 001 | loss: 1.53294 - acc: 0.4373 -- iter: 19680/50000\n"
     ]
    },
    {
     "name": "stdout",
     "output_type": "stream",
     "text": [
      "Training Step: 206  | total loss: \u001b[1m\u001b[32m1.52501\u001b[0m\u001b[0m | time: 91.843s\n\u001b[2K\r| Adam | epoch: 001 | loss: 1.52501 - acc: 0.4404 -- iter: 19776/50000\n"
     ]
    },
    {
     "name": "stdout",
     "output_type": "stream",
     "text": [
      "Training Step: 207  | total loss: \u001b[1m\u001b[32m1.52707\u001b[0m\u001b[0m | time: 92.252s\n\u001b[2K\r| Adam | epoch: 001 | loss: 1.52707 - acc: 0.4401 -- iter: 19872/50000\n"
     ]
    },
    {
     "name": "stdout",
     "output_type": "stream",
     "text": [
      "Training Step: 208  | total loss: \u001b[1m\u001b[32m1.52270\u001b[0m\u001b[0m | time: 92.671s\n\u001b[2K\r| Adam | epoch: 001 | loss: 1.52270 - acc: 0.4367 -- iter: 19968/50000\n"
     ]
    },
    {
     "name": "stdout",
     "output_type": "stream",
     "text": [
      "Training Step: 209  | total loss: \u001b[1m\u001b[32m1.51180\u001b[0m\u001b[0m | time: 93.074s\n\u001b[2K\r| Adam | epoch: 001 | loss: 1.51180 - acc: 0.4358 -- iter: 20064/50000\n"
     ]
    },
    {
     "name": "stdout",
     "output_type": "stream",
     "text": [
      "Training Step: 210  | total loss: \u001b[1m\u001b[32m1.52177\u001b[0m\u001b[0m | time: 93.482s\n\u001b[2K\r| Adam | epoch: 001 | loss: 1.52177 - acc: 0.4287 -- iter: 20160/50000\n"
     ]
    },
    {
     "name": "stdout",
     "output_type": "stream",
     "text": [
      "Training Step: 211  | total loss: \u001b[1m\u001b[32m1.50957\u001b[0m\u001b[0m | time: 93.893s\n\u001b[2K\r| Adam | epoch: 001 | loss: 1.50957 - acc: 0.4275 -- iter: 20256/50000\n"
     ]
    },
    {
     "name": "stdout",
     "output_type": "stream",
     "text": [
      "Training Step: 212  | total loss: \u001b[1m\u001b[32m1.52208\u001b[0m\u001b[0m | time: 94.307s\n\u001b[2K\r| Adam | epoch: 001 | loss: 1.52208 - acc: 0.4285 -- iter: 20352/50000\n"
     ]
    },
    {
     "name": "stdout",
     "output_type": "stream",
     "text": [
      "Training Step: 213  | total loss: \u001b[1m\u001b[32m1.53165\u001b[0m\u001b[0m | time: 94.723s\n\u001b[2K\r| Adam | epoch: 001 | loss: 1.53165 - acc: 0.4283 -- iter: 20448/50000\n"
     ]
    },
    {
     "name": "stdout",
     "output_type": "stream",
     "text": [
      "Training Step: 214  | total loss: \u001b[1m\u001b[32m1.53002\u001b[0m\u001b[0m | time: 95.139s\n\u001b[2K\r| Adam | epoch: 001 | loss: 1.53002 - acc: 0.4282 -- iter: 20544/50000\n"
     ]
    },
    {
     "name": "stdout",
     "output_type": "stream",
     "text": [
      "Training Step: 215  | total loss: \u001b[1m\u001b[32m1.53943\u001b[0m\u001b[0m | time: 95.554s\n\u001b[2K\r| Adam | epoch: 001 | loss: 1.53943 - acc: 0.4323 -- iter: 20640/50000\n"
     ]
    },
    {
     "name": "stdout",
     "output_type": "stream",
     "text": [
      "Training Step: 216  | total loss: \u001b[1m\u001b[32m1.54925\u001b[0m\u001b[0m | time: 95.972s\n\u001b[2K\r| Adam | epoch: 001 | loss: 1.54925 - acc: 0.4338 -- iter: 20736/50000\n"
     ]
    },
    {
     "name": "stdout",
     "output_type": "stream",
     "text": [
      "Training Step: 217  | total loss: \u001b[1m\u001b[32m1.54421\u001b[0m\u001b[0m | time: 96.389s\n\u001b[2K\r| Adam | epoch: 001 | loss: 1.54421 - acc: 0.4436 -- iter: 20832/50000\n"
     ]
    },
    {
     "name": "stdout",
     "output_type": "stream",
     "text": [
      "Training Step: 218  | total loss: \u001b[1m\u001b[32m1.55837\u001b[0m\u001b[0m | time: 96.809s\n\u001b[2K\r| Adam | epoch: 001 | loss: 1.55837 - acc: 0.4388 -- iter: 20928/50000\n"
     ]
    },
    {
     "name": "stdout",
     "output_type": "stream",
     "text": [
      "Training Step: 219  | total loss: \u001b[1m\u001b[32m1.54922\u001b[0m\u001b[0m | time: 97.220s\n\u001b[2K\r| Adam | epoch: 001 | loss: 1.54922 - acc: 0.4449 -- iter: 21024/50000\n"
     ]
    },
    {
     "name": "stdout",
     "output_type": "stream",
     "text": [
      "Training Step: 220  | total loss: \u001b[1m\u001b[32m1.54622\u001b[0m\u001b[0m | time: 97.629s\n\u001b[2K\r| Adam | epoch: 001 | loss: 1.54622 - acc: 0.4390 -- iter: 21120/50000\n"
     ]
    },
    {
     "name": "stdout",
     "output_type": "stream",
     "text": [
      "Training Step: 221  | total loss: \u001b[1m\u001b[32m1.53919\u001b[0m\u001b[0m | time: 98.051s\n\u001b[2K\r| Adam | epoch: 001 | loss: 1.53919 - acc: 0.4440 -- iter: 21216/50000\n"
     ]
    },
    {
     "name": "stdout",
     "output_type": "stream",
     "text": [
      "Training Step: 222  | total loss: \u001b[1m\u001b[32m1.54331\u001b[0m\u001b[0m | time: 98.481s\n\u001b[2K\r| Adam | epoch: 001 | loss: 1.54331 - acc: 0.4423 -- iter: 21312/50000\n"
     ]
    },
    {
     "name": "stdout",
     "output_type": "stream",
     "text": [
      "Training Step: 223  | total loss: \u001b[1m\u001b[32m1.54028\u001b[0m\u001b[0m | time: 98.883s\n\u001b[2K\r| Adam | epoch: 001 | loss: 1.54028 - acc: 0.4450 -- iter: 21408/50000\n"
     ]
    },
    {
     "name": "stdout",
     "output_type": "stream",
     "text": [
      "Training Step: 224  | total loss: \u001b[1m\u001b[32m1.54661\u001b[0m\u001b[0m | time: 99.292s\n\u001b[2K\r| Adam | epoch: 001 | loss: 1.54661 - acc: 0.4401 -- iter: 21504/50000\n"
     ]
    },
    {
     "name": "stdout",
     "output_type": "stream",
     "text": [
      "Training Step: 225  | total loss: \u001b[1m\u001b[32m1.53145\u001b[0m\u001b[0m | time: 99.704s\n\u001b[2K\r| Adam | epoch: 001 | loss: 1.53145 - acc: 0.4481 -- iter: 21600/50000\n"
     ]
    },
    {
     "name": "stdout",
     "output_type": "stream",
     "text": [
      "Training Step: 226  | total loss: \u001b[1m\u001b[32m1.52508\u001b[0m\u001b[0m | time: 100.116s\n\u001b[2K\r| Adam | epoch: 001 | loss: 1.52508 - acc: 0.4492 -- iter: 21696/50000\n"
     ]
    },
    {
     "name": "stdout",
     "output_type": "stream",
     "text": [
      "Training Step: 227  | total loss: \u001b[1m\u001b[32m1.52024\u001b[0m\u001b[0m | time: 100.533s\n\u001b[2K\r| Adam | epoch: 001 | loss: 1.52024 - acc: 0.4480 -- iter: 21792/50000\n"
     ]
    },
    {
     "name": "stdout",
     "output_type": "stream",
     "text": [
      "Training Step: 228  | total loss: \u001b[1m\u001b[32m1.50147\u001b[0m\u001b[0m | time: 100.958s\n\u001b[2K\r| Adam | epoch: 001 | loss: 1.50147 - acc: 0.4490 -- iter: 21888/50000\n"
     ]
    },
    {
     "name": "stdout",
     "output_type": "stream",
     "text": [
      "Training Step: 229  | total loss: \u001b[1m\u001b[32m1.49873\u001b[0m\u001b[0m | time: 101.384s\n\u001b[2K\r| Adam | epoch: 001 | loss: 1.49873 - acc: 0.4510 -- iter: 21984/50000\n"
     ]
    },
    {
     "name": "stdout",
     "output_type": "stream",
     "text": [
      "Training Step: 230  | total loss: \u001b[1m\u001b[32m1.49115\u001b[0m\u001b[0m | time: 101.794s\n\u001b[2K\r| Adam | epoch: 001 | loss: 1.49115 - acc: 0.4507 -- iter: 22080/50000\n"
     ]
    },
    {
     "name": "stdout",
     "output_type": "stream",
     "text": [
      "Training Step: 231  | total loss: \u001b[1m\u001b[32m1.48456\u001b[0m\u001b[0m | time: 102.210s\n\u001b[2K\r| Adam | epoch: 001 | loss: 1.48456 - acc: 0.4577 -- iter: 22176/50000\n"
     ]
    },
    {
     "name": "stdout",
     "output_type": "stream",
     "text": [
      "Training Step: 232  | total loss: \u001b[1m\u001b[32m1.48111\u001b[0m\u001b[0m | time: 102.628s\n\u001b[2K\r| Adam | epoch: 001 | loss: 1.48111 - acc: 0.4567 -- iter: 22272/50000\n"
     ]
    },
    {
     "name": "stdout",
     "output_type": "stream",
     "text": [
      "Training Step: 233  | total loss: \u001b[1m\u001b[32m1.48472\u001b[0m\u001b[0m | time: 103.089s\n\u001b[2K\r| Adam | epoch: 001 | loss: 1.48472 - acc: 0.4611 -- iter: 22368/50000\n"
     ]
    },
    {
     "name": "stdout",
     "output_type": "stream",
     "text": [
      "Training Step: 234  | total loss: \u001b[1m\u001b[32m1.48964\u001b[0m\u001b[0m | time: 103.518s\n\u001b[2K\r| Adam | epoch: 001 | loss: 1.48964 - acc: 0.4577 -- iter: 22464/50000\n"
     ]
    },
    {
     "name": "stdout",
     "output_type": "stream",
     "text": [
      "Training Step: 235  | total loss: \u001b[1m\u001b[32m1.48584\u001b[0m\u001b[0m | time: 103.939s\n\u001b[2K\r| Adam | epoch: 001 | loss: 1.48584 - acc: 0.4567 -- iter: 22560/50000\n"
     ]
    },
    {
     "name": "stdout",
     "output_type": "stream",
     "text": [
      "Training Step: 236  | total loss: \u001b[1m\u001b[32m1.47688\u001b[0m\u001b[0m | time: 104.354s\n\u001b[2K\r| Adam | epoch: 001 | loss: 1.47688 - acc: 0.4610 -- iter: 22656/50000\n"
     ]
    },
    {
     "name": "stdout",
     "output_type": "stream",
     "text": [
      "Training Step: 237  | total loss: \u001b[1m\u001b[32m1.47158\u001b[0m\u001b[0m | time: 104.768s\n\u001b[2K\r| Adam | epoch: 001 | loss: 1.47158 - acc: 0.4576 -- iter: 22752/50000\n"
     ]
    },
    {
     "name": "stdout",
     "output_type": "stream",
     "text": [
      "Training Step: 238  | total loss: \u001b[1m\u001b[32m1.48549\u001b[0m\u001b[0m | time: 105.181s\n\u001b[2K\r| Adam | epoch: 001 | loss: 1.48549 - acc: 0.4483 -- iter: 22848/50000\n"
     ]
    },
    {
     "name": "stdout",
     "output_type": "stream",
     "text": [
      "Training Step: 239  | total loss: \u001b[1m\u001b[32m1.49737\u001b[0m\u001b[0m | time: 105.602s\n\u001b[2K\r| Adam | epoch: 001 | loss: 1.49737 - acc: 0.4410 -- iter: 22944/50000\n"
     ]
    },
    {
     "name": "stdout",
     "output_type": "stream",
     "text": [
      "Training Step: 240  | total loss: \u001b[1m\u001b[32m1.47990\u001b[0m\u001b[0m | time: 106.014s\n\u001b[2K\r| Adam | epoch: 001 | loss: 1.47990 - acc: 0.4490 -- iter: 23040/50000\n"
     ]
    },
    {
     "name": "stdout",
     "output_type": "stream",
     "text": [
      "Training Step: 241  | total loss: \u001b[1m\u001b[32m1.46191\u001b[0m\u001b[0m | time: 106.433s\n\u001b[2K\r| Adam | epoch: 001 | loss: 1.46191 - acc: 0.4572 -- iter: 23136/50000\n"
     ]
    },
    {
     "name": "stdout",
     "output_type": "stream",
     "text": [
      "Training Step: 242  | total loss: \u001b[1m\u001b[32m1.47529\u001b[0m\u001b[0m | time: 106.856s\n\u001b[2K\r| Adam | epoch: 001 | loss: 1.47529 - acc: 0.4479 -- iter: 23232/50000\n"
     ]
    },
    {
     "name": "stdout",
     "output_type": "stream",
     "text": [
      "Training Step: 243  | total loss: \u001b[1m\u001b[32m1.46697\u001b[0m\u001b[0m | time: 107.278s\n\u001b[2K\r| Adam | epoch: 001 | loss: 1.46697 - acc: 0.4511 -- iter: 23328/50000\n"
     ]
    },
    {
     "name": "stdout",
     "output_type": "stream",
     "text": [
      "Training Step: 244  | total loss: \u001b[1m\u001b[32m1.45871\u001b[0m\u001b[0m | time: 107.691s\n\u001b[2K\r| Adam | epoch: 001 | loss: 1.45871 - acc: 0.4560 -- iter: 23424/50000\n"
     ]
    },
    {
     "name": "stdout",
     "output_type": "stream",
     "text": [
      "Training Step: 245  | total loss: \u001b[1m\u001b[32m1.44960\u001b[0m\u001b[0m | time: 108.149s\n\u001b[2K\r| Adam | epoch: 001 | loss: 1.44960 - acc: 0.4708 -- iter: 23520/50000\n"
     ]
    },
    {
     "name": "stdout",
     "output_type": "stream",
     "text": [
      "Training Step: 246  | total loss: \u001b[1m\u001b[32m1.45331\u001b[0m\u001b[0m | time: 108.569s\n\u001b[2K\r| Adam | epoch: 001 | loss: 1.45331 - acc: 0.4716 -- iter: 23616/50000\n"
     ]
    },
    {
     "name": "stdout",
     "output_type": "stream",
     "text": [
      "Training Step: 247  | total loss: \u001b[1m\u001b[32m1.46183\u001b[0m\u001b[0m | time: 108.989s\n\u001b[2K\r| Adam | epoch: 001 | loss: 1.46183 - acc: 0.4682 -- iter: 23712/50000\n"
     ]
    },
    {
     "name": "stdout",
     "output_type": "stream",
     "text": [
      "Training Step: 248  | total loss: \u001b[1m\u001b[32m1.46813\u001b[0m\u001b[0m | time: 109.409s\n\u001b[2K\r| Adam | epoch: 001 | loss: 1.46813 - acc: 0.4683 -- iter: 23808/50000\n"
     ]
    },
    {
     "name": "stdout",
     "output_type": "stream",
     "text": [
      "Training Step: 249  | total loss: \u001b[1m\u001b[32m1.47084\u001b[0m\u001b[0m | time: 109.829s\n\u001b[2K\r| Adam | epoch: 001 | loss: 1.47084 - acc: 0.4652 -- iter: 23904/50000\n"
     ]
    },
    {
     "name": "stdout",
     "output_type": "stream",
     "text": [
      "Training Step: 250  | total loss: \u001b[1m\u001b[32m1.48494\u001b[0m\u001b[0m | time: 110.250s\n\u001b[2K\r| Adam | epoch: 001 | loss: 1.48494 - acc: 0.4572 -- iter: 24000/50000\n"
     ]
    },
    {
     "name": "stdout",
     "output_type": "stream",
     "text": [
      "Training Step: 251  | total loss: \u001b[1m\u001b[32m1.48505\u001b[0m\u001b[0m | time: 110.663s\n\u001b[2K\r| Adam | epoch: 001 | loss: 1.48505 - acc: 0.4615 -- iter: 24096/50000\n"
     ]
    },
    {
     "name": "stdout",
     "output_type": "stream",
     "text": [
      "Training Step: 252  | total loss: \u001b[1m\u001b[32m1.48421\u001b[0m\u001b[0m | time: 111.074s\n\u001b[2K\r| Adam | epoch: 001 | loss: 1.48421 - acc: 0.4653 -- iter: 24192/50000\n"
     ]
    },
    {
     "name": "stdout",
     "output_type": "stream",
     "text": [
      "Training Step: 253  | total loss: \u001b[1m\u001b[32m1.47685\u001b[0m\u001b[0m | time: 111.487s\n\u001b[2K\r| Adam | epoch: 001 | loss: 1.47685 - acc: 0.4698 -- iter: 24288/50000\n"
     ]
    },
    {
     "name": "stdout",
     "output_type": "stream",
     "text": [
      "Training Step: 254  | total loss: \u001b[1m\u001b[32m1.47824\u001b[0m\u001b[0m | time: 111.908s\n\u001b[2K\r| Adam | epoch: 001 | loss: 1.47824 - acc: 0.4729 -- iter: 24384/50000\n"
     ]
    },
    {
     "name": "stdout",
     "output_type": "stream",
     "text": [
      "Training Step: 255  | total loss: \u001b[1m\u001b[32m1.46651\u001b[0m\u001b[0m | time: 112.326s\n\u001b[2K\r| Adam | epoch: 001 | loss: 1.46651 - acc: 0.4745 -- iter: 24480/50000\n"
     ]
    },
    {
     "name": "stdout",
     "output_type": "stream",
     "text": [
      "Training Step: 256  | total loss: \u001b[1m\u001b[32m1.47629\u001b[0m\u001b[0m | time: 112.733s\n\u001b[2K\r| Adam | epoch: 001 | loss: 1.47629 - acc: 0.4740 -- iter: 24576/50000\n"
     ]
    },
    {
     "name": "stdout",
     "output_type": "stream",
     "text": [
      "Training Step: 257  | total loss: \u001b[1m\u001b[32m1.47546\u001b[0m\u001b[0m | time: 113.152s\n\u001b[2K\r| Adam | epoch: 001 | loss: 1.47546 - acc: 0.4714 -- iter: 24672/50000\n"
     ]
    },
    {
     "name": "stdout",
     "output_type": "stream",
     "text": [
      "Training Step: 258  | total loss: \u001b[1m\u001b[32m1.47208\u001b[0m\u001b[0m | time: 113.561s\n\u001b[2K\r| Adam | epoch: 001 | loss: 1.47208 - acc: 0.4753 -- iter: 24768/50000\n"
     ]
    },
    {
     "name": "stdout",
     "output_type": "stream",
     "text": [
      "Training Step: 259  | total loss: \u001b[1m\u001b[32m1.46636\u001b[0m\u001b[0m | time: 113.976s\n\u001b[2K\r| Adam | epoch: 001 | loss: 1.46636 - acc: 0.4704 -- iter: 24864/50000\n"
     ]
    },
    {
     "name": "stdout",
     "output_type": "stream",
     "text": [
      "Training Step: 260  | total loss: \u001b[1m\u001b[32m1.46124\u001b[0m\u001b[0m | time: 114.392s\n\u001b[2K\r| Adam | epoch: 001 | loss: 1.46124 - acc: 0.4713 -- iter: 24960/50000\n"
     ]
    },
    {
     "name": "stdout",
     "output_type": "stream",
     "text": [
      "Training Step: 261  | total loss: \u001b[1m\u001b[32m1.46120\u001b[0m\u001b[0m | time: 114.801s\n\u001b[2K\r| Adam | epoch: 001 | loss: 1.46120 - acc: 0.4690 -- iter: 25056/50000\n"
     ]
    },
    {
     "name": "stdout",
     "output_type": "stream",
     "text": [
      "Training Step: 262  | total loss: \u001b[1m\u001b[32m1.45917\u001b[0m\u001b[0m | time: 115.221s\n\u001b[2K\r| Adam | epoch: 001 | loss: 1.45917 - acc: 0.4658 -- iter: 25152/50000\n"
     ]
    },
    {
     "name": "stdout",
     "output_type": "stream",
     "text": [
      "Training Step: 263  | total loss: \u001b[1m\u001b[32m1.45314\u001b[0m\u001b[0m | time: 115.645s\n\u001b[2K\r| Adam | epoch: 001 | loss: 1.45314 - acc: 0.4692 -- iter: 25248/50000\n"
     ]
    },
    {
     "name": "stdout",
     "output_type": "stream",
     "text": [
      "Training Step: 264  | total loss: \u001b[1m\u001b[32m1.45401\u001b[0m\u001b[0m | time: 116.084s\n\u001b[2K\r| Adam | epoch: 001 | loss: 1.45401 - acc: 0.4661 -- iter: 25344/50000\n"
     ]
    },
    {
     "name": "stdout",
     "output_type": "stream",
     "text": [
      "Training Step: 265  | total loss: \u001b[1m\u001b[32m1.44132\u001b[0m\u001b[0m | time: 116.507s\n\u001b[2K\r| Adam | epoch: 001 | loss: 1.44132 - acc: 0.4715 -- iter: 25440/50000\n"
     ]
    },
    {
     "name": "stdout",
     "output_type": "stream",
     "text": [
      "Training Step: 266  | total loss: \u001b[1m\u001b[32m1.42442\u001b[0m\u001b[0m | time: 116.943s\n\u001b[2K\r| Adam | epoch: 001 | loss: 1.42442 - acc: 0.4806 -- iter: 25536/50000\n"
     ]
    },
    {
     "name": "stdout",
     "output_type": "stream",
     "text": [
      "Training Step: 267  | total loss: \u001b[1m\u001b[32m1.43203\u001b[0m\u001b[0m | time: 117.359s\n\u001b[2K\r| Adam | epoch: 001 | loss: 1.43203 - acc: 0.4753 -- iter: 25632/50000\n"
     ]
    },
    {
     "name": "stdout",
     "output_type": "stream",
     "text": [
      "Training Step: 268  | total loss: \u001b[1m\u001b[32m1.43884\u001b[0m\u001b[0m | time: 117.791s\n\u001b[2K\r| Adam | epoch: 001 | loss: 1.43884 - acc: 0.4705 -- iter: 25728/50000\n"
     ]
    },
    {
     "name": "stdout",
     "output_type": "stream",
     "text": [
      "Training Step: 269  | total loss: \u001b[1m\u001b[32m1.44378\u001b[0m\u001b[0m | time: 118.366s\n\u001b[2K\r| Adam | epoch: 001 | loss: 1.44378 - acc: 0.4713 -- iter: 25824/50000\n"
     ]
    },
    {
     "name": "stdout",
     "output_type": "stream",
     "text": [
      "Training Step: 270  | total loss: \u001b[1m\u001b[32m1.44938\u001b[0m\u001b[0m | time: 118.797s\n\u001b[2K\r| Adam | epoch: 001 | loss: 1.44938 - acc: 0.4742 -- iter: 25920/50000\n"
     ]
    },
    {
     "name": "stdout",
     "output_type": "stream",
     "text": [
      "Training Step: 271  | total loss: \u001b[1m\u001b[32m1.44929\u001b[0m\u001b[0m | time: 119.239s\n\u001b[2K\r| Adam | epoch: 001 | loss: 1.44929 - acc: 0.4809 -- iter: 26016/50000\n"
     ]
    },
    {
     "name": "stdout",
     "output_type": "stream",
     "text": [
      "Training Step: 272  | total loss: \u001b[1m\u001b[32m1.45362\u001b[0m\u001b[0m | time: 119.655s\n\u001b[2K\r| Adam | epoch: 001 | loss: 1.45362 - acc: 0.4735 -- iter: 26112/50000\n"
     ]
    },
    {
     "name": "stdout",
     "output_type": "stream",
     "text": [
      "Training Step: 273  | total loss: \u001b[1m\u001b[32m1.45364\u001b[0m\u001b[0m | time: 120.063s\n\u001b[2K\r| Adam | epoch: 001 | loss: 1.45364 - acc: 0.4720 -- iter: 26208/50000\n"
     ]
    },
    {
     "name": "stdout",
     "output_type": "stream",
     "text": [
      "Training Step: 274  | total loss: \u001b[1m\u001b[32m1.44764\u001b[0m\u001b[0m | time: 120.479s\n\u001b[2K\r| Adam | epoch: 001 | loss: 1.44764 - acc: 0.4716 -- iter: 26304/50000\n"
     ]
    },
    {
     "name": "stdout",
     "output_type": "stream",
     "text": [
      "Training Step: 275  | total loss: \u001b[1m\u001b[32m1.44170\u001b[0m\u001b[0m | time: 120.894s\n\u001b[2K\r| Adam | epoch: 001 | loss: 1.44170 - acc: 0.4734 -- iter: 26400/50000\n"
     ]
    },
    {
     "name": "stdout",
     "output_type": "stream",
     "text": [
      "Training Step: 276  | total loss: \u001b[1m\u001b[32m1.43453\u001b[0m\u001b[0m | time: 121.315s\n\u001b[2K\r| Adam | epoch: 001 | loss: 1.43453 - acc: 0.4751 -- iter: 26496/50000\n"
     ]
    },
    {
     "name": "stdout",
     "output_type": "stream",
     "text": [
      "Training Step: 277  | total loss: \u001b[1m\u001b[32m1.44265\u001b[0m\u001b[0m | time: 121.741s\n\u001b[2K\r| Adam | epoch: 001 | loss: 1.44265 - acc: 0.4755 -- iter: 26592/50000\n"
     ]
    },
    {
     "name": "stdout",
     "output_type": "stream",
     "text": [
      "Training Step: 278  | total loss: \u001b[1m\u001b[32m1.43583\u001b[0m\u001b[0m | time: 122.192s\n\u001b[2K\r| Adam | epoch: 001 | loss: 1.43583 - acc: 0.4748 -- iter: 26688/50000\n"
     ]
    },
    {
     "name": "stdout",
     "output_type": "stream",
     "text": [
      "Training Step: 279  | total loss: \u001b[1m\u001b[32m1.42040\u001b[0m\u001b[0m | time: 122.636s\n\u001b[2K\r| Adam | epoch: 001 | loss: 1.42040 - acc: 0.4856 -- iter: 26784/50000\n"
     ]
    },
    {
     "name": "stdout",
     "output_type": "stream",
     "text": [
      "Training Step: 280  | total loss: \u001b[1m\u001b[32m1.42626\u001b[0m\u001b[0m | time: 123.107s\n\u001b[2K\r| Adam | epoch: 001 | loss: 1.42626 - acc: 0.4840 -- iter: 26880/50000\n"
     ]
    },
    {
     "name": "stdout",
     "output_type": "stream",
     "text": [
      "Training Step: 281  | total loss: \u001b[1m\u001b[32m1.42266\u001b[0m\u001b[0m | time: 123.522s\n\u001b[2K\r| Adam | epoch: 001 | loss: 1.42266 - acc: 0.4804 -- iter: 26976/50000\n"
     ]
    },
    {
     "name": "stdout",
     "output_type": "stream",
     "text": [
      "Training Step: 282  | total loss: \u001b[1m\u001b[32m1.42310\u001b[0m\u001b[0m | time: 123.946s\n\u001b[2K\r| Adam | epoch: 001 | loss: 1.42310 - acc: 0.4761 -- iter: 27072/50000\n"
     ]
    },
    {
     "name": "stdout",
     "output_type": "stream",
     "text": [
      "Training Step: 283  | total loss: \u001b[1m\u001b[32m1.41024\u001b[0m\u001b[0m | time: 124.365s\n\u001b[2K\r| Adam | epoch: 001 | loss: 1.41024 - acc: 0.4837 -- iter: 27168/50000\n"
     ]
    },
    {
     "name": "stdout",
     "output_type": "stream",
     "text": [
      "Training Step: 284  | total loss: \u001b[1m\u001b[32m1.40520\u001b[0m\u001b[0m | time: 124.787s\n\u001b[2K\r| Adam | epoch: 001 | loss: 1.40520 - acc: 0.4895 -- iter: 27264/50000\n"
     ]
    },
    {
     "name": "stdout",
     "output_type": "stream",
     "text": [
      "Training Step: 285  | total loss: \u001b[1m\u001b[32m1.39902\u001b[0m\u001b[0m | time: 125.200s\n\u001b[2K\r| Adam | epoch: 001 | loss: 1.39902 - acc: 0.4895 -- iter: 27360/50000\n"
     ]
    },
    {
     "name": "stdout",
     "output_type": "stream",
     "text": [
      "Training Step: 286  | total loss: \u001b[1m\u001b[32m1.41181\u001b[0m\u001b[0m | time: 125.621s\n\u001b[2K\r| Adam | epoch: 001 | loss: 1.41181 - acc: 0.4916 -- iter: 27456/50000\n"
     ]
    },
    {
     "name": "stdout",
     "output_type": "stream",
     "text": [
      "Training Step: 287  | total loss: \u001b[1m\u001b[32m1.41734\u001b[0m\u001b[0m | time: 126.062s\n\u001b[2K\r| Adam | epoch: 001 | loss: 1.41734 - acc: 0.4841 -- iter: 27552/50000\n"
     ]
    },
    {
     "name": "stdout",
     "output_type": "stream",
     "text": [
      "Training Step: 288  | total loss: \u001b[1m\u001b[32m1.40791\u001b[0m\u001b[0m | time: 126.494s\n\u001b[2K\r| Adam | epoch: 001 | loss: 1.40791 - acc: 0.4857 -- iter: 27648/50000\n"
     ]
    },
    {
     "name": "stdout",
     "output_type": "stream",
     "text": [
      "Training Step: 289  | total loss: \u001b[1m\u001b[32m1.39646\u001b[0m\u001b[0m | time: 126.909s\n\u001b[2K\r| Adam | epoch: 001 | loss: 1.39646 - acc: 0.4923 -- iter: 27744/50000\n"
     ]
    },
    {
     "name": "stdout",
     "output_type": "stream",
     "text": [
      "Training Step: 290  | total loss: \u001b[1m\u001b[32m1.38556\u001b[0m\u001b[0m | time: 127.332s\n\u001b[2K\r| Adam | epoch: 001 | loss: 1.38556 - acc: 0.4941 -- iter: 27840/50000\n"
     ]
    },
    {
     "name": "stdout",
     "output_type": "stream",
     "text": [
      "Training Step: 291  | total loss: \u001b[1m\u001b[32m1.40409\u001b[0m\u001b[0m | time: 127.746s\n\u001b[2K\r| Adam | epoch: 001 | loss: 1.40409 - acc: 0.4885 -- iter: 27936/50000\n"
     ]
    },
    {
     "name": "stdout",
     "output_type": "stream",
     "text": [
      "Training Step: 292  | total loss: \u001b[1m\u001b[32m1.42294\u001b[0m\u001b[0m | time: 128.159s\n\u001b[2K\r| Adam | epoch: 001 | loss: 1.42294 - acc: 0.4771 -- iter: 28032/50000\n"
     ]
    },
    {
     "name": "stdout",
     "output_type": "stream",
     "text": [
      "Training Step: 293  | total loss: \u001b[1m\u001b[32m1.41446\u001b[0m\u001b[0m | time: 128.572s\n\u001b[2K\r| Adam | epoch: 001 | loss: 1.41446 - acc: 0.4815 -- iter: 28128/50000\n"
     ]
    },
    {
     "name": "stdout",
     "output_type": "stream",
     "text": [
      "Training Step: 294  | total loss: \u001b[1m\u001b[32m1.40451\u001b[0m\u001b[0m | time: 128.988s\n\u001b[2K\r| Adam | epoch: 001 | loss: 1.40451 - acc: 0.4906 -- iter: 28224/50000\n"
     ]
    },
    {
     "name": "stdout",
     "output_type": "stream",
     "text": [
      "Training Step: 295  | total loss: \u001b[1m\u001b[32m1.39397\u001b[0m\u001b[0m | time: 129.412s\n\u001b[2K\r| Adam | epoch: 001 | loss: 1.39397 - acc: 0.4947 -- iter: 28320/50000\n"
     ]
    },
    {
     "name": "stdout",
     "output_type": "stream",
     "text": [
      "Training Step: 296  | total loss: \u001b[1m\u001b[32m1.39930\u001b[0m\u001b[0m | time: 129.825s\n\u001b[2K\r| Adam | epoch: 001 | loss: 1.39930 - acc: 0.4890 -- iter: 28416/50000\n"
     ]
    },
    {
     "name": "stdout",
     "output_type": "stream",
     "text": [
      "Training Step: 297  | total loss: \u001b[1m\u001b[32m1.38156\u001b[0m\u001b[0m | time: 130.258s\n\u001b[2K\r| Adam | epoch: 001 | loss: 1.38156 - acc: 0.4974 -- iter: 28512/50000\n"
     ]
    },
    {
     "name": "stdout",
     "output_type": "stream",
     "text": [
      "Training Step: 298  | total loss: \u001b[1m\u001b[32m1.37204\u001b[0m\u001b[0m | time: 130.691s\n\u001b[2K\r| Adam | epoch: 001 | loss: 1.37204 - acc: 0.4966 -- iter: 28608/50000\n"
     ]
    },
    {
     "name": "stdout",
     "output_type": "stream",
     "text": [
      "Training Step: 299  | total loss: \u001b[1m\u001b[32m1.36704\u001b[0m\u001b[0m | time: 131.119s\n\u001b[2K\r| Adam | epoch: 001 | loss: 1.36704 - acc: 0.5053 -- iter: 28704/50000\n"
     ]
    },
    {
     "name": "stdout",
     "output_type": "stream",
     "text": [
      "Training Step: 300  | total loss: \u001b[1m\u001b[32m1.37694\u001b[0m\u001b[0m | time: 131.545s\n\u001b[2K\r| Adam | epoch: 001 | loss: 1.37694 - acc: 0.5079 -- iter: 28800/50000\n"
     ]
    },
    {
     "name": "stdout",
     "output_type": "stream",
     "text": [
      "Training Step: 301  | total loss: \u001b[1m\u001b[32m1.41037\u001b[0m\u001b[0m | time: 131.964s\n\u001b[2K\r| Adam | epoch: 001 | loss: 1.41037 - acc: 0.4946 -- iter: 28896/50000\n"
     ]
    },
    {
     "name": "stdout",
     "output_type": "stream",
     "text": [
      "Training Step: 302  | total loss: \u001b[1m\u001b[32m1.41917\u001b[0m\u001b[0m | time: 132.394s\n\u001b[2K\r| Adam | epoch: 001 | loss: 1.41917 - acc: 0.4899 -- iter: 28992/50000\n"
     ]
    },
    {
     "name": "stdout",
     "output_type": "stream",
     "text": [
      "Training Step: 303  | total loss: \u001b[1m\u001b[32m1.42072\u001b[0m\u001b[0m | time: 132.808s\n\u001b[2K\r| Adam | epoch: 001 | loss: 1.42072 - acc: 0.4930 -- iter: 29088/50000\n"
     ]
    },
    {
     "name": "stdout",
     "output_type": "stream",
     "text": [
      "Training Step: 304  | total loss: \u001b[1m\u001b[32m1.45450\u001b[0m\u001b[0m | time: 133.228s\n\u001b[2K\r| Adam | epoch: 001 | loss: 1.45450 - acc: 0.4895 -- iter: 29184/50000\n"
     ]
    },
    {
     "name": "stdout",
     "output_type": "stream",
     "text": [
      "Training Step: 305  | total loss: \u001b[1m\u001b[32m1.44825\u001b[0m\u001b[0m | time: 133.643s\n\u001b[2K\r| Adam | epoch: 001 | loss: 1.44825 - acc: 0.4927 -- iter: 29280/50000\n"
     ]
    },
    {
     "name": "stdout",
     "output_type": "stream",
     "text": [
      "Training Step: 306  | total loss: \u001b[1m\u001b[32m1.43296\u001b[0m\u001b[0m | time: 134.054s\n\u001b[2K\r| Adam | epoch: 001 | loss: 1.43296 - acc: 0.4965 -- iter: 29376/50000\n"
     ]
    },
    {
     "name": "stdout",
     "output_type": "stream",
     "text": [
      "Training Step: 307  | total loss: \u001b[1m\u001b[32m1.43699\u001b[0m\u001b[0m | time: 134.462s\n\u001b[2K\r| Adam | epoch: 001 | loss: 1.43699 - acc: 0.4896 -- iter: 29472/50000\n"
     ]
    },
    {
     "name": "stdout",
     "output_type": "stream",
     "text": [
      "Training Step: 308  | total loss: \u001b[1m\u001b[32m1.43064\u001b[0m\u001b[0m | time: 134.881s\n\u001b[2K\r| Adam | epoch: 001 | loss: 1.43064 - acc: 0.4958 -- iter: 29568/50000\n"
     ]
    },
    {
     "name": "stdout",
     "output_type": "stream",
     "text": [
      "Training Step: 309  | total loss: \u001b[1m\u001b[32m1.42180\u001b[0m\u001b[0m | time: 135.301s\n\u001b[2K\r| Adam | epoch: 001 | loss: 1.42180 - acc: 0.5004 -- iter: 29664/50000\n"
     ]
    },
    {
     "name": "stdout",
     "output_type": "stream",
     "text": [
      "Training Step: 310  | total loss: \u001b[1m\u001b[32m1.41836\u001b[0m\u001b[0m | time: 135.726s\n\u001b[2K\r| Adam | epoch: 001 | loss: 1.41836 - acc: 0.4993 -- iter: 29760/50000\n"
     ]
    },
    {
     "name": "stdout",
     "output_type": "stream",
     "text": [
      "Training Step: 311  | total loss: \u001b[1m\u001b[32m1.43135\u001b[0m\u001b[0m | time: 136.156s\n\u001b[2K\r| Adam | epoch: 001 | loss: 1.43135 - acc: 0.4942 -- iter: 29856/50000\n"
     ]
    },
    {
     "name": "stdout",
     "output_type": "stream",
     "text": [
      "Training Step: 312  | total loss: \u001b[1m\u001b[32m1.42658\u001b[0m\u001b[0m | time: 136.581s\n\u001b[2K\r| Adam | epoch: 001 | loss: 1.42658 - acc: 0.4969 -- iter: 29952/50000\n"
     ]
    },
    {
     "name": "stdout",
     "output_type": "stream",
     "text": [
      "Training Step: 313  | total loss: \u001b[1m\u001b[32m1.42937\u001b[0m\u001b[0m | time: 137.001s\n\u001b[2K\r| Adam | epoch: 001 | loss: 1.42937 - acc: 0.5003 -- iter: 30048/50000\n"
     ]
    },
    {
     "name": "stdout",
     "output_type": "stream",
     "text": [
      "Training Step: 314  | total loss: \u001b[1m\u001b[32m1.42823\u001b[0m\u001b[0m | time: 137.423s\n\u001b[2K\r| Adam | epoch: 001 | loss: 1.42823 - acc: 0.4992 -- iter: 30144/50000\n"
     ]
    },
    {
     "name": "stdout",
     "output_type": "stream",
     "text": [
      "Training Step: 315  | total loss: \u001b[1m\u001b[32m1.43748\u001b[0m\u001b[0m | time: 137.856s\n\u001b[2K\r| Adam | epoch: 001 | loss: 1.43748 - acc: 0.4931 -- iter: 30240/50000\n"
     ]
    },
    {
     "name": "stdout",
     "output_type": "stream",
     "text": [
      "Training Step: 316  | total loss: \u001b[1m\u001b[32m1.45131\u001b[0m\u001b[0m | time: 138.305s\n\u001b[2K\r| Adam | epoch: 001 | loss: 1.45131 - acc: 0.4885 -- iter: 30336/50000\n"
     ]
    },
    {
     "name": "stdout",
     "output_type": "stream",
     "text": [
      "Training Step: 317  | total loss: \u001b[1m\u001b[32m1.42927\u001b[0m\u001b[0m | time: 138.724s\n\u001b[2K\r| Adam | epoch: 001 | loss: 1.42927 - acc: 0.4959 -- iter: 30432/50000\n"
     ]
    },
    {
     "name": "stdout",
     "output_type": "stream",
     "text": [
      "Training Step: 318  | total loss: \u001b[1m\u001b[32m1.42062\u001b[0m\u001b[0m | time: 139.148s\n\u001b[2K\r| Adam | epoch: 001 | loss: 1.42062 - acc: 0.4984 -- iter: 30528/50000\n"
     ]
    },
    {
     "name": "stdout",
     "output_type": "stream",
     "text": [
      "Training Step: 319  | total loss: \u001b[1m\u001b[32m1.42285\u001b[0m\u001b[0m | time: 139.580s\n\u001b[2K\r| Adam | epoch: 001 | loss: 1.42285 - acc: 0.4955 -- iter: 30624/50000\n"
     ]
    },
    {
     "name": "stdout",
     "output_type": "stream",
     "text": [
      "Training Step: 320  | total loss: \u001b[1m\u001b[32m1.43249\u001b[0m\u001b[0m | time: 139.999s\n\u001b[2K\r| Adam | epoch: 001 | loss: 1.43249 - acc: 0.4980 -- iter: 30720/50000\n"
     ]
    },
    {
     "name": "stdout",
     "output_type": "stream",
     "text": [
      "Training Step: 321  | total loss: \u001b[1m\u001b[32m1.42797\u001b[0m\u001b[0m | time: 140.419s\n\u001b[2K\r| Adam | epoch: 001 | loss: 1.42797 - acc: 0.5013 -- iter: 30816/50000\n"
     ]
    },
    {
     "name": "stdout",
     "output_type": "stream",
     "text": [
      "Training Step: 322  | total loss: \u001b[1m\u001b[32m1.42629\u001b[0m\u001b[0m | time: 140.837s\n\u001b[2K\r| Adam | epoch: 001 | loss: 1.42629 - acc: 0.4981 -- iter: 30912/50000\n"
     ]
    },
    {
     "name": "stdout",
     "output_type": "stream",
     "text": [
      "Training Step: 323  | total loss: \u001b[1m\u001b[32m1.43624\u001b[0m\u001b[0m | time: 141.252s\n\u001b[2K\r| Adam | epoch: 001 | loss: 1.43624 - acc: 0.4962 -- iter: 31008/50000\n"
     ]
    },
    {
     "name": "stdout",
     "output_type": "stream",
     "text": [
      "Training Step: 324  | total loss: \u001b[1m\u001b[32m1.44208\u001b[0m\u001b[0m | time: 141.672s\n\u001b[2K\r| Adam | epoch: 001 | loss: 1.44208 - acc: 0.4893 -- iter: 31104/50000\n"
     ]
    },
    {
     "name": "stdout",
     "output_type": "stream",
     "text": [
      "Training Step: 325  | total loss: \u001b[1m\u001b[32m1.44508\u001b[0m\u001b[0m | time: 142.096s\n\u001b[2K\r| Adam | epoch: 001 | loss: 1.44508 - acc: 0.4893 -- iter: 31200/50000\n"
     ]
    },
    {
     "name": "stdout",
     "output_type": "stream",
     "text": [
      "Training Step: 326  | total loss: \u001b[1m\u001b[32m1.43061\u001b[0m\u001b[0m | time: 142.519s\n\u001b[2K\r| Adam | epoch: 001 | loss: 1.43061 - acc: 0.4977 -- iter: 31296/50000\n"
     ]
    },
    {
     "name": "stdout",
     "output_type": "stream",
     "text": [
      "Training Step: 327  | total loss: \u001b[1m\u001b[32m1.44221\u001b[0m\u001b[0m | time: 142.942s\n\u001b[2K\r| Adam | epoch: 001 | loss: 1.44221 - acc: 0.4896 -- iter: 31392/50000\n"
     ]
    },
    {
     "name": "stdout",
     "output_type": "stream",
     "text": [
      "Training Step: 328  | total loss: \u001b[1m\u001b[32m1.44064\u001b[0m\u001b[0m | time: 143.379s\n\u001b[2K\r| Adam | epoch: 001 | loss: 1.44064 - acc: 0.4875 -- iter: 31488/50000\n"
     ]
    },
    {
     "name": "stdout",
     "output_type": "stream",
     "text": [
      "Training Step: 329  | total loss: \u001b[1m\u001b[32m1.45360\u001b[0m\u001b[0m | time: 143.842s\n\u001b[2K\r| Adam | epoch: 001 | loss: 1.45360 - acc: 0.4835 -- iter: 31584/50000\n"
     ]
    },
    {
     "name": "stdout",
     "output_type": "stream",
     "text": [
      "Training Step: 330  | total loss: \u001b[1m\u001b[32m1.43770\u001b[0m\u001b[0m | time: 144.289s\n\u001b[2K\r| Adam | epoch: 001 | loss: 1.43770 - acc: 0.4935 -- iter: 31680/50000\n"
     ]
    },
    {
     "name": "stdout",
     "output_type": "stream",
     "text": [
      "Training Step: 331  | total loss: \u001b[1m\u001b[32m1.43079\u001b[0m\u001b[0m | time: 144.715s\n\u001b[2K\r| Adam | epoch: 001 | loss: 1.43079 - acc: 0.4962 -- iter: 31776/50000\n"
     ]
    },
    {
     "name": "stdout",
     "output_type": "stream",
     "text": [
      "Training Step: 332  | total loss: \u001b[1m\u001b[32m1.44170\u001b[0m\u001b[0m | time: 145.141s\n\u001b[2K\r| Adam | epoch: 001 | loss: 1.44170 - acc: 0.4924 -- iter: 31872/50000\n"
     ]
    },
    {
     "name": "stdout",
     "output_type": "stream",
     "text": [
      "Training Step: 333  | total loss: \u001b[1m\u001b[32m1.41415\u001b[0m\u001b[0m | time: 145.565s\n\u001b[2K\r| Adam | epoch: 001 | loss: 1.41415 - acc: 0.5015 -- iter: 31968/50000\n"
     ]
    },
    {
     "name": "stdout",
     "output_type": "stream",
     "text": [
      "Training Step: 334  | total loss: \u001b[1m\u001b[32m1.41193\u001b[0m\u001b[0m | time: 146.016s\n\u001b[2K\r| Adam | epoch: 001 | loss: 1.41193 - acc: 0.5003 -- iter: 32064/50000\n"
     ]
    },
    {
     "name": "stdout",
     "output_type": "stream",
     "text": [
      "Training Step: 335  | total loss: \u001b[1m\u001b[32m1.41027\u001b[0m\u001b[0m | time: 146.432s\n\u001b[2K\r| Adam | epoch: 001 | loss: 1.41027 - acc: 0.4982 -- iter: 32160/50000\n"
     ]
    },
    {
     "name": "stdout",
     "output_type": "stream",
     "text": [
      "Training Step: 336  | total loss: \u001b[1m\u001b[32m1.41208\u001b[0m\u001b[0m | time: 146.861s\n\u001b[2K\r| Adam | epoch: 001 | loss: 1.41208 - acc: 0.4974 -- iter: 32256/50000\n"
     ]
    },
    {
     "name": "stdout",
     "output_type": "stream",
     "text": [
      "Training Step: 337  | total loss: \u001b[1m\u001b[32m1.42166\u001b[0m\u001b[0m | time: 147.304s\n\u001b[2K\r| Adam | epoch: 001 | loss: 1.42166 - acc: 0.4882 -- iter: 32352/50000\n"
     ]
    },
    {
     "name": "stdout",
     "output_type": "stream",
     "text": [
      "Training Step: 338  | total loss: \u001b[1m\u001b[32m1.42523\u001b[0m\u001b[0m | time: 147.870s\n\u001b[2K\r| Adam | epoch: 001 | loss: 1.42523 - acc: 0.4873 -- iter: 32448/50000\n"
     ]
    },
    {
     "name": "stdout",
     "output_type": "stream",
     "text": [
      "Training Step: 339  | total loss: \u001b[1m\u001b[32m1.41749\u001b[0m\u001b[0m | time: 148.482s\n\u001b[2K\r| Adam | epoch: 001 | loss: 1.41749 - acc: 0.4886 -- iter: 32544/50000\n"
     ]
    },
    {
     "name": "stdout",
     "output_type": "stream",
     "text": [
      "Training Step: 340  | total loss: \u001b[1m\u001b[32m1.41175\u001b[0m\u001b[0m | time: 149.320s\n\u001b[2K\r| Adam | epoch: 001 | loss: 1.41175 - acc: 0.4918 -- iter: 32640/50000\n"
     ]
    },
    {
     "name": "stdout",
     "output_type": "stream",
     "text": [
      "Training Step: 341  | total loss: \u001b[1m\u001b[32m1.41032\u001b[0m\u001b[0m | time: 149.853s\n\u001b[2K\r| Adam | epoch: 001 | loss: 1.41032 - acc: 0.4895 -- iter: 32736/50000\n"
     ]
    },
    {
     "name": "stdout",
     "output_type": "stream",
     "text": [
      "Training Step: 342  | total loss: \u001b[1m\u001b[32m1.41231\u001b[0m\u001b[0m | time: 150.339s\n\u001b[2K\r| Adam | epoch: 001 | loss: 1.41231 - acc: 0.4906 -- iter: 32832/50000\n"
     ]
    },
    {
     "name": "stdout",
     "output_type": "stream",
     "text": [
      "Training Step: 343  | total loss: \u001b[1m\u001b[32m1.42241\u001b[0m\u001b[0m | time: 150.934s\n\u001b[2K\r| Adam | epoch: 001 | loss: 1.42241 - acc: 0.4853 -- iter: 32928/50000\n"
     ]
    },
    {
     "name": "stdout",
     "output_type": "stream",
     "text": [
      "Training Step: 344  | total loss: \u001b[1m\u001b[32m1.42931\u001b[0m\u001b[0m | time: 151.371s\n\u001b[2K\r| Adam | epoch: 001 | loss: 1.42931 - acc: 0.4826 -- iter: 33024/50000\n"
     ]
    },
    {
     "name": "stdout",
     "output_type": "stream",
     "text": [
      "Training Step: 345  | total loss: \u001b[1m\u001b[32m1.42426\u001b[0m\u001b[0m | time: 151.804s\n\u001b[2K\r| Adam | epoch: 001 | loss: 1.42426 - acc: 0.4906 -- iter: 33120/50000\n"
     ]
    },
    {
     "name": "stdout",
     "output_type": "stream",
     "text": [
      "Training Step: 346  | total loss: \u001b[1m\u001b[32m1.43378\u001b[0m\u001b[0m | time: 152.231s\n\u001b[2K\r| Adam | epoch: 001 | loss: 1.43378 - acc: 0.4832 -- iter: 33216/50000\n"
     ]
    },
    {
     "name": "stdout",
     "output_type": "stream",
     "text": [
      "Training Step: 347  | total loss: \u001b[1m\u001b[32m1.42459\u001b[0m\u001b[0m | time: 152.857s\n\u001b[2K\r| Adam | epoch: 001 | loss: 1.42459 - acc: 0.4849 -- iter: 33312/50000\n"
     ]
    },
    {
     "name": "stdout",
     "output_type": "stream",
     "text": [
      "Training Step: 348  | total loss: \u001b[1m\u001b[32m1.43052\u001b[0m\u001b[0m | time: 153.347s\n\u001b[2K\r| Adam | epoch: 001 | loss: 1.43052 - acc: 0.4812 -- iter: 33408/50000\n"
     ]
    },
    {
     "name": "stdout",
     "output_type": "stream",
     "text": [
      "Training Step: 349  | total loss: \u001b[1m\u001b[32m1.42655\u001b[0m\u001b[0m | time: 153.823s\n\u001b[2K\r| Adam | epoch: 001 | loss: 1.42655 - acc: 0.4810 -- iter: 33504/50000\n"
     ]
    },
    {
     "name": "stdout",
     "output_type": "stream",
     "text": [
      "Training Step: 350  | total loss: \u001b[1m\u001b[32m1.41012\u001b[0m\u001b[0m | time: 154.298s\n\u001b[2K\r| Adam | epoch: 001 | loss: 1.41012 - acc: 0.4870 -- iter: 33600/50000\n"
     ]
    },
    {
     "name": "stdout",
     "output_type": "stream",
     "text": [
      "Training Step: 351  | total loss: \u001b[1m\u001b[32m1.42261\u001b[0m\u001b[0m | time: 154.759s\n\u001b[2K\r| Adam | epoch: 001 | loss: 1.42261 - acc: 0.4790 -- iter: 33696/50000\n"
     ]
    },
    {
     "name": "stdout",
     "output_type": "stream",
     "text": [
      "Training Step: 352  | total loss: \u001b[1m\u001b[32m1.42211\u001b[0m\u001b[0m | time: 155.217s\n\u001b[2K\r| Adam | epoch: 001 | loss: 1.42211 - acc: 0.4821 -- iter: 33792/50000\n"
     ]
    },
    {
     "name": "stdout",
     "output_type": "stream",
     "text": [
      "Training Step: 353  | total loss: \u001b[1m\u001b[32m1.42369\u001b[0m\u001b[0m | time: 155.701s\n\u001b[2K\r| Adam | epoch: 001 | loss: 1.42369 - acc: 0.4818 -- iter: 33888/50000\n"
     ]
    },
    {
     "name": "stdout",
     "output_type": "stream",
     "text": [
      "Training Step: 354  | total loss: \u001b[1m\u001b[32m1.42204\u001b[0m\u001b[0m | time: 156.166s\n\u001b[2K\r| Adam | epoch: 001 | loss: 1.42204 - acc: 0.4857 -- iter: 33984/50000\n"
     ]
    },
    {
     "name": "stdout",
     "output_type": "stream",
     "text": [
      "Training Step: 355  | total loss: \u001b[1m\u001b[32m1.41716\u001b[0m\u001b[0m | time: 156.637s\n\u001b[2K\r| Adam | epoch: 001 | loss: 1.41716 - acc: 0.4871 -- iter: 34080/50000\n"
     ]
    },
    {
     "name": "stdout",
     "output_type": "stream",
     "text": [
      "Training Step: 356  | total loss: \u001b[1m\u001b[32m1.39408\u001b[0m\u001b[0m | time: 157.100s\n\u001b[2K\r| Adam | epoch: 001 | loss: 1.39408 - acc: 0.4988 -- iter: 34176/50000\n"
     ]
    },
    {
     "name": "stdout",
     "output_type": "stream",
     "text": [
      "Training Step: 357  | total loss: \u001b[1m\u001b[32m1.41450\u001b[0m\u001b[0m | time: 157.595s\n\u001b[2K\r| Adam | epoch: 001 | loss: 1.41450 - acc: 0.4906 -- iter: 34272/50000\n"
     ]
    },
    {
     "name": "stdout",
     "output_type": "stream",
     "text": [
      "Training Step: 358  | total loss: \u001b[1m\u001b[32m1.41269\u001b[0m\u001b[0m | time: 158.068s\n\u001b[2K\r| Adam | epoch: 001 | loss: 1.41269 - acc: 0.4895 -- iter: 34368/50000\n"
     ]
    },
    {
     "name": "stdout",
     "output_type": "stream",
     "text": [
      "Training Step: 359  | total loss: \u001b[1m\u001b[32m1.39914\u001b[0m\u001b[0m | time: 158.540s\n\u001b[2K\r| Adam | epoch: 001 | loss: 1.39914 - acc: 0.4968 -- iter: 34464/50000\n"
     ]
    },
    {
     "name": "stdout",
     "output_type": "stream",
     "text": [
      "Training Step: 360  | total loss: \u001b[1m\u001b[32m1.39189\u001b[0m\u001b[0m | time: 159.013s\n\u001b[2K\r| Adam | epoch: 001 | loss: 1.39189 - acc: 0.5023 -- iter: 34560/50000\n"
     ]
    },
    {
     "name": "stdout",
     "output_type": "stream",
     "text": [
      "Training Step: 361  | total loss: \u001b[1m\u001b[32m1.37519\u001b[0m\u001b[0m | time: 159.487s\n\u001b[2K\r| Adam | epoch: 001 | loss: 1.37519 - acc: 0.5073 -- iter: 34656/50000\n"
     ]
    },
    {
     "name": "stdout",
     "output_type": "stream",
     "text": [
      "Training Step: 362  | total loss: \u001b[1m\u001b[32m1.36811\u001b[0m\u001b[0m | time: 159.968s\n\u001b[2K\r| Adam | epoch: 001 | loss: 1.36811 - acc: 0.5128 -- iter: 34752/50000\n"
     ]
    },
    {
     "name": "stdout",
     "output_type": "stream",
     "text": [
      "Training Step: 363  | total loss: \u001b[1m\u001b[32m1.36345\u001b[0m\u001b[0m | time: 160.443s\n\u001b[2K\r| Adam | epoch: 001 | loss: 1.36345 - acc: 0.5136 -- iter: 34848/50000\n"
     ]
    },
    {
     "name": "stdout",
     "output_type": "stream",
     "text": [
      "Training Step: 364  | total loss: \u001b[1m\u001b[32m1.35345\u001b[0m\u001b[0m | time: 160.906s\n\u001b[2K\r| Adam | epoch: 001 | loss: 1.35345 - acc: 0.5123 -- iter: 34944/50000\n"
     ]
    },
    {
     "name": "stdout",
     "output_type": "stream",
     "text": [
      "Training Step: 365  | total loss: \u001b[1m\u001b[32m1.35262\u001b[0m\u001b[0m | time: 161.401s\n\u001b[2K\r| Adam | epoch: 001 | loss: 1.35262 - acc: 0.5142 -- iter: 35040/50000\n"
     ]
    },
    {
     "name": "stdout",
     "output_type": "stream",
     "text": [
      "Training Step: 366  | total loss: \u001b[1m\u001b[32m1.34770\u001b[0m\u001b[0m | time: 161.877s\n\u001b[2K\r| Adam | epoch: 001 | loss: 1.34770 - acc: 0.5138 -- iter: 35136/50000\n"
     ]
    },
    {
     "name": "stdout",
     "output_type": "stream",
     "text": [
      "Training Step: 367  | total loss: \u001b[1m\u001b[32m1.33972\u001b[0m\u001b[0m | time: 162.362s\n\u001b[2K\r| Adam | epoch: 001 | loss: 1.33972 - acc: 0.5103 -- iter: 35232/50000\n"
     ]
    },
    {
     "name": "stdout",
     "output_type": "stream",
     "text": [
      "Training Step: 368  | total loss: \u001b[1m\u001b[32m1.33012\u001b[0m\u001b[0m | time: 162.827s\n\u001b[2K\r| Adam | epoch: 001 | loss: 1.33012 - acc: 0.5145 -- iter: 35328/50000\n"
     ]
    },
    {
     "name": "stdout",
     "output_type": "stream",
     "text": [
      "Training Step: 369  | total loss: \u001b[1m\u001b[32m1.32070\u001b[0m\u001b[0m | time: 163.274s\n\u001b[2K\r| Adam | epoch: 001 | loss: 1.32070 - acc: 0.5151 -- iter: 35424/50000\n"
     ]
    },
    {
     "name": "stdout",
     "output_type": "stream",
     "text": [
      "Training Step: 370  | total loss: \u001b[1m\u001b[32m1.33233\u001b[0m\u001b[0m | time: 163.754s\n\u001b[2K\r| Adam | epoch: 001 | loss: 1.33233 - acc: 0.5157 -- iter: 35520/50000\n"
     ]
    },
    {
     "name": "stdout",
     "output_type": "stream",
     "text": [
      "Training Step: 371  | total loss: \u001b[1m\u001b[32m1.35550\u001b[0m\u001b[0m | time: 164.220s\n\u001b[2K\r| Adam | epoch: 001 | loss: 1.35550 - acc: 0.5131 -- iter: 35616/50000\n"
     ]
    },
    {
     "name": "stdout",
     "output_type": "stream",
     "text": [
      "Training Step: 372  | total loss: \u001b[1m\u001b[32m1.34934\u001b[0m\u001b[0m | time: 164.685s\n\u001b[2K\r| Adam | epoch: 001 | loss: 1.34934 - acc: 0.5159 -- iter: 35712/50000\n"
     ]
    },
    {
     "name": "stdout",
     "output_type": "stream",
     "text": [
      "Training Step: 373  | total loss: \u001b[1m\u001b[32m1.36892\u001b[0m\u001b[0m | time: 165.156s\n\u001b[2K\r| Adam | epoch: 001 | loss: 1.36892 - acc: 0.5133 -- iter: 35808/50000\n"
     ]
    },
    {
     "name": "stdout",
     "output_type": "stream",
     "text": [
      "Training Step: 374  | total loss: \u001b[1m\u001b[32m1.37109\u001b[0m\u001b[0m | time: 165.646s\n\u001b[2K\r| Adam | epoch: 001 | loss: 1.37109 - acc: 0.5182 -- iter: 35904/50000\n"
     ]
    },
    {
     "name": "stdout",
     "output_type": "stream",
     "text": [
      "Training Step: 375  | total loss: \u001b[1m\u001b[32m1.37706\u001b[0m\u001b[0m | time: 166.142s\n\u001b[2K\r| Adam | epoch: 001 | loss: 1.37706 - acc: 0.5154 -- iter: 36000/50000\n"
     ]
    },
    {
     "name": "stdout",
     "output_type": "stream",
     "text": [
      "Training Step: 376  | total loss: \u001b[1m\u001b[32m1.37625\u001b[0m\u001b[0m | time: 166.614s\n\u001b[2K\r| Adam | epoch: 001 | loss: 1.37625 - acc: 0.5149 -- iter: 36096/50000\n"
     ]
    },
    {
     "name": "stdout",
     "output_type": "stream",
     "text": [
      "Training Step: 377  | total loss: \u001b[1m\u001b[32m1.37241\u001b[0m\u001b[0m | time: 167.085s\n\u001b[2K\r| Adam | epoch: 001 | loss: 1.37241 - acc: 0.5144 -- iter: 36192/50000\n"
     ]
    },
    {
     "name": "stdout",
     "output_type": "stream",
     "text": [
      "Training Step: 378  | total loss: \u001b[1m\u001b[32m1.38799\u001b[0m\u001b[0m | time: 167.539s\n\u001b[2K\r| Adam | epoch: 001 | loss: 1.38799 - acc: 0.5078 -- iter: 36288/50000\n"
     ]
    },
    {
     "name": "stdout",
     "output_type": "stream",
     "text": [
      "Training Step: 379  | total loss: \u001b[1m\u001b[32m1.40634\u001b[0m\u001b[0m | time: 168.021s\n\u001b[2K\r| Adam | epoch: 001 | loss: 1.40634 - acc: 0.5049 -- iter: 36384/50000\n"
     ]
    },
    {
     "name": "stdout",
     "output_type": "stream",
     "text": [
      "Training Step: 380  | total loss: \u001b[1m\u001b[32m1.38647\u001b[0m\u001b[0m | time: 168.511s\n\u001b[2K\r| Adam | epoch: 001 | loss: 1.38647 - acc: 0.5128 -- iter: 36480/50000\n"
     ]
    },
    {
     "name": "stdout",
     "output_type": "stream",
     "text": [
      "Training Step: 381  | total loss: \u001b[1m\u001b[32m1.38952\u001b[0m\u001b[0m | time: 168.978s\n\u001b[2K\r| Adam | epoch: 001 | loss: 1.38952 - acc: 0.5104 -- iter: 36576/50000\n"
     ]
    },
    {
     "name": "stdout",
     "output_type": "stream",
     "text": [
      "Training Step: 382  | total loss: \u001b[1m\u001b[32m1.37653\u001b[0m\u001b[0m | time: 169.444s\n\u001b[2K\r| Adam | epoch: 001 | loss: 1.37653 - acc: 0.5177 -- iter: 36672/50000\n"
     ]
    },
    {
     "name": "stdout",
     "output_type": "stream",
     "text": [
      "Training Step: 383  | total loss: \u001b[1m\u001b[32m1.36871\u001b[0m\u001b[0m | time: 169.908s\n\u001b[2K\r| Adam | epoch: 001 | loss: 1.36871 - acc: 0.5232 -- iter: 36768/50000\n"
     ]
    },
    {
     "name": "stdout",
     "output_type": "stream",
     "text": [
      "Training Step: 384  | total loss: \u001b[1m\u001b[32m1.38685\u001b[0m\u001b[0m | time: 170.378s\n\u001b[2K\r| Adam | epoch: 001 | loss: 1.38685 - acc: 0.5188 -- iter: 36864/50000\n"
     ]
    },
    {
     "name": "stdout",
     "output_type": "stream",
     "text": [
      "Training Step: 385  | total loss: \u001b[1m\u001b[32m1.38182\u001b[0m\u001b[0m | time: 170.840s\n\u001b[2K\r| Adam | epoch: 001 | loss: 1.38182 - acc: 0.5232 -- iter: 36960/50000\n"
     ]
    },
    {
     "name": "stdout",
     "output_type": "stream",
     "text": [
      "Training Step: 386  | total loss: \u001b[1m\u001b[32m1.37027\u001b[0m\u001b[0m | time: 171.307s\n\u001b[2K\r| Adam | epoch: 001 | loss: 1.37027 - acc: 0.5251 -- iter: 37056/50000\n"
     ]
    },
    {
     "name": "stdout",
     "output_type": "stream",
     "text": [
      "Training Step: 387  | total loss: \u001b[1m\u001b[32m1.35834\u001b[0m\u001b[0m | time: 171.775s\n\u001b[2K\r| Adam | epoch: 001 | loss: 1.35834 - acc: 0.5298 -- iter: 37152/50000\n"
     ]
    },
    {
     "name": "stdout",
     "output_type": "stream",
     "text": [
      "Training Step: 388  | total loss: \u001b[1m\u001b[32m1.36014\u001b[0m\u001b[0m | time: 172.256s\n\u001b[2K\r| Adam | epoch: 001 | loss: 1.36014 - acc: 0.5227 -- iter: 37248/50000\n"
     ]
    },
    {
     "name": "stdout",
     "output_type": "stream",
     "text": [
      "Training Step: 389  | total loss: \u001b[1m\u001b[32m1.36158\u001b[0m\u001b[0m | time: 172.745s\n\u001b[2K\r| Adam | epoch: 001 | loss: 1.36158 - acc: 0.5194 -- iter: 37344/50000\n"
     ]
    },
    {
     "name": "stdout",
     "output_type": "stream",
     "text": [
      "Training Step: 390  | total loss: \u001b[1m\u001b[32m1.35418\u001b[0m\u001b[0m | time: 173.216s\n\u001b[2K\r| Adam | epoch: 001 | loss: 1.35418 - acc: 0.5226 -- iter: 37440/50000\n"
     ]
    },
    {
     "name": "stdout",
     "output_type": "stream",
     "text": [
      "Training Step: 391  | total loss: \u001b[1m\u001b[32m1.34850\u001b[0m\u001b[0m | time: 173.695s\n\u001b[2K\r| Adam | epoch: 001 | loss: 1.34850 - acc: 0.5214 -- iter: 37536/50000\n"
     ]
    },
    {
     "name": "stdout",
     "output_type": "stream",
     "text": [
      "Training Step: 392  | total loss: \u001b[1m\u001b[32m1.35420\u001b[0m\u001b[0m | time: 174.175s\n\u001b[2K\r| Adam | epoch: 001 | loss: 1.35420 - acc: 0.5172 -- iter: 37632/50000\n"
     ]
    },
    {
     "name": "stdout",
     "output_type": "stream",
     "text": [
      "Training Step: 393  | total loss: \u001b[1m\u001b[32m1.34973\u001b[0m\u001b[0m | time: 174.659s\n\u001b[2K\r| Adam | epoch: 001 | loss: 1.34973 - acc: 0.5176 -- iter: 37728/50000\n"
     ]
    },
    {
     "name": "stdout",
     "output_type": "stream",
     "text": [
      "Training Step: 394  | total loss: \u001b[1m\u001b[32m1.35464\u001b[0m\u001b[0m | time: 175.140s\n\u001b[2K\r| Adam | epoch: 001 | loss: 1.35464 - acc: 0.5116 -- iter: 37824/50000\n"
     ]
    },
    {
     "name": "stdout",
     "output_type": "stream",
     "text": [
      "Training Step: 395  | total loss: \u001b[1m\u001b[32m1.34987\u001b[0m\u001b[0m | time: 175.620s\n\u001b[2K\r| Adam | epoch: 001 | loss: 1.34987 - acc: 0.5178 -- iter: 37920/50000\n"
     ]
    },
    {
     "name": "stdout",
     "output_type": "stream",
     "text": [
      "Training Step: 396  | total loss: \u001b[1m\u001b[32m1.36373\u001b[0m\u001b[0m | time: 176.087s\n\u001b[2K\r| Adam | epoch: 001 | loss: 1.36373 - acc: 0.5077 -- iter: 38016/50000\n"
     ]
    },
    {
     "name": "stdout",
     "output_type": "stream",
     "text": [
      "Training Step: 397  | total loss: \u001b[1m\u001b[32m1.35802\u001b[0m\u001b[0m | time: 176.532s\n\u001b[2K\r| Adam | epoch: 001 | loss: 1.35802 - acc: 0.5111 -- iter: 38112/50000\n"
     ]
    },
    {
     "name": "stdout",
     "output_type": "stream",
     "text": [
      "Training Step: 398  | total loss: \u001b[1m\u001b[32m1.33338\u001b[0m\u001b[0m | time: 176.954s\n\u001b[2K\r| Adam | epoch: 001 | loss: 1.33338 - acc: 0.5141 -- iter: 38208/50000\n"
     ]
    },
    {
     "name": "stdout",
     "output_type": "stream",
     "text": [
      "Training Step: 399  | total loss: \u001b[1m\u001b[32m1.34669\u001b[0m\u001b[0m | time: 177.375s\n\u001b[2K\r| Adam | epoch: 001 | loss: 1.34669 - acc: 0.5096 -- iter: 38304/50000\n"
     ]
    },
    {
     "name": "stdout",
     "output_type": "stream",
     "text": [
      "Training Step: 400  | total loss: \u001b[1m\u001b[32m1.34073\u001b[0m\u001b[0m | time: 177.794s\n\u001b[2K\r| Adam | epoch: 001 | loss: 1.34073 - acc: 0.5076 -- iter: 38400/50000\n"
     ]
    },
    {
     "name": "stdout",
     "output_type": "stream",
     "text": [
      "Training Step: 401  | total loss: \u001b[1m\u001b[32m1.34658\u001b[0m\u001b[0m | time: 178.204s\n\u001b[2K\r| Adam | epoch: 001 | loss: 1.34658 - acc: 0.5027 -- iter: 38496/50000\n"
     ]
    },
    {
     "name": "stdout",
     "output_type": "stream",
     "text": [
      "Training Step: 402  | total loss: \u001b[1m\u001b[32m1.33990\u001b[0m\u001b[0m | time: 178.615s\n\u001b[2K\r| Adam | epoch: 001 | loss: 1.33990 - acc: 0.5076 -- iter: 38592/50000\n"
     ]
    },
    {
     "name": "stdout",
     "output_type": "stream",
     "text": [
      "Training Step: 403  | total loss: \u001b[1m\u001b[32m1.32712\u001b[0m\u001b[0m | time: 179.028s\n\u001b[2K\r| Adam | epoch: 001 | loss: 1.32712 - acc: 0.5089 -- iter: 38688/50000\n"
     ]
    },
    {
     "name": "stdout",
     "output_type": "stream",
     "text": [
      "Training Step: 404  | total loss: \u001b[1m\u001b[32m1.32609\u001b[0m\u001b[0m | time: 179.434s\n\u001b[2K\r| Adam | epoch: 001 | loss: 1.32609 - acc: 0.5143 -- iter: 38784/50000\n"
     ]
    },
    {
     "name": "stdout",
     "output_type": "stream",
     "text": [
      "Training Step: 405  | total loss: \u001b[1m\u001b[32m1.32127\u001b[0m\u001b[0m | time: 179.861s\n\u001b[2K\r| Adam | epoch: 001 | loss: 1.32127 - acc: 0.5129 -- iter: 38880/50000\n"
     ]
    },
    {
     "name": "stdout",
     "output_type": "stream",
     "text": [
      "Training Step: 406  | total loss: \u001b[1m\u001b[32m1.30994\u001b[0m\u001b[0m | time: 180.277s\n\u001b[2K\r| Adam | epoch: 001 | loss: 1.30994 - acc: 0.5189 -- iter: 38976/50000\n"
     ]
    },
    {
     "name": "stdout",
     "output_type": "stream",
     "text": [
      "Training Step: 407  | total loss: \u001b[1m\u001b[32m1.32360\u001b[0m\u001b[0m | time: 180.698s\n\u001b[2K\r| Adam | epoch: 001 | loss: 1.32360 - acc: 0.5118 -- iter: 39072/50000\n"
     ]
    },
    {
     "name": "stdout",
     "output_type": "stream",
     "text": [
      "Training Step: 408  | total loss: \u001b[1m\u001b[32m1.31781\u001b[0m\u001b[0m | time: 181.117s\n\u001b[2K\r| Adam | epoch: 001 | loss: 1.31781 - acc: 0.5168 -- iter: 39168/50000\n"
     ]
    },
    {
     "name": "stdout",
     "output_type": "stream",
     "text": [
      "Training Step: 409  | total loss: \u001b[1m\u001b[32m1.32062\u001b[0m\u001b[0m | time: 181.532s\n\u001b[2K\r| Adam | epoch: 001 | loss: 1.32062 - acc: 0.5193 -- iter: 39264/50000\n"
     ]
    },
    {
     "name": "stdout",
     "output_type": "stream",
     "text": [
      "Training Step: 410  | total loss: \u001b[1m\u001b[32m1.30967\u001b[0m\u001b[0m | time: 181.941s\n\u001b[2K\r| Adam | epoch: 001 | loss: 1.30967 - acc: 0.5268 -- iter: 39360/50000\n"
     ]
    },
    {
     "name": "stdout",
     "output_type": "stream",
     "text": [
      "Training Step: 411  | total loss: \u001b[1m\u001b[32m1.31322\u001b[0m\u001b[0m | time: 182.365s\n\u001b[2K\r| Adam | epoch: 001 | loss: 1.31322 - acc: 0.5241 -- iter: 39456/50000\n"
     ]
    },
    {
     "name": "stdout",
     "output_type": "stream",
     "text": [
      "Training Step: 412  | total loss: \u001b[1m\u001b[32m1.30172\u001b[0m\u001b[0m | time: 182.778s\n\u001b[2K\r| Adam | epoch: 001 | loss: 1.30172 - acc: 0.5279 -- iter: 39552/50000\n"
     ]
    },
    {
     "name": "stdout",
     "output_type": "stream",
     "text": [
      "Training Step: 413  | total loss: \u001b[1m\u001b[32m1.27798\u001b[0m\u001b[0m | time: 183.194s\n\u001b[2K\r| Adam | epoch: 001 | loss: 1.27798 - acc: 0.5345 -- iter: 39648/50000\n"
     ]
    },
    {
     "name": "stdout",
     "output_type": "stream",
     "text": [
      "Training Step: 414  | total loss: \u001b[1m\u001b[32m1.28740\u001b[0m\u001b[0m | time: 183.617s\n\u001b[2K\r| Adam | epoch: 001 | loss: 1.28740 - acc: 0.5342 -- iter: 39744/50000\n"
     ]
    },
    {
     "name": "stdout",
     "output_type": "stream",
     "text": [
      "Training Step: 415  | total loss: \u001b[1m\u001b[32m1.29098\u001b[0m\u001b[0m | time: 184.041s\n\u001b[2K\r| Adam | epoch: 001 | loss: 1.29098 - acc: 0.5308 -- iter: 39840/50000\n"
     ]
    },
    {
     "name": "stdout",
     "output_type": "stream",
     "text": [
      "Training Step: 416  | total loss: \u001b[1m\u001b[32m1.29612\u001b[0m\u001b[0m | time: 184.454s\n\u001b[2K\r| Adam | epoch: 001 | loss: 1.29612 - acc: 0.5266 -- iter: 39936/50000\n"
     ]
    },
    {
     "name": "stdout",
     "output_type": "stream",
     "text": [
      "Training Step: 417  | total loss: \u001b[1m\u001b[32m1.29490\u001b[0m\u001b[0m | time: 184.875s\n\u001b[2K\r| Adam | epoch: 001 | loss: 1.29490 - acc: 0.5261 -- iter: 40032/50000\n"
     ]
    },
    {
     "name": "stdout",
     "output_type": "stream",
     "text": [
      "Training Step: 418  | total loss: \u001b[1m\u001b[32m1.31105\u001b[0m\u001b[0m | time: 185.298s\n\u001b[2K\r| Adam | epoch: 001 | loss: 1.31105 - acc: 0.5193 -- iter: 40128/50000\n"
     ]
    },
    {
     "name": "stdout",
     "output_type": "stream",
     "text": [
      "Training Step: 419  | total loss: \u001b[1m\u001b[32m1.32138\u001b[0m\u001b[0m | time: 185.717s\n\u001b[2K\r| Adam | epoch: 001 | loss: 1.32138 - acc: 0.5205 -- iter: 40224/50000\n"
     ]
    },
    {
     "name": "stdout",
     "output_type": "stream",
     "text": [
      "Training Step: 420  | total loss: \u001b[1m\u001b[32m1.32406\u001b[0m\u001b[0m | time: 186.135s\n\u001b[2K\r| Adam | epoch: 001 | loss: 1.32406 - acc: 0.5205 -- iter: 40320/50000\n"
     ]
    },
    {
     "name": "stdout",
     "output_type": "stream",
     "text": [
      "Training Step: 421  | total loss: \u001b[1m\u001b[32m1.33246\u001b[0m\u001b[0m | time: 186.559s\n\u001b[2K\r| Adam | epoch: 001 | loss: 1.33246 - acc: 0.5206 -- iter: 40416/50000\n"
     ]
    },
    {
     "name": "stdout",
     "output_type": "stream",
     "text": [
      "Training Step: 422  | total loss: \u001b[1m\u001b[32m1.34728\u001b[0m\u001b[0m | time: 186.974s\n\u001b[2K\r| Adam | epoch: 001 | loss: 1.34728 - acc: 0.5216 -- iter: 40512/50000\n"
     ]
    },
    {
     "name": "stdout",
     "output_type": "stream",
     "text": [
      "Training Step: 423  | total loss: \u001b[1m\u001b[32m1.33757\u001b[0m\u001b[0m | time: 187.393s\n\u001b[2K\r| Adam | epoch: 001 | loss: 1.33757 - acc: 0.5268 -- iter: 40608/50000\n"
     ]
    },
    {
     "name": "stdout",
     "output_type": "stream",
     "text": [
      "Training Step: 424  | total loss: \u001b[1m\u001b[32m1.35230\u001b[0m\u001b[0m | time: 187.815s\n\u001b[2K\r| Adam | epoch: 001 | loss: 1.35230 - acc: 0.5230 -- iter: 40704/50000\n"
     ]
    },
    {
     "name": "stdout",
     "output_type": "stream",
     "text": [
      "Training Step: 425  | total loss: \u001b[1m\u001b[32m1.35905\u001b[0m\u001b[0m | time: 188.241s\n\u001b[2K\r| Adam | epoch: 001 | loss: 1.35905 - acc: 0.5145 -- iter: 40800/50000\n"
     ]
    },
    {
     "name": "stdout",
     "output_type": "stream",
     "text": [
      "Training Step: 426  | total loss: \u001b[1m\u001b[32m1.35448\u001b[0m\u001b[0m | time: 188.653s\n\u001b[2K\r| Adam | epoch: 001 | loss: 1.35448 - acc: 0.5151 -- iter: 40896/50000\n"
     ]
    },
    {
     "name": "stdout",
     "output_type": "stream",
     "text": [
      "Training Step: 427  | total loss: \u001b[1m\u001b[32m1.35298\u001b[0m\u001b[0m | time: 189.071s\n\u001b[2K\r| Adam | epoch: 001 | loss: 1.35298 - acc: 0.5167 -- iter: 40992/50000\n"
     ]
    },
    {
     "name": "stdout",
     "output_type": "stream",
     "text": [
      "Training Step: 428  | total loss: \u001b[1m\u001b[32m1.35815\u001b[0m\u001b[0m | time: 189.487s\n\u001b[2K\r| Adam | epoch: 001 | loss: 1.35815 - acc: 0.5109 -- iter: 41088/50000\n"
     ]
    },
    {
     "name": "stdout",
     "output_type": "stream",
     "text": [
      "Training Step: 429  | total loss: \u001b[1m\u001b[32m1.34860\u001b[0m\u001b[0m | time: 189.906s\n\u001b[2K\r| Adam | epoch: 001 | loss: 1.34860 - acc: 0.5202 -- iter: 41184/50000\n"
     ]
    },
    {
     "name": "stdout",
     "output_type": "stream",
     "text": [
      "Training Step: 430  | total loss: \u001b[1m\u001b[32m1.33853\u001b[0m\u001b[0m | time: 190.320s\n\u001b[2K\r| Adam | epoch: 001 | loss: 1.33853 - acc: 0.5234 -- iter: 41280/50000\n"
     ]
    },
    {
     "name": "stdout",
     "output_type": "stream",
     "text": [
      "Training Step: 431  | total loss: \u001b[1m\u001b[32m1.33031\u001b[0m\u001b[0m | time: 190.733s\n\u001b[2K\r| Adam | epoch: 001 | loss: 1.33031 - acc: 0.5263 -- iter: 41376/50000\n"
     ]
    },
    {
     "name": "stdout",
     "output_type": "stream",
     "text": [
      "Training Step: 432  | total loss: \u001b[1m\u001b[32m1.31940\u001b[0m\u001b[0m | time: 191.155s\n\u001b[2K\r| Adam | epoch: 001 | loss: 1.31940 - acc: 0.5289 -- iter: 41472/50000\n"
     ]
    },
    {
     "name": "stdout",
     "output_type": "stream",
     "text": [
      "Training Step: 433  | total loss: \u001b[1m\u001b[32m1.32363\u001b[0m\u001b[0m | time: 191.574s\n\u001b[2K\r| Adam | epoch: 001 | loss: 1.32363 - acc: 0.5176 -- iter: 41568/50000\n"
     ]
    },
    {
     "name": "stdout",
     "output_type": "stream",
     "text": [
      "Training Step: 434  | total loss: \u001b[1m\u001b[32m1.31473\u001b[0m\u001b[0m | time: 191.999s\n\u001b[2K\r| Adam | epoch: 001 | loss: 1.31473 - acc: 0.5159 -- iter: 41664/50000\n"
     ]
    },
    {
     "name": "stdout",
     "output_type": "stream",
     "text": [
      "Training Step: 435  | total loss: \u001b[1m\u001b[32m1.31790\u001b[0m\u001b[0m | time: 192.422s\n\u001b[2K\r| Adam | epoch: 001 | loss: 1.31790 - acc: 0.5195 -- iter: 41760/50000\n"
     ]
    },
    {
     "name": "stdout",
     "output_type": "stream",
     "text": [
      "Training Step: 436  | total loss: \u001b[1m\u001b[32m1.32014\u001b[0m\u001b[0m | time: 192.838s\n\u001b[2K\r| Adam | epoch: 001 | loss: 1.32014 - acc: 0.5144 -- iter: 41856/50000\n"
     ]
    },
    {
     "name": "stdout",
     "output_type": "stream",
     "text": [
      "Training Step: 437  | total loss: \u001b[1m\u001b[32m1.33069\u001b[0m\u001b[0m | time: 193.259s\n\u001b[2K\r| Adam | epoch: 001 | loss: 1.33069 - acc: 0.5182 -- iter: 41952/50000\n"
     ]
    },
    {
     "name": "stdout",
     "output_type": "stream",
     "text": [
      "Training Step: 438  | total loss: \u001b[1m\u001b[32m1.33455\u001b[0m\u001b[0m | time: 193.675s\n\u001b[2K\r| Adam | epoch: 001 | loss: 1.33455 - acc: 0.5164 -- iter: 42048/50000\n"
     ]
    },
    {
     "name": "stdout",
     "output_type": "stream",
     "text": [
      "Training Step: 439  | total loss: \u001b[1m\u001b[32m1.34210\u001b[0m\u001b[0m | time: 194.092s\n\u001b[2K\r| Adam | epoch: 001 | loss: 1.34210 - acc: 0.5116 -- iter: 42144/50000\n"
     ]
    },
    {
     "name": "stdout",
     "output_type": "stream",
     "text": [
      "Training Step: 440  | total loss: \u001b[1m\u001b[32m1.35859\u001b[0m\u001b[0m | time: 194.506s\n\u001b[2K\r| Adam | epoch: 001 | loss: 1.35859 - acc: 0.5032 -- iter: 42240/50000\n"
     ]
    },
    {
     "name": "stdout",
     "output_type": "stream",
     "text": [
      "Training Step: 441  | total loss: \u001b[1m\u001b[32m1.36175\u001b[0m\u001b[0m | time: 194.920s\n\u001b[2K\r| Adam | epoch: 001 | loss: 1.36175 - acc: 0.5008 -- iter: 42336/50000\n"
     ]
    },
    {
     "name": "stdout",
     "output_type": "stream",
     "text": [
      "Training Step: 442  | total loss: \u001b[1m\u001b[32m1.36247\u001b[0m\u001b[0m | time: 195.341s\n\u001b[2K\r| Adam | epoch: 001 | loss: 1.36247 - acc: 0.5038 -- iter: 42432/50000\n"
     ]
    },
    {
     "name": "stdout",
     "output_type": "stream",
     "text": [
      "Training Step: 443  | total loss: \u001b[1m\u001b[32m1.37496\u001b[0m\u001b[0m | time: 195.758s\n\u001b[2K\r| Adam | epoch: 001 | loss: 1.37496 - acc: 0.5003 -- iter: 42528/50000\n"
     ]
    },
    {
     "name": "stdout",
     "output_type": "stream",
     "text": [
      "Training Step: 444  | total loss: \u001b[1m\u001b[32m1.36867\u001b[0m\u001b[0m | time: 196.178s\n\u001b[2K\r| Adam | epoch: 001 | loss: 1.36867 - acc: 0.5034 -- iter: 42624/50000\n"
     ]
    },
    {
     "name": "stdout",
     "output_type": "stream",
     "text": [
      "Training Step: 445  | total loss: \u001b[1m\u001b[32m1.37106\u001b[0m\u001b[0m | time: 196.586s\n\u001b[2K\r| Adam | epoch: 001 | loss: 1.37106 - acc: 0.4978 -- iter: 42720/50000\n"
     ]
    },
    {
     "name": "stdout",
     "output_type": "stream",
     "text": [
      "Training Step: 446  | total loss: \u001b[1m\u001b[32m1.37471\u001b[0m\u001b[0m | time: 197.005s\n\u001b[2K\r| Adam | epoch: 001 | loss: 1.37471 - acc: 0.5001 -- iter: 42816/50000\n"
     ]
    },
    {
     "name": "stdout",
     "output_type": "stream",
     "text": [
      "Training Step: 447  | total loss: \u001b[1m\u001b[32m1.35310\u001b[0m\u001b[0m | time: 197.417s\n\u001b[2K\r| Adam | epoch: 001 | loss: 1.35310 - acc: 0.5116 -- iter: 42912/50000\n"
     ]
    },
    {
     "name": "stdout",
     "output_type": "stream",
     "text": [
      "Training Step: 448  | total loss: \u001b[1m\u001b[32m1.35638\u001b[0m\u001b[0m | time: 197.831s\n\u001b[2K\r| Adam | epoch: 001 | loss: 1.35638 - acc: 0.5177 -- iter: 43008/50000\n"
     ]
    },
    {
     "name": "stdout",
     "output_type": "stream",
     "text": [
      "Training Step: 449  | total loss: \u001b[1m\u001b[32m1.33403\u001b[0m\u001b[0m | time: 198.245s\n\u001b[2K\r| Adam | epoch: 001 | loss: 1.33403 - acc: 0.5222 -- iter: 43104/50000\n"
     ]
    },
    {
     "name": "stdout",
     "output_type": "stream",
     "text": [
      "Training Step: 450  | total loss: \u001b[1m\u001b[32m1.33309\u001b[0m\u001b[0m | time: 198.652s\n\u001b[2K\r| Adam | epoch: 001 | loss: 1.33309 - acc: 0.5200 -- iter: 43200/50000\n"
     ]
    },
    {
     "name": "stdout",
     "output_type": "stream",
     "text": [
      "Training Step: 451  | total loss: \u001b[1m\u001b[32m1.32781\u001b[0m\u001b[0m | time: 199.070s\n\u001b[2K\r| Adam | epoch: 001 | loss: 1.32781 - acc: 0.5180 -- iter: 43296/50000\n"
     ]
    },
    {
     "name": "stdout",
     "output_type": "stream",
     "text": [
      "Training Step: 452  | total loss: \u001b[1m\u001b[32m1.34061\u001b[0m\u001b[0m | time: 199.487s\n\u001b[2K\r| Adam | epoch: 001 | loss: 1.34061 - acc: 0.5162 -- iter: 43392/50000\n"
     ]
    },
    {
     "name": "stdout",
     "output_type": "stream",
     "text": [
      "Training Step: 453  | total loss: \u001b[1m\u001b[32m1.35243\u001b[0m\u001b[0m | time: 199.904s\n\u001b[2K\r| Adam | epoch: 001 | loss: 1.35243 - acc: 0.5198 -- iter: 43488/50000\n"
     ]
    },
    {
     "name": "stdout",
     "output_type": "stream",
     "text": [
      "Training Step: 454  | total loss: \u001b[1m\u001b[32m1.33437\u001b[0m\u001b[0m | time: 200.323s\n\u001b[2K\r| Adam | epoch: 001 | loss: 1.33437 - acc: 0.5282 -- iter: 43584/50000\n"
     ]
    },
    {
     "name": "stdout",
     "output_type": "stream",
     "text": [
      "Training Step: 455  | total loss: \u001b[1m\u001b[32m1.33741\u001b[0m\u001b[0m | time: 200.750s\n\u001b[2K\r| Adam | epoch: 001 | loss: 1.33741 - acc: 0.5296 -- iter: 43680/50000\n"
     ]
    },
    {
     "name": "stdout",
     "output_type": "stream",
     "text": [
      "Training Step: 456  | total loss: \u001b[1m\u001b[32m1.35512\u001b[0m\u001b[0m | time: 201.172s\n\u001b[2K\r| Adam | epoch: 001 | loss: 1.35512 - acc: 0.5256 -- iter: 43776/50000\n"
     ]
    },
    {
     "name": "stdout",
     "output_type": "stream",
     "text": [
      "Training Step: 457  | total loss: \u001b[1m\u001b[32m1.33988\u001b[0m\u001b[0m | time: 201.591s\n\u001b[2K\r| Adam | epoch: 001 | loss: 1.33988 - acc: 0.5334 -- iter: 43872/50000\n"
     ]
    },
    {
     "name": "stdout",
     "output_type": "stream",
     "text": [
      "Training Step: 458  | total loss: \u001b[1m\u001b[32m1.32516\u001b[0m\u001b[0m | time: 202.005s\n\u001b[2K\r| Adam | epoch: 001 | loss: 1.32516 - acc: 0.5395 -- iter: 43968/50000\n"
     ]
    },
    {
     "name": "stdout",
     "output_type": "stream",
     "text": [
      "Training Step: 459  | total loss: \u001b[1m\u001b[32m1.31067\u001b[0m\u001b[0m | time: 202.419s\n\u001b[2K\r| Adam | epoch: 001 | loss: 1.31067 - acc: 0.5459 -- iter: 44064/50000\n"
     ]
    },
    {
     "name": "stdout",
     "output_type": "stream",
     "text": [
      "Training Step: 460  | total loss: \u001b[1m\u001b[32m1.32282\u001b[0m\u001b[0m | time: 202.829s\n\u001b[2K\r| Adam | epoch: 001 | loss: 1.32282 - acc: 0.5361 -- iter: 44160/50000\n"
     ]
    },
    {
     "name": "stdout",
     "output_type": "stream",
     "text": [
      "Training Step: 461  | total loss: \u001b[1m\u001b[32m1.33731\u001b[0m\u001b[0m | time: 203.243s\n\u001b[2K\r| Adam | epoch: 001 | loss: 1.33731 - acc: 0.5336 -- iter: 44256/50000\n"
     ]
    },
    {
     "name": "stdout",
     "output_type": "stream",
     "text": [
      "Training Step: 462  | total loss: \u001b[1m\u001b[32m1.33125\u001b[0m\u001b[0m | time: 203.655s\n\u001b[2K\r| Adam | epoch: 001 | loss: 1.33125 - acc: 0.5312 -- iter: 44352/50000\n"
     ]
    },
    {
     "name": "stdout",
     "output_type": "stream",
     "text": [
      "Training Step: 463  | total loss: \u001b[1m\u001b[32m1.33586\u001b[0m\u001b[0m | time: 204.077s\n\u001b[2K\r| Adam | epoch: 001 | loss: 1.33586 - acc: 0.5219 -- iter: 44448/50000\n"
     ]
    },
    {
     "name": "stdout",
     "output_type": "stream",
     "text": [
      "Training Step: 464  | total loss: \u001b[1m\u001b[32m1.34084\u001b[0m\u001b[0m | time: 204.490s\n\u001b[2K\r| Adam | epoch: 001 | loss: 1.34084 - acc: 0.5238 -- iter: 44544/50000\n"
     ]
    },
    {
     "name": "stdout",
     "output_type": "stream",
     "text": [
      "Training Step: 465  | total loss: \u001b[1m\u001b[32m1.33092\u001b[0m\u001b[0m | time: 204.908s\n\u001b[2K\r| Adam | epoch: 001 | loss: 1.33092 - acc: 0.5288 -- iter: 44640/50000\n"
     ]
    },
    {
     "name": "stdout",
     "output_type": "stream",
     "text": [
      "Training Step: 466  | total loss: \u001b[1m\u001b[32m1.32834\u001b[0m\u001b[0m | time: 205.323s\n\u001b[2K\r| Adam | epoch: 001 | loss: 1.32834 - acc: 0.5269 -- iter: 44736/50000\n"
     ]
    },
    {
     "name": "stdout",
     "output_type": "stream",
     "text": [
      "Training Step: 467  | total loss: \u001b[1m\u001b[32m1.32447\u001b[0m\u001b[0m | time: 205.743s\n\u001b[2K\r| Adam | epoch: 001 | loss: 1.32447 - acc: 0.5242 -- iter: 44832/50000\n"
     ]
    },
    {
     "name": "stdout",
     "output_type": "stream",
     "text": [
      "Training Step: 468  | total loss: \u001b[1m\u001b[32m1.32608\u001b[0m\u001b[0m | time: 206.159s\n\u001b[2K\r| Adam | epoch: 001 | loss: 1.32608 - acc: 0.5228 -- iter: 44928/50000\n"
     ]
    },
    {
     "name": "stdout",
     "output_type": "stream",
     "text": [
      "Training Step: 469  | total loss: \u001b[1m\u001b[32m1.32682\u001b[0m\u001b[0m | time: 206.582s\n\u001b[2K\r| Adam | epoch: 001 | loss: 1.32682 - acc: 0.5216 -- iter: 45024/50000\n"
     ]
    },
    {
     "name": "stdout",
     "output_type": "stream",
     "text": [
      "Training Step: 470  | total loss: \u001b[1m\u001b[32m1.32421\u001b[0m\u001b[0m | time: 206.992s\n\u001b[2K\r| Adam | epoch: 001 | loss: 1.32421 - acc: 0.5226 -- iter: 45120/50000\n"
     ]
    },
    {
     "name": "stdout",
     "output_type": "stream",
     "text": [
      "Training Step: 471  | total loss: \u001b[1m\u001b[32m1.32544\u001b[0m\u001b[0m | time: 207.404s\n\u001b[2K\r| Adam | epoch: 001 | loss: 1.32544 - acc: 0.5224 -- iter: 45216/50000\n"
     ]
    },
    {
     "name": "stdout",
     "output_type": "stream",
     "text": [
      "Training Step: 472  | total loss: \u001b[1m\u001b[32m1.33329\u001b[0m\u001b[0m | time: 207.822s\n\u001b[2K\r| Adam | epoch: 001 | loss: 1.33329 - acc: 0.5212 -- iter: 45312/50000\n"
     ]
    },
    {
     "name": "stdout",
     "output_type": "stream",
     "text": [
      "Training Step: 473  | total loss: \u001b[1m\u001b[32m1.33338\u001b[0m\u001b[0m | time: 208.235s\n\u001b[2K\r| Adam | epoch: 001 | loss: 1.33338 - acc: 0.5232 -- iter: 45408/50000\n"
     ]
    },
    {
     "name": "stdout",
     "output_type": "stream",
     "text": [
      "Training Step: 474  | total loss: \u001b[1m\u001b[32m1.31070\u001b[0m\u001b[0m | time: 208.652s\n\u001b[2K\r| Adam | epoch: 001 | loss: 1.31070 - acc: 0.5324 -- iter: 45504/50000\n"
     ]
    },
    {
     "name": "stdout",
     "output_type": "stream",
     "text": [
      "Training Step: 475  | total loss: \u001b[1m\u001b[32m1.32504\u001b[0m\u001b[0m | time: 209.072s\n\u001b[2K\r| Adam | epoch: 001 | loss: 1.32504 - acc: 0.5250 -- iter: 45600/50000\n"
     ]
    },
    {
     "name": "stdout",
     "output_type": "stream",
     "text": [
      "Training Step: 476  | total loss: \u001b[1m\u001b[32m1.31308\u001b[0m\u001b[0m | time: 209.490s\n\u001b[2K\r| Adam | epoch: 001 | loss: 1.31308 - acc: 0.5319 -- iter: 45696/50000\n"
     ]
    },
    {
     "name": "stdout",
     "output_type": "stream",
     "text": [
      "Training Step: 477  | total loss: \u001b[1m\u001b[32m1.30284\u001b[0m\u001b[0m | time: 209.910s\n\u001b[2K\r| Adam | epoch: 001 | loss: 1.30284 - acc: 0.5328 -- iter: 45792/50000\n"
     ]
    },
    {
     "name": "stdout",
     "output_type": "stream",
     "text": [
      "Training Step: 478  | total loss: \u001b[1m\u001b[32m1.29777\u001b[0m\u001b[0m | time: 210.330s\n\u001b[2K\r| Adam | epoch: 001 | loss: 1.29777 - acc: 0.5410 -- iter: 45888/50000\n"
     ]
    },
    {
     "name": "stdout",
     "output_type": "stream",
     "text": [
      "Training Step: 479  | total loss: \u001b[1m\u001b[32m1.30653\u001b[0m\u001b[0m | time: 210.751s\n\u001b[2K\r| Adam | epoch: 001 | loss: 1.30653 - acc: 0.5359 -- iter: 45984/50000\n"
     ]
    },
    {
     "name": "stdout",
     "output_type": "stream",
     "text": [
      "Training Step: 480  | total loss: \u001b[1m\u001b[32m1.30521\u001b[0m\u001b[0m | time: 211.172s\n\u001b[2K\r| Adam | epoch: 001 | loss: 1.30521 - acc: 0.5364 -- iter: 46080/50000\n"
     ]
    },
    {
     "name": "stdout",
     "output_type": "stream",
     "text": [
      "Training Step: 481  | total loss: \u001b[1m\u001b[32m1.30659\u001b[0m\u001b[0m | time: 211.584s\n\u001b[2K\r| Adam | epoch: 001 | loss: 1.30659 - acc: 0.5359 -- iter: 46176/50000\n"
     ]
    },
    {
     "name": "stdout",
     "output_type": "stream",
     "text": [
      "Training Step: 482  | total loss: \u001b[1m\u001b[32m1.30331\u001b[0m\u001b[0m | time: 212.003s\n\u001b[2K\r| Adam | epoch: 001 | loss: 1.30331 - acc: 0.5375 -- iter: 46272/50000\n"
     ]
    },
    {
     "name": "stdout",
     "output_type": "stream",
     "text": [
      "Training Step: 483  | total loss: \u001b[1m\u001b[32m1.30920\u001b[0m\u001b[0m | time: 212.420s\n\u001b[2K\r| Adam | epoch: 001 | loss: 1.30920 - acc: 0.5390 -- iter: 46368/50000\n"
     ]
    },
    {
     "name": "stdout",
     "output_type": "stream",
     "text": [
      "Training Step: 484  | total loss: \u001b[1m\u001b[32m1.31013\u001b[0m\u001b[0m | time: 212.831s\n\u001b[2K\r| Adam | epoch: 001 | loss: 1.31013 - acc: 0.5330 -- iter: 46464/50000\n"
     ]
    },
    {
     "name": "stdout",
     "output_type": "stream",
     "text": [
      "Training Step: 485  | total loss: \u001b[1m\u001b[32m1.29420\u001b[0m\u001b[0m | time: 213.240s\n\u001b[2K\r| Adam | epoch: 001 | loss: 1.29420 - acc: 0.5360 -- iter: 46560/50000\n"
     ]
    },
    {
     "name": "stdout",
     "output_type": "stream",
     "text": [
      "Training Step: 486  | total loss: \u001b[1m\u001b[32m1.29923\u001b[0m\u001b[0m | time: 213.657s\n\u001b[2K\r| Adam | epoch: 001 | loss: 1.29923 - acc: 0.5376 -- iter: 46656/50000\n"
     ]
    },
    {
     "name": "stdout",
     "output_type": "stream",
     "text": [
      "Training Step: 487  | total loss: \u001b[1m\u001b[32m1.29091\u001b[0m\u001b[0m | time: 214.071s\n\u001b[2K\r| Adam | epoch: 001 | loss: 1.29091 - acc: 0.5390 -- iter: 46752/50000\n"
     ]
    },
    {
     "name": "stdout",
     "output_type": "stream",
     "text": [
      "Training Step: 488  | total loss: \u001b[1m\u001b[32m1.30512\u001b[0m\u001b[0m | time: 214.488s\n\u001b[2K\r| Adam | epoch: 001 | loss: 1.30512 - acc: 0.5341 -- iter: 46848/50000\n"
     ]
    },
    {
     "name": "stdout",
     "output_type": "stream",
     "text": [
      "Training Step: 489  | total loss: \u001b[1m\u001b[32m1.30616\u001b[0m\u001b[0m | time: 214.903s\n\u001b[2K\r| Adam | epoch: 001 | loss: 1.30616 - acc: 0.5348 -- iter: 46944/50000\n"
     ]
    },
    {
     "name": "stdout",
     "output_type": "stream",
     "text": [
      "Training Step: 490  | total loss: \u001b[1m\u001b[32m1.54775\u001b[0m\u001b[0m | time: 215.333s\n\u001b[2K\r| Adam | epoch: 001 | loss: 1.54775 - acc: 0.5022 -- iter: 47040/50000\n"
     ]
    },
    {
     "name": "stdout",
     "output_type": "stream",
     "text": [
      "Training Step: 491  | total loss: \u001b[1m\u001b[32m1.51989\u001b[0m\u001b[0m | time: 215.753s\n\u001b[2K\r| Adam | epoch: 001 | loss: 1.51989 - acc: 0.5145 -- iter: 47136/50000\n"
     ]
    },
    {
     "name": "stdout",
     "output_type": "stream",
     "text": [
      "Training Step: 492  | total loss: \u001b[1m\u001b[32m1.48730\u001b[0m\u001b[0m | time: 216.188s\n\u001b[2K\r| Adam | epoch: 001 | loss: 1.48730 - acc: 0.5193 -- iter: 47232/50000\n"
     ]
    },
    {
     "name": "stdout",
     "output_type": "stream",
     "text": [
      "Training Step: 493  | total loss: \u001b[1m\u001b[32m1.47492\u001b[0m\u001b[0m | time: 216.598s\n\u001b[2K\r| Adam | epoch: 001 | loss: 1.47492 - acc: 0.5163 -- iter: 47328/50000\n"
     ]
    },
    {
     "name": "stdout",
     "output_type": "stream",
     "text": [
      "Training Step: 494  | total loss: \u001b[1m\u001b[32m1.46418\u001b[0m\u001b[0m | time: 217.026s\n\u001b[2K\r| Adam | epoch: 001 | loss: 1.46418 - acc: 0.5230 -- iter: 47424/50000\n"
     ]
    },
    {
     "name": "stdout",
     "output_type": "stream",
     "text": [
      "Training Step: 495  | total loss: \u001b[1m\u001b[32m1.43893\u001b[0m\u001b[0m | time: 217.436s\n\u001b[2K\r| Adam | epoch: 001 | loss: 1.43893 - acc: 0.5322 -- iter: 47520/50000\n"
     ]
    },
    {
     "name": "stdout",
     "output_type": "stream",
     "text": [
      "Training Step: 496  | total loss: \u001b[1m\u001b[32m1.43767\u001b[0m\u001b[0m | time: 217.850s\n\u001b[2K\r| Adam | epoch: 001 | loss: 1.43767 - acc: 0.5248 -- iter: 47616/50000\n"
     ]
    },
    {
     "name": "stdout",
     "output_type": "stream",
     "text": [
      "Training Step: 497  | total loss: \u001b[1m\u001b[32m1.43909\u001b[0m\u001b[0m | time: 218.261s\n\u001b[2K\r| Adam | epoch: 001 | loss: 1.43909 - acc: 0.5233 -- iter: 47712/50000\n"
     ]
    },
    {
     "name": "stdout",
     "output_type": "stream",
     "text": [
      "Training Step: 498  | total loss: \u001b[1m\u001b[32m1.41186\u001b[0m\u001b[0m | time: 218.681s\n\u001b[2K\r| Adam | epoch: 001 | loss: 1.41186 - acc: 0.5283 -- iter: 47808/50000\n"
     ]
    },
    {
     "name": "stdout",
     "output_type": "stream",
     "text": [
      "Training Step: 499  | total loss: \u001b[1m\u001b[32m1.38710\u001b[0m\u001b[0m | time: 219.104s\n\u001b[2K\r| Adam | epoch: 001 | loss: 1.38710 - acc: 0.5328 -- iter: 47904/50000\n"
     ]
    },
    {
     "name": "stdout",
     "output_type": "stream",
     "text": [
      "Training Step: 500  | total loss: \u001b[1m\u001b[32m1.36274\u001b[0m\u001b[0m | time: 219.517s\n\u001b[2K\r| Adam | epoch: 001 | loss: 1.36274 - acc: 0.5420 -- iter: 48000/50000\n"
     ]
    },
    {
     "name": "stdout",
     "output_type": "stream",
     "text": [
      "Training Step: 501  | total loss: \u001b[1m\u001b[32m1.33960\u001b[0m\u001b[0m | time: 219.945s\n\u001b[2K\r| Adam | epoch: 001 | loss: 1.33960 - acc: 0.5524 -- iter: 48096/50000\n"
     ]
    },
    {
     "name": "stdout",
     "output_type": "stream",
     "text": [
      "Training Step: 502  | total loss: \u001b[1m\u001b[32m1.33674\u001b[0m\u001b[0m | time: 220.358s\n\u001b[2K\r| Adam | epoch: 001 | loss: 1.33674 - acc: 0.5523 -- iter: 48192/50000\n"
     ]
    },
    {
     "name": "stdout",
     "output_type": "stream",
     "text": [
      "Training Step: 503  | total loss: \u001b[1m\u001b[32m1.32647\u001b[0m\u001b[0m | time: 220.781s\n\u001b[2K\r| Adam | epoch: 001 | loss: 1.32647 - acc: 0.5544 -- iter: 48288/50000\n"
     ]
    },
    {
     "name": "stdout",
     "output_type": "stream",
     "text": [
      "Training Step: 504  | total loss: \u001b[1m\u001b[32m1.32541\u001b[0m\u001b[0m | time: 221.206s\n\u001b[2K\r| Adam | epoch: 001 | loss: 1.32541 - acc: 0.5542 -- iter: 48384/50000\n"
     ]
    },
    {
     "name": "stdout",
     "output_type": "stream",
     "text": [
      "Training Step: 505  | total loss: \u001b[1m\u001b[32m1.31623\u001b[0m\u001b[0m | time: 221.631s\n\u001b[2K\r| Adam | epoch: 001 | loss: 1.31623 - acc: 0.5550 -- iter: 48480/50000\n"
     ]
    },
    {
     "name": "stdout",
     "output_type": "stream",
     "text": [
      "Training Step: 506  | total loss: \u001b[1m\u001b[32m1.33018\u001b[0m\u001b[0m | time: 222.039s\n\u001b[2K\r| Adam | epoch: 001 | loss: 1.33018 - acc: 0.5485 -- iter: 48576/50000\n"
     ]
    },
    {
     "name": "stdout",
     "output_type": "stream",
     "text": [
      "Training Step: 507  | total loss: \u001b[1m\u001b[32m1.32399\u001b[0m\u001b[0m | time: 222.461s\n\u001b[2K\r| Adam | epoch: 001 | loss: 1.32399 - acc: 0.5457 -- iter: 48672/50000\n"
     ]
    },
    {
     "name": "stdout",
     "output_type": "stream",
     "text": [
      "Training Step: 508  | total loss: \u001b[1m\u001b[32m1.31221\u001b[0m\u001b[0m | time: 222.879s\n\u001b[2K\r| Adam | epoch: 001 | loss: 1.31221 - acc: 0.5453 -- iter: 48768/50000\n"
     ]
    },
    {
     "name": "stdout",
     "output_type": "stream",
     "text": [
      "Training Step: 509  | total loss: \u001b[1m\u001b[32m1.31128\u001b[0m\u001b[0m | time: 223.303s\n\u001b[2K\r| Adam | epoch: 001 | loss: 1.31128 - acc: 0.5428 -- iter: 48864/50000\n"
     ]
    },
    {
     "name": "stdout",
     "output_type": "stream",
     "text": [
      "Training Step: 510  | total loss: \u001b[1m\u001b[32m1.31922\u001b[0m\u001b[0m | time: 223.717s\n\u001b[2K\r| Adam | epoch: 001 | loss: 1.31922 - acc: 0.5386 -- iter: 48960/50000\n"
     ]
    },
    {
     "name": "stdout",
     "output_type": "stream",
     "text": [
      "Training Step: 511  | total loss: \u001b[1m\u001b[32m1.34409\u001b[0m\u001b[0m | time: 224.139s\n\u001b[2K\r| Adam | epoch: 001 | loss: 1.34409 - acc: 0.5264 -- iter: 49056/50000\n"
     ]
    },
    {
     "name": "stdout",
     "output_type": "stream",
     "text": [
      "Training Step: 512  | total loss: \u001b[1m\u001b[32m1.33937\u001b[0m\u001b[0m | time: 224.552s\n\u001b[2K\r| Adam | epoch: 001 | loss: 1.33937 - acc: 0.5279 -- iter: 49152/50000\n"
     ]
    },
    {
     "name": "stdout",
     "output_type": "stream",
     "text": [
      "Training Step: 513  | total loss: \u001b[1m\u001b[32m1.32460\u001b[0m\u001b[0m | time: 224.977s\n\u001b[2K\r| Adam | epoch: 001 | loss: 1.32460 - acc: 0.5345 -- iter: 49248/50000\n"
     ]
    },
    {
     "name": "stdout",
     "output_type": "stream",
     "text": [
      "Training Step: 514  | total loss: \u001b[1m\u001b[32m1.31721\u001b[0m\u001b[0m | time: 225.397s\n\u001b[2K\r| Adam | epoch: 001 | loss: 1.31721 - acc: 0.5362 -- iter: 49344/50000\n"
     ]
    },
    {
     "name": "stdout",
     "output_type": "stream",
     "text": [
      "Training Step: 515  | total loss: \u001b[1m\u001b[32m1.32857\u001b[0m\u001b[0m | time: 225.815s\n\u001b[2K\r| Adam | epoch: 001 | loss: 1.32857 - acc: 0.5253 -- iter: 49440/50000\n"
     ]
    },
    {
     "name": "stdout",
     "output_type": "stream",
     "text": [
      "Training Step: 516  | total loss: \u001b[1m\u001b[32m1.33064\u001b[0m\u001b[0m | time: 226.225s\n\u001b[2K\r| Adam | epoch: 001 | loss: 1.33064 - acc: 0.5197 -- iter: 49536/50000\n"
     ]
    },
    {
     "name": "stdout",
     "output_type": "stream",
     "text": [
      "Training Step: 517  | total loss: \u001b[1m\u001b[32m1.34228\u001b[0m\u001b[0m | time: 226.642s\n\u001b[2K\r| Adam | epoch: 001 | loss: 1.34228 - acc: 0.5187 -- iter: 49632/50000\n"
     ]
    },
    {
     "name": "stdout",
     "output_type": "stream",
     "text": [
      "Training Step: 518  | total loss: \u001b[1m\u001b[32m1.34888\u001b[0m\u001b[0m | time: 227.058s\n\u001b[2K\r| Adam | epoch: 001 | loss: 1.34888 - acc: 0.5148 -- iter: 49728/50000\n"
     ]
    },
    {
     "name": "stdout",
     "output_type": "stream",
     "text": [
      "Training Step: 519  | total loss: \u001b[1m\u001b[32m1.33621\u001b[0m\u001b[0m | time: 227.476s\n\u001b[2K\r| Adam | epoch: 001 | loss: 1.33621 - acc: 0.5175 -- iter: 49824/50000\n"
     ]
    },
    {
     "name": "stdout",
     "output_type": "stream",
     "text": [
      "Training Step: 520  | total loss: \u001b[1m\u001b[32m1.32068\u001b[0m\u001b[0m | time: 227.903s\n\u001b[2K\r| Adam | epoch: 001 | loss: 1.32068 - acc: 0.5241 -- iter: 49920/50000\n"
     ]
    },
    {
     "name": "stdout",
     "output_type": "stream",
     "text": [
      "Training Step: 521  | total loss: \u001b[1m\u001b[32m1.33747\u001b[0m\u001b[0m | time: 240.775s\n\u001b[2K\r| Adam | epoch: 001 | loss: 1.33747 - acc: 0.5185 | val_loss: 1.20410 - val_acc: 0.5802 -- iter: 50000/50000\n--\n"
     ]
    }
   ],
   "source": [
    "network = input_data(shape=[None,32,32,3],data_preprocessing=img_prep,data_augmentation =img_aug)\n",
    "network = conv_2d(network,32,3,activation='relu')\n",
    "network = max_pool_2d(network,2)\n",
    "network = conv_2d(network, 64, 3, activation='relu')\n",
    "network = conv_2d(network, 64, 3, activation='relu')\n",
    "network = max_pool_2d(network, 2)\n",
    "network = fully_connected(network, 512, activation='relu')\n",
    "network = dropout(network, 0.5)\n",
    "network = fully_connected(network, 10, activation='softmax')\n",
    "network = regression(network)\n",
    "\n",
    "model = tflearn.DNN(network,tensorboard_verbose=1)\n",
    "model.fit(X,Y,n_epoch=1,shuffle=True,validation_set=(X_test,Y_test),show_metric=True,batch_size=96,run_id='cifar10_cnn')"
   ]
  },
  {
   "cell_type": "code",
   "execution_count": 7,
   "metadata": {
    "collapsed": false
   },
   "outputs": [],
   "source": [
    ""
   ]
  },
  {
   "cell_type": "code",
   "execution_count": null,
   "metadata": {},
   "outputs": [],
   "source": []
  }
 ],
 "metadata": {
  "kernelspec": {
   "display_name": "Python 2",
   "language": "python",
   "name": "python2"
  },
  "language_info": {
   "codemirror_mode": {
    "name": "ipython",
    "version": 2
   },
   "file_extension": ".py",
   "mimetype": "text/x-python",
   "name": "python",
   "nbconvert_exporter": "python",
   "pygments_lexer": "ipython2",
   "version": "2.7.6"
  }
 },
 "nbformat": 4,
 "nbformat_minor": 0
}
